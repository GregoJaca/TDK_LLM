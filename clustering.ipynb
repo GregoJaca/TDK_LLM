{
 "cells": [
  {
   "cell_type": "code",
   "execution_count": null,
   "id": "e3d6457c",
   "metadata": {},
   "outputs": [],
   "source": [
    "DEFAULTS = {\n",
    "    ### Most interesting to play around with ###\n",
    "\n",
    "    'n_initial_hidden_states': 512, # this determine the centroids of the clusters, which then remain fixed\n",
    "    'initial_clustering_method': ['kmeans'],  # 'kmeans', 'hierarchical'\n",
    "    'n_clusters': 10,\n",
    "\n",
    "    # In order to study the \"time evolution\" I make a window for which hidden state vectors are used the clustering. then in the pdf plots you can see how it evolves. \n",
    "    'window_type': 'moving',  # 'expanding' (adds new), 'moving' (discards the old adds new)\n",
    "    'window_size': 128,\n",
    "    'stride': 64, # step sizeof window   \n",
    "\n",
    "    'pdf_plot_methods': ['timeline'],  # 'kde', 'timeline'\n",
    "    'pdf_point_mode': 'raw_points',  # 'raw_points', 'kde', 'both'\n",
    "    'metrics_to_plot': ['cosine'],  # 'cosine', 'variance', 'volume', 'radius'\n",
    "\n",
    "    ### Least interesting to play around with ###\n",
    "\n",
    "    'visualization_method': 'tsne',  # 'tsne'\n",
    "    'n_components_tsne': 2,  # 2 or 3\n",
    "    'perplexity': 30.0,  # typically between 5 and 50\n",
    "    'sample_top': 12,\n",
    "    'inline': True,\n",
    "    'variance_threshold_structural': 0.1,\n",
    "    'isolation_threshold_structural': 0.8,\n",
    "    'k_range_semantic': range(2, 15),\n",
    "    'min_variance_explanation_pca': 0.9,  # 0 to 1\n",
    "    'figsize_visualizer': (12, 8),\n",
    "\n",
    "    # Hierarchical clustering part\n",
    "    'linkage_method_hierarchical': 'ward',  # 'ward', 'complete', 'average', 'single'\n",
    "    'max_display_tokens_dendrogram': 50,\n",
    "    # Maximum number of leaves to show when truncating dendrograms (used as 'p' parameter)\n",
    "    'max_dendrogram_leaves': 30,\n",
    "    'metric_dendrogram': 'euclidean',  # 'euclidean', 'cityblock', 'cosine', etc.\n",
    "    'truncate_mode_dendrogram': 'lastp',  # 'lastp', 'level', None\n",
    "    'comparison_methods_dendrogram': ['ward', 'complete', 'average'],  # 'ward', 'complete', 'average'\n",
    "    'show_comparison_hierarchical': False,\n",
    "\n",
    "    # File paths\n",
    "    'tokens_path': './tokens.json',\n",
    "    'embeddings_path': './hidden_states_first.pt'\n",
    "}"
   ]
  },
  {
   "cell_type": "code",
   "execution_count": 15,
   "id": "962e2c49",
   "metadata": {},
   "outputs": [],
   "source": [
    "\n",
    "\"\"\"Investigating hidden state representations of the semantic meaning in LLMs\n",
    "\"\"\"\n",
    "\n",
    "\n",
    "# Section:Algorithms and functions\n",
    "\n",
    "# új improved\n",
    "import numpy as np\n",
    "import torch\n",
    "import json\n",
    "from typing import Dict, List, Tuple, Optional, Any\n",
    "from dataclasses import dataclass\n",
    "from abc import ABC, abstractmethod\n",
    "import warnings\n",
    "warnings.filterwarnings('ignore')\n",
    "\n",
    "from sklearn.cluster import KMeans, AgglomerativeClustering\n",
    "from sklearn.decomposition import PCA\n",
    "from sklearn.manifold import TSNE\n",
    "from sklearn.metrics import silhouette_score, calinski_harabasz_score, davies_bouldin_score\n",
    "from sklearn.preprocessing import StandardScaler\n",
    "from scipy.cluster.hierarchy import dendrogram, linkage\n",
    "from scipy.spatial.distance import pdist\n",
    "from scipy.stats import gaussian_kde\n",
    "import matplotlib.pyplot as plt\n",
    "import plotly.express as px\n",
    "import plotly.graph_objects as go\n",
    "from plotly.subplots import make_subplots\n",
    "\n",
    "\n",
    "\n",
    "@dataclass\n",
    "class ClusterResult:\n",
    "    labels: np.ndarray\n",
    "    centroids: Optional[np.ndarray]\n",
    "    metrics: Dict[str, float]\n",
    "    algorithm: str\n",
    "    n_clusters: int\n",
    "\n",
    "class DimensionalityReducer(ABC):\n",
    "    @abstractmethod\n",
    "    def fit_transform(self, X: np.ndarray, **kwargs) -> np.ndarray:\n",
    "        pass\n",
    "\n",
    "class TSNEReducer(DimensionalityReducer):\n",
    "    def __init__(self, n_components: int = DEFAULTS.get('n_components_tsne', 2), perplexity: float = DEFAULTS.get('perplexity', 30.0)):\n",
    "        self.n_components = n_components\n",
    "        self.perplexity = perplexity\n",
    "\n",
    "    def fit_transform(self, X: np.ndarray, **kwargs) -> np.ndarray:\n",
    "        tsne = TSNE(n_components=self.n_components, perplexity=self.perplexity,\n",
    "                   random_state=42, n_iter=1000)\n",
    "        return tsne.fit_transform(X)\n",
    "\n",
    "\n",
    "\n",
    "class ClusteringAlgorithm(ABC):\n",
    "    @abstractmethod\n",
    "    def cluster(self, X: np.ndarray, **kwargs) -> ClusterResult:\n",
    "        pass\n",
    "\n",
    "class KMeansClusterer(ClusteringAlgorithm):\n",
    "    def __init__(self, n_clusters: int = DEFAULTS.get('n_clusters', 8)):\n",
    "        self.n_clusters = n_clusters\n",
    "\n",
    "    def cluster(self, X: np.ndarray, **kwargs) -> ClusterResult:\n",
    "        kmeans = KMeans(n_clusters=self.n_clusters, random_state=42, n_init=10)\n",
    "        labels = kmeans.fit_predict(X)\n",
    "\n",
    "        metrics = self._compute_metrics(X, labels)\n",
    "\n",
    "        return ClusterResult(\n",
    "            labels=labels,\n",
    "            centroids=kmeans.cluster_centers_,\n",
    "            metrics=metrics,\n",
    "            algorithm=\"KMeans\",\n",
    "            n_clusters=self.n_clusters\n",
    "        )\n",
    "\n",
    "    def _compute_metrics(self, X: np.ndarray, labels: np.ndarray) -> Dict[str, float]:\n",
    "        if len(np.unique(labels)) < 2:\n",
    "            return {\"silhouette\": 0.0, \"calinski_harabasz\": 0.0, \"davies_bouldin\": float('inf')}\n",
    "\n",
    "        return {\n",
    "            \"silhouette\": silhouette_score(X, labels),\n",
    "            \"calinski_harabasz\": calinski_harabasz_score(X, labels),\n",
    "            \"davies_bouldin\": davies_bouldin_score(X, labels)\n",
    "        }\n",
    "\n",
    "\n",
    "\n",
    "class HierarchicalClusterer(ClusteringAlgorithm):\n",
    "    def __init__(self, n_clusters: int = DEFAULTS.get('n_clusters', 8), linkage_method: str = DEFAULTS.get('linkage_method_hierarchical', 'ward')):\n",
    "        self.n_clusters = n_clusters\n",
    "        self.linkage_method = linkage_method\n",
    "\n",
    "    def cluster(self, X: np.ndarray, **kwargs) -> ClusterResult:\n",
    "        hierarchical = AgglomerativeClustering(n_clusters=self.n_clusters,\n",
    "                                             linkage=self.linkage_method)\n",
    "        labels = hierarchical.fit_predict(X)\n",
    "\n",
    "        metrics = self._compute_metrics(X, labels)\n",
    "\n",
    "        return ClusterResult(\n",
    "            labels=labels,\n",
    "            centroids=None,\n",
    "            metrics=metrics,\n",
    "            algorithm=\"Hierarchical\",\n",
    "            n_clusters=self.n_clusters\n",
    "        )\n",
    "\n",
    "    def _compute_metrics(self, X: np.ndarray, labels: np.ndarray) -> Dict[str, float]:\n",
    "        if len(np.unique(labels)) < 2:\n",
    "            return {\"silhouette\": 0.0, \"calinski_harabasz\": 0.0, \"davies_bouldin\": float('inf')}\n",
    "\n",
    "        return {\n",
    "            \"silhouette\": silhouette_score(X, labels),\n",
    "            \"calinski_harabasz\": calinski_harabasz_score(X, labels),\n",
    "            \"davies_bouldin\": davies_bouldin_score(X, labels)\n",
    "        }\n",
    "\n",
    "class StructuralFilter:\n",
    "    def __init__(self, variance_threshold: float = DEFAULTS.get('variance_threshold_structural', 0.1), isolation_threshold: float = DEFAULTS.get('isolation_threshold_structural', 0.8)):\n",
    "        self.variance_threshold = variance_threshold\n",
    "        self.isolation_threshold = isolation_threshold\n",
    "\n",
    "    def identify_structural_clusters(self, embeddings: np.ndarray, tokens: List[str],\n",
    "                                   cluster_labels: np.ndarray) -> List[int]:\n",
    "        structural_clusters = []\n",
    "        unique_labels = np.unique(cluster_labels)\n",
    "\n",
    "        for label in unique_labels:\n",
    "            if label == -1:  # noise cluster\n",
    "                continue\n",
    "\n",
    "            cluster_mask = cluster_labels == label\n",
    "            cluster_embeddings = embeddings[cluster_mask]\n",
    "            cluster_tokens = [tokens[i] for i in np.where(cluster_mask)[0]]\n",
    "\n",
    "            if self._is_structural_cluster(cluster_embeddings, cluster_tokens):\n",
    "                structural_clusters.append(label)\n",
    "\n",
    "        return structural_clusters\n",
    "\n",
    "\n",
    "    def _is_structural_cluster(self, embeddings: np.ndarray, tokens: List[str]) -> bool:\n",
    "        if len(embeddings) < 3:\n",
    "            return True\n",
    "\n",
    "        # Check for pure structural token clusters first\n",
    "        if self._is_pure_structural_cluster(tokens):\n",
    "            return True\n",
    "\n",
    "        # For mixed content, apply existing logic\n",
    "        embedding_variance = np.mean(np.var(embeddings, axis=0))\n",
    "        structural_ratio = self._detect_structural_patterns(tokens)\n",
    "\n",
    "        if structural_ratio > 0.8:\n",
    "            return True\n",
    "\n",
    "        if embedding_variance < self.variance_threshold and structural_ratio > 0.6:\n",
    "            return True\n",
    "\n",
    "        if self._has_semantic_diversity(tokens):\n",
    "            return False\n",
    "\n",
    "        unique_tokens = set(tokens)\n",
    "        if len(unique_tokens) == 1:\n",
    "            return True\n",
    "\n",
    "        repetition_ratio = 1 - (len(unique_tokens) / len(tokens))\n",
    "        return repetition_ratio > 0.9 and structural_ratio > 0.5\n",
    "\n",
    "    def _is_pure_structural_cluster(self, tokens: List[str]) -> bool:\n",
    "        \"\"\"Check if cluster contains exclusively structural tokens\"\"\"\n",
    "        structural_chars = set('*.,;:-\\n \"\\'()[]{}')\n",
    "\n",
    "        for token in tokens:\n",
    "            # Check if token contains any non-structural characters\n",
    "            if any(c not in structural_chars for c in token):\n",
    "                return False\n",
    "\n",
    "        return True\n",
    "\n",
    "    def _has_semantic_diversity(self, tokens: List[str]) -> bool:\n",
    "        \"\"\"Check if tokens represent semantic concepts rather than pure structure\"\"\"\n",
    "        content_tokens = [t.strip() for t in tokens if t.strip()]\n",
    "        if not content_tokens:\n",
    "            return False\n",
    "\n",
    "        semantic_indicators = 0\n",
    "        for token in content_tokens:\n",
    "            clean_token = token.lower().strip()\n",
    "\n",
    "            # Skip pure formatting/punctuation tokens\n",
    "            if all(c in '*.,;:-\\n \"\\'()[]{}' for c in token):\n",
    "                continue\n",
    "\n",
    "            if len(clean_token) < 2:\n",
    "                continue\n",
    "\n",
    "            if clean_token.isalpha() and len(clean_token) > 2:\n",
    "                semantic_indicators += 1\n",
    "\n",
    "\n",
    "        return semantic_indicators > len(content_tokens) * 0.4\n",
    "\n",
    "    def _detect_structural_patterns(self, tokens: List[str]) -> float:\n",
    "        structural_count = 0\n",
    "\n",
    "        for token in tokens:\n",
    "            if self._is_structural_token(token):\n",
    "                structural_count += 1\n",
    "\n",
    "        return structural_count / len(tokens) if tokens else 0.0\n",
    "\n",
    "    def _is_structural_token(self, token: str) -> bool: # GGG\n",
    "        # Punctuation and formatting\n",
    "        if len(token) == 1 and not token.isalnum():\n",
    "            return True\n",
    "\n",
    "        structural_words = {'.', ',', '-', '--', '\\n', ':', '*', '**', '\"', '\\n\\n', ' ', ':', '.\\n', '**\\n\\n', '*\\n\\n', '**\\n' '<\\uff5cbegin\\u2581of\\u2581sentence\\uff5c>'}\n",
    "        if token.lower() in structural_words:\n",
    "            return True\n",
    "\n",
    "        # Numeric patterns\n",
    "        if token.isdigit() or token.replace('.', '').replace(',', '').isdigit():\n",
    "            return True\n",
    "\n",
    "        return False\n",
    "\n",
    "class SemanticAnalyzer:\n",
    "    def __init__(self):\n",
    "        self.embeddings = None\n",
    "        self.tokens = None\n",
    "        self.scaler = StandardScaler()\n",
    "        self.structural_filter = StructuralFilter()\n",
    "\n",
    "    def load_data(self, embeddings: np.ndarray):\n",
    "        self.embeddings = self.scaler.fit_transform(embeddings)\n",
    "\n",
    "    def find_optimal_clusters(self, clustering_algorithms: List[ClusteringAlgorithm],\n",
    "                            k_range: range = DEFAULTS.get('k_range_semantic', range(2, 15))) -> Dict[str, ClusterResult]:\n",
    "        results = {}\n",
    "\n",
    "        for algorithm in clustering_algorithms:\n",
    "            if isinstance(algorithm, (KMeansClusterer, HierarchicalClusterer)):\n",
    "                best_result = None\n",
    "                best_score = -1\n",
    "\n",
    "                for k in k_range:\n",
    "                    algorithm.n_clusters = k\n",
    "                    result = algorithm.cluster(self.embeddings)\n",
    "\n",
    "                    if result.metrics['silhouette'] > best_score:\n",
    "                        best_score = result.metrics['silhouette']\n",
    "                        best_result = result\n",
    "\n",
    "                results[algorithm.__class__.__name__] = best_result\n",
    "            else:\n",
    "                results[algorithm.__class__.__name__] = algorithm.cluster(self.embeddings)\n",
    "\n",
    "        return results\n",
    "\n",
    "    def filter_semantic_clusters(self, cluster_result: ClusterResult) -> Tuple[np.ndarray, List[int]]:\n",
    "        structural_clusters = self.structural_filter.identify_structural_clusters(\n",
    "            self.embeddings, self.tokens, cluster_result.labels\n",
    "        )\n",
    "\n",
    "        # Create filtered labels, setting structural clusters to -1\n",
    "        filtered_labels = cluster_result.labels.copy()\n",
    "        for struct_cluster in structural_clusters:\n",
    "            filtered_labels[filtered_labels == struct_cluster] = -1\n",
    "\n",
    "        return filtered_labels, structural_clusters\n",
    "\n",
    "    def refine_semantic_clusters(self, filtered_labels: np.ndarray,\n",
    "                               algorithm: ClusteringAlgorithm) -> ClusterResult:\n",
    "        # Extract semantic tokens and embeddings\n",
    "        semantic_mask = filtered_labels != -1\n",
    "        if np.sum(semantic_mask) < 10:  # Not enough semantic tokens\n",
    "            return ClusterResult(filtered_labels, None, {}, \"Refined\", 0)\n",
    "\n",
    "        semantic_embeddings = self.embeddings[semantic_mask]\n",
    "\n",
    "        # Re-cluster semantic embeddings\n",
    "        refined_result = algorithm.cluster(semantic_embeddings)\n",
    "\n",
    "        # Map back to original indices\n",
    "        final_labels = np.full(len(self.tokens), -1)\n",
    "        semantic_indices = np.where(semantic_mask)[0]\n",
    "        final_labels[semantic_indices] = refined_result.labels\n",
    "\n",
    "        return ClusterResult(\n",
    "            labels=final_labels,\n",
    "            centroids=refined_result.centroids,\n",
    "            metrics=refined_result.metrics,\n",
    "            algorithm=f\"Refined_{refined_result.algorithm}\",\n",
    "            n_clusters=refined_result.n_clusters\n",
    "        )\n",
    "\n",
    "    def analyze_clusters(self, cluster_result: ClusterResult) -> Dict[str, Any]:\n",
    "        analysis = {\n",
    "            'cluster_sizes': {},\n",
    "            'cluster_tokens': {},\n",
    "            'cluster_centroids': cluster_result.centroids,\n",
    "            'metrics': cluster_result.metrics,\n",
    "            'total_tokens': len(self.tokens),\n",
    "            'n_clusters': cluster_result.n_clusters\n",
    "        }\n",
    "\n",
    "        unique_labels = np.unique(cluster_result.labels)\n",
    "\n",
    "        for label in unique_labels:\n",
    "            mask = cluster_result.labels == label\n",
    "            cluster_tokens = [self.tokens[i] for i in np.where(mask)[0]]\n",
    "\n",
    "            analysis['cluster_sizes'][int(label)] = len(cluster_tokens)\n",
    "            analysis['cluster_tokens'][int(label)] = cluster_tokens[:20]  # First 20 tokens\n",
    "\n",
    "        return analysis\n",
    "\n",
    "    def initial_cluster(self, embeddings: np.ndarray, algorithm: ClusteringAlgorithm) -> ClusterResult:\n",
    "        # Use the scaler fitted in `load_data` to transform (do not refit here).\n",
    "        # This keeps the scaler consistent across the pipeline.\n",
    "        try:\n",
    "            scaled_embeddings = self.scaler.transform(embeddings)\n",
    "        except Exception:\n",
    "            # If scaler hasn't been fitted (defensive), fit on these embeddings.\n",
    "            scaled_embeddings = self.scaler.fit_transform(embeddings)\n",
    "\n",
    "        result = algorithm.cluster(scaled_embeddings)\n",
    "        return result\n",
    "\n",
    "    def assign_to_clusters(self, embeddings: np.ndarray, centroids: np.ndarray, algorithm_name: str) -> np.ndarray:\n",
    "        scaled_embeddings = self.scaler.transform(embeddings) # Use transform, not fit_transform\n",
    "\n",
    "        if algorithm_name == \"KMeans\":\n",
    "            # Assign each point to the closest centroid\n",
    "            distances = np.sqrt(((scaled_embeddings - centroids[:, np.newaxis])**2).sum(axis=2))\n",
    "            labels = np.argmin(distances, axis=0)\n",
    "            return labels\n",
    "        elif algorithm_name == \"Hierarchical\":\n",
    "            # For hierarchical, we need to find the closest centroid from the initial clustering\n",
    "            # This is a simplified assignment based on Euclidean distance to the fixed centroids\n",
    "            # A more sophisticated approach might involve re-running hierarchical on the new data\n",
    "            # and then mapping clusters, but for fixed centroids, this is the most direct way.\n",
    "            distances = np.sqrt(((scaled_embeddings - centroids[:, np.newaxis])**2).sum(axis=2))\n",
    "            labels = np.argmin(distances, axis=0)\n",
    "            return labels\n",
    "        else:\n",
    "            raise ValueError(f\"Unsupported algorithm for assignment: {algorithm_name}\")\n",
    "\n",
    "    def calculate_cosine_similarity_distribution(self, embeddings: np.ndarray, labels: np.ndarray, centroids: np.ndarray) -> Dict[int, Dict[str, Any]]:\n",
    "        metrics = {}\n",
    "        unique_labels = np.unique(labels)\n",
    "\n",
    "        for label in unique_labels:\n",
    "            if label == -1: # Skip noise if any\n",
    "                continue\n",
    "\n",
    "            cluster_embeddings = embeddings[labels == label]\n",
    "            centroid = centroids[label] # Assuming centroids are indexed by label\n",
    "\n",
    "            # Calculate cosine similarity\n",
    "            # Ensure embeddings and centroid are L2-normalized for dot product to be cosine similarity\n",
    "            cluster_embeddings_norm = cluster_embeddings / np.linalg.norm(cluster_embeddings, axis=1, keepdims=True)\n",
    "            centroid_norm = centroid / np.linalg.norm(centroid)\n",
    "\n",
    "            cos_sims = np.dot(cluster_embeddings_norm, centroid_norm)\n",
    "\n",
    "            metrics[int(label)] = {\n",
    "                \"mean_cos_sim\": np.mean(cos_sims),\n",
    "                \"std_cos_sim\": np.std(cos_sims),\n",
    "                \"min_cos_sim\": np.min(cos_sims),\n",
    "                \"max_cos_sim\": np.max(cos_sims),\n",
    "                \"cos_sim_distribution\": cos_sims.tolist() # Store for plotting distribution\n",
    "            }\n",
    "        return metrics\n",
    "\n",
    "    def calculate_cluster_size_metrics(self, embeddings: np.ndarray, labels: np.ndarray, centroids: np.ndarray,\n",
    "                                       include_centroid_distances: bool = True,\n",
    "                                       include_density: bool = True,\n",
    "                                       include_intrinsic_dimensionality: bool = True) -> Dict[int, Dict[str, Any]]:\n",
    "        size_metrics = {}\n",
    "        unique_labels = np.unique(labels)\n",
    "        MINIMUM_VARIANCE_EXPLANATION = DEFAULTS.get('min_variance_explanation_pca', 0.9)\n",
    "\n",
    "        for label in unique_labels:\n",
    "            if label == -1: # Skip noise if any\n",
    "                continue\n",
    "\n",
    "            cluster_embeddings = embeddings[labels == label]\n",
    "            centroid = centroids[label]\n",
    "\n",
    "            metrics_for_cluster = {\n",
    "                \"num_points\": cluster_embeddings.shape[0]\n",
    "            }\n",
    "\n",
    "            if cluster_embeddings.shape[0] == 0:\n",
    "                size_metrics[int(label)] = metrics_for_cluster\n",
    "                continue\n",
    "\n",
    "            # Radius: max distance from centroid\n",
    "            distances_from_centroid = np.linalg.norm(cluster_embeddings - centroid, axis=1)\n",
    "            metrics_for_cluster[\"radius\"] = np.max(distances_from_centroid)\n",
    "            # Store per-point distances for downstream PDF plotting (useful as \"variance\" proxy)\n",
    "            metrics_for_cluster[\"point_distances\"] = distances_from_centroid.tolist()\n",
    "\n",
    "            # Per-point variance across feature dims (another per-point signal)\n",
    "            try:\n",
    "                point_var = np.var(cluster_embeddings, axis=1)\n",
    "                metrics_for_cluster[\"point_variances\"] = point_var.tolist()\n",
    "            except Exception:\n",
    "                metrics_for_cluster[\"point_variances\"] = []\n",
    "\n",
    "            # Volume: compute using SVD on centered data (proper volume estimator)\n",
    "            # For data matrix X (n_samples x d), centered: Xc = X - mean\n",
    "            # SVD: Xc = U S V^T, singular values s_i relate to covariance eigenvalues\n",
    "            # eigenvals = (s_i^2) / (n-1) -> sqrt(eigenvals) = s_i / sqrt(n-1)\n",
    "            # Volume ~ product_i sqrt(eigenvals_i) = product_i (s_i / sqrt(n-1))\n",
    "            if cluster_embeddings.shape[0] > 1:\n",
    "                try:\n",
    "                    Xc = cluster_embeddings - np.mean(cluster_embeddings, axis=0)\n",
    "                    # Compute thin SVD\n",
    "                    u, s, vt = np.linalg.svd(Xc, full_matrices=False)\n",
    "                    n_eff = max(1, cluster_embeddings.shape[0] - 1)\n",
    "                    # scaled singular values correspond to sqrt(eigenvalues of covariance\n",
    "                    scaled = s / np.sqrt(n_eff)\n",
    "                    # if any scaled singulars are <= 0, volume is zero\n",
    "                    if np.any(scaled <= 0):\n",
    "                        metrics_for_cluster[\"volume\"] = 0.0\n",
    "                    else:\n",
    "                        # compute product in log-space for numerical stability\n",
    "                        log_vol = float(np.sum(np.log(scaled)))\n",
    "                        metrics_for_cluster[\"volume\"] = float(np.exp(log_vol))\n",
    "                except Exception:\n",
    "                    metrics_for_cluster[\"volume\"] = 0.0\n",
    "            else:\n",
    "                metrics_for_cluster[\"volume\"] = 0.0 # Single point has no volume\n",
    "\n",
    "            # 2. Centroid-to-Point Distances (Mean/Median)\n",
    "            if include_centroid_distances:\n",
    "                metrics_for_cluster[\"mean_centroid_distance\"] = np.mean(distances_from_centroid)\n",
    "                metrics_for_cluster[\"median_centroid_distance\"] = np.median(distances_from_centroid)\n",
    "\n",
    "            # 3. Density\n",
    "            if include_density:\n",
    "                if cluster_embeddings.shape[0] > 1:\n",
    "                    pairwise_distances = pdist(cluster_embeddings, metric='euclidean')\n",
    "                    avg_pairwise_distance = np.mean(pairwise_distances)\n",
    "                    if avg_pairwise_distance > 0:\n",
    "                        metrics_for_cluster[\"density\"] = cluster_embeddings.shape[0] / avg_pairwise_distance\n",
    "                    else:\n",
    "                        metrics_for_cluster[\"density\"] = float('inf') # All points are identical\n",
    "                else:\n",
    "                    metrics_for_cluster[\"density\"] = 0.0 # Single point has no density\n",
    "\n",
    "            # 5. Intrinsic Dimensionality\n",
    "            if include_intrinsic_dimensionality and cluster_embeddings.shape[0] > 1 and cluster_embeddings.shape[1] > 1:\n",
    "                # Normalize before PCA (already scaled by self.scaler, but PCA works better with zero mean)\n",
    "                # We can use the already scaled embeddings, PCA will center them internally.\n",
    "                pca = PCA()\n",
    "                pca.fit(cluster_embeddings)\n",
    "                explained_variance_ratio_cumsum = np.cumsum(pca.explained_variance_ratio_)\n",
    "                intrinsic_dim = np.where(explained_variance_ratio_cumsum >= MINIMUM_VARIANCE_EXPLANATION)[0]\n",
    "                if len(intrinsic_dim) > 0:\n",
    "                    metrics_for_cluster[\"intrinsic_dimensionality\"] = intrinsic_dim[0] + 1 # +1 because it's 0-indexed\n",
    "                else:\n",
    "                    metrics_for_cluster[\"intrinsic_dimensionality\"] = cluster_embeddings.shape[1] # All dimensions needed\n",
    "            else:\n",
    "                metrics_for_cluster[\"intrinsic_dimensionality\"] = 0 # Not applicable or single point\n",
    "\n",
    "            size_metrics[int(label)] = metrics_for_cluster\n",
    "        return size_metrics\n",
    "\n",
    "class Visualizer:\n",
    "    def __init__(self, figsize: Tuple[int, int] = DEFAULTS.get('figsize_visualizer', (12, 8))):\n",
    "        self.figsize = figsize\n",
    "        plt.style.use('seaborn-v0_8')\n",
    "\n",
    "    def plot_2d_clusters(self, embeddings: np.ndarray, labels: np.ndarray,\n",
    "                        tokens: List[str], reducer: DimensionalityReducer,\n",
    "                        title: str = \"Cluster Visualization\") -> go.Figure:\n",
    "\n",
    "        # Reduce dimensionality\n",
    "        coords_2d = reducer.fit_transform(embeddings)\n",
    "\n",
    "        # Create color palette\n",
    "        unique_labels = np.unique(labels)\n",
    "        colors = px.colors.qualitative.Set3[:len(unique_labels)]\n",
    "\n",
    "        fig = go.Figure()\n",
    "\n",
    "        for i, label in enumerate(unique_labels):\n",
    "            mask = labels == label\n",
    "            cluster_coords = coords_2d[mask]\n",
    "            cluster_tokens = [tokens[j] for j in np.where(mask)[0]]\n",
    "\n",
    "            color = colors[i % len(colors)] if label != -1 else 'gray'\n",
    "            name = f'Cluster {label}' if label != -1 else 'Noise'\n",
    "\n",
    "            fig.add_trace(go.Scatter(\n",
    "                x=cluster_coords[:, 0],\n",
    "                y=cluster_coords[:, 1],\n",
    "                mode='markers',\n",
    "                marker=dict(color=color, size=6, opacity=0.7),\n",
    "                text=cluster_tokens,\n",
    "                name=name,\n",
    "                hovertemplate='<b>%{text}</b><br>Cluster: ' + name + '<extra></extra>'\n",
    "            ))\n",
    "\n",
    "        fig.update_layout(\n",
    "            title=title,\n",
    "            xaxis_title=f'{reducer.__class__.__name__} 1',\n",
    "            yaxis_title=f'{reducer.__class__.__name__} 2',\n",
    "            showlegend=True,\n",
    "            width=800,\n",
    "            height=600\n",
    "        )\n",
    "\n",
    "        return fig\n",
    "\n",
    "    def plot_cluster_metrics(self, results: Dict[str, ClusterResult]) -> go.Figure:\n",
    "        algorithms = list(results.keys())\n",
    "        silhouette_scores = [results[alg].metrics.get('silhouette', 0) for alg in algorithms]\n",
    "        calinski_scores = [results[alg].metrics.get('calinski_harabasz', 0) for alg in algorithms]\n",
    "        davies_scores = [results[alg].metrics.get('davies_bouldin', 0) for alg in algorithms]\n",
    "\n",
    "        fig = make_subplots(\n",
    "            rows=1, cols=3,\n",
    "            subplot_titles=('Silhouette Score', 'Calinski-Harabasz', 'Davies-Bouldin'),\n",
    "            specs=[[{\"secondary_y\": False}, {\"secondary_y\": False}, {\"secondary_y\": False}]]\n",
    "        )\n",
    "\n",
    "        fig.add_trace(go.Bar(x=algorithms, y=silhouette_scores, name='Silhouette'), row=1, col=1)\n",
    "        fig.add_trace(go.Bar(x=algorithms, y=calinski_scores, name='Calinski-Harabasz'), row=1, col=2)\n",
    "        fig.add_trace(go.Bar(x=algorithms, y=davies_scores, name='Davies-Bouldin'), row=1, col=3)\n",
    "\n",
    "        fig.update_layout(title=\"Clustering Algorithm Comparison\", showlegend=False)\n",
    "        return fig\n",
    "\n",
    "    def plot_cluster_distribution(self, cluster_result: ClusterResult) -> go.Figure:\n",
    "        unique_labels, counts = np.unique(cluster_result.labels, return_counts=True)\n",
    "\n",
    "        # Sort by count\n",
    "        sorted_indices = np.argsort(counts)[::-1]\n",
    "        sorted_labels = unique_labels[sorted_indices]\n",
    "        sorted_counts = counts[sorted_indices]\n",
    "\n",
    "        # Create labels for display\n",
    "        display_labels = [f'Cluster {label}' if label != -1 else 'Noise'\n",
    "                         for label in sorted_labels]\n",
    "\n",
    "        fig = go.Figure(data=[go.Bar(x=display_labels, y=sorted_counts)])\n",
    "        fig.update_layout(\n",
    "            title=\"Cluster Size Distribution\",\n",
    "            xaxis_title=\"Clusters\",\n",
    "            yaxis_title=\"Number of Tokens\"\n",
    "        )\n",
    "\n",
    "        return fig\n",
    "\n",
    "    def plot_window_metric_pdfs(self, window_results: List[Dict[str, Any]], metric: str = 'cosine', cluster_id: Optional[int] = None,\n",
    "                                 bandwidth: Optional[float] = None, title: Optional[str] = None,\n",
    "                                 pdf_point_mode: str = 'both') -> go.Figure:\n",
    "        \"\"\"Plot evolution of a per-window metric (PDF) for each window step for a specific cluster.\n",
    "\n",
    "        metric options: 'cosine', 'variance', 'volume', 'radius'\n",
    "        If cluster_id is None, create one figure per cluster by returning a single combined figure (all traces).\n",
    "        \"\"\"\n",
    "        fig = go.Figure()\n",
    "\n",
    "        # pdf_point_mode controls how raw datapoints and KDE are shown:\n",
    "        #   'raw_points' -> only show raw datapoints (no KDE lines)\n",
    "        #   'kde'        -> only show KDE lines (no raw datapoint markers)\n",
    "        #   'both'       -> show both KDE lines and raw datapoint markers\n",
    "\n",
    "        show_raw = pdf_point_mode in ('raw_points', 'both')\n",
    "        show_kde = pdf_point_mode in ('kde', 'both')\n",
    "\n",
    "        # Iterate windows and add KDE traces for the selected metric for the given cluster\n",
    "        # Use a darker qualitative palette so traces are easy to see\n",
    "        # and ensure different windows get distinct colors.\n",
    "        try:\n",
    "            colors = px.colors.qualitative.Dark24\n",
    "        except Exception:\n",
    "            # Fallback to a commonly available palette\n",
    "            colors = px.colors.qualitative.Set1\n",
    "        for w in window_results:\n",
    "            window_idx = w['window_num']\n",
    "            # Determine the per-cluster metric values\n",
    "            if metric == 'cosine':\n",
    "                # extract mean_cos_sim per cluster and use underlying distribution if present\n",
    "                metric_dict = w['cosine_similarity_metrics']\n",
    "                values = []\n",
    "                if cluster_id is None:\n",
    "                    # sum across clusters for this window (not typical) - skip\n",
    "                    continue\n",
    "                else:\n",
    "                    if int(cluster_id) in metric_dict:\n",
    "                        values = metric_dict[int(cluster_id)].get('cos_sim_distribution', [])\n",
    "                    else:\n",
    "                        values = []\n",
    "            elif metric == 'variance':\n",
    "                metric_dict = w['cluster_size_metrics']\n",
    "                if int(cluster_id) in metric_dict:\n",
    "                    values = metric_dict[int(cluster_id)].get('point_variances', [])\n",
    "                else:\n",
    "                    values = []\n",
    "            elif metric == 'volume':\n",
    "                metric_dict = w['cluster_size_metrics']\n",
    "                if int(cluster_id) in metric_dict:\n",
    "                    # Volume is a single value per cluster; replicate it to make a degenerate distribution\n",
    "                    vol = metric_dict[int(cluster_id)].get('volume', 0.0)\n",
    "                    values = [vol] * max(3, metric_dict[int(cluster_id)].get('num_points', 1))\n",
    "                else:\n",
    "                    values = []\n",
    "            elif metric == 'radius':\n",
    "                metric_dict = w['cluster_size_metrics']\n",
    "                if int(cluster_id) in metric_dict:\n",
    "                    # replicate per-point distance to form a distribution\n",
    "                    values = metric_dict[int(cluster_id)].get('point_distances', [])\n",
    "                else:\n",
    "                    values = []\n",
    "            else:\n",
    "                raise ValueError('Unknown metric for PDF plotting')\n",
    "\n",
    "            if len(values) == 0:\n",
    "                continue\n",
    "\n",
    "            color = colors[window_idx % len(colors)] if colors else None\n",
    "\n",
    "            # Compute histogram-based density once for stable y-scaling (bins chosen adaptively)\n",
    "            try:\n",
    "                n_bins = min(50, max(5, int(len(values) // 2)))\n",
    "                hist, bin_edges = np.histogram(values, bins=n_bins, density=True)\n",
    "                xs_hist = 0.5 * (bin_edges[:-1] + bin_edges[1:])\n",
    "                ys_hist = hist\n",
    "            except Exception:\n",
    "                xs_hist = None\n",
    "                ys_hist = None\n",
    "\n",
    "            # Plot histogram density as primary curve when KDE lines are requested\n",
    "            if show_kde and ys_hist is not None:\n",
    "                fig.add_trace(go.Scatter(\n",
    "                    x=xs_hist,\n",
    "                    y=ys_hist,\n",
    "                    mode='lines',\n",
    "                    line=dict(width=1.5, color=color),\n",
    "                    name=f'window_{window_idx}',\n",
    "                    opacity=0.75,\n",
    "                    hoverinfo='skip'\n",
    "                ))\n",
    "\n",
    "                # Overlay a smoothed KDE rescaled to histogram peak for visual smoothness\n",
    "                try:\n",
    "                    kde = gaussian_kde(values)\n",
    "                    xs_kde = np.linspace(min(values), max(values), 200)\n",
    "                    ys_kde = kde(xs_kde)\n",
    "                    if ys_kde.max() > 0 and ys_hist.max() > 0:\n",
    "                        ys_kde = ys_kde * (ys_hist.max() / ys_kde.max())\n",
    "                    fig.add_trace(go.Scatter(\n",
    "                        x=xs_kde,\n",
    "                        y=ys_kde,\n",
    "                        mode='lines',\n",
    "                        line=dict(width=1, color=color, dash='dot'),\n",
    "                        name=f'window_{window_idx}_kde',\n",
    "                        opacity=0.45,\n",
    "                        hoverinfo='skip'\n",
    "                    ))\n",
    "                except Exception:\n",
    "                    pass\n",
    "\n",
    "            # Plot raw datapoints for this window when requested.\n",
    "            # Draw a connected line through the raw points (sorted by x) and\n",
    "            # highlight points with markers. Use transparency so multiple windows\n",
    "            # can be overplotted and the time evolution remains visible.\n",
    "            if show_raw:\n",
    "                vals_np = np.array(values)\n",
    "\n",
    "                if ys_hist is not None and xs_hist is not None and len(vals_np) > 0:\n",
    "                    # Map each value to its histogram bin density\n",
    "                    bin_idx = np.searchsorted(bin_edges, vals_np, side='right') - 1\n",
    "                    bin_idx = np.clip(bin_idx, 0, len(ys_hist) - 1)\n",
    "                    marker_y = (ys_hist[bin_idx] * 0.9).astype(float)\n",
    "\n",
    "                    # Sort by x so the connecting line is monotonic and readable\n",
    "                    sort_idx = np.argsort(vals_np)\n",
    "                    xs_sorted = vals_np[sort_idx]\n",
    "                    ys_sorted = marker_y[sort_idx]\n",
    "\n",
    "                    fig.add_trace(go.Scatter(\n",
    "                        x=xs_sorted,\n",
    "                        y=ys_sorted,\n",
    "                        mode='lines+markers',\n",
    "                        line=dict(width=2, color=color),\n",
    "                        marker=dict(symbol='circle', size=6, opacity=0.9, color=color, line=dict(width=0)),\n",
    "                        opacity=0.7,\n",
    "                        name=f'window_{window_idx}_points',\n",
    "                        hovertemplate='value: %{x}<extra></extra>'\n",
    "                    ))\n",
    "                else:\n",
    "                    # Fallback: place markers/line at a small constant y for visibility\n",
    "                    if len(vals_np) > 0:\n",
    "                        xs_sorted = np.sort(vals_np)\n",
    "                        ys_const = [0.01] * len(xs_sorted)\n",
    "                        fig.add_trace(go.Scatter(\n",
    "                            x=xs_sorted,\n",
    "                            y=ys_const,\n",
    "                            mode='lines+markers',\n",
    "                            line=dict(width=1.5, color=color),\n",
    "                            marker=dict(symbol='circle', size=6, opacity=0.85, color=color, line=dict(width=0)),\n",
    "                            opacity=0.65,\n",
    "                            name=f'window_{window_idx}_points',\n",
    "                            hovertemplate='value: %{x}<extra></extra>'\n",
    "                        ))\n",
    "\n",
    "        fig.update_layout(\n",
    "            title=title or f'Window-wise PDF evolution (metric={metric}, cluster={cluster_id})',\n",
    "            xaxis_title=metric,\n",
    "            yaxis_title='Density',\n",
    "            showlegend=True,\n",
    "            width=800,\n",
    "            height=500\n",
    "        )\n",
    "\n",
    "        return fig\n",
    "\n",
    "    def plot_window_metric_timeline(self, window_results: List[Dict[str, Any]], metric: str = 'cosine', cluster_id: Optional[int] = None,\n",
    "                                    title: Optional[str] = None, alpha: float = 0.35, marker_size: int = 6) -> go.Figure:\n",
    "        \"\"\"Plot metric (x) vs window step (y) as a scatter for each datapoint in the cluster.\n",
    "\n",
    "        This creates a vertical timeline-style plot where window index is on the y axis and\n",
    "        the metric value is on the x axis. Overlap intensity shows density per window.\n",
    "        \"\"\"\n",
    "        xs_all = []\n",
    "        ys_all = []\n",
    "\n",
    "        fig = go.Figure()\n",
    "\n",
    "        for w in window_results:\n",
    "            window_idx = w['window_num']\n",
    "\n",
    "            if metric == 'cosine':\n",
    "                metric_dict = w['cosine_similarity_metrics']\n",
    "                vals = metric_dict.get(int(cluster_id), {}).get('cos_sim_distribution', []) if int(cluster_id) in metric_dict else []\n",
    "            elif metric == 'variance':\n",
    "                metric_dict = w['cluster_size_metrics']\n",
    "                vals = metric_dict.get(int(cluster_id), {}).get('point_variances', []) if int(cluster_id) in metric_dict else []\n",
    "            elif metric == 'volume':\n",
    "                metric_dict = w['cluster_size_metrics']\n",
    "                if int(cluster_id) in metric_dict:\n",
    "                    vol = metric_dict[int(cluster_id)].get('volume', 0.0)\n",
    "                    n = max(3, metric_dict[int(cluster_id)].get('num_points', 1))\n",
    "                    vals = [vol] * n\n",
    "                else:\n",
    "                    vals = []\n",
    "            elif metric == 'radius':\n",
    "                metric_dict = w['cluster_size_metrics']\n",
    "                vals = metric_dict.get(int(cluster_id), {}).get('point_distances', []) if int(cluster_id) in metric_dict else []\n",
    "            else:\n",
    "                raise ValueError('Unknown metric for timeline plotting')\n",
    "\n",
    "            if not vals:\n",
    "                continue\n",
    "\n",
    "            ys = [window_idx] * len(vals)\n",
    "            xs = vals\n",
    "\n",
    "            fig.add_trace(go.Scatter(\n",
    "                x=xs,\n",
    "                y=ys,\n",
    "                mode='markers',\n",
    "                marker=dict(size=marker_size, opacity=alpha, color='rgba(31,119,180,0.6)', line=dict(width=0)),\n",
    "                hoverinfo='x+y',\n",
    "                name=f'window_{window_idx}'\n",
    "            ))\n",
    "\n",
    "        fig.update_layout(\n",
    "            title=title or f'Window timeline (metric={metric}, cluster={cluster_id})',\n",
    "            xaxis_title=metric,\n",
    "            yaxis_title='Window step',\n",
    "            showlegend=False,\n",
    "            width=800,\n",
    "            height=500\n",
    "        )\n",
    "\n",
    "        return fig\n",
    "\n",
    "class SemanticPipeline:\n",
    "    def __init__(self):\n",
    "        self.analyzer = SemanticAnalyzer()\n",
    "        self.visualizer = Visualizer()\n",
    "\n",
    "        # Available algorithms\n",
    "        self.clustering_algorithms = {\n",
    "            'kmeans': KMeansClusterer,\n",
    "            'hierarchical': HierarchicalClusterer\n",
    "        }\n",
    "\n",
    "        self.dimensionality_reducers = {\n",
    "            'tsne': TSNEReducer\n",
    "        }\n",
    "\n",
    "    def run_analysis(self, all_tokens: List[str], all_embeddings: np.ndarray,\n",
    "                    n_initial_hidden_states: int,\n",
    "                    initial_clustering_method: str = DEFAULTS.get('initial_clustering_method', 'kmeans'),\n",
    "                    n_clusters: int = DEFAULTS.get('n_clusters', 8),\n",
    "                    window_type: str = DEFAULTS.get('window_type', 'expanding'), # 'expanding' or 'moving'\n",
    "                    window_size: int = DEFAULTS.get('window_size', 100),\n",
    "                    stride: int = DEFAULTS.get('stride', 50),\n",
    "                    visualization_method: str = DEFAULTS.get('visualization_method', 'tsne')) -> Dict[str, Any]:\n",
    "\n",
    "        # Load all data (embeddings are already scaled in analyzer.load_data)\n",
    "        self.analyzer.load_data(all_embeddings)\n",
    "        self.analyzer.tokens = all_tokens # Store tokens in analyzer for structural filtering\n",
    "\n",
    "        # 1. Initial Clustering to get fixed centroids\n",
    "        print(f\"Performing initial clustering on first {n_initial_hidden_states} hidden states...\")\n",
    "        initial_embeddings = all_embeddings[:n_initial_hidden_states]\n",
    "        initial_clusterer = self.clustering_algorithms[initial_clustering_method](n_clusters=n_clusters)\n",
    "        initial_cluster_result = self.analyzer.initial_cluster(initial_embeddings, initial_clusterer)\n",
    "        fixed_centroids = initial_cluster_result.centroids\n",
    "        initial_labels = initial_cluster_result.labels\n",
    "\n",
    "        if fixed_centroids is None:\n",
    "            raise ValueError(\"Initial clustering did not produce centroids. Cannot proceed with fixed centroids.\")\n",
    "\n",
    "        print(f\"Initial clustering complete. Found {initial_cluster_result.n_clusters} clusters.\")\n",
    "\n",
    "        # Store initial clustering results\n",
    "        results = {\n",
    "            'initial_cluster_result': initial_cluster_result,\n",
    "            'fixed_centroids': fixed_centroids,\n",
    "            'window_results': []\n",
    "        }\n",
    "\n",
    "        # 2. Sliding Window Analysis\n",
    "        print(\"Starting sliding window analysis...\")\n",
    "        total_embeddings_len = all_embeddings.shape[0]\n",
    "        current_start_idx = 0\n",
    "        window_num = 0\n",
    "\n",
    "        while True:\n",
    "            window_end_idx = current_start_idx + window_size\n",
    "\n",
    "            if window_type == 'expanding':\n",
    "                window_embeddings = all_embeddings[:window_end_idx]\n",
    "                window_tokens = all_tokens[:window_end_idx]\n",
    "            elif window_type == 'moving':\n",
    "                if window_end_idx > total_embeddings_len:\n",
    "                    break # Reached end of data\n",
    "                window_embeddings = all_embeddings[current_start_idx:window_end_idx]\n",
    "                window_tokens = all_tokens[current_start_idx:window_end_idx]\n",
    "            else:\n",
    "                raise ValueError(\"Invalid window_type. Must be 'expanding' or 'moving'.\")\n",
    "\n",
    "            if window_embeddings.shape[0] == 0:\n",
    "                break # No more data in window\n",
    "\n",
    "            # print(f\"Processing window {window_num}: indices {current_start_idx}-{window_end_idx-1}\")\n",
    "\n",
    "            # Assign current window embeddings to fixed centroids\n",
    "            # Use the algorithm name returned by the initial clustering result (not the clusterer instance)\n",
    "            window_labels = self.analyzer.assign_to_clusters(\n",
    "                window_embeddings, fixed_centroids, initial_cluster_result.algorithm\n",
    "            )\n",
    "\n",
    "            # Filter structural clusters (using the analyzer's stored tokens and embeddings for context)\n",
    "            # Note: Structural filtering is applied to the *current window's* labels and embeddings\n",
    "            # It's important that the structural filter operates on the actual tokens/embeddings of the window\n",
    "            # For this, we temporarily set the analyzer's tokens/embeddings to the current window's data\n",
    "            original_analyzer_embeddings = self.analyzer.embeddings\n",
    "            original_analyzer_tokens = self.analyzer.tokens\n",
    "\n",
    "            self.analyzer.embeddings = window_embeddings # Temporarily set for structural filter\n",
    "            self.analyzer.tokens = window_tokens # Temporarily set for structural filter\n",
    "\n",
    "            filtered_labels, structural_clusters = self.analyzer.filter_semantic_clusters(\n",
    "                ClusterResult(labels=window_labels, centroids=None, metrics={}, algorithm=\"\", n_clusters=0)\n",
    "            )\n",
    "\n",
    "            # Restore original analyzer state\n",
    "            self.analyzer.embeddings = original_analyzer_embeddings\n",
    "            self.analyzer.tokens = original_analyzer_tokens\n",
    "\n",
    "            # Calculate cosine similarity distribution\n",
    "            cos_sim_metrics = self.analyzer.calculate_cosine_similarity_distribution(\n",
    "                window_embeddings, filtered_labels, fixed_centroids\n",
    "            )\n",
    "\n",
    "            # Calculate cluster size metrics\n",
    "            cluster_size_metrics = self.analyzer.calculate_cluster_size_metrics(\n",
    "                window_embeddings, filtered_labels, fixed_centroids,\n",
    "                include_centroid_distances=True, # Example: enable this metric\n",
    "                include_density=True, # Example: enable this metric\n",
    "                include_intrinsic_dimensionality=True # Example: enable this metric\n",
    "            )\n",
    "\n",
    "            window_results = {\n",
    "                'window_num': window_num,\n",
    "                'start_idx': current_start_idx,\n",
    "                'end_idx': window_end_idx - 1,\n",
    "                'labels': window_labels,\n",
    "                'filtered_labels': filtered_labels,\n",
    "                'structural_clusters': structural_clusters,\n",
    "                'cosine_similarity_metrics': cos_sim_metrics,\n",
    "                'cluster_size_metrics': cluster_size_metrics\n",
    "            }\n",
    "            results['window_results'].append(window_results)\n",
    "\n",
    "            if window_type == 'expanding':\n",
    "                if window_end_idx >= total_embeddings_len:\n",
    "                    break # Reached end of data\n",
    "                current_start_idx += stride # For expanding, stride moves the \"end\"\n",
    "            elif window_type == 'moving':\n",
    "                current_start_idx += stride\n",
    "                if current_start_idx >= total_embeddings_len:\n",
    "                    break # Moved past end of data\n",
    "\n",
    "            window_num += 1\n",
    "\n",
    "        print(\"Sliding window analysis complete.\")\n",
    "        return results\n",
    "\n",
    "class DendrogramVisualizer:\n",
    "    def __init__(self, max_display_tokens: int = DEFAULTS.get('max_display_tokens_dendrogram', 50)):\n",
    "        self.max_display_tokens = max_display_tokens\n",
    "\n",
    "    def load_data(self, tokens: List[str], embeddings: np.ndarray) -> tuple[List[str], np.ndarray]:\n",
    "        return tokens, embeddings\n",
    "\n",
    "    def create_dendrogram(self, embeddings: np.ndarray, tokens: List[str],\n",
    "                         linkage_method: str = DEFAULTS.get('linkage_method_hierarchical', 'ward'),\n",
    "                         metric: str = DEFAULTS.get('metric_dendrogram', 'euclidean'),\n",
    "                         truncate_mode: Optional[str] = DEFAULTS.get('truncate_mode_dendrogram', 'lastp')) -> go.Figure:\n",
    "\n",
    "        n_samples = min(len(tokens), self.max_display_tokens)\n",
    "        sample_indices = np.random.choice(len(tokens), n_samples, replace=False)\n",
    "        sample_embeddings = embeddings[sample_indices]\n",
    "        sample_tokens = [tokens[i] for i in sample_indices]\n",
    "\n",
    "        distances = pdist(sample_embeddings, metric=metric)\n",
    "        linkage_matrix = linkage(distances, method=linkage_method)\n",
    "\n",
    "        # Create dendrogram structure\n",
    "        dend_data = dendrogram(\n",
    "            linkage_matrix,\n",
    "            labels=sample_tokens,\n",
    "            no_plot=True,\n",
    "            truncate_mode=truncate_mode,\n",
    "            p=min(DEFAULTS.get('max_dendrogram_leaves', 30), n_samples) if truncate_mode else None\n",
    "        )\n",
    "\n",
    "        return self._build_plotly_dendrogram(dend_data, linkage_method, metric)\n",
    "\n",
    "    def _build_plotly_dendrogram(self, dend_data: dict,\n",
    "                                linkage_method: str, metric: str) -> go.Figure:\n",
    "        fig = go.Figure()\n",
    "\n",
    "        # Add dendrogram branches\n",
    "        for xs, ys in zip(dend_data['icoord'], dend_data['dcoord']):\n",
    "            fig.add_trace(go.Scatter(\n",
    "                x=xs, y=ys,\n",
    "                mode='lines',\n",
    "                line=dict(color='#2E86AB', width=1.5),\n",
    "                hoverinfo='skip',\n",
    "                showlegend=False\n",
    "            ))\n",
    "\n",
    "        # Add leaf labels\n",
    "        leaf_positions = [(dend_data['icoord'][i][1] + dend_data['icoord'][i][2]) / 2\n",
    "                         for i in range(len(dend_data['icoord']))][:len(dend_data['ivl'])]\n",
    "\n",
    "        fig.add_trace(go.Scatter(\n",
    "            x=leaf_positions,\n",
    "            y=[0] * len(dend_data['ivl']),\n",
    "            mode='text',\n",
    "            text=dend_data['ivl'],\n",
    "            textposition='bottom center',\n",
    "            textfont=dict(size=9),\n",
    "            hovertemplate='<b>%{text}</b><extra></extra>',\n",
    "            showlegend=False\n",
    "        ))\n",
    "\n",
    "        fig.update_layout(\n",
    "            title=f'Hierarchical Clustering Dendrogram<br><sub>{linkage_method.title()} linkage, {metric} distance</sub>',\n",
    "            xaxis=dict(\n",
    "                showticklabels=False,\n",
    "                showgrid=False,\n",
    "                zeroline=False\n",
    "            ),\n",
    "            yaxis=dict(\n",
    "                title='Distance',\n",
    "                showgrid=True,\n",
    "                gridcolor='lightgray',\n",
    "                gridwidth=0.5\n",
    "            ),\n",
    "            plot_bgcolor='white',\n",
    "            height=700,\n",
    "            margin=dict(b=120, t=80),\n",
    "            font=dict(size=11)\n",
    "        )\n",
    "\n",
    "        return fig\n",
    "\n",
    "    def create_comparison_plot(self, embeddings: np.ndarray, tokens: List[str],\n",
    "                              methods: List[str] = DEFAULTS.get('comparison_methods_dendrogram', ['ward', 'complete', 'average'])) -> go.Figure:\n",
    "        n_methods = len(methods)\n",
    "        fig = make_subplots(\n",
    "            rows=n_methods, cols=1,\n",
    "            subplot_titles=[f'{method.title()} Linkage' for method in methods],\n",
    "            vertical_spacing=0.08\n",
    "        )\n",
    "\n",
    "        n_samples = min(len(tokens), self.max_display_tokens)\n",
    "        sample_indices = np.random.choice(len(tokens), n_samples, replace=False)\n",
    "        sample_embeddings = embeddings[sample_indices]\n",
    "        sample_tokens = [tokens[i] for i in sample_indices]\n",
    "\n",
    "        for i, method in enumerate(methods):\n",
    "            metric = 'euclidean'\n",
    "            distances = pdist(sample_embeddings, metric=metric)\n",
    "            linkage_matrix = linkage(distances, method=method)\n",
    "\n",
    "            dend_data = dendrogram(linkage_matrix, labels=sample_tokens, no_plot=True,\n",
    "                                   truncate_mode=None)\n",
    "\n",
    "            # Add branches for this subplot\n",
    "            for xs, ys in zip(dend_data['icoord'], dend_data['dcoord']):\n",
    "                fig.add_trace(go.Scatter(\n",
    "                    x=xs, y=ys,\n",
    "                    mode='lines',\n",
    "                    line=dict(color=px.colors.qualitative.Set2[i], width=1.2),\n",
    "                    hoverinfo='skip',\n",
    "                    showlegend=False\n",
    "                ), row=i+1, col=1)\n",
    "\n",
    "        fig.update_layout(\n",
    "            title='Hierarchical Clustering Method Comparison',\n",
    "            height=300 * n_methods,\n",
    "            showlegend=False\n",
    "        )\n",
    "\n",
    "        for i in range(n_methods):\n",
    "            fig.update_xaxes(showticklabels=False, row=i+1, col=1)\n",
    "            fig.update_yaxes(title_text='Distance', row=i+1, col=1)\n",
    "\n",
    "        return fig\n",
    "\n",
    "\n",
    "\n",
    "\"\"\"\n",
    "this code clusters and visualizes the hidden_states. It tries to find the \"structural clusters\" which correspond to tokens like\n",
    "\n",
    "{'**', '**\\n', '**\\n\\n', ' **', ':**'} (there is some hard-coding used here but for the most part we used ml algorithms)\n",
    "\n",
    "which dont carry semantic meaning and are uninteresting to us. then it excludes them from the analysis.\n",
    "\n",
    "finally it is able to compare between different clustering methods (KMeans, Hierarchical) to determine which is best based on some standard \"clustering quality measures\" like silhouette, calinski_harabasz, davies_bouldin\n",
    "\n",
    "we also look at things like the cluster size distribution: if there is a cluster with 90% of the tokens and then a lot of clusters with a single token, then it is a bad clustering technique for our use case.\n",
    "\n",
    "like this we investigate clustering and find some nice methods which are semantically meaningful.\n",
    "\n",
    "for visualization we used tsne. we used libraries that implemented them and it was straightforward to try out\n",
    "\"\"\"\n",
    "\n",
    "### Section: Visualization and running nicely and report making\n",
    "\n",
    "\n",
    "# pipeline for evaluating and displaying results\n",
    "def usage(all_tokens: List[str], all_embeddings: np.ndarray,\n",
    "          n_initial_hidden_states: int,\n",
    "          initial_clustering_method: str = DEFAULTS.get('initial_clustering_method', 'kmeans'),\n",
    "          n_clusters: int = DEFAULTS.get('n_clusters', 8),\n",
    "          window_type: str = DEFAULTS.get('window_type', 'expanding'),\n",
    "          window_size: int = DEFAULTS.get('window_size', 100),\n",
    "          stride: int = DEFAULTS.get('stride', 50),\n",
    "          visualization_method: str = DEFAULTS.get('visualization_method', 'tsne')):\n",
    "    pipeline = SemanticPipeline()\n",
    "\n",
    "    results = pipeline.run_analysis(\n",
    "        all_tokens=all_tokens,\n",
    "        all_embeddings=all_embeddings,\n",
    "        n_initial_hidden_states=n_initial_hidden_states,\n",
    "        initial_clustering_method=initial_clustering_method,\n",
    "        n_clusters=n_clusters,\n",
    "        window_type=window_type,\n",
    "        window_size=window_size,\n",
    "        stride=stride,\n",
    "        visualization_method=visualization_method\n",
    "    )\n",
    "\n",
    "    # Display results\n",
    "    print(f\"Initial clustering result: {results['initial_cluster_result'].algorithm} with {results['initial_cluster_result'].n_clusters} clusters.\")\n",
    "    print(f\"Number of windows processed: {len(results['window_results'])}\")\n",
    "\n",
    "    # Print detailed results for each window\n",
    "    for i, window_res in enumerate(results['window_results']):\n",
    "        print(f\"\\n--- Window {i} (indices {window_res['start_idx']}-{window_res['end_idx']}) ---\")\n",
    "        print(f\"  Structural clusters identified: {window_res['structural_clusters']}\")\n",
    "        print(\"  Cosine Similarity Metrics per Cluster:\")\n",
    "        for cluster_id, metrics in window_res['cosine_similarity_metrics'].items():\n",
    "            print(f\"    Cluster {cluster_id}: Mean Cos Sim = {metrics['mean_cos_sim']:.4f}, Std Dev = {metrics['std_cos_sim']:.4f}\")\n",
    "        print(\"  Cluster Size Metrics per Cluster:\")\n",
    "        for cluster_id, metrics in window_res['cluster_size_metrics'].items():\n",
    "            print(f\"    Cluster {cluster_id}: Num Points = {metrics['num_points']}, Radius = {metrics['radius']:.4f}, Volume = {metrics['volume']:.4f}\")\n",
    "            if 'mean_centroid_distance' in metrics: print(f\"      Mean Centroid Dist = {metrics['mean_centroid_distance']:.4f}, Median Centroid Dist = {metrics['median_centroid_distance']:.4f}\")\n",
    "            if 'density' in metrics: print(f\"      Density = {metrics['density']:.4f}\")\n",
    "            if 'intrinsic_dimensionality' in metrics: print(f\"      Intrinsic Dim = {metrics['intrinsic_dimensionality']}\")\n",
    "\n",
    "def visualize_hierarchical_clustering(all_tokens: List[str], all_embeddings: np.ndarray,\n",
    "                                    linkage_method: str = DEFAULTS.get('linkage_method_hierarchical', 'ward'),\n",
    "                                    show_comparison: bool = DEFAULTS.get('show_comparison_hierarchical', False)):\n",
    "    viz = DendrogramVisualizer(max_display_tokens=60)\n",
    "    tokens, embeddings = viz.load_data(all_tokens, all_embeddings)\n",
    "\n",
    "    print(f\"Loaded {len(tokens)} tokens with {embeddings.shape[1]}D embeddings\")\n",
    "\n",
    "    fig = viz.create_dendrogram(embeddings, tokens, linkage_method=linkage_method)\n",
    "    fig.show()\n",
    "\n",
    "    if show_comparison:\n",
    "        comparison_fig = viz.create_comparison_plot(embeddings, tokens)\n",
    "        comparison_fig.show()\n",
    "\n",
    "\n",
    "def initial_tsne_and_summaries(all_tokens: List[str], all_embeddings: np.ndarray,\n",
    "                               N: int = DEFAULTS.get('n_initial_hidden_states', 1024), \n",
    "                               n_clusters: int = DEFAULTS.get('n_clusters', 8),\n",
    "                               perplexity: float = DEFAULTS.get('perplexity', 30.0), \n",
    "                               sample_top: int = DEFAULTS.get('sample_top', 12),\n",
    "                               inline: bool = DEFAULTS.get('inline', True)) -> Tuple[go.Figure, Dict[int, Dict[str, Any]], ClusterResult]:\n",
    "    \"\"\"Run initial KMeans on first N embeddings, produce TSNE figure and concise summaries.\n",
    "\n",
    "    Returns (fig, summaries, cluster_result). summaries[label] = {'count': int, 'unique_tokens': [..]}\n",
    "    If inline=True the figure will be shown (suitable for notebooks).\n",
    "    \"\"\"\n",
    "    initial_embeddings = all_embeddings[:N]\n",
    "    initial_tokens = all_tokens[:N]\n",
    "\n",
    "    pipeline = SemanticPipeline()\n",
    "    pipeline.analyzer.load_data(initial_embeddings)\n",
    "\n",
    "    clusterer = KMeansClusterer(n_clusters=n_clusters)\n",
    "    cluster_result = pipeline.analyzer.initial_cluster(initial_embeddings, clusterer)\n",
    "\n",
    "    reducer = TSNEReducer(n_components=2, perplexity=perplexity)\n",
    "    fig = pipeline.visualizer.plot_2d_clusters(initial_embeddings, cluster_result.labels, initial_tokens, reducer,\n",
    "                                               title=f\"Initial KMeans (n={n_clusters}) TSNE\")\n",
    "\n",
    "    # Do not auto-show here; caller will display the figure once to avoid duplicate outputs in notebooks\n",
    "\n",
    "    summaries: Dict[int, Dict[str, Any]] = {}\n",
    "    unique_labels = np.unique(cluster_result.labels)\n",
    "    for label in unique_labels:\n",
    "        mask = cluster_result.labels == label\n",
    "        cluster_tokens_full = [initial_tokens[i] for i in np.where(mask)[0]]\n",
    "        count = len(cluster_tokens_full)\n",
    "        unique_tokens = list(dict.fromkeys(cluster_tokens_full))\n",
    "        summaries[int(label)] = {\n",
    "            'count': int(count),\n",
    "            'unique_tokens': unique_tokens[:sample_top]\n",
    "        }\n",
    "\n",
    "    # Print concise human-friendly summary (no repetition)\n",
    "    for label, info in summaries.items():\n",
    "        sample_display = ', '.join(repr(t) for t in info['unique_tokens'])\n",
    "        print(f\"Cluster {int(label)} ({info['count']} tokens):\\n  Sample tokens: {{{sample_display}}}\\n\")\n",
    "\n",
    "    return fig, summaries, cluster_result\n"
   ]
  },
  {
   "cell_type": "code",
   "execution_count": 16,
   "id": "d0bc49df",
   "metadata": {},
   "outputs": [],
   "source": [
    "def usage_example(all_tokens: List[str], all_embeddings: np.ndarray, params: Optional[Dict[str, Any]] = None):\n",
    "    \"\"\"Run a standard example using DEFAULTS; prints where to change parameters.\n",
    "\n",
    "    Returns the figure and summaries.\n",
    "    \"\"\"\n",
    "    # params may be None; the user can set DEFAULTS in the usage block below\n",
    "    if params is None:\n",
    "        params = DEFAULTS\n",
    "\n",
    "    N = params.get('n_initial_hidden_states', 1024)\n",
    "    n_clusters = params.get('n_clusters', 8)\n",
    "    perplexity = params.get('perplexity', 30.0)\n",
    "    sample_top = params.get('sample_top', 12)\n",
    "    inline = params.get('inline', True)\n",
    "\n",
    "    # Support list of initial methods\n",
    "    methods = params.get('initial_clustering_method', 'kmeans')\n",
    "    if isinstance(methods, str):\n",
    "        methods = [methods]\n",
    "\n",
    "    outputs = {}\n",
    "\n",
    "    for method in methods:\n",
    "        print(f\"Running usage_example for initial_clustering_method={method}\")\n",
    "        fig, summaries, cluster_result = initial_tsne_and_summaries(\n",
    "            all_tokens, all_embeddings,\n",
    "            N=N, n_clusters=n_clusters, perplexity=perplexity,\n",
    "            sample_top=sample_top, inline=False\n",
    "        )\n",
    "\n",
    "        # Show the TSNE plot once per method\n",
    "        if inline:\n",
    "            fig.show()\n",
    "\n",
    "        # Run sliding-window full pipeline for the chosen method to collect window metrics for PDF plotting\n",
    "        pipeline = SemanticPipeline()\n",
    "        results = pipeline.run_analysis(\n",
    "            all_tokens=all_tokens,\n",
    "            all_embeddings=all_embeddings,\n",
    "            n_initial_hidden_states=N,\n",
    "            initial_clustering_method=method,\n",
    "            n_clusters=n_clusters,\n",
    "            window_type=params.get('window_type', 'expanding'),\n",
    "            window_size=params.get('window_size', 512),\n",
    "            stride=params.get('stride', 512),\n",
    "            visualization_method=params.get('visualization_method', 'tsne')\n",
    "        )\n",
    "\n",
    "        # For each cluster, create one figure per metric and per selected plot method\n",
    "        cluster_ids = list(range(cluster_result.n_clusters))\n",
    "        metrics_to_plot = params.get('metrics_to_plot', ['cosine', 'variance', 'volume', 'radius'])\n",
    "        plot_methods = params.get('pdf_plot_methods', ['kde'])\n",
    "        \n",
    "        pdf_point_mode = params.get('pdf_point_mode', 'both')\n",
    "\n",
    "        pdf_figs = {}\n",
    "        for cid in cluster_ids:\n",
    "            for metric in metrics_to_plot:\n",
    "                for pmethod in plot_methods:\n",
    "                    title = f\"Method={method} | Cluster={cid} | Metric={metric} | Plot={pmethod}\"\n",
    "                    if pmethod == 'kde':\n",
    "                        pdf_fig = pipeline.visualizer.plot_window_metric_pdfs(results['window_results'], metric=metric, cluster_id=cid, title=title, pdf_point_mode=pdf_point_mode)\n",
    "                        if inline:\n",
    "                            pdf_fig.show()\n",
    "                    elif pmethod == 'timeline':\n",
    "                        pdf_fig = pipeline.visualizer.plot_window_metric_timeline(results['window_results'], metric=metric, cluster_id=cid, title=title)\n",
    "                        if inline:\n",
    "                            pdf_fig.show()\n",
    "                    else:\n",
    "                        raise ValueError(f'Unknown pdf plot method: {pmethod}')\n",
    "\n",
    "                    pdf_figs[(cid, metric, pmethod)] = pdf_fig\n",
    "\n",
    "        outputs[method] = {\n",
    "            'tsne_fig': fig,\n",
    "            'summaries': summaries,\n",
    "            'cluster_result': cluster_result,\n",
    "            'window_results': results['window_results'],\n",
    "            'pdf_figs': pdf_figs\n",
    "        }\n",
    "\n",
    "    # Additional example: hierarchical clustering + dendrogram visualization\n",
    "    try:\n",
    "        print('\\nRunning hierarchical/dendrogram example...')\n",
    "        viz = DendrogramVisualizer(max_display_tokens=DEFAULTS.get('max_display_tokens_dendrogram', 50))\n",
    "        tokens_sample, embeddings_sample = viz.load_data(all_tokens, all_embeddings)\n",
    "\n",
    "        # Single dendrogram using the default linkage\n",
    "        dend_fig = viz.create_dendrogram(embeddings_sample, tokens_sample, linkage_method=DEFAULTS.get('linkage_method_hierarchical', 'ward'))\n",
    "        outputs['dendrogram'] = dend_fig\n",
    "        if inline:\n",
    "            dend_fig.show()\n",
    "\n",
    "        # Comparison plot across all configured methods (uses existing create_comparison_plot)\n",
    "        methods = DEFAULTS.get('comparison_methods_dendrogram', ['ward', 'complete', 'average'])\n",
    "        comp_fig = viz.create_comparison_plot(embeddings_sample, tokens_sample, methods=methods)\n",
    "        outputs['dendrogram_comparison'] = comp_fig\n",
    "        if inline:\n",
    "            comp_fig.show()\n",
    "    except Exception as e:\n",
    "        print('Dendrogram example failed:', e)\n",
    "\n",
    "    print(\"\\nParameters used (edit DEFAULTS at top of file to change):\")\n",
    "    for k in ['n_initial_hidden_states', 'initial_clustering_method', 'n_clusters', 'window_type', 'window_size', 'stride', 'visualization_method', 'perplexity', 'sample_top']:\n",
    "        print(f\"  {k}: {params.get(k)}\")\n",
    "\n",
    "    return outputs"
   ]
  },
  {
   "cell_type": "code",
   "execution_count": 17,
   "id": "73cfaa81",
   "metadata": {},
   "outputs": [
    {
     "name": "stdout",
     "output_type": "stream",
     "text": [
      "Running usage_example for initial_clustering_method=kmeans\n",
      "Cluster 0 (94 tokens):\n",
      "  Sample tokens: {'.', ',', ' and', '.\\n', ':', '.\\n\\n'}\n",
      "\n",
      "Cluster 1 (16 tokens):\n",
      "  Sample tokens: {' personality', ' traits'}\n",
      "\n",
      "Cluster 2 (18 tokens):\n",
      "  Sample tokens: {' can', ' should', \"'ll\", ' might', ' could'}\n",
      "\n",
      "Cluster 3 (16 tokens):\n",
      "  Sample tokens: {' how', ' who'}\n",
      "\n",
      "Cluster 4 (6 tokens):\n",
      "  Sample tokens: {' attachment'}\n",
      "\n",
      "Cluster 5 (14 tokens):\n",
      "  Sample tokens: {' terms', '-term', ' term'}\n",
      "\n",
      "Cluster 6 (75 tokens):\n",
      "  Sample tokens: {'<｜begin▁of▁sentence｜>', ' influences', ' education', ' friendships', ' events', ' psychological', ' vs', ' nurture', ' affect', ' behaviors', ' role', ' social'}\n",
      "\n",
      "Cluster 7 (172 tokens):\n",
      "  Sample tokens: {'Ex', 'amine', ' childhood', ' shape', ' development', ' Discuss', ' various', ' including', ' family', ' environment', ' significant', ' life'}\n",
      "\n",
      "Cluster 8 (93 tokens):\n",
      "  Sample tokens: {' like', ' in', ' of', ' the', ' it', ' to', ' on', ' each', ' without', ' using', ' for', ' a'}\n",
      "\n",
      "Cluster 9 (8 tokens):\n",
      "  Sample tokens: {' experiences'}\n",
      "\n"
     ]
    },
    {
     "data": {
      "application/vnd.plotly.v1+json": {
       "config": {
        "plotlyServerURL": "https://plot.ly"
       },
       "data": [
        {
         "hovertemplate": "<b>%{text}</b><br>Cluster: Cluster 0<extra></extra>",
         "marker": {
          "color": "rgb(141,211,199)",
          "opacity": 0.7,
          "size": 6
         },
         "mode": "markers",
         "name": "Cluster 0",
         "text": [
          ".",
          ",",
          ",",
          ",",
          " and",
          ".",
          " and",
          ".",
          ".",
          " and",
          " and",
          ".",
          ",",
          " and",
          ".\n",
          ":",
          ",",
          ",",
          ",",
          ",",
          ",",
          ",",
          ",",
          ".",
          ",",
          ",",
          ",",
          ",",
          ",",
          ",",
          ",",
          ",",
          " and",
          ",",
          ",",
          ",",
          ",",
          ",",
          ".\n",
          ",",
          ",",
          " and",
          ".",
          ",",
          ".\n",
          ",",
          ",",
          " and",
          ".",
          " and",
          ".\n",
          ",",
          ".",
          " and",
          ".",
          " and",
          ".\n\n",
          ",",
          ".",
          ",",
          ":",
          ",",
          ",",
          ",",
          " and",
          ".",
          ",",
          " and",
          ",",
          ".\n\n",
          ",",
          ".",
          " and",
          ".",
          ".",
          ",",
          " and",
          ",",
          " and",
          ".\n\n",
          ",",
          ".",
          ",",
          ".",
          ".",
          ",",
          ",",
          ".",
          ".\n\n",
          ",",
          ".",
          " and",
          ",",
          "."
         ],
         "type": "scatter",
         "x": {
          "bdata": "RNsuwz18QMM50SvDGboYw9sqpcIiaiLDYdi9wvAGIsMiaiLDy+y2wgrezcIiaiLDEfscw0oVrcK6SAPDUe8kw6PAPcMZuhjDo8A9w0eGEsMVXjHDOdErwznRK8PQYBjDOdErwxH7HMMR+xzDOdErw3RoLcMR+xzDTeY4w0K3JMOl8cLCOdErwxm6GMM50SvDOdErwxm6GMO6SAPDOdErwznRK8MjkZzC8AYiwxH7HMO6SAPDOdErwxH7HMMD+KLC8AYiw/66r8K6SAPDOdErw/AGIsMC7dXC8AYiwy0B2sLzoOPCOdErw0TbLsM50SvDUe8kwznRK8M50SvDOdErwx3+ucIm8y7DOdErwydKtMI50SvDp2bswjnRK8NptCTDFYDFwm4NLsMm8y7DOdErw76u3cI50SvD8ejHwuZ238I50SvDAmw5wznRK8Mm8y7DJvMuwznRK8M50SvDJvMuwwpy8MI50SvDJvMuw+VVzsI50SvDJvMuww==",
          "dtype": "f4"
         },
         "y": {
          "bdata": "Ce/RQHau0sKs3MfCA9Szwn+GusJmqXjBW+mjwrt8DL9mqXjBMAeVwk6mwsJmqXjBicHnwspyo8JDtolAc0BJwtsgscID1LPC2yCxwlMGz8Kb753CrNzHwqzcx8IfphDBrNzHwonB58KJwefCrNzHwqju9MKJwefCKhjqwqnoncL+koPCrNzHwgPUs8Ks3MfCrNzHwgPUs8JDtolArNzHwqzcx8IdG6nCu3wMv4nB58JDtolArNzHwonB58K4MJXCu3wMvyGhhcJDtolArNzHwrt8DL+HKIrCu3wMvw8HssLnOLPArNzHwgnv0UCs3MfCc0BJwqzcx8Ks3MfCrNzHwhS9wsLASP3ArNzHwmwYssKs3MfC+U2Ewazcx8LJGD5BJyCzwixVq8HASP3ArNzHwkyGnMKs3MfCNU6VwomMS8Gs3MfClIT6Pqzcx8LASP3AwEj9wKzcx8Ks3MfCwEj9wEAnGMGs3MfCwEj9wFOcpMKs3MfCwEj9wA==",
          "dtype": "f4"
         }
        },
        {
         "hovertemplate": "<b>%{text}</b><br>Cluster: Cluster 1<extra></extra>",
         "marker": {
          "color": "rgb(255,255,179)",
          "opacity": 0.7,
          "size": 6
         },
         "mode": "markers",
         "name": "Cluster 1",
         "text": [
          " personality",
          " personality",
          " traits",
          " personality",
          " personality",
          " traits",
          " personality",
          " personality",
          " personality",
          " personality",
          " personality",
          " traits",
          " personality",
          " personality",
          " personality",
          " traits"
         ],
         "type": "scatter",
         "x": {
          "bdata": "ZXIkQ6RQHUPiyQpDpFAdQzhLHEPl8AJDj9kgQ48zLUNI5CtDoAcuQzxAJkNUyAdDpFAdQ8txJUOgBy5D4skKQw==",
          "dtype": "f4"
         },
         "y": {
          "bdata": "weAcQiWHVkLwFZhCJYdWQuKVLUK3tZpCchmAQsEnKUJAOnxCoRVRQt+/Y0J0raZCJYdWQvTNPkKhFVFC8BWYQg==",
          "dtype": "f4"
         }
        },
        {
         "hovertemplate": "<b>%{text}</b><br>Cluster: Cluster 2<extra></extra>",
         "marker": {
          "color": "rgb(190,186,218)",
          "opacity": 0.7,
          "size": 6
         },
         "mode": "markers",
         "name": "Cluster 2",
         "text": [
          " can",
          " can",
          " should",
          " should",
          "'ll",
          "'ll",
          " should",
          "'ll",
          "'ll",
          " can",
          "'ll",
          "'ll",
          " can",
          " can",
          "'ll",
          " can",
          " might",
          " could"
         ],
         "type": "scatter",
         "x": {
          "bdata": "MXKIQRW0xUHZRhNChnfwQWgzbULHDIlChnfwQdxcaUKDv4RCFbTFQZO/hEKNp5RC0dD7QVguwEGTv4RCFbTFQZYHNELSZxJC",
          "dtype": "f4"
         },
         "y": {
          "bdata": "dIM1wrAHSMJtD5fCFWGUwkfLlMIe3o7CFWGUwt/Yp8J1nrHCsAdIwo+Yn8LYC6bC4JsuwpdUIsKPmJ/CsAdIwn00VsJjilzC",
          "dtype": "f4"
         }
        },
        {
         "hovertemplate": "<b>%{text}</b><br>Cluster: Cluster 3<extra></extra>",
         "marker": {
          "color": "rgb(251,128,114)",
          "opacity": 0.7,
          "size": 6
         },
         "mode": "markers",
         "name": "Cluster 3",
         "text": [
          " how",
          " how",
          " how",
          " how",
          " how",
          " how",
          " who",
          " who",
          " how",
          " how",
          " how",
          " how",
          " how",
          " how",
          " who",
          " who"
         ],
         "type": "scatter",
         "x": {
          "bdata": "glXEwV6fXcFhiIrB61GcwNdUL8HXVC/BAy4VwgMuFcJV3qTB11QvwWGIisFn6H0+nngEwUrE/b8DLhXCAy4Vwg==",
          "dtype": "f4"
         },
         "y": {
          "bdata": "8Pghw5aNFMN+myjDJy4Ww0ueH8NLnh/DlH8Aw5R/AMONPhrDS54fw36bKMMOxB3DsHQsw1djJsOUfwDDlH8Aww==",
          "dtype": "f4"
         }
        },
        {
         "hovertemplate": "<b>%{text}</b><br>Cluster: Cluster 4<extra></extra>",
         "marker": {
          "color": "rgb(128,177,211)",
          "opacity": 0.7,
          "size": 6
         },
         "mode": "markers",
         "name": "Cluster 4",
         "text": [
          " attachment",
          " attachment",
          " attachment",
          " attachment",
          " attachment",
          " attachment"
         ],
         "type": "scatter",
         "x": {
          "bdata": "54BRQ+eAUUPngFFD54BRQ+eAUUPngFFD",
          "dtype": "f4"
         },
         "y": {
          "bdata": "gYEkQoGBJEKBgSRCgYEkQoGBJEKBgSRC",
          "dtype": "f4"
         }
        },
        {
         "hovertemplate": "<b>%{text}</b><br>Cluster: Cluster 5<extra></extra>",
         "marker": {
          "color": "rgb(253,180,98)",
          "opacity": 0.7,
          "size": 6
         },
         "mode": "markers",
         "name": "Cluster 5",
         "text": [
          " terms",
          "-term",
          " terms",
          "-term",
          "-term",
          "-term",
          " terms",
          " terms",
          " terms",
          " terms",
          " terms",
          " terms",
          " terms",
          " term"
         ],
         "type": "scatter",
         "x": {
          "bdata": "RmjMQl3g8EJGaMxCS9rgQl3g8EJd4PBCRmjMQkZozEJGaMxCRmjMQkZozEJGaMxCRmjMQvga6UI=",
          "dtype": "f4"
         },
         "y": {
          "bdata": "inv+wgNJ0cKKe/7CvSjNwgNJ0cIDSdHCinv+wop7/sKKe/7Cinv+wop7/sKKe/7Cinv+wvDh7MI=",
          "dtype": "f4"
         }
        },
        {
         "hovertemplate": "<b>%{text}</b><br>Cluster: Cluster 6<extra></extra>",
         "marker": {
          "color": "rgb(179,222,105)",
          "opacity": 0.7,
          "size": 6
         },
         "mode": "markers",
         "name": "Cluster 6",
         "text": [
          "<｜begin▁of▁sentence｜>",
          " influences",
          " education",
          " friendships",
          " events",
          " psychological",
          " vs",
          " nurture",
          " affect",
          " behaviors",
          " role",
          " social",
          " resilience",
          " challenges",
          " education",
          " friendships",
          " events",
          " vs",
          " nurture",
          " psychological",
          " resilience",
          " social",
          " resilience",
          " impact",
          " impact",
          " behaviors",
          "-esteem",
          " styles",
          " triggers",
          " dissoci",
          " ties",
          "child",
          "hood",
          " education",
          " friendships",
          " events",
          " influences",
          " importance",
          " parenting",
          " styles",
          " dynamics",
          " affect",
          " relationships",
          " parent",
          " nurturing",
          " versus",
          " teaches",
          " skills",
          " influence",
          " education",
          " schooling",
          " affects",
          " school",
          " affects",
          "-esteem",
          " education",
          " influences",
          " confidence",
          " affect",
          " interactive",
          " vs",
          " classes",
          " friendships",
          " social",
          " interactions",
          " friendships",
          " boost",
          "-esteem",
          " social",
          " skills",
          " anxiety",
          "-esteem",
          " friend",
          " shares",
          " versus"
         ],
         "type": "scatter",
         "x": {
          "bdata": "aVauQt9q3kKb/hJDxYDWQpDb/ELhD9tCGvInQj8RGEMK0KdCko4HQ+u8m0K1wxJC8t4GQ0oUmUKSIRRDnnLlQpDb/EIa8idCPxEYQxmw0UL/bAFDPq/uQfLeBkMhGqpCIRqqQpKOB0O+Bu1CiLo0Q73nBEOi8LtC9hjGQoRYB0PzcedCu7EbQ4gs10KbQf1C32reQm9wiULoc8JCiLo0Qz4Ob0Keo6dCDo3qQtJ60EIuhAxDPqpTQj3EAEMBaB1DR7rNQq8uG0M1jwdDRpO7Qhvm+0L7RrxCldLvQoM0FUPfat5C0jXSQp6jp0LJ5LxCGvInQvPL4EKecuVCS0XgQTDWxUKILNdC8uEBQ5XS70J6lAtCAWgdQ5pqxUKV0u9Cbb7BQuUW30I+qlNC",
          "dtype": "f4"
         },
         "y": {
          "bdata": "ymIXQfYMzUKoTfrBiEtsQp8wFkPxcp1CThgTw4UEt0GhgrFCBWXNQilzgcBcT+FCQ3YlQiOqy0EgEcHB1PdaQp8wFkNOGBPDhQS3QRRymEKWhTVC3ZfcQkN2JULaT+FC2k/hQgVlzUJQrAJCmTuwQj8VcEJhFRxCYTOwwYUst75MPBRB3joJwnPASUITTQ9D9gzNQg7gAkDAQAFBmTuwQrfDOEHbUcBCZoiDQvY+S0Dj97NBdnAOww+Sc8GsabFCPnbZQo3r18F+IhTC8buzQkwkM8KBtcBC/XrIQYgOGcL2DM1CGt8HQttRwEIkeT3CThgTw5ZrAMLU91pCYpDqQu/ULMJzwElC/g9GQf16yEGoP+9CrGmxQvzRy0H9eshBtghYQiTYd8F2cA7D",
          "dtype": "f4"
         }
        },
        {
         "hovertemplate": "<b>%{text}</b><br>Cluster: Cluster 7<extra></extra>",
         "marker": {
          "color": "rgb(252,205,229)",
          "opacity": 0.7,
          "size": 6
         },
         "mode": "markers",
         "name": "Cluster 7",
         "text": [
          "Ex",
          "amine",
          " childhood",
          " shape",
          " development",
          " Discuss",
          " various",
          " including",
          " family",
          " environment",
          " significant",
          " life",
          " Explain",
          " concepts",
          " theory",
          " nature",
          " accessible",
          " Provide",
          " examples",
          " positive",
          " negative",
          " adult",
          " Also",
          " discuss",
          " support",
          " lead",
          " long",
          " despite",
          "Include",
          " following",
          " key",
          " childhood",
          " development",
          " family",
          " environment",
          " significant",
          " life",
          " theory",
          " nature",
          " concepts",
          " positive",
          " negative",
          " support",
          " long",
          " long",
          " long",
          " self",
          "ation",
          "Make",
          " sure",
          " use",
          " correct",
          " context",
          " avoid",
          " repetition",
          " ensure",
          " example",
          " clearly",
          " back",
          " key",
          " Additionally",
          " explain",
          " concepts",
          " accessible",
          " j",
          "argon",
          "To",
          " ensure",
          " proper",
          " formatting",
          " use",
          " bold",
          " key",
          " clear",
          " heading",
          " sections",
          " entire",
          " response",
          " English",
          " structured",
          " clear",
          " sections",
          "Alright",
          " need",
          " examine",
          " childhood",
          " shape",
          " development",
          " user",
          " provided",
          " detailed",
          " outline",
          " several",
          " key",
          " specific",
          " examples",
          " make",
          " sure",
          " use",
          " correctly",
          " explain",
          " concept",
          " simple",
          "First",
          " start",
          " defining",
          " bold",
          " Then",
          " outline",
          " sections",
          " provided",
          " outline",
          " family",
          " environment",
          " significant",
          " life",
          " Each",
          " section",
          " have",
          " heading",
          " discuss",
          " key",
          " bold",
          "For",
          " family",
          " environment",
          " think",
          " home",
          " environment",
          " Maybe",
          " mention",
          " family",
          " include",
          " examples",
          " very",
          " harsh",
          " Also",
          " talk",
          " environment",
          " values",
          "Moving",
          " discuss",
          " environment",
          " create",
          " sense",
          " belonging",
          " self",
          " mention",
          " access",
          " quality",
          " Also",
          " maybe",
          " touch",
          " different",
          " teaching",
          " methods",
          " development",
          " traditional",
          "For",
          " think",
          " shape",
          " Positive",
          " self",
          " while",
          " negative",
          " lead",
          " low",
          " self",
          " Examples",
          " include",
          " doesn",
          "'t"
         ],
         "type": "scatter",
         "x": {
          "bdata": "fmpDQhrMn0IiDxxDvwGmwcOcHUMHhp9CsHlSwjZpmEFa8IPCdmc+Q0Z9acKMLKNC+79kQjkfsb9B8lPBP78dQlSh3r9XvKJC4Lc5QUbP68AC+oO/IHaxQpl2ZEJ7/4tCdErPwcKu+rvgetPCghnbQrioDEKISYfBcq6bQVbtHUPDnB1DWvCDwvhXN0NGfWnCjCyjQkHyU8E/vx1CZFPIv0bP68AC+oO/dErPweB608LgetPC4HrTwtKfu8LUyD/BwYsKQtAnPEB81zG/7UFGwlIrOENiATxCU8vqQtNEEUK7nDRA8cyYwT7FfkJyrptB5i2NQp7oRkI5H7G/VKHevwMXS8GsNrNCAn4gQqMgEkLUddVCTOalQnzXMb+xDLBCcq6bQRdU4sEsw3NCtTy1QV3Ag0Lkh5tC6BMnQm18nkEXVOLBtTy1QTXKuEJ5cphB0B6LQlFEF0O/AabBw5wdQ9SngEIOqOvBvtWXQrOqXkIh5F3Ccq6bQfjQ3MHgtzlBTbPtQdAnPEB81zG/w49Cwj4LRUKAuinBI42kweJwPEKYoOFB3g2CQphzp0Jku0RCs6loQrU8tUEOqOvBs6loQlrwg8LN/UBDRn1pwowso0KLhmLBPY5SQVLIvEEsw3NCntyOQnKum0GxDLBCGBsQQlrwg8J2Zz5DoaaYQSSiisIWOUdD19euQqD1PEJa8IPCoanOQeC3OUGMPk9C/RjTQnp+c0IrEXRCgk03Q00RH0G/S7BCntyOQk99QUN8swtCmFOsQqIhyELSn7vCoPU8QipPMcHwGI9CgVF+QqaqrkJVVH1CsfkwwsYzA0MekOw/I8kVQ8iLWkIYGxBCITyOQb8BpsHlPKw+0p+7wv3d6sEC+oO/wq76u0SSUkLSn7vCj/yDQaGpzkGfpCBCPd2iQg==",
          "dtype": "f4"
         },
         "y": {
          "bdata": "F+i9QXo61UD/YCHAyjMPQ1Q5jMJX/kxCY1xOQqE+rEJDdRhDx/g9wXjw3kJp/DRDwyQcQj2di0Lc0MjC5tozQ+b8L0NpfhlCoHQaQccSBMIXLpXB8mgjwUyLmUIbpkFCXj2nQkJ9u0K+bm1CV+T9Qgk1oEK6c0PCw9HdwjDngUBUOYzCQ3UYQ5kx08B48N5Cafw0Q9zQyMLm2jNDoId7QscSBMIXLpXBXj2nQr5ubUK+bm1Cvm5tQkhixkKQXDtCI4fxQXVA6kKJeHnCQlafQixwB8IQO2BCq9U0wDHxWEK8xbBAvKbfQlfXOcLD0d3CMX+PQhZnKUI9nYtC5vwvQwpBk0EOhro/D4mIQInYbULXNXzC41eEQYl4ecIBWRFDw9HdwvCv2kLTGOxC53kSQ3cH2cGDDRjC2qsKwbbJd0Lwr9pC53kSQ3K4gUFuKu7BG68PQiHqEUDKMw9DVDmMwuqyJ8Fv6PjBnLiEwcL9DUMn9mVCw9HdwnkeLUKgdBpB94wCQnVA6kKJeHnCqQ+qQk+3E0KYQYVCCKj5QYARKUGhOSPArEK9Qh3zC0MfQotC5GcUQ+d5EkNv6PjB5GcUQ0N1GEPpVVnAePDeQmn8NEPLuxjAhb4RQy+ylsHTGOxCDWZcQsPR3cIBWRFDwTJeQUN1GEPH+D3Bu4I/QvvnmUID7TnB5N6CQsAMvUJDdRhDHZ6gQqB0GkHUeQfCz8uEQR9bjkLnCFtCwt6HwdRwpMJgKNdBDWZcQq7goMFPxylCXXjNweCT5cBIYsZCwAy9QrmcMUN0HGNB8y+bQtzkjUJ1WcRBuOkzQubtpcEwLDxCIMGPwq1Pu7/BMl5BFjUrQsozD0OnJAzCSGLGQrK8bcIXLpXBQn27QgYai8FIYsZC+bGMQR2eoELX5szBNyWQwg==",
          "dtype": "f4"
         }
        },
        {
         "hovertemplate": "<b>%{text}</b><br>Cluster: Cluster 8<extra></extra>",
         "marker": {
          "color": "rgb(217,217,217)",
          "opacity": 0.7,
          "size": 6
         },
         "mode": "markers",
         "name": "Cluster 8",
         "text": [
          " like",
          " in",
          " of",
          " the",
          " of",
          " it",
          " to",
          " the",
          " on",
          " to",
          " the",
          " in",
          " the",
          " each",
          " to",
          " the",
          " the",
          " in",
          " without",
          " using",
          " for",
          " the",
          " a",
          " for",
          " the",
          " The",
          " be",
          " in",
          " with",
          " so",
          " I",
          " to",
          " The",
          " has",
          " a",
          " with",
          " I",
          " to",
          " these",
          " each",
          " in",
          " I",
          " by",
          " \"",
          "\"",
          " in",
          " I",
          " the",
          " based",
          " on",
          " the",
          " a",
          " within",
          " each",
          " I",
          " each",
          " in",
          " I",
          " about",
          " the",
          " the",
          " of",
          " I",
          " like",
          " a",
          "'s",
          " one",
          "'s",
          " I",
          " about",
          " the",
          " these",
          " on",
          " to",
          " I",
          " The",
          " of",
          " a",
          " a",
          " of",
          " which",
          " I",
          " to",
          " like",
          " on",
          " like",
          " I",
          " about",
          " to",
          " or",
          " a",
          " your",
          " one"
         ],
         "type": "scatter",
         "x": {
          "bdata": "wKmcwtzNZ8LFjkrCUvUkwvhLVMJoisvB92i3wlL1JMI/61nC3duuwhirGML0b2/CGKsYwhm+2sGGF5rCJq7zwX4fD8LczWfCbHn+wRAnPsFMxRbCWlJSwn6SlcJMxRbCUvUkwhlmIkAQu4NB9G9vwmlrFMKw9WrC5PYPwzgfo8KjWYjAqvHlQX6SlcKNkADC5PYPwzgfo8JIeAbCcJvzwfRvb8Lk9g/DeGs2wsdNCcPAxw3D9G9vwv2KGsOlhUHC4A6LwRNqVMJS9STCLKiQwvnHj8K8o6bBFp8aw3u9v8HczWfCFp8awxnRpsKGHTvCUvUkwh9WbMIWnxrDwKmcwpYrpMLuxd3CYgqcwu7F3cLk9g/DGdGmwlpSUsJIeAbC7/47wt3brsIWnxrD3QDJv/hLVMIsqJDCykyowh9WbMKxPDfC5PYPw93brsLAqZzCE2pUwsCpnMIWnxrDGdGmwt3brsKQNarCliukwiDKZ8JiCpzC",
          "dtype": "f4"
         },
         "y": {
          "bdata": "2l8Iw3O0VcKFzq7BJxO9QS+N8cFNZlFBNp7kwScTvUHm/MPCH7YXwqqKTUFcgX3CqopNQauyScGTVBbCs125QbUKBEJztFXCLLGjwknnh8I4xkXCpWO2QWUn60E4xkXCJxO9QU1P80ESakbBXIF9wlDKk8LAEK5A9bGtQsOf5sGc2/lBCq6qwWUn60HUGZDC9bGtQsOf5sFCpXFC+nLGwFyBfcL1sa1Cb2t+wpmwDkLbLgJCXIF9wtwIukK1H1tBzZ+Wwr5JtMInE71B7TieQf4uX8J3yRrB5m6hQu3WRcBztFXC5m6hQsBKrcAkwwNCJxO9QX1VvsHmbqFC2l8Iw0Bjp0EF1r9BTWRVQgXWv0H1sa1CwEqtwKVjtkFCpXFCQp2+wh+2F8LmbqFCkhzIQS+N8cHtOJ5BF33xQX1VvsHKk3U/9bGtQh+2F8LaXwjDvkm0wtpfCMPmbqFCwEqtwB+2F8LMMdXCQGOnQRwTEEJNZFVC",
          "dtype": "f4"
         }
        },
        {
         "hovertemplate": "<b>%{text}</b><br>Cluster: Cluster 9<extra></extra>",
         "marker": {
          "color": "rgb(188,128,189)",
          "opacity": 0.7,
          "size": 6
         },
         "mode": "markers",
         "name": "Cluster 9",
         "text": [
          " experiences",
          " experiences",
          " experiences",
          " experiences",
          " experiences",
          " experiences",
          " experiences",
          " experiences"
         ],
         "type": "scatter",
         "x": {
          "bdata": "Wu0bQ1rtG0Nr8BlDxo8gQxFkJUPGjyBDYMQVQ2DEFUM=",
          "dtype": "f4"
         },
         "y": {
          "bdata": "RhfpQkYX6UIR0wRDYqj8QvGw7EJiqPxCAk74QgJO+EI=",
          "dtype": "f4"
         }
        }
       ],
       "layout": {
        "height": 600,
        "showlegend": true,
        "template": {
         "data": {
          "bar": [
           {
            "error_x": {
             "color": "#2a3f5f"
            },
            "error_y": {
             "color": "#2a3f5f"
            },
            "marker": {
             "line": {
              "color": "#E5ECF6",
              "width": 0.5
             },
             "pattern": {
              "fillmode": "overlay",
              "size": 10,
              "solidity": 0.2
             }
            },
            "type": "bar"
           }
          ],
          "barpolar": [
           {
            "marker": {
             "line": {
              "color": "#E5ECF6",
              "width": 0.5
             },
             "pattern": {
              "fillmode": "overlay",
              "size": 10,
              "solidity": 0.2
             }
            },
            "type": "barpolar"
           }
          ],
          "carpet": [
           {
            "aaxis": {
             "endlinecolor": "#2a3f5f",
             "gridcolor": "white",
             "linecolor": "white",
             "minorgridcolor": "white",
             "startlinecolor": "#2a3f5f"
            },
            "baxis": {
             "endlinecolor": "#2a3f5f",
             "gridcolor": "white",
             "linecolor": "white",
             "minorgridcolor": "white",
             "startlinecolor": "#2a3f5f"
            },
            "type": "carpet"
           }
          ],
          "choropleth": [
           {
            "colorbar": {
             "outlinewidth": 0,
             "ticks": ""
            },
            "type": "choropleth"
           }
          ],
          "contour": [
           {
            "colorbar": {
             "outlinewidth": 0,
             "ticks": ""
            },
            "colorscale": [
             [
              0,
              "#0d0887"
             ],
             [
              0.1111111111111111,
              "#46039f"
             ],
             [
              0.2222222222222222,
              "#7201a8"
             ],
             [
              0.3333333333333333,
              "#9c179e"
             ],
             [
              0.4444444444444444,
              "#bd3786"
             ],
             [
              0.5555555555555556,
              "#d8576b"
             ],
             [
              0.6666666666666666,
              "#ed7953"
             ],
             [
              0.7777777777777778,
              "#fb9f3a"
             ],
             [
              0.8888888888888888,
              "#fdca26"
             ],
             [
              1,
              "#f0f921"
             ]
            ],
            "type": "contour"
           }
          ],
          "contourcarpet": [
           {
            "colorbar": {
             "outlinewidth": 0,
             "ticks": ""
            },
            "type": "contourcarpet"
           }
          ],
          "heatmap": [
           {
            "colorbar": {
             "outlinewidth": 0,
             "ticks": ""
            },
            "colorscale": [
             [
              0,
              "#0d0887"
             ],
             [
              0.1111111111111111,
              "#46039f"
             ],
             [
              0.2222222222222222,
              "#7201a8"
             ],
             [
              0.3333333333333333,
              "#9c179e"
             ],
             [
              0.4444444444444444,
              "#bd3786"
             ],
             [
              0.5555555555555556,
              "#d8576b"
             ],
             [
              0.6666666666666666,
              "#ed7953"
             ],
             [
              0.7777777777777778,
              "#fb9f3a"
             ],
             [
              0.8888888888888888,
              "#fdca26"
             ],
             [
              1,
              "#f0f921"
             ]
            ],
            "type": "heatmap"
           }
          ],
          "histogram": [
           {
            "marker": {
             "pattern": {
              "fillmode": "overlay",
              "size": 10,
              "solidity": 0.2
             }
            },
            "type": "histogram"
           }
          ],
          "histogram2d": [
           {
            "colorbar": {
             "outlinewidth": 0,
             "ticks": ""
            },
            "colorscale": [
             [
              0,
              "#0d0887"
             ],
             [
              0.1111111111111111,
              "#46039f"
             ],
             [
              0.2222222222222222,
              "#7201a8"
             ],
             [
              0.3333333333333333,
              "#9c179e"
             ],
             [
              0.4444444444444444,
              "#bd3786"
             ],
             [
              0.5555555555555556,
              "#d8576b"
             ],
             [
              0.6666666666666666,
              "#ed7953"
             ],
             [
              0.7777777777777778,
              "#fb9f3a"
             ],
             [
              0.8888888888888888,
              "#fdca26"
             ],
             [
              1,
              "#f0f921"
             ]
            ],
            "type": "histogram2d"
           }
          ],
          "histogram2dcontour": [
           {
            "colorbar": {
             "outlinewidth": 0,
             "ticks": ""
            },
            "colorscale": [
             [
              0,
              "#0d0887"
             ],
             [
              0.1111111111111111,
              "#46039f"
             ],
             [
              0.2222222222222222,
              "#7201a8"
             ],
             [
              0.3333333333333333,
              "#9c179e"
             ],
             [
              0.4444444444444444,
              "#bd3786"
             ],
             [
              0.5555555555555556,
              "#d8576b"
             ],
             [
              0.6666666666666666,
              "#ed7953"
             ],
             [
              0.7777777777777778,
              "#fb9f3a"
             ],
             [
              0.8888888888888888,
              "#fdca26"
             ],
             [
              1,
              "#f0f921"
             ]
            ],
            "type": "histogram2dcontour"
           }
          ],
          "mesh3d": [
           {
            "colorbar": {
             "outlinewidth": 0,
             "ticks": ""
            },
            "type": "mesh3d"
           }
          ],
          "parcoords": [
           {
            "line": {
             "colorbar": {
              "outlinewidth": 0,
              "ticks": ""
             }
            },
            "type": "parcoords"
           }
          ],
          "pie": [
           {
            "automargin": true,
            "type": "pie"
           }
          ],
          "scatter": [
           {
            "fillpattern": {
             "fillmode": "overlay",
             "size": 10,
             "solidity": 0.2
            },
            "type": "scatter"
           }
          ],
          "scatter3d": [
           {
            "line": {
             "colorbar": {
              "outlinewidth": 0,
              "ticks": ""
             }
            },
            "marker": {
             "colorbar": {
              "outlinewidth": 0,
              "ticks": ""
             }
            },
            "type": "scatter3d"
           }
          ],
          "scattercarpet": [
           {
            "marker": {
             "colorbar": {
              "outlinewidth": 0,
              "ticks": ""
             }
            },
            "type": "scattercarpet"
           }
          ],
          "scattergeo": [
           {
            "marker": {
             "colorbar": {
              "outlinewidth": 0,
              "ticks": ""
             }
            },
            "type": "scattergeo"
           }
          ],
          "scattergl": [
           {
            "marker": {
             "colorbar": {
              "outlinewidth": 0,
              "ticks": ""
             }
            },
            "type": "scattergl"
           }
          ],
          "scattermap": [
           {
            "marker": {
             "colorbar": {
              "outlinewidth": 0,
              "ticks": ""
             }
            },
            "type": "scattermap"
           }
          ],
          "scattermapbox": [
           {
            "marker": {
             "colorbar": {
              "outlinewidth": 0,
              "ticks": ""
             }
            },
            "type": "scattermapbox"
           }
          ],
          "scatterpolar": [
           {
            "marker": {
             "colorbar": {
              "outlinewidth": 0,
              "ticks": ""
             }
            },
            "type": "scatterpolar"
           }
          ],
          "scatterpolargl": [
           {
            "marker": {
             "colorbar": {
              "outlinewidth": 0,
              "ticks": ""
             }
            },
            "type": "scatterpolargl"
           }
          ],
          "scatterternary": [
           {
            "marker": {
             "colorbar": {
              "outlinewidth": 0,
              "ticks": ""
             }
            },
            "type": "scatterternary"
           }
          ],
          "surface": [
           {
            "colorbar": {
             "outlinewidth": 0,
             "ticks": ""
            },
            "colorscale": [
             [
              0,
              "#0d0887"
             ],
             [
              0.1111111111111111,
              "#46039f"
             ],
             [
              0.2222222222222222,
              "#7201a8"
             ],
             [
              0.3333333333333333,
              "#9c179e"
             ],
             [
              0.4444444444444444,
              "#bd3786"
             ],
             [
              0.5555555555555556,
              "#d8576b"
             ],
             [
              0.6666666666666666,
              "#ed7953"
             ],
             [
              0.7777777777777778,
              "#fb9f3a"
             ],
             [
              0.8888888888888888,
              "#fdca26"
             ],
             [
              1,
              "#f0f921"
             ]
            ],
            "type": "surface"
           }
          ],
          "table": [
           {
            "cells": {
             "fill": {
              "color": "#EBF0F8"
             },
             "line": {
              "color": "white"
             }
            },
            "header": {
             "fill": {
              "color": "#C8D4E3"
             },
             "line": {
              "color": "white"
             }
            },
            "type": "table"
           }
          ]
         },
         "layout": {
          "annotationdefaults": {
           "arrowcolor": "#2a3f5f",
           "arrowhead": 0,
           "arrowwidth": 1
          },
          "autotypenumbers": "strict",
          "coloraxis": {
           "colorbar": {
            "outlinewidth": 0,
            "ticks": ""
           }
          },
          "colorscale": {
           "diverging": [
            [
             0,
             "#8e0152"
            ],
            [
             0.1,
             "#c51b7d"
            ],
            [
             0.2,
             "#de77ae"
            ],
            [
             0.3,
             "#f1b6da"
            ],
            [
             0.4,
             "#fde0ef"
            ],
            [
             0.5,
             "#f7f7f7"
            ],
            [
             0.6,
             "#e6f5d0"
            ],
            [
             0.7,
             "#b8e186"
            ],
            [
             0.8,
             "#7fbc41"
            ],
            [
             0.9,
             "#4d9221"
            ],
            [
             1,
             "#276419"
            ]
           ],
           "sequential": [
            [
             0,
             "#0d0887"
            ],
            [
             0.1111111111111111,
             "#46039f"
            ],
            [
             0.2222222222222222,
             "#7201a8"
            ],
            [
             0.3333333333333333,
             "#9c179e"
            ],
            [
             0.4444444444444444,
             "#bd3786"
            ],
            [
             0.5555555555555556,
             "#d8576b"
            ],
            [
             0.6666666666666666,
             "#ed7953"
            ],
            [
             0.7777777777777778,
             "#fb9f3a"
            ],
            [
             0.8888888888888888,
             "#fdca26"
            ],
            [
             1,
             "#f0f921"
            ]
           ],
           "sequentialminus": [
            [
             0,
             "#0d0887"
            ],
            [
             0.1111111111111111,
             "#46039f"
            ],
            [
             0.2222222222222222,
             "#7201a8"
            ],
            [
             0.3333333333333333,
             "#9c179e"
            ],
            [
             0.4444444444444444,
             "#bd3786"
            ],
            [
             0.5555555555555556,
             "#d8576b"
            ],
            [
             0.6666666666666666,
             "#ed7953"
            ],
            [
             0.7777777777777778,
             "#fb9f3a"
            ],
            [
             0.8888888888888888,
             "#fdca26"
            ],
            [
             1,
             "#f0f921"
            ]
           ]
          },
          "colorway": [
           "#636efa",
           "#EF553B",
           "#00cc96",
           "#ab63fa",
           "#FFA15A",
           "#19d3f3",
           "#FF6692",
           "#B6E880",
           "#FF97FF",
           "#FECB52"
          ],
          "font": {
           "color": "#2a3f5f"
          },
          "geo": {
           "bgcolor": "white",
           "lakecolor": "white",
           "landcolor": "#E5ECF6",
           "showlakes": true,
           "showland": true,
           "subunitcolor": "white"
          },
          "hoverlabel": {
           "align": "left"
          },
          "hovermode": "closest",
          "mapbox": {
           "style": "light"
          },
          "paper_bgcolor": "white",
          "plot_bgcolor": "#E5ECF6",
          "polar": {
           "angularaxis": {
            "gridcolor": "white",
            "linecolor": "white",
            "ticks": ""
           },
           "bgcolor": "#E5ECF6",
           "radialaxis": {
            "gridcolor": "white",
            "linecolor": "white",
            "ticks": ""
           }
          },
          "scene": {
           "xaxis": {
            "backgroundcolor": "#E5ECF6",
            "gridcolor": "white",
            "gridwidth": 2,
            "linecolor": "white",
            "showbackground": true,
            "ticks": "",
            "zerolinecolor": "white"
           },
           "yaxis": {
            "backgroundcolor": "#E5ECF6",
            "gridcolor": "white",
            "gridwidth": 2,
            "linecolor": "white",
            "showbackground": true,
            "ticks": "",
            "zerolinecolor": "white"
           },
           "zaxis": {
            "backgroundcolor": "#E5ECF6",
            "gridcolor": "white",
            "gridwidth": 2,
            "linecolor": "white",
            "showbackground": true,
            "ticks": "",
            "zerolinecolor": "white"
           }
          },
          "shapedefaults": {
           "line": {
            "color": "#2a3f5f"
           }
          },
          "ternary": {
           "aaxis": {
            "gridcolor": "white",
            "linecolor": "white",
            "ticks": ""
           },
           "baxis": {
            "gridcolor": "white",
            "linecolor": "white",
            "ticks": ""
           },
           "bgcolor": "#E5ECF6",
           "caxis": {
            "gridcolor": "white",
            "linecolor": "white",
            "ticks": ""
           }
          },
          "title": {
           "x": 0.05
          },
          "xaxis": {
           "automargin": true,
           "gridcolor": "white",
           "linecolor": "white",
           "ticks": "",
           "title": {
            "standoff": 15
           },
           "zerolinecolor": "white",
           "zerolinewidth": 2
          },
          "yaxis": {
           "automargin": true,
           "gridcolor": "white",
           "linecolor": "white",
           "ticks": "",
           "title": {
            "standoff": 15
           },
           "zerolinecolor": "white",
           "zerolinewidth": 2
          }
         }
        },
        "title": {
         "text": "Initial KMeans (n=10) TSNE"
        },
        "width": 800,
        "xaxis": {
         "title": {
          "text": "TSNEReducer 1"
         }
        },
        "yaxis": {
         "title": {
          "text": "TSNEReducer 2"
         }
        }
       }
      }
     },
     "metadata": {},
     "output_type": "display_data"
    },
    {
     "name": "stdout",
     "output_type": "stream",
     "text": [
      "Performing initial clustering on first 512 hidden states...\n",
      "Initial clustering complete. Found 10 clusters.\n",
      "Starting sliding window analysis...\n",
      "Sliding window analysis complete.\n"
     ]
    },
    {
     "data": {
      "application/vnd.plotly.v1+json": {
       "config": {
        "plotlyServerURL": "https://plot.ly"
       },
       "data": [],
       "layout": {
        "height": 500,
        "showlegend": false,
        "template": {
         "data": {
          "bar": [
           {
            "error_x": {
             "color": "#2a3f5f"
            },
            "error_y": {
             "color": "#2a3f5f"
            },
            "marker": {
             "line": {
              "color": "#E5ECF6",
              "width": 0.5
             },
             "pattern": {
              "fillmode": "overlay",
              "size": 10,
              "solidity": 0.2
             }
            },
            "type": "bar"
           }
          ],
          "barpolar": [
           {
            "marker": {
             "line": {
              "color": "#E5ECF6",
              "width": 0.5
             },
             "pattern": {
              "fillmode": "overlay",
              "size": 10,
              "solidity": 0.2
             }
            },
            "type": "barpolar"
           }
          ],
          "carpet": [
           {
            "aaxis": {
             "endlinecolor": "#2a3f5f",
             "gridcolor": "white",
             "linecolor": "white",
             "minorgridcolor": "white",
             "startlinecolor": "#2a3f5f"
            },
            "baxis": {
             "endlinecolor": "#2a3f5f",
             "gridcolor": "white",
             "linecolor": "white",
             "minorgridcolor": "white",
             "startlinecolor": "#2a3f5f"
            },
            "type": "carpet"
           }
          ],
          "choropleth": [
           {
            "colorbar": {
             "outlinewidth": 0,
             "ticks": ""
            },
            "type": "choropleth"
           }
          ],
          "contour": [
           {
            "colorbar": {
             "outlinewidth": 0,
             "ticks": ""
            },
            "colorscale": [
             [
              0,
              "#0d0887"
             ],
             [
              0.1111111111111111,
              "#46039f"
             ],
             [
              0.2222222222222222,
              "#7201a8"
             ],
             [
              0.3333333333333333,
              "#9c179e"
             ],
             [
              0.4444444444444444,
              "#bd3786"
             ],
             [
              0.5555555555555556,
              "#d8576b"
             ],
             [
              0.6666666666666666,
              "#ed7953"
             ],
             [
              0.7777777777777778,
              "#fb9f3a"
             ],
             [
              0.8888888888888888,
              "#fdca26"
             ],
             [
              1,
              "#f0f921"
             ]
            ],
            "type": "contour"
           }
          ],
          "contourcarpet": [
           {
            "colorbar": {
             "outlinewidth": 0,
             "ticks": ""
            },
            "type": "contourcarpet"
           }
          ],
          "heatmap": [
           {
            "colorbar": {
             "outlinewidth": 0,
             "ticks": ""
            },
            "colorscale": [
             [
              0,
              "#0d0887"
             ],
             [
              0.1111111111111111,
              "#46039f"
             ],
             [
              0.2222222222222222,
              "#7201a8"
             ],
             [
              0.3333333333333333,
              "#9c179e"
             ],
             [
              0.4444444444444444,
              "#bd3786"
             ],
             [
              0.5555555555555556,
              "#d8576b"
             ],
             [
              0.6666666666666666,
              "#ed7953"
             ],
             [
              0.7777777777777778,
              "#fb9f3a"
             ],
             [
              0.8888888888888888,
              "#fdca26"
             ],
             [
              1,
              "#f0f921"
             ]
            ],
            "type": "heatmap"
           }
          ],
          "histogram": [
           {
            "marker": {
             "pattern": {
              "fillmode": "overlay",
              "size": 10,
              "solidity": 0.2
             }
            },
            "type": "histogram"
           }
          ],
          "histogram2d": [
           {
            "colorbar": {
             "outlinewidth": 0,
             "ticks": ""
            },
            "colorscale": [
             [
              0,
              "#0d0887"
             ],
             [
              0.1111111111111111,
              "#46039f"
             ],
             [
              0.2222222222222222,
              "#7201a8"
             ],
             [
              0.3333333333333333,
              "#9c179e"
             ],
             [
              0.4444444444444444,
              "#bd3786"
             ],
             [
              0.5555555555555556,
              "#d8576b"
             ],
             [
              0.6666666666666666,
              "#ed7953"
             ],
             [
              0.7777777777777778,
              "#fb9f3a"
             ],
             [
              0.8888888888888888,
              "#fdca26"
             ],
             [
              1,
              "#f0f921"
             ]
            ],
            "type": "histogram2d"
           }
          ],
          "histogram2dcontour": [
           {
            "colorbar": {
             "outlinewidth": 0,
             "ticks": ""
            },
            "colorscale": [
             [
              0,
              "#0d0887"
             ],
             [
              0.1111111111111111,
              "#46039f"
             ],
             [
              0.2222222222222222,
              "#7201a8"
             ],
             [
              0.3333333333333333,
              "#9c179e"
             ],
             [
              0.4444444444444444,
              "#bd3786"
             ],
             [
              0.5555555555555556,
              "#d8576b"
             ],
             [
              0.6666666666666666,
              "#ed7953"
             ],
             [
              0.7777777777777778,
              "#fb9f3a"
             ],
             [
              0.8888888888888888,
              "#fdca26"
             ],
             [
              1,
              "#f0f921"
             ]
            ],
            "type": "histogram2dcontour"
           }
          ],
          "mesh3d": [
           {
            "colorbar": {
             "outlinewidth": 0,
             "ticks": ""
            },
            "type": "mesh3d"
           }
          ],
          "parcoords": [
           {
            "line": {
             "colorbar": {
              "outlinewidth": 0,
              "ticks": ""
             }
            },
            "type": "parcoords"
           }
          ],
          "pie": [
           {
            "automargin": true,
            "type": "pie"
           }
          ],
          "scatter": [
           {
            "fillpattern": {
             "fillmode": "overlay",
             "size": 10,
             "solidity": 0.2
            },
            "type": "scatter"
           }
          ],
          "scatter3d": [
           {
            "line": {
             "colorbar": {
              "outlinewidth": 0,
              "ticks": ""
             }
            },
            "marker": {
             "colorbar": {
              "outlinewidth": 0,
              "ticks": ""
             }
            },
            "type": "scatter3d"
           }
          ],
          "scattercarpet": [
           {
            "marker": {
             "colorbar": {
              "outlinewidth": 0,
              "ticks": ""
             }
            },
            "type": "scattercarpet"
           }
          ],
          "scattergeo": [
           {
            "marker": {
             "colorbar": {
              "outlinewidth": 0,
              "ticks": ""
             }
            },
            "type": "scattergeo"
           }
          ],
          "scattergl": [
           {
            "marker": {
             "colorbar": {
              "outlinewidth": 0,
              "ticks": ""
             }
            },
            "type": "scattergl"
           }
          ],
          "scattermap": [
           {
            "marker": {
             "colorbar": {
              "outlinewidth": 0,
              "ticks": ""
             }
            },
            "type": "scattermap"
           }
          ],
          "scattermapbox": [
           {
            "marker": {
             "colorbar": {
              "outlinewidth": 0,
              "ticks": ""
             }
            },
            "type": "scattermapbox"
           }
          ],
          "scatterpolar": [
           {
            "marker": {
             "colorbar": {
              "outlinewidth": 0,
              "ticks": ""
             }
            },
            "type": "scatterpolar"
           }
          ],
          "scatterpolargl": [
           {
            "marker": {
             "colorbar": {
              "outlinewidth": 0,
              "ticks": ""
             }
            },
            "type": "scatterpolargl"
           }
          ],
          "scatterternary": [
           {
            "marker": {
             "colorbar": {
              "outlinewidth": 0,
              "ticks": ""
             }
            },
            "type": "scatterternary"
           }
          ],
          "surface": [
           {
            "colorbar": {
             "outlinewidth": 0,
             "ticks": ""
            },
            "colorscale": [
             [
              0,
              "#0d0887"
             ],
             [
              0.1111111111111111,
              "#46039f"
             ],
             [
              0.2222222222222222,
              "#7201a8"
             ],
             [
              0.3333333333333333,
              "#9c179e"
             ],
             [
              0.4444444444444444,
              "#bd3786"
             ],
             [
              0.5555555555555556,
              "#d8576b"
             ],
             [
              0.6666666666666666,
              "#ed7953"
             ],
             [
              0.7777777777777778,
              "#fb9f3a"
             ],
             [
              0.8888888888888888,
              "#fdca26"
             ],
             [
              1,
              "#f0f921"
             ]
            ],
            "type": "surface"
           }
          ],
          "table": [
           {
            "cells": {
             "fill": {
              "color": "#EBF0F8"
             },
             "line": {
              "color": "white"
             }
            },
            "header": {
             "fill": {
              "color": "#C8D4E3"
             },
             "line": {
              "color": "white"
             }
            },
            "type": "table"
           }
          ]
         },
         "layout": {
          "annotationdefaults": {
           "arrowcolor": "#2a3f5f",
           "arrowhead": 0,
           "arrowwidth": 1
          },
          "autotypenumbers": "strict",
          "coloraxis": {
           "colorbar": {
            "outlinewidth": 0,
            "ticks": ""
           }
          },
          "colorscale": {
           "diverging": [
            [
             0,
             "#8e0152"
            ],
            [
             0.1,
             "#c51b7d"
            ],
            [
             0.2,
             "#de77ae"
            ],
            [
             0.3,
             "#f1b6da"
            ],
            [
             0.4,
             "#fde0ef"
            ],
            [
             0.5,
             "#f7f7f7"
            ],
            [
             0.6,
             "#e6f5d0"
            ],
            [
             0.7,
             "#b8e186"
            ],
            [
             0.8,
             "#7fbc41"
            ],
            [
             0.9,
             "#4d9221"
            ],
            [
             1,
             "#276419"
            ]
           ],
           "sequential": [
            [
             0,
             "#0d0887"
            ],
            [
             0.1111111111111111,
             "#46039f"
            ],
            [
             0.2222222222222222,
             "#7201a8"
            ],
            [
             0.3333333333333333,
             "#9c179e"
            ],
            [
             0.4444444444444444,
             "#bd3786"
            ],
            [
             0.5555555555555556,
             "#d8576b"
            ],
            [
             0.6666666666666666,
             "#ed7953"
            ],
            [
             0.7777777777777778,
             "#fb9f3a"
            ],
            [
             0.8888888888888888,
             "#fdca26"
            ],
            [
             1,
             "#f0f921"
            ]
           ],
           "sequentialminus": [
            [
             0,
             "#0d0887"
            ],
            [
             0.1111111111111111,
             "#46039f"
            ],
            [
             0.2222222222222222,
             "#7201a8"
            ],
            [
             0.3333333333333333,
             "#9c179e"
            ],
            [
             0.4444444444444444,
             "#bd3786"
            ],
            [
             0.5555555555555556,
             "#d8576b"
            ],
            [
             0.6666666666666666,
             "#ed7953"
            ],
            [
             0.7777777777777778,
             "#fb9f3a"
            ],
            [
             0.8888888888888888,
             "#fdca26"
            ],
            [
             1,
             "#f0f921"
            ]
           ]
          },
          "colorway": [
           "#636efa",
           "#EF553B",
           "#00cc96",
           "#ab63fa",
           "#FFA15A",
           "#19d3f3",
           "#FF6692",
           "#B6E880",
           "#FF97FF",
           "#FECB52"
          ],
          "font": {
           "color": "#2a3f5f"
          },
          "geo": {
           "bgcolor": "white",
           "lakecolor": "white",
           "landcolor": "#E5ECF6",
           "showlakes": true,
           "showland": true,
           "subunitcolor": "white"
          },
          "hoverlabel": {
           "align": "left"
          },
          "hovermode": "closest",
          "mapbox": {
           "style": "light"
          },
          "paper_bgcolor": "white",
          "plot_bgcolor": "#E5ECF6",
          "polar": {
           "angularaxis": {
            "gridcolor": "white",
            "linecolor": "white",
            "ticks": ""
           },
           "bgcolor": "#E5ECF6",
           "radialaxis": {
            "gridcolor": "white",
            "linecolor": "white",
            "ticks": ""
           }
          },
          "scene": {
           "xaxis": {
            "backgroundcolor": "#E5ECF6",
            "gridcolor": "white",
            "gridwidth": 2,
            "linecolor": "white",
            "showbackground": true,
            "ticks": "",
            "zerolinecolor": "white"
           },
           "yaxis": {
            "backgroundcolor": "#E5ECF6",
            "gridcolor": "white",
            "gridwidth": 2,
            "linecolor": "white",
            "showbackground": true,
            "ticks": "",
            "zerolinecolor": "white"
           },
           "zaxis": {
            "backgroundcolor": "#E5ECF6",
            "gridcolor": "white",
            "gridwidth": 2,
            "linecolor": "white",
            "showbackground": true,
            "ticks": "",
            "zerolinecolor": "white"
           }
          },
          "shapedefaults": {
           "line": {
            "color": "#2a3f5f"
           }
          },
          "ternary": {
           "aaxis": {
            "gridcolor": "white",
            "linecolor": "white",
            "ticks": ""
           },
           "baxis": {
            "gridcolor": "white",
            "linecolor": "white",
            "ticks": ""
           },
           "bgcolor": "#E5ECF6",
           "caxis": {
            "gridcolor": "white",
            "linecolor": "white",
            "ticks": ""
           }
          },
          "title": {
           "x": 0.05
          },
          "xaxis": {
           "automargin": true,
           "gridcolor": "white",
           "linecolor": "white",
           "ticks": "",
           "title": {
            "standoff": 15
           },
           "zerolinecolor": "white",
           "zerolinewidth": 2
          },
          "yaxis": {
           "automargin": true,
           "gridcolor": "white",
           "linecolor": "white",
           "ticks": "",
           "title": {
            "standoff": 15
           },
           "zerolinecolor": "white",
           "zerolinewidth": 2
          }
         }
        },
        "title": {
         "text": "Method=kmeans | Cluster=0 | Metric=cosine | Plot=timeline"
        },
        "width": 800,
        "xaxis": {
         "title": {
          "text": "cosine"
         }
        },
        "yaxis": {
         "title": {
          "text": "Window step"
         }
        }
       }
      }
     },
     "metadata": {},
     "output_type": "display_data"
    },
    {
     "data": {
      "application/vnd.plotly.v1+json": {
       "config": {
        "plotlyServerURL": "https://plot.ly"
       },
       "data": [
        {
         "hoverinfo": "x+y",
         "marker": {
          "color": "rgba(31,119,180,0.6)",
          "line": {
           "width": 0
          },
          "opacity": 0.35,
          "size": 6
         },
         "mode": "markers",
         "name": "window_0",
         "type": "scatter",
         "x": [
          0.8687798976898193,
          0.3635427951812744,
          0.8687798380851746
         ],
         "y": [
          0,
          0,
          0
         ]
        },
        {
         "hoverinfo": "x+y",
         "marker": {
          "color": "rgba(31,119,180,0.6)",
          "line": {
           "width": 0
          },
          "opacity": 0.35,
          "size": 6
         },
         "mode": "markers",
         "name": "window_1",
         "type": "scatter",
         "x": [
          0.3635428547859192,
          0.8687797784805298,
          0.8687797784805298,
          0.8687797784805298,
          0.4675080180168152,
          0.8687798976898193,
          0.8687798380851746
         ],
         "y": [
          1,
          1,
          1,
          1,
          1,
          1,
          1
         ]
        },
        {
         "hoverinfo": "x+y",
         "marker": {
          "color": "rgba(31,119,180,0.6)",
          "line": {
           "width": 0
          },
          "opacity": 0.35,
          "size": 6
         },
         "mode": "markers",
         "name": "window_2",
         "type": "scatter",
         "x": [
          0.8687797784805298,
          0.8687797784805298,
          0.4675079584121704,
          0.8687797784805298,
          0.8687797784805298,
          0.8687797784805298,
          0.7207129001617432,
          0.8687797784805298,
          0.7207129001617432
         ],
         "y": [
          2,
          2,
          2,
          2,
          2,
          2,
          2,
          2,
          2
         ]
        },
        {
         "hoverinfo": "x+y",
         "marker": {
          "color": "rgba(31,119,180,0.6)",
          "line": {
           "width": 0
          },
          "opacity": 0.35,
          "size": 6
         },
         "mode": "markers",
         "name": "window_3",
         "type": "scatter",
         "x": [
          0.8687797784805298,
          0.7207129001617432,
          0.8687797784805298,
          0.7207129001617432,
          0.4052819609642029,
          0.4675079584121704,
          0.8687797784805298,
          0.8687797784805298,
          0.7207129001617432
         ],
         "y": [
          3,
          3,
          3,
          3,
          3,
          3,
          3,
          3,
          3
         ]
        },
        {
         "hoverinfo": "x+y",
         "marker": {
          "color": "rgba(31,119,180,0.6)",
          "line": {
           "width": 0
          },
          "opacity": 0.35,
          "size": 6
         },
         "mode": "markers",
         "name": "window_4",
         "type": "scatter",
         "x": [
          0.4052819609642029,
          0.4675079584121704,
          0.8687797784805298,
          0.8687797784805298,
          0.7207129001617432,
          0.4675079584121704,
          0.4675079584121704,
          0.8687797784805298,
          0.8687798976898193,
          0.7207132577896118,
          0.3535480499267578
         ],
         "y": [
          4,
          4,
          4,
          4,
          4,
          4,
          4,
          4,
          4,
          4,
          4
         ]
        },
        {
         "hoverinfo": "x+y",
         "marker": {
          "color": "rgba(31,119,180,0.6)",
          "line": {
           "width": 0
          },
          "opacity": 0.35,
          "size": 6
         },
         "mode": "markers",
         "name": "window_5",
         "type": "scatter",
         "x": [
          0.4675079584121704,
          0.4675079584121704,
          0.8687797784805298,
          0.8687797784805298,
          0.7207129001617432,
          0.3535480499267578,
          0.8687797784805298,
          0.4052819609642029,
          0.7207132577896118,
          0.7207132577896118
         ],
         "y": [
          5,
          5,
          5,
          5,
          5,
          5,
          5,
          5,
          5,
          5
         ]
        },
        {
         "hoverinfo": "x+y",
         "marker": {
          "color": "rgba(31,119,180,0.6)",
          "line": {
           "width": 0
          },
          "opacity": 0.35,
          "size": 6
         },
         "mode": "markers",
         "name": "window_6",
         "type": "scatter",
         "x": [
          0.8687797784805298,
          0.4052819609642029,
          0.7207129001617432,
          0.7207129001617432,
          0.7207132577896118,
          0.3039298355579376,
          0.3535480499267578
         ],
         "y": [
          6,
          6,
          6,
          6,
          6,
          6,
          6
         ]
        },
        {
         "hoverinfo": "x+y",
         "marker": {
          "color": "rgba(31,119,180,0.6)",
          "line": {
           "width": 0
          },
          "opacity": 0.35,
          "size": 6
         },
         "mode": "markers",
         "name": "window_7",
         "type": "scatter",
         "x": [
          0.7207129001617432,
          0.3039299249649048,
          0.3535480499267578,
          0.7207129001617432,
          0.7207129001617432,
          0.7207129001617432,
          0.7207129001617432,
          0.8687797784805298,
          0.7207129001617432
         ],
         "y": [
          7,
          7,
          7,
          7,
          7,
          7,
          7,
          7,
          7
         ]
        },
        {
         "hoverinfo": "x+y",
         "marker": {
          "color": "rgba(31,119,180,0.6)",
          "line": {
           "width": 0
          },
          "opacity": 0.35,
          "size": 6
         },
         "mode": "markers",
         "name": "window_8",
         "type": "scatter",
         "x": [
          0.7207129001617432,
          0.7207129001617432,
          0.7207129001617432,
          0.7207129001617432,
          0.8687797784805298,
          0.7207129001617432,
          0.8687797784805298,
          0.4052819609642029,
          0.3635427951812744,
          0.3635427951812744
         ],
         "y": [
          8,
          8,
          8,
          8,
          8,
          8,
          8,
          8,
          8,
          8
         ]
        },
        {
         "hoverinfo": "x+y",
         "marker": {
          "color": "rgba(31,119,180,0.6)",
          "line": {
           "width": 0
          },
          "opacity": 0.35,
          "size": 6
         },
         "mode": "markers",
         "name": "window_9",
         "type": "scatter",
         "x": [
          0.8687797784805298,
          0.4052819609642029,
          0.3635428547859192,
          0.3635428547859192,
          0.8687797784805298,
          0.4675079584121704,
          0.7207129001617432,
          0.7207129001617432,
          0.27944353222846985,
          0.3535480499267578,
          0.7207129001617432,
          0.3535480499267578
         ],
         "y": [
          9,
          9,
          9,
          9,
          9,
          9,
          9,
          9,
          9,
          9,
          9,
          9
         ]
        },
        {
         "hoverinfo": "x+y",
         "marker": {
          "color": "rgba(31,119,180,0.6)",
          "line": {
           "width": 0
          },
          "opacity": 0.35,
          "size": 6
         },
         "mode": "markers",
         "name": "window_10",
         "type": "scatter",
         "x": [
          0.8687797784805298,
          0.4675079584121704,
          0.7207129001617432,
          0.7207129001617432,
          0.27944353222846985,
          0.3535480499267578,
          0.7207129001617432,
          0.3535480499267578,
          0.7207129001617432,
          0.7207129001617432,
          0.7207129001617432,
          0.7207129001617432,
          0.7207132577896118,
          0.7207132577896118,
          0.7207129001617432
         ],
         "y": [
          10,
          10,
          10,
          10,
          10,
          10,
          10,
          10,
          10,
          10,
          10,
          10,
          10,
          10,
          10
         ]
        },
        {
         "hoverinfo": "x+y",
         "marker": {
          "color": "rgba(31,119,180,0.6)",
          "line": {
           "width": 0
          },
          "opacity": 0.35,
          "size": 6
         },
         "mode": "markers",
         "name": "window_12",
         "type": "scatter",
         "x": [
          0.7207129001617432,
          0.7207129001617432,
          0.7207129001617432,
          0.7207129001617432,
          0.27944353222846985,
          0.7207129001617432,
          0.7207129001617432,
          0.4675079584121704,
          0.8687798380851746
         ],
         "y": [
          12,
          12,
          12,
          12,
          12,
          12,
          12,
          12,
          12
         ]
        },
        {
         "hoverinfo": "x+y",
         "marker": {
          "color": "rgba(31,119,180,0.6)",
          "line": {
           "width": 0
          },
          "opacity": 0.35,
          "size": 6
         },
         "mode": "markers",
         "name": "window_13",
         "type": "scatter",
         "x": [
          0.7207129001617432,
          0.27944353222846985,
          0.7207129001617432,
          0.7207129001617432,
          0.4675079584121704,
          0.8687797784805298,
          0.4675079584121704,
          0.8687797784805298,
          0.4675079584121704,
          0.8687797784805298,
          0.3635428547859192,
          0.4675079584121704,
          0.30218127369880676,
          0.8687798976898193,
          0.2933109998703003
         ],
         "y": [
          13,
          13,
          13,
          13,
          13,
          13,
          13,
          13,
          13,
          13,
          13,
          13,
          13,
          13,
          13
         ]
        },
        {
         "hoverinfo": "x+y",
         "marker": {
          "color": "rgba(31,119,180,0.6)",
          "line": {
           "width": 0
          },
          "opacity": 0.35,
          "size": 6
         },
         "mode": "markers",
         "name": "window_14",
         "type": "scatter",
         "x": [
          0.4675079584121704,
          0.8687797784805298,
          0.4675079584121704,
          0.8687797784805298,
          0.3635428547859192,
          0.4675079584121704,
          0.3021811842918396,
          0.8687797784805298,
          0.2933109998703003,
          0.7207129001617432,
          0.7207129001617432,
          0.7207129001617432
         ],
         "y": [
          14,
          14,
          14,
          14,
          14,
          14,
          14,
          14,
          14,
          14,
          14,
          14
         ]
        },
        {
         "hoverinfo": "x+y",
         "marker": {
          "color": "rgba(31,119,180,0.6)",
          "line": {
           "width": 0
          },
          "opacity": 0.35,
          "size": 6
         },
         "mode": "markers",
         "name": "window_18",
         "type": "scatter",
         "x": [
          0.7207132577896118,
          0.3039298355579376,
          0.7207129001617432
         ],
         "y": [
          18,
          18,
          18
         ]
        },
        {
         "hoverinfo": "x+y",
         "marker": {
          "color": "rgba(31,119,180,0.6)",
          "line": {
           "width": 0
          },
          "opacity": 0.35,
          "size": 6
         },
         "mode": "markers",
         "name": "window_19",
         "type": "scatter",
         "x": [
          0.3039299249649048,
          0.7207129001617432,
          0.7207129001617432,
          0.7207129001617432,
          0.7207132577896118,
          0.7207132577896118,
          0.7207129001617432
         ],
         "y": [
          19,
          19,
          19,
          19,
          19,
          19,
          19
         ]
        },
        {
         "hoverinfo": "x+y",
         "marker": {
          "color": "rgba(31,119,180,0.6)",
          "line": {
           "width": 0
          },
          "opacity": 0.35,
          "size": 6
         },
         "mode": "markers",
         "name": "window_21",
         "type": "scatter",
         "x": [
          0.7207132577896118,
          0.7207132577896118,
          0.27944353222846985
         ],
         "y": [
          21,
          21,
          21
         ]
        },
        {
         "hoverinfo": "x+y",
         "marker": {
          "color": "rgba(31,119,180,0.6)",
          "line": {
           "width": 0
          },
          "opacity": 0.35,
          "size": 6
         },
         "mode": "markers",
         "name": "window_22",
         "type": "scatter",
         "x": [
          0.7207129001617432,
          0.27944353222846985,
          0.8687797784805298,
          0.30560964345932007,
          0.27944356203079224,
          0.7207132577896118,
          0.7207129001617432
         ],
         "y": [
          22,
          22,
          22,
          22,
          22,
          22,
          22
         ]
        },
        {
         "hoverinfo": "x+y",
         "marker": {
          "color": "rgba(31,119,180,0.6)",
          "line": {
           "width": 0
          },
          "opacity": 0.35,
          "size": 6
         },
         "mode": "markers",
         "name": "window_23",
         "type": "scatter",
         "x": [
          0.8687797784805298,
          0.30560964345932007,
          0.27944353222846985,
          0.7207129001617432,
          0.7207132577896118,
          0.7207132577896118
         ],
         "y": [
          23,
          23,
          23,
          23,
          23,
          23
         ]
        },
        {
         "hoverinfo": "x+y",
         "marker": {
          "color": "rgba(31,119,180,0.6)",
          "line": {
           "width": 0
          },
          "opacity": 0.35,
          "size": 6
         },
         "mode": "markers",
         "name": "window_26",
         "type": "scatter",
         "x": [
          0.7207129001617432,
          0.7207129001617432,
          0.4052819609642029,
          0.7207129001617432
         ],
         "y": [
          26,
          26,
          26,
          26
         ]
        }
       ],
       "layout": {
        "height": 500,
        "showlegend": false,
        "template": {
         "data": {
          "bar": [
           {
            "error_x": {
             "color": "#2a3f5f"
            },
            "error_y": {
             "color": "#2a3f5f"
            },
            "marker": {
             "line": {
              "color": "#E5ECF6",
              "width": 0.5
             },
             "pattern": {
              "fillmode": "overlay",
              "size": 10,
              "solidity": 0.2
             }
            },
            "type": "bar"
           }
          ],
          "barpolar": [
           {
            "marker": {
             "line": {
              "color": "#E5ECF6",
              "width": 0.5
             },
             "pattern": {
              "fillmode": "overlay",
              "size": 10,
              "solidity": 0.2
             }
            },
            "type": "barpolar"
           }
          ],
          "carpet": [
           {
            "aaxis": {
             "endlinecolor": "#2a3f5f",
             "gridcolor": "white",
             "linecolor": "white",
             "minorgridcolor": "white",
             "startlinecolor": "#2a3f5f"
            },
            "baxis": {
             "endlinecolor": "#2a3f5f",
             "gridcolor": "white",
             "linecolor": "white",
             "minorgridcolor": "white",
             "startlinecolor": "#2a3f5f"
            },
            "type": "carpet"
           }
          ],
          "choropleth": [
           {
            "colorbar": {
             "outlinewidth": 0,
             "ticks": ""
            },
            "type": "choropleth"
           }
          ],
          "contour": [
           {
            "colorbar": {
             "outlinewidth": 0,
             "ticks": ""
            },
            "colorscale": [
             [
              0,
              "#0d0887"
             ],
             [
              0.1111111111111111,
              "#46039f"
             ],
             [
              0.2222222222222222,
              "#7201a8"
             ],
             [
              0.3333333333333333,
              "#9c179e"
             ],
             [
              0.4444444444444444,
              "#bd3786"
             ],
             [
              0.5555555555555556,
              "#d8576b"
             ],
             [
              0.6666666666666666,
              "#ed7953"
             ],
             [
              0.7777777777777778,
              "#fb9f3a"
             ],
             [
              0.8888888888888888,
              "#fdca26"
             ],
             [
              1,
              "#f0f921"
             ]
            ],
            "type": "contour"
           }
          ],
          "contourcarpet": [
           {
            "colorbar": {
             "outlinewidth": 0,
             "ticks": ""
            },
            "type": "contourcarpet"
           }
          ],
          "heatmap": [
           {
            "colorbar": {
             "outlinewidth": 0,
             "ticks": ""
            },
            "colorscale": [
             [
              0,
              "#0d0887"
             ],
             [
              0.1111111111111111,
              "#46039f"
             ],
             [
              0.2222222222222222,
              "#7201a8"
             ],
             [
              0.3333333333333333,
              "#9c179e"
             ],
             [
              0.4444444444444444,
              "#bd3786"
             ],
             [
              0.5555555555555556,
              "#d8576b"
             ],
             [
              0.6666666666666666,
              "#ed7953"
             ],
             [
              0.7777777777777778,
              "#fb9f3a"
             ],
             [
              0.8888888888888888,
              "#fdca26"
             ],
             [
              1,
              "#f0f921"
             ]
            ],
            "type": "heatmap"
           }
          ],
          "histogram": [
           {
            "marker": {
             "pattern": {
              "fillmode": "overlay",
              "size": 10,
              "solidity": 0.2
             }
            },
            "type": "histogram"
           }
          ],
          "histogram2d": [
           {
            "colorbar": {
             "outlinewidth": 0,
             "ticks": ""
            },
            "colorscale": [
             [
              0,
              "#0d0887"
             ],
             [
              0.1111111111111111,
              "#46039f"
             ],
             [
              0.2222222222222222,
              "#7201a8"
             ],
             [
              0.3333333333333333,
              "#9c179e"
             ],
             [
              0.4444444444444444,
              "#bd3786"
             ],
             [
              0.5555555555555556,
              "#d8576b"
             ],
             [
              0.6666666666666666,
              "#ed7953"
             ],
             [
              0.7777777777777778,
              "#fb9f3a"
             ],
             [
              0.8888888888888888,
              "#fdca26"
             ],
             [
              1,
              "#f0f921"
             ]
            ],
            "type": "histogram2d"
           }
          ],
          "histogram2dcontour": [
           {
            "colorbar": {
             "outlinewidth": 0,
             "ticks": ""
            },
            "colorscale": [
             [
              0,
              "#0d0887"
             ],
             [
              0.1111111111111111,
              "#46039f"
             ],
             [
              0.2222222222222222,
              "#7201a8"
             ],
             [
              0.3333333333333333,
              "#9c179e"
             ],
             [
              0.4444444444444444,
              "#bd3786"
             ],
             [
              0.5555555555555556,
              "#d8576b"
             ],
             [
              0.6666666666666666,
              "#ed7953"
             ],
             [
              0.7777777777777778,
              "#fb9f3a"
             ],
             [
              0.8888888888888888,
              "#fdca26"
             ],
             [
              1,
              "#f0f921"
             ]
            ],
            "type": "histogram2dcontour"
           }
          ],
          "mesh3d": [
           {
            "colorbar": {
             "outlinewidth": 0,
             "ticks": ""
            },
            "type": "mesh3d"
           }
          ],
          "parcoords": [
           {
            "line": {
             "colorbar": {
              "outlinewidth": 0,
              "ticks": ""
             }
            },
            "type": "parcoords"
           }
          ],
          "pie": [
           {
            "automargin": true,
            "type": "pie"
           }
          ],
          "scatter": [
           {
            "fillpattern": {
             "fillmode": "overlay",
             "size": 10,
             "solidity": 0.2
            },
            "type": "scatter"
           }
          ],
          "scatter3d": [
           {
            "line": {
             "colorbar": {
              "outlinewidth": 0,
              "ticks": ""
             }
            },
            "marker": {
             "colorbar": {
              "outlinewidth": 0,
              "ticks": ""
             }
            },
            "type": "scatter3d"
           }
          ],
          "scattercarpet": [
           {
            "marker": {
             "colorbar": {
              "outlinewidth": 0,
              "ticks": ""
             }
            },
            "type": "scattercarpet"
           }
          ],
          "scattergeo": [
           {
            "marker": {
             "colorbar": {
              "outlinewidth": 0,
              "ticks": ""
             }
            },
            "type": "scattergeo"
           }
          ],
          "scattergl": [
           {
            "marker": {
             "colorbar": {
              "outlinewidth": 0,
              "ticks": ""
             }
            },
            "type": "scattergl"
           }
          ],
          "scattermap": [
           {
            "marker": {
             "colorbar": {
              "outlinewidth": 0,
              "ticks": ""
             }
            },
            "type": "scattermap"
           }
          ],
          "scattermapbox": [
           {
            "marker": {
             "colorbar": {
              "outlinewidth": 0,
              "ticks": ""
             }
            },
            "type": "scattermapbox"
           }
          ],
          "scatterpolar": [
           {
            "marker": {
             "colorbar": {
              "outlinewidth": 0,
              "ticks": ""
             }
            },
            "type": "scatterpolar"
           }
          ],
          "scatterpolargl": [
           {
            "marker": {
             "colorbar": {
              "outlinewidth": 0,
              "ticks": ""
             }
            },
            "type": "scatterpolargl"
           }
          ],
          "scatterternary": [
           {
            "marker": {
             "colorbar": {
              "outlinewidth": 0,
              "ticks": ""
             }
            },
            "type": "scatterternary"
           }
          ],
          "surface": [
           {
            "colorbar": {
             "outlinewidth": 0,
             "ticks": ""
            },
            "colorscale": [
             [
              0,
              "#0d0887"
             ],
             [
              0.1111111111111111,
              "#46039f"
             ],
             [
              0.2222222222222222,
              "#7201a8"
             ],
             [
              0.3333333333333333,
              "#9c179e"
             ],
             [
              0.4444444444444444,
              "#bd3786"
             ],
             [
              0.5555555555555556,
              "#d8576b"
             ],
             [
              0.6666666666666666,
              "#ed7953"
             ],
             [
              0.7777777777777778,
              "#fb9f3a"
             ],
             [
              0.8888888888888888,
              "#fdca26"
             ],
             [
              1,
              "#f0f921"
             ]
            ],
            "type": "surface"
           }
          ],
          "table": [
           {
            "cells": {
             "fill": {
              "color": "#EBF0F8"
             },
             "line": {
              "color": "white"
             }
            },
            "header": {
             "fill": {
              "color": "#C8D4E3"
             },
             "line": {
              "color": "white"
             }
            },
            "type": "table"
           }
          ]
         },
         "layout": {
          "annotationdefaults": {
           "arrowcolor": "#2a3f5f",
           "arrowhead": 0,
           "arrowwidth": 1
          },
          "autotypenumbers": "strict",
          "coloraxis": {
           "colorbar": {
            "outlinewidth": 0,
            "ticks": ""
           }
          },
          "colorscale": {
           "diverging": [
            [
             0,
             "#8e0152"
            ],
            [
             0.1,
             "#c51b7d"
            ],
            [
             0.2,
             "#de77ae"
            ],
            [
             0.3,
             "#f1b6da"
            ],
            [
             0.4,
             "#fde0ef"
            ],
            [
             0.5,
             "#f7f7f7"
            ],
            [
             0.6,
             "#e6f5d0"
            ],
            [
             0.7,
             "#b8e186"
            ],
            [
             0.8,
             "#7fbc41"
            ],
            [
             0.9,
             "#4d9221"
            ],
            [
             1,
             "#276419"
            ]
           ],
           "sequential": [
            [
             0,
             "#0d0887"
            ],
            [
             0.1111111111111111,
             "#46039f"
            ],
            [
             0.2222222222222222,
             "#7201a8"
            ],
            [
             0.3333333333333333,
             "#9c179e"
            ],
            [
             0.4444444444444444,
             "#bd3786"
            ],
            [
             0.5555555555555556,
             "#d8576b"
            ],
            [
             0.6666666666666666,
             "#ed7953"
            ],
            [
             0.7777777777777778,
             "#fb9f3a"
            ],
            [
             0.8888888888888888,
             "#fdca26"
            ],
            [
             1,
             "#f0f921"
            ]
           ],
           "sequentialminus": [
            [
             0,
             "#0d0887"
            ],
            [
             0.1111111111111111,
             "#46039f"
            ],
            [
             0.2222222222222222,
             "#7201a8"
            ],
            [
             0.3333333333333333,
             "#9c179e"
            ],
            [
             0.4444444444444444,
             "#bd3786"
            ],
            [
             0.5555555555555556,
             "#d8576b"
            ],
            [
             0.6666666666666666,
             "#ed7953"
            ],
            [
             0.7777777777777778,
             "#fb9f3a"
            ],
            [
             0.8888888888888888,
             "#fdca26"
            ],
            [
             1,
             "#f0f921"
            ]
           ]
          },
          "colorway": [
           "#636efa",
           "#EF553B",
           "#00cc96",
           "#ab63fa",
           "#FFA15A",
           "#19d3f3",
           "#FF6692",
           "#B6E880",
           "#FF97FF",
           "#FECB52"
          ],
          "font": {
           "color": "#2a3f5f"
          },
          "geo": {
           "bgcolor": "white",
           "lakecolor": "white",
           "landcolor": "#E5ECF6",
           "showlakes": true,
           "showland": true,
           "subunitcolor": "white"
          },
          "hoverlabel": {
           "align": "left"
          },
          "hovermode": "closest",
          "mapbox": {
           "style": "light"
          },
          "paper_bgcolor": "white",
          "plot_bgcolor": "#E5ECF6",
          "polar": {
           "angularaxis": {
            "gridcolor": "white",
            "linecolor": "white",
            "ticks": ""
           },
           "bgcolor": "#E5ECF6",
           "radialaxis": {
            "gridcolor": "white",
            "linecolor": "white",
            "ticks": ""
           }
          },
          "scene": {
           "xaxis": {
            "backgroundcolor": "#E5ECF6",
            "gridcolor": "white",
            "gridwidth": 2,
            "linecolor": "white",
            "showbackground": true,
            "ticks": "",
            "zerolinecolor": "white"
           },
           "yaxis": {
            "backgroundcolor": "#E5ECF6",
            "gridcolor": "white",
            "gridwidth": 2,
            "linecolor": "white",
            "showbackground": true,
            "ticks": "",
            "zerolinecolor": "white"
           },
           "zaxis": {
            "backgroundcolor": "#E5ECF6",
            "gridcolor": "white",
            "gridwidth": 2,
            "linecolor": "white",
            "showbackground": true,
            "ticks": "",
            "zerolinecolor": "white"
           }
          },
          "shapedefaults": {
           "line": {
            "color": "#2a3f5f"
           }
          },
          "ternary": {
           "aaxis": {
            "gridcolor": "white",
            "linecolor": "white",
            "ticks": ""
           },
           "baxis": {
            "gridcolor": "white",
            "linecolor": "white",
            "ticks": ""
           },
           "bgcolor": "#E5ECF6",
           "caxis": {
            "gridcolor": "white",
            "linecolor": "white",
            "ticks": ""
           }
          },
          "title": {
           "x": 0.05
          },
          "xaxis": {
           "automargin": true,
           "gridcolor": "white",
           "linecolor": "white",
           "ticks": "",
           "title": {
            "standoff": 15
           },
           "zerolinecolor": "white",
           "zerolinewidth": 2
          },
          "yaxis": {
           "automargin": true,
           "gridcolor": "white",
           "linecolor": "white",
           "ticks": "",
           "title": {
            "standoff": 15
           },
           "zerolinecolor": "white",
           "zerolinewidth": 2
          }
         }
        },
        "title": {
         "text": "Method=kmeans | Cluster=1 | Metric=cosine | Plot=timeline"
        },
        "width": 800,
        "xaxis": {
         "title": {
          "text": "cosine"
         }
        },
        "yaxis": {
         "title": {
          "text": "Window step"
         }
        }
       }
      }
     },
     "metadata": {},
     "output_type": "display_data"
    },
    {
     "data": {
      "application/vnd.plotly.v1+json": {
       "config": {
        "plotlyServerURL": "https://plot.ly"
       },
       "data": [
        {
         "hoverinfo": "x+y",
         "marker": {
          "color": "rgba(31,119,180,0.6)",
          "line": {
           "width": 0
          },
          "opacity": 0.35,
          "size": 6
         },
         "mode": "markers",
         "name": "window_2",
         "type": "scatter",
         "x": [
          0.29223933815956116,
          0.29223933815956116,
          0.5066884756088257,
          0.3297290802001953,
          0.26357439160346985
         ],
         "y": [
          2,
          2,
          2,
          2,
          2
         ]
        },
        {
         "hoverinfo": "x+y",
         "marker": {
          "color": "rgba(31,119,180,0.6)",
          "line": {
           "width": 0
          },
          "opacity": 0.35,
          "size": 6
         },
         "mode": "markers",
         "name": "window_3",
         "type": "scatter",
         "x": [
          0.29223933815956116,
          0.5066884756088257,
          0.3297290802001953,
          0.26357436180114746,
          0.5066884756088257,
          0.29223933815956116,
          0.6977832913398743,
          0.6977832913398743,
          0.5066884756088257,
          0.2601630985736847
         ],
         "y": [
          3,
          3,
          3,
          3,
          3,
          3,
          3,
          3,
          3,
          3
         ]
        },
        {
         "hoverinfo": "x+y",
         "marker": {
          "color": "rgba(31,119,180,0.6)",
          "line": {
           "width": 0
          },
          "opacity": 0.35,
          "size": 6
         },
         "mode": "markers",
         "name": "window_4",
         "type": "scatter",
         "x": [
          0.5066884756088257,
          0.29223933815956116,
          0.6977832913398743,
          0.6977832913398743,
          0.5066884756088257,
          0.2601630389690399,
          0.6977832913398743,
          0.6977832913398743,
          0.6093831062316895,
          0.6977832913398743
         ],
         "y": [
          4,
          4,
          4,
          4,
          4,
          4,
          4,
          4,
          4,
          4
         ]
        },
        {
         "hoverinfo": "x+y",
         "marker": {
          "color": "rgba(31,119,180,0.6)",
          "line": {
           "width": 0
          },
          "opacity": 0.35,
          "size": 6
         },
         "mode": "markers",
         "name": "window_5",
         "type": "scatter",
         "x": [
          0.6977832913398743,
          0.6977832913398743,
          0.6093831658363342,
          0.6977832913398743,
          0.6977832913398743,
          0.6093831062316895,
          0.6093831658363342
         ],
         "y": [
          5,
          5,
          5,
          5,
          5,
          5,
          5
         ]
        },
        {
         "hoverinfo": "x+y",
         "marker": {
          "color": "rgba(31,119,180,0.6)",
          "line": {
           "width": 0
          },
          "opacity": 0.35,
          "size": 6
         },
         "mode": "markers",
         "name": "window_6",
         "type": "scatter",
         "x": [
          0.6977832913398743,
          0.6093831658363342,
          0.6093831658363342,
          0.6977832913398743,
          0.6093831062316895,
          0.37781602144241333,
          0.42894303798675537
         ],
         "y": [
          6,
          6,
          6,
          6,
          6,
          6,
          6
         ]
        },
        {
         "hoverinfo": "x+y",
         "marker": {
          "color": "rgba(31,119,180,0.6)",
          "line": {
           "width": 0
          },
          "opacity": 0.35,
          "size": 6
         },
         "mode": "markers",
         "name": "window_7",
         "type": "scatter",
         "x": [
          0.6977832913398743,
          0.6093831658363342,
          0.3778160810470581,
          0.42894303798675537,
          0.23041389882564545,
          0.6093831658363342,
          0.6093831658363342,
          0.3778160810470581,
          0.3778160810470581
         ],
         "y": [
          7,
          7,
          7,
          7,
          7,
          7,
          7,
          7,
          7
         ]
        },
        {
         "hoverinfo": "x+y",
         "marker": {
          "color": "rgba(31,119,180,0.6)",
          "line": {
           "width": 0
          },
          "opacity": 0.35,
          "size": 6
         },
         "mode": "markers",
         "name": "window_8",
         "type": "scatter",
         "x": [
          0.23041389882564545,
          0.6093831658363342,
          0.6093831658363342,
          0.3778160810470581,
          0.37781602144241333,
          0.32972902059555054,
          0.6093831658363342
         ],
         "y": [
          8,
          8,
          8,
          8,
          8,
          8,
          8
         ]
        },
        {
         "hoverinfo": "x+y",
         "marker": {
          "color": "rgba(31,119,180,0.6)",
          "line": {
           "width": 0
          },
          "opacity": 0.35,
          "size": 6
         },
         "mode": "markers",
         "name": "window_9",
         "type": "scatter",
         "x": [
          0.3297290802001953,
          0.6093831658363342,
          0.6977832913398743,
          0.3297290802001953,
          0.26357439160346985
         ],
         "y": [
          9,
          9,
          9,
          9,
          9
         ]
        },
        {
         "hoverinfo": "x+y",
         "marker": {
          "color": "rgba(31,119,180,0.6)",
          "line": {
           "width": 0
          },
          "opacity": 0.35,
          "size": 6
         },
         "mode": "markers",
         "name": "window_10",
         "type": "scatter",
         "x": [
          0.6977832913398743,
          0.3297290802001953,
          0.26357436180114746,
          0.6093831658363342,
          0.37781602144241333,
          0.4289429187774658,
          0.5066884756088257
         ],
         "y": [
          10,
          10,
          10,
          10,
          10,
          10,
          10
         ]
        },
        {
         "hoverinfo": "x+y",
         "marker": {
          "color": "rgba(31,119,180,0.6)",
          "line": {
           "width": 0
          },
          "opacity": 0.35,
          "size": 6
         },
         "mode": "markers",
         "name": "window_11",
         "type": "scatter",
         "x": [
          0.6093831658363342,
          0.3778160810470581,
          0.42894303798675537,
          0.5066884756088257,
          0.6093831062316895,
          0.5066884756088257
         ],
         "y": [
          11,
          11,
          11,
          11,
          11,
          11
         ]
        },
        {
         "hoverinfo": "x+y",
         "marker": {
          "color": "rgba(31,119,180,0.6)",
          "line": {
           "width": 0
          },
          "opacity": 0.35,
          "size": 6
         },
         "mode": "markers",
         "name": "window_12",
         "type": "scatter",
         "x": [
          0.6093831658363342,
          0.5066884756088257,
          0.42894303798675537,
          0.3778160810470581,
          0.2601630985736847,
          0.32972902059555054
         ],
         "y": [
          12,
          12,
          12,
          12,
          12,
          12
         ]
        },
        {
         "hoverinfo": "x+y",
         "marker": {
          "color": "rgba(31,119,180,0.6)",
          "line": {
           "width": 0
          },
          "opacity": 0.35,
          "size": 6
         },
         "mode": "markers",
         "name": "window_13",
         "type": "scatter",
         "x": [
          0.42894303798675537,
          0.3778160810470581,
          0.2601630389690399,
          0.3297290802001953,
          0.29223933815956116,
          0.6977832913398743
         ],
         "y": [
          13,
          13,
          13,
          13,
          13,
          13
         ]
        },
        {
         "hoverinfo": "x+y",
         "marker": {
          "color": "rgba(31,119,180,0.6)",
          "line": {
           "width": 0
          },
          "opacity": 0.35,
          "size": 6
         },
         "mode": "markers",
         "name": "window_16",
         "type": "scatter",
         "x": [
          0.6093831658363342,
          0.6093831658363342,
          0.6093831658363342,
          0.23041389882564545
         ],
         "y": [
          16,
          16,
          16,
          16
         ]
        },
        {
         "hoverinfo": "x+y",
         "marker": {
          "color": "rgba(31,119,180,0.6)",
          "line": {
           "width": 0
          },
          "opacity": 0.35,
          "size": 6
         },
         "mode": "markers",
         "name": "window_17",
         "type": "scatter",
         "x": [
          0.6093831658363342,
          0.6093831658363342,
          0.23041389882564545,
          0.23041389882564545,
          0.6093831062316895,
          0.6093831062316895
         ],
         "y": [
          17,
          17,
          17,
          17,
          17,
          17
         ]
        },
        {
         "hoverinfo": "x+y",
         "marker": {
          "color": "rgba(31,119,180,0.6)",
          "line": {
           "width": 0
          },
          "opacity": 0.35,
          "size": 6
         },
         "mode": "markers",
         "name": "window_18",
         "type": "scatter",
         "x": [
          0.23041389882564545,
          0.6093831658363342,
          0.6093831658363342,
          0.6093831658363342,
          0.6093831658363342
         ],
         "y": [
          18,
          18,
          18,
          18,
          18
         ]
        },
        {
         "hoverinfo": "x+y",
         "marker": {
          "color": "rgba(31,119,180,0.6)",
          "line": {
           "width": 0
          },
          "opacity": 0.35,
          "size": 6
         },
         "mode": "markers",
         "name": "window_19",
         "type": "scatter",
         "x": [
          0.6093831658363342,
          0.6093831658363342,
          0.6093831658363342,
          0.6093831658363342,
          0.37781602144241333,
          0.6093831062316895
         ],
         "y": [
          19,
          19,
          19,
          19,
          19,
          19
         ]
        },
        {
         "hoverinfo": "x+y",
         "marker": {
          "color": "rgba(31,119,180,0.6)",
          "line": {
           "width": 0
          },
          "opacity": 0.35,
          "size": 6
         },
         "mode": "markers",
         "name": "window_20",
         "type": "scatter",
         "x": [
          0.6093831658363342,
          0.6093831658363342,
          0.3778160810470581,
          0.6093831658363342
         ],
         "y": [
          20,
          20,
          20,
          20
         ]
        },
        {
         "hoverinfo": "x+y",
         "marker": {
          "color": "rgba(31,119,180,0.6)",
          "line": {
           "width": 0
          },
          "opacity": 0.35,
          "size": 6
         },
         "mode": "markers",
         "name": "window_21",
         "type": "scatter",
         "x": [
          0.23041394352912903,
          0.26357436180114746,
          0.37222060561180115
         ],
         "y": [
          21,
          21,
          21
         ]
        },
        {
         "hoverinfo": "x+y",
         "marker": {
          "color": "rgba(31,119,180,0.6)",
          "line": {
           "width": 0
          },
          "opacity": 0.35,
          "size": 6
         },
         "mode": "markers",
         "name": "window_22",
         "type": "scatter",
         "x": [
          0.23041389882564545,
          0.26357436180114746,
          0.37222057580947876,
          0.23041389882564545,
          0.23041394352912903,
          0.3722206652164459,
          0.37222060561180115
         ],
         "y": [
          22,
          22,
          22,
          22,
          22,
          22,
          22
         ]
        },
        {
         "hoverinfo": "x+y",
         "marker": {
          "color": "rgba(31,119,180,0.6)",
          "line": {
           "width": 0
          },
          "opacity": 0.35,
          "size": 6
         },
         "mode": "markers",
         "name": "window_23",
         "type": "scatter",
         "x": [
          0.23041389882564545,
          0.23041389882564545,
          0.37222057580947876,
          0.37222057580947876,
          0.6093831658363342,
          0.6093831658363342,
          0.6093831658363342,
          0.6093831658363342
         ],
         "y": [
          23,
          23,
          23,
          23,
          23,
          23,
          23,
          23
         ]
        },
        {
         "hoverinfo": "x+y",
         "marker": {
          "color": "rgba(31,119,180,0.6)",
          "line": {
           "width": 0
          },
          "opacity": 0.35,
          "size": 6
         },
         "mode": "markers",
         "name": "window_24",
         "type": "scatter",
         "x": [
          0.6093831658363342,
          0.6093831658363342,
          0.6093831658363342,
          0.6093831658363342,
          0.6093831658363342
         ],
         "y": [
          24,
          24,
          24,
          24,
          24
         ]
        }
       ],
       "layout": {
        "height": 500,
        "showlegend": false,
        "template": {
         "data": {
          "bar": [
           {
            "error_x": {
             "color": "#2a3f5f"
            },
            "error_y": {
             "color": "#2a3f5f"
            },
            "marker": {
             "line": {
              "color": "#E5ECF6",
              "width": 0.5
             },
             "pattern": {
              "fillmode": "overlay",
              "size": 10,
              "solidity": 0.2
             }
            },
            "type": "bar"
           }
          ],
          "barpolar": [
           {
            "marker": {
             "line": {
              "color": "#E5ECF6",
              "width": 0.5
             },
             "pattern": {
              "fillmode": "overlay",
              "size": 10,
              "solidity": 0.2
             }
            },
            "type": "barpolar"
           }
          ],
          "carpet": [
           {
            "aaxis": {
             "endlinecolor": "#2a3f5f",
             "gridcolor": "white",
             "linecolor": "white",
             "minorgridcolor": "white",
             "startlinecolor": "#2a3f5f"
            },
            "baxis": {
             "endlinecolor": "#2a3f5f",
             "gridcolor": "white",
             "linecolor": "white",
             "minorgridcolor": "white",
             "startlinecolor": "#2a3f5f"
            },
            "type": "carpet"
           }
          ],
          "choropleth": [
           {
            "colorbar": {
             "outlinewidth": 0,
             "ticks": ""
            },
            "type": "choropleth"
           }
          ],
          "contour": [
           {
            "colorbar": {
             "outlinewidth": 0,
             "ticks": ""
            },
            "colorscale": [
             [
              0,
              "#0d0887"
             ],
             [
              0.1111111111111111,
              "#46039f"
             ],
             [
              0.2222222222222222,
              "#7201a8"
             ],
             [
              0.3333333333333333,
              "#9c179e"
             ],
             [
              0.4444444444444444,
              "#bd3786"
             ],
             [
              0.5555555555555556,
              "#d8576b"
             ],
             [
              0.6666666666666666,
              "#ed7953"
             ],
             [
              0.7777777777777778,
              "#fb9f3a"
             ],
             [
              0.8888888888888888,
              "#fdca26"
             ],
             [
              1,
              "#f0f921"
             ]
            ],
            "type": "contour"
           }
          ],
          "contourcarpet": [
           {
            "colorbar": {
             "outlinewidth": 0,
             "ticks": ""
            },
            "type": "contourcarpet"
           }
          ],
          "heatmap": [
           {
            "colorbar": {
             "outlinewidth": 0,
             "ticks": ""
            },
            "colorscale": [
             [
              0,
              "#0d0887"
             ],
             [
              0.1111111111111111,
              "#46039f"
             ],
             [
              0.2222222222222222,
              "#7201a8"
             ],
             [
              0.3333333333333333,
              "#9c179e"
             ],
             [
              0.4444444444444444,
              "#bd3786"
             ],
             [
              0.5555555555555556,
              "#d8576b"
             ],
             [
              0.6666666666666666,
              "#ed7953"
             ],
             [
              0.7777777777777778,
              "#fb9f3a"
             ],
             [
              0.8888888888888888,
              "#fdca26"
             ],
             [
              1,
              "#f0f921"
             ]
            ],
            "type": "heatmap"
           }
          ],
          "histogram": [
           {
            "marker": {
             "pattern": {
              "fillmode": "overlay",
              "size": 10,
              "solidity": 0.2
             }
            },
            "type": "histogram"
           }
          ],
          "histogram2d": [
           {
            "colorbar": {
             "outlinewidth": 0,
             "ticks": ""
            },
            "colorscale": [
             [
              0,
              "#0d0887"
             ],
             [
              0.1111111111111111,
              "#46039f"
             ],
             [
              0.2222222222222222,
              "#7201a8"
             ],
             [
              0.3333333333333333,
              "#9c179e"
             ],
             [
              0.4444444444444444,
              "#bd3786"
             ],
             [
              0.5555555555555556,
              "#d8576b"
             ],
             [
              0.6666666666666666,
              "#ed7953"
             ],
             [
              0.7777777777777778,
              "#fb9f3a"
             ],
             [
              0.8888888888888888,
              "#fdca26"
             ],
             [
              1,
              "#f0f921"
             ]
            ],
            "type": "histogram2d"
           }
          ],
          "histogram2dcontour": [
           {
            "colorbar": {
             "outlinewidth": 0,
             "ticks": ""
            },
            "colorscale": [
             [
              0,
              "#0d0887"
             ],
             [
              0.1111111111111111,
              "#46039f"
             ],
             [
              0.2222222222222222,
              "#7201a8"
             ],
             [
              0.3333333333333333,
              "#9c179e"
             ],
             [
              0.4444444444444444,
              "#bd3786"
             ],
             [
              0.5555555555555556,
              "#d8576b"
             ],
             [
              0.6666666666666666,
              "#ed7953"
             ],
             [
              0.7777777777777778,
              "#fb9f3a"
             ],
             [
              0.8888888888888888,
              "#fdca26"
             ],
             [
              1,
              "#f0f921"
             ]
            ],
            "type": "histogram2dcontour"
           }
          ],
          "mesh3d": [
           {
            "colorbar": {
             "outlinewidth": 0,
             "ticks": ""
            },
            "type": "mesh3d"
           }
          ],
          "parcoords": [
           {
            "line": {
             "colorbar": {
              "outlinewidth": 0,
              "ticks": ""
             }
            },
            "type": "parcoords"
           }
          ],
          "pie": [
           {
            "automargin": true,
            "type": "pie"
           }
          ],
          "scatter": [
           {
            "fillpattern": {
             "fillmode": "overlay",
             "size": 10,
             "solidity": 0.2
            },
            "type": "scatter"
           }
          ],
          "scatter3d": [
           {
            "line": {
             "colorbar": {
              "outlinewidth": 0,
              "ticks": ""
             }
            },
            "marker": {
             "colorbar": {
              "outlinewidth": 0,
              "ticks": ""
             }
            },
            "type": "scatter3d"
           }
          ],
          "scattercarpet": [
           {
            "marker": {
             "colorbar": {
              "outlinewidth": 0,
              "ticks": ""
             }
            },
            "type": "scattercarpet"
           }
          ],
          "scattergeo": [
           {
            "marker": {
             "colorbar": {
              "outlinewidth": 0,
              "ticks": ""
             }
            },
            "type": "scattergeo"
           }
          ],
          "scattergl": [
           {
            "marker": {
             "colorbar": {
              "outlinewidth": 0,
              "ticks": ""
             }
            },
            "type": "scattergl"
           }
          ],
          "scattermap": [
           {
            "marker": {
             "colorbar": {
              "outlinewidth": 0,
              "ticks": ""
             }
            },
            "type": "scattermap"
           }
          ],
          "scattermapbox": [
           {
            "marker": {
             "colorbar": {
              "outlinewidth": 0,
              "ticks": ""
             }
            },
            "type": "scattermapbox"
           }
          ],
          "scatterpolar": [
           {
            "marker": {
             "colorbar": {
              "outlinewidth": 0,
              "ticks": ""
             }
            },
            "type": "scatterpolar"
           }
          ],
          "scatterpolargl": [
           {
            "marker": {
             "colorbar": {
              "outlinewidth": 0,
              "ticks": ""
             }
            },
            "type": "scatterpolargl"
           }
          ],
          "scatterternary": [
           {
            "marker": {
             "colorbar": {
              "outlinewidth": 0,
              "ticks": ""
             }
            },
            "type": "scatterternary"
           }
          ],
          "surface": [
           {
            "colorbar": {
             "outlinewidth": 0,
             "ticks": ""
            },
            "colorscale": [
             [
              0,
              "#0d0887"
             ],
             [
              0.1111111111111111,
              "#46039f"
             ],
             [
              0.2222222222222222,
              "#7201a8"
             ],
             [
              0.3333333333333333,
              "#9c179e"
             ],
             [
              0.4444444444444444,
              "#bd3786"
             ],
             [
              0.5555555555555556,
              "#d8576b"
             ],
             [
              0.6666666666666666,
              "#ed7953"
             ],
             [
              0.7777777777777778,
              "#fb9f3a"
             ],
             [
              0.8888888888888888,
              "#fdca26"
             ],
             [
              1,
              "#f0f921"
             ]
            ],
            "type": "surface"
           }
          ],
          "table": [
           {
            "cells": {
             "fill": {
              "color": "#EBF0F8"
             },
             "line": {
              "color": "white"
             }
            },
            "header": {
             "fill": {
              "color": "#C8D4E3"
             },
             "line": {
              "color": "white"
             }
            },
            "type": "table"
           }
          ]
         },
         "layout": {
          "annotationdefaults": {
           "arrowcolor": "#2a3f5f",
           "arrowhead": 0,
           "arrowwidth": 1
          },
          "autotypenumbers": "strict",
          "coloraxis": {
           "colorbar": {
            "outlinewidth": 0,
            "ticks": ""
           }
          },
          "colorscale": {
           "diverging": [
            [
             0,
             "#8e0152"
            ],
            [
             0.1,
             "#c51b7d"
            ],
            [
             0.2,
             "#de77ae"
            ],
            [
             0.3,
             "#f1b6da"
            ],
            [
             0.4,
             "#fde0ef"
            ],
            [
             0.5,
             "#f7f7f7"
            ],
            [
             0.6,
             "#e6f5d0"
            ],
            [
             0.7,
             "#b8e186"
            ],
            [
             0.8,
             "#7fbc41"
            ],
            [
             0.9,
             "#4d9221"
            ],
            [
             1,
             "#276419"
            ]
           ],
           "sequential": [
            [
             0,
             "#0d0887"
            ],
            [
             0.1111111111111111,
             "#46039f"
            ],
            [
             0.2222222222222222,
             "#7201a8"
            ],
            [
             0.3333333333333333,
             "#9c179e"
            ],
            [
             0.4444444444444444,
             "#bd3786"
            ],
            [
             0.5555555555555556,
             "#d8576b"
            ],
            [
             0.6666666666666666,
             "#ed7953"
            ],
            [
             0.7777777777777778,
             "#fb9f3a"
            ],
            [
             0.8888888888888888,
             "#fdca26"
            ],
            [
             1,
             "#f0f921"
            ]
           ],
           "sequentialminus": [
            [
             0,
             "#0d0887"
            ],
            [
             0.1111111111111111,
             "#46039f"
            ],
            [
             0.2222222222222222,
             "#7201a8"
            ],
            [
             0.3333333333333333,
             "#9c179e"
            ],
            [
             0.4444444444444444,
             "#bd3786"
            ],
            [
             0.5555555555555556,
             "#d8576b"
            ],
            [
             0.6666666666666666,
             "#ed7953"
            ],
            [
             0.7777777777777778,
             "#fb9f3a"
            ],
            [
             0.8888888888888888,
             "#fdca26"
            ],
            [
             1,
             "#f0f921"
            ]
           ]
          },
          "colorway": [
           "#636efa",
           "#EF553B",
           "#00cc96",
           "#ab63fa",
           "#FFA15A",
           "#19d3f3",
           "#FF6692",
           "#B6E880",
           "#FF97FF",
           "#FECB52"
          ],
          "font": {
           "color": "#2a3f5f"
          },
          "geo": {
           "bgcolor": "white",
           "lakecolor": "white",
           "landcolor": "#E5ECF6",
           "showlakes": true,
           "showland": true,
           "subunitcolor": "white"
          },
          "hoverlabel": {
           "align": "left"
          },
          "hovermode": "closest",
          "mapbox": {
           "style": "light"
          },
          "paper_bgcolor": "white",
          "plot_bgcolor": "#E5ECF6",
          "polar": {
           "angularaxis": {
            "gridcolor": "white",
            "linecolor": "white",
            "ticks": ""
           },
           "bgcolor": "#E5ECF6",
           "radialaxis": {
            "gridcolor": "white",
            "linecolor": "white",
            "ticks": ""
           }
          },
          "scene": {
           "xaxis": {
            "backgroundcolor": "#E5ECF6",
            "gridcolor": "white",
            "gridwidth": 2,
            "linecolor": "white",
            "showbackground": true,
            "ticks": "",
            "zerolinecolor": "white"
           },
           "yaxis": {
            "backgroundcolor": "#E5ECF6",
            "gridcolor": "white",
            "gridwidth": 2,
            "linecolor": "white",
            "showbackground": true,
            "ticks": "",
            "zerolinecolor": "white"
           },
           "zaxis": {
            "backgroundcolor": "#E5ECF6",
            "gridcolor": "white",
            "gridwidth": 2,
            "linecolor": "white",
            "showbackground": true,
            "ticks": "",
            "zerolinecolor": "white"
           }
          },
          "shapedefaults": {
           "line": {
            "color": "#2a3f5f"
           }
          },
          "ternary": {
           "aaxis": {
            "gridcolor": "white",
            "linecolor": "white",
            "ticks": ""
           },
           "baxis": {
            "gridcolor": "white",
            "linecolor": "white",
            "ticks": ""
           },
           "bgcolor": "#E5ECF6",
           "caxis": {
            "gridcolor": "white",
            "linecolor": "white",
            "ticks": ""
           }
          },
          "title": {
           "x": 0.05
          },
          "xaxis": {
           "automargin": true,
           "gridcolor": "white",
           "linecolor": "white",
           "ticks": "",
           "title": {
            "standoff": 15
           },
           "zerolinecolor": "white",
           "zerolinewidth": 2
          },
          "yaxis": {
           "automargin": true,
           "gridcolor": "white",
           "linecolor": "white",
           "ticks": "",
           "title": {
            "standoff": 15
           },
           "zerolinecolor": "white",
           "zerolinewidth": 2
          }
         }
        },
        "title": {
         "text": "Method=kmeans | Cluster=2 | Metric=cosine | Plot=timeline"
        },
        "width": 800,
        "xaxis": {
         "title": {
          "text": "cosine"
         }
        },
        "yaxis": {
         "title": {
          "text": "Window step"
         }
        }
       }
      }
     },
     "metadata": {},
     "output_type": "display_data"
    },
    {
     "data": {
      "application/vnd.plotly.v1+json": {
       "config": {
        "plotlyServerURL": "https://plot.ly"
       },
       "data": [
        {
         "hoverinfo": "x+y",
         "marker": {
          "color": "rgba(31,119,180,0.6)",
          "line": {
           "width": 0
          },
          "opacity": 0.35,
          "size": 6
         },
         "mode": "markers",
         "name": "window_0",
         "type": "scatter",
         "x": [
          0.930057168006897,
          0.930057168006897,
          0.4786008596420288,
          0.930057168006897
         ],
         "y": [
          0,
          0,
          0,
          0
         ]
        },
        {
         "hoverinfo": "x+y",
         "marker": {
          "color": "rgba(31,119,180,0.6)",
          "line": {
           "width": 0
          },
          "opacity": 0.35,
          "size": 6
         },
         "mode": "markers",
         "name": "window_1",
         "type": "scatter",
         "x": [
          0.930057168006897,
          0.930057168006897,
          0.4786008596420288
         ],
         "y": [
          1,
          1,
          1
         ]
        },
        {
         "hoverinfo": "x+y",
         "marker": {
          "color": "rgba(31,119,180,0.6)",
          "line": {
           "width": 0
          },
          "opacity": 0.35,
          "size": 6
         },
         "mode": "markers",
         "name": "window_2",
         "type": "scatter",
         "x": [
          0.930057168006897,
          0.4786009192466736,
          0.930057168006897
         ],
         "y": [
          2,
          2,
          2
         ]
        },
        {
         "hoverinfo": "x+y",
         "marker": {
          "color": "rgba(31,119,180,0.6)",
          "line": {
           "width": 0
          },
          "opacity": 0.35,
          "size": 6
         },
         "mode": "markers",
         "name": "window_5",
         "type": "scatter",
         "x": [
          0.930057168006897,
          0.930057168006897,
          0.930057168006897,
          0.930057168006897,
          0.4786008596420288
         ],
         "y": [
          5,
          5,
          5,
          5,
          5
         ]
        },
        {
         "hoverinfo": "x+y",
         "marker": {
          "color": "rgba(31,119,180,0.6)",
          "line": {
           "width": 0
          },
          "opacity": 0.35,
          "size": 6
         },
         "mode": "markers",
         "name": "window_6",
         "type": "scatter",
         "x": [
          0.930057168006897,
          0.930057168006897,
          0.930057168006897,
          0.4786008596420288,
          0.930057168006897,
          0.930057168006897,
          0.930057168006897,
          0.4786008596420288
         ],
         "y": [
          6,
          6,
          6,
          6,
          6,
          6,
          6,
          6
         ]
        },
        {
         "hoverinfo": "x+y",
         "marker": {
          "color": "rgba(31,119,180,0.6)",
          "line": {
           "width": 0
          },
          "opacity": 0.35,
          "size": 6
         },
         "mode": "markers",
         "name": "window_7",
         "type": "scatter",
         "x": [
          0.930057168006897,
          0.930057168006897,
          0.930057168006897,
          0.4786008596420288,
          0.930057168006897
         ],
         "y": [
          7,
          7,
          7,
          7,
          7
         ]
        },
        {
         "hoverinfo": "x+y",
         "marker": {
          "color": "rgba(31,119,180,0.6)",
          "line": {
           "width": 0
          },
          "opacity": 0.35,
          "size": 6
         },
         "mode": "markers",
         "name": "window_14",
         "type": "scatter",
         "x": [
          0.5792665481567383,
          0.5792665481567383,
          0.930057168006897
         ],
         "y": [
          14,
          14,
          14
         ]
        },
        {
         "hoverinfo": "x+y",
         "marker": {
          "color": "rgba(31,119,180,0.6)",
          "line": {
           "width": 0
          },
          "opacity": 0.35,
          "size": 6
         },
         "mode": "markers",
         "name": "window_15",
         "type": "scatter",
         "x": [
          0.5792663097381592,
          0.5792663097381592,
          0.930057168006897,
          0.5792663097381592
         ],
         "y": [
          15,
          15,
          15,
          15
         ]
        },
        {
         "hoverinfo": "x+y",
         "marker": {
          "color": "rgba(31,119,180,0.6)",
          "line": {
           "width": 0
          },
          "opacity": 0.35,
          "size": 6
         },
         "mode": "markers",
         "name": "window_16",
         "type": "scatter",
         "x": [
          0.5792663097381592,
          0.930057168006897,
          0.4786008596420288,
          0.930057168006897
         ],
         "y": [
          16,
          16,
          16,
          16
         ]
        },
        {
         "hoverinfo": "x+y",
         "marker": {
          "color": "rgba(31,119,180,0.6)",
          "line": {
           "width": 0
          },
          "opacity": 0.35,
          "size": 6
         },
         "mode": "markers",
         "name": "window_17",
         "type": "scatter",
         "x": [
          0.930057168006897,
          0.4786008596420288,
          0.930057168006897,
          0.5792663097381592,
          0.930057168006897
         ],
         "y": [
          17,
          17,
          17,
          17,
          17
         ]
        },
        {
         "hoverinfo": "x+y",
         "marker": {
          "color": "rgba(31,119,180,0.6)",
          "line": {
           "width": 0
          },
          "opacity": 0.35,
          "size": 6
         },
         "mode": "markers",
         "name": "window_18",
         "type": "scatter",
         "x": [
          0.5792663097381592,
          0.930057168006897,
          0.930057168006897,
          0.4786008596420288
         ],
         "y": [
          18,
          18,
          18,
          18
         ]
        },
        {
         "hoverinfo": "x+y",
         "marker": {
          "color": "rgba(31,119,180,0.6)",
          "line": {
           "width": 0
          },
          "opacity": 0.35,
          "size": 6
         },
         "mode": "markers",
         "name": "window_19",
         "type": "scatter",
         "x": [
          0.930057168006897,
          0.4786008596420288,
          0.5792663097381592,
          0.930057168006897
         ],
         "y": [
          19,
          19,
          19,
          19
         ]
        },
        {
         "hoverinfo": "x+y",
         "marker": {
          "color": "rgba(31,119,180,0.6)",
          "line": {
           "width": 0
          },
          "opacity": 0.35,
          "size": 6
         },
         "mode": "markers",
         "name": "window_20",
         "type": "scatter",
         "x": [
          0.5792663097381592,
          0.930057168006897,
          0.930057168006897,
          0.4786008596420288
         ],
         "y": [
          20,
          20,
          20,
          20
         ]
        },
        {
         "hoverinfo": "x+y",
         "marker": {
          "color": "rgba(31,119,180,0.6)",
          "line": {
           "width": 0
          },
          "opacity": 0.35,
          "size": 6
         },
         "mode": "markers",
         "name": "window_22",
         "type": "scatter",
         "x": [
          0.4786009192466736,
          0.930057168006897,
          0.4786008596420288
         ],
         "y": [
          22,
          22,
          22
         ]
        },
        {
         "hoverinfo": "x+y",
         "marker": {
          "color": "rgba(31,119,180,0.6)",
          "line": {
           "width": 0
          },
          "opacity": 0.35,
          "size": 6
         },
         "mode": "markers",
         "name": "window_23",
         "type": "scatter",
         "x": [
          0.4786008596420288,
          0.930057168006897,
          0.4786008596420288,
          0.5792663097381592,
          0.4786009192466736,
          0.4786009192466736
         ],
         "y": [
          23,
          23,
          23,
          23,
          23,
          23
         ]
        },
        {
         "hoverinfo": "x+y",
         "marker": {
          "color": "rgba(31,119,180,0.6)",
          "line": {
           "width": 0
          },
          "opacity": 0.35,
          "size": 6
         },
         "mode": "markers",
         "name": "window_24",
         "type": "scatter",
         "x": [
          0.5792663097381592,
          0.4786008596420288,
          0.4786008596420288,
          0.5792663097381592
         ],
         "y": [
          24,
          24,
          24,
          24
         ]
        },
        {
         "hoverinfo": "x+y",
         "marker": {
          "color": "rgba(31,119,180,0.6)",
          "line": {
           "width": 0
          },
          "opacity": 0.35,
          "size": 6
         },
         "mode": "markers",
         "name": "window_25",
         "type": "scatter",
         "x": [
          0.5792663097381592,
          0.930057168006897,
          0.4786008596420288,
          0.930057168006897
         ],
         "y": [
          25,
          25,
          25,
          25
         ]
        },
        {
         "hoverinfo": "x+y",
         "marker": {
          "color": "rgba(31,119,180,0.6)",
          "line": {
           "width": 0
          },
          "opacity": 0.35,
          "size": 6
         },
         "mode": "markers",
         "name": "window_26",
         "type": "scatter",
         "x": [
          0.930057168006897,
          0.4786008596420288,
          0.930057168006897,
          0.930057168006897
         ],
         "y": [
          26,
          26,
          26,
          26
         ]
        }
       ],
       "layout": {
        "height": 500,
        "showlegend": false,
        "template": {
         "data": {
          "bar": [
           {
            "error_x": {
             "color": "#2a3f5f"
            },
            "error_y": {
             "color": "#2a3f5f"
            },
            "marker": {
             "line": {
              "color": "#E5ECF6",
              "width": 0.5
             },
             "pattern": {
              "fillmode": "overlay",
              "size": 10,
              "solidity": 0.2
             }
            },
            "type": "bar"
           }
          ],
          "barpolar": [
           {
            "marker": {
             "line": {
              "color": "#E5ECF6",
              "width": 0.5
             },
             "pattern": {
              "fillmode": "overlay",
              "size": 10,
              "solidity": 0.2
             }
            },
            "type": "barpolar"
           }
          ],
          "carpet": [
           {
            "aaxis": {
             "endlinecolor": "#2a3f5f",
             "gridcolor": "white",
             "linecolor": "white",
             "minorgridcolor": "white",
             "startlinecolor": "#2a3f5f"
            },
            "baxis": {
             "endlinecolor": "#2a3f5f",
             "gridcolor": "white",
             "linecolor": "white",
             "minorgridcolor": "white",
             "startlinecolor": "#2a3f5f"
            },
            "type": "carpet"
           }
          ],
          "choropleth": [
           {
            "colorbar": {
             "outlinewidth": 0,
             "ticks": ""
            },
            "type": "choropleth"
           }
          ],
          "contour": [
           {
            "colorbar": {
             "outlinewidth": 0,
             "ticks": ""
            },
            "colorscale": [
             [
              0,
              "#0d0887"
             ],
             [
              0.1111111111111111,
              "#46039f"
             ],
             [
              0.2222222222222222,
              "#7201a8"
             ],
             [
              0.3333333333333333,
              "#9c179e"
             ],
             [
              0.4444444444444444,
              "#bd3786"
             ],
             [
              0.5555555555555556,
              "#d8576b"
             ],
             [
              0.6666666666666666,
              "#ed7953"
             ],
             [
              0.7777777777777778,
              "#fb9f3a"
             ],
             [
              0.8888888888888888,
              "#fdca26"
             ],
             [
              1,
              "#f0f921"
             ]
            ],
            "type": "contour"
           }
          ],
          "contourcarpet": [
           {
            "colorbar": {
             "outlinewidth": 0,
             "ticks": ""
            },
            "type": "contourcarpet"
           }
          ],
          "heatmap": [
           {
            "colorbar": {
             "outlinewidth": 0,
             "ticks": ""
            },
            "colorscale": [
             [
              0,
              "#0d0887"
             ],
             [
              0.1111111111111111,
              "#46039f"
             ],
             [
              0.2222222222222222,
              "#7201a8"
             ],
             [
              0.3333333333333333,
              "#9c179e"
             ],
             [
              0.4444444444444444,
              "#bd3786"
             ],
             [
              0.5555555555555556,
              "#d8576b"
             ],
             [
              0.6666666666666666,
              "#ed7953"
             ],
             [
              0.7777777777777778,
              "#fb9f3a"
             ],
             [
              0.8888888888888888,
              "#fdca26"
             ],
             [
              1,
              "#f0f921"
             ]
            ],
            "type": "heatmap"
           }
          ],
          "histogram": [
           {
            "marker": {
             "pattern": {
              "fillmode": "overlay",
              "size": 10,
              "solidity": 0.2
             }
            },
            "type": "histogram"
           }
          ],
          "histogram2d": [
           {
            "colorbar": {
             "outlinewidth": 0,
             "ticks": ""
            },
            "colorscale": [
             [
              0,
              "#0d0887"
             ],
             [
              0.1111111111111111,
              "#46039f"
             ],
             [
              0.2222222222222222,
              "#7201a8"
             ],
             [
              0.3333333333333333,
              "#9c179e"
             ],
             [
              0.4444444444444444,
              "#bd3786"
             ],
             [
              0.5555555555555556,
              "#d8576b"
             ],
             [
              0.6666666666666666,
              "#ed7953"
             ],
             [
              0.7777777777777778,
              "#fb9f3a"
             ],
             [
              0.8888888888888888,
              "#fdca26"
             ],
             [
              1,
              "#f0f921"
             ]
            ],
            "type": "histogram2d"
           }
          ],
          "histogram2dcontour": [
           {
            "colorbar": {
             "outlinewidth": 0,
             "ticks": ""
            },
            "colorscale": [
             [
              0,
              "#0d0887"
             ],
             [
              0.1111111111111111,
              "#46039f"
             ],
             [
              0.2222222222222222,
              "#7201a8"
             ],
             [
              0.3333333333333333,
              "#9c179e"
             ],
             [
              0.4444444444444444,
              "#bd3786"
             ],
             [
              0.5555555555555556,
              "#d8576b"
             ],
             [
              0.6666666666666666,
              "#ed7953"
             ],
             [
              0.7777777777777778,
              "#fb9f3a"
             ],
             [
              0.8888888888888888,
              "#fdca26"
             ],
             [
              1,
              "#f0f921"
             ]
            ],
            "type": "histogram2dcontour"
           }
          ],
          "mesh3d": [
           {
            "colorbar": {
             "outlinewidth": 0,
             "ticks": ""
            },
            "type": "mesh3d"
           }
          ],
          "parcoords": [
           {
            "line": {
             "colorbar": {
              "outlinewidth": 0,
              "ticks": ""
             }
            },
            "type": "parcoords"
           }
          ],
          "pie": [
           {
            "automargin": true,
            "type": "pie"
           }
          ],
          "scatter": [
           {
            "fillpattern": {
             "fillmode": "overlay",
             "size": 10,
             "solidity": 0.2
            },
            "type": "scatter"
           }
          ],
          "scatter3d": [
           {
            "line": {
             "colorbar": {
              "outlinewidth": 0,
              "ticks": ""
             }
            },
            "marker": {
             "colorbar": {
              "outlinewidth": 0,
              "ticks": ""
             }
            },
            "type": "scatter3d"
           }
          ],
          "scattercarpet": [
           {
            "marker": {
             "colorbar": {
              "outlinewidth": 0,
              "ticks": ""
             }
            },
            "type": "scattercarpet"
           }
          ],
          "scattergeo": [
           {
            "marker": {
             "colorbar": {
              "outlinewidth": 0,
              "ticks": ""
             }
            },
            "type": "scattergeo"
           }
          ],
          "scattergl": [
           {
            "marker": {
             "colorbar": {
              "outlinewidth": 0,
              "ticks": ""
             }
            },
            "type": "scattergl"
           }
          ],
          "scattermap": [
           {
            "marker": {
             "colorbar": {
              "outlinewidth": 0,
              "ticks": ""
             }
            },
            "type": "scattermap"
           }
          ],
          "scattermapbox": [
           {
            "marker": {
             "colorbar": {
              "outlinewidth": 0,
              "ticks": ""
             }
            },
            "type": "scattermapbox"
           }
          ],
          "scatterpolar": [
           {
            "marker": {
             "colorbar": {
              "outlinewidth": 0,
              "ticks": ""
             }
            },
            "type": "scatterpolar"
           }
          ],
          "scatterpolargl": [
           {
            "marker": {
             "colorbar": {
              "outlinewidth": 0,
              "ticks": ""
             }
            },
            "type": "scatterpolargl"
           }
          ],
          "scatterternary": [
           {
            "marker": {
             "colorbar": {
              "outlinewidth": 0,
              "ticks": ""
             }
            },
            "type": "scatterternary"
           }
          ],
          "surface": [
           {
            "colorbar": {
             "outlinewidth": 0,
             "ticks": ""
            },
            "colorscale": [
             [
              0,
              "#0d0887"
             ],
             [
              0.1111111111111111,
              "#46039f"
             ],
             [
              0.2222222222222222,
              "#7201a8"
             ],
             [
              0.3333333333333333,
              "#9c179e"
             ],
             [
              0.4444444444444444,
              "#bd3786"
             ],
             [
              0.5555555555555556,
              "#d8576b"
             ],
             [
              0.6666666666666666,
              "#ed7953"
             ],
             [
              0.7777777777777778,
              "#fb9f3a"
             ],
             [
              0.8888888888888888,
              "#fdca26"
             ],
             [
              1,
              "#f0f921"
             ]
            ],
            "type": "surface"
           }
          ],
          "table": [
           {
            "cells": {
             "fill": {
              "color": "#EBF0F8"
             },
             "line": {
              "color": "white"
             }
            },
            "header": {
             "fill": {
              "color": "#C8D4E3"
             },
             "line": {
              "color": "white"
             }
            },
            "type": "table"
           }
          ]
         },
         "layout": {
          "annotationdefaults": {
           "arrowcolor": "#2a3f5f",
           "arrowhead": 0,
           "arrowwidth": 1
          },
          "autotypenumbers": "strict",
          "coloraxis": {
           "colorbar": {
            "outlinewidth": 0,
            "ticks": ""
           }
          },
          "colorscale": {
           "diverging": [
            [
             0,
             "#8e0152"
            ],
            [
             0.1,
             "#c51b7d"
            ],
            [
             0.2,
             "#de77ae"
            ],
            [
             0.3,
             "#f1b6da"
            ],
            [
             0.4,
             "#fde0ef"
            ],
            [
             0.5,
             "#f7f7f7"
            ],
            [
             0.6,
             "#e6f5d0"
            ],
            [
             0.7,
             "#b8e186"
            ],
            [
             0.8,
             "#7fbc41"
            ],
            [
             0.9,
             "#4d9221"
            ],
            [
             1,
             "#276419"
            ]
           ],
           "sequential": [
            [
             0,
             "#0d0887"
            ],
            [
             0.1111111111111111,
             "#46039f"
            ],
            [
             0.2222222222222222,
             "#7201a8"
            ],
            [
             0.3333333333333333,
             "#9c179e"
            ],
            [
             0.4444444444444444,
             "#bd3786"
            ],
            [
             0.5555555555555556,
             "#d8576b"
            ],
            [
             0.6666666666666666,
             "#ed7953"
            ],
            [
             0.7777777777777778,
             "#fb9f3a"
            ],
            [
             0.8888888888888888,
             "#fdca26"
            ],
            [
             1,
             "#f0f921"
            ]
           ],
           "sequentialminus": [
            [
             0,
             "#0d0887"
            ],
            [
             0.1111111111111111,
             "#46039f"
            ],
            [
             0.2222222222222222,
             "#7201a8"
            ],
            [
             0.3333333333333333,
             "#9c179e"
            ],
            [
             0.4444444444444444,
             "#bd3786"
            ],
            [
             0.5555555555555556,
             "#d8576b"
            ],
            [
             0.6666666666666666,
             "#ed7953"
            ],
            [
             0.7777777777777778,
             "#fb9f3a"
            ],
            [
             0.8888888888888888,
             "#fdca26"
            ],
            [
             1,
             "#f0f921"
            ]
           ]
          },
          "colorway": [
           "#636efa",
           "#EF553B",
           "#00cc96",
           "#ab63fa",
           "#FFA15A",
           "#19d3f3",
           "#FF6692",
           "#B6E880",
           "#FF97FF",
           "#FECB52"
          ],
          "font": {
           "color": "#2a3f5f"
          },
          "geo": {
           "bgcolor": "white",
           "lakecolor": "white",
           "landcolor": "#E5ECF6",
           "showlakes": true,
           "showland": true,
           "subunitcolor": "white"
          },
          "hoverlabel": {
           "align": "left"
          },
          "hovermode": "closest",
          "mapbox": {
           "style": "light"
          },
          "paper_bgcolor": "white",
          "plot_bgcolor": "#E5ECF6",
          "polar": {
           "angularaxis": {
            "gridcolor": "white",
            "linecolor": "white",
            "ticks": ""
           },
           "bgcolor": "#E5ECF6",
           "radialaxis": {
            "gridcolor": "white",
            "linecolor": "white",
            "ticks": ""
           }
          },
          "scene": {
           "xaxis": {
            "backgroundcolor": "#E5ECF6",
            "gridcolor": "white",
            "gridwidth": 2,
            "linecolor": "white",
            "showbackground": true,
            "ticks": "",
            "zerolinecolor": "white"
           },
           "yaxis": {
            "backgroundcolor": "#E5ECF6",
            "gridcolor": "white",
            "gridwidth": 2,
            "linecolor": "white",
            "showbackground": true,
            "ticks": "",
            "zerolinecolor": "white"
           },
           "zaxis": {
            "backgroundcolor": "#E5ECF6",
            "gridcolor": "white",
            "gridwidth": 2,
            "linecolor": "white",
            "showbackground": true,
            "ticks": "",
            "zerolinecolor": "white"
           }
          },
          "shapedefaults": {
           "line": {
            "color": "#2a3f5f"
           }
          },
          "ternary": {
           "aaxis": {
            "gridcolor": "white",
            "linecolor": "white",
            "ticks": ""
           },
           "baxis": {
            "gridcolor": "white",
            "linecolor": "white",
            "ticks": ""
           },
           "bgcolor": "#E5ECF6",
           "caxis": {
            "gridcolor": "white",
            "linecolor": "white",
            "ticks": ""
           }
          },
          "title": {
           "x": 0.05
          },
          "xaxis": {
           "automargin": true,
           "gridcolor": "white",
           "linecolor": "white",
           "ticks": "",
           "title": {
            "standoff": 15
           },
           "zerolinecolor": "white",
           "zerolinewidth": 2
          },
          "yaxis": {
           "automargin": true,
           "gridcolor": "white",
           "linecolor": "white",
           "ticks": "",
           "title": {
            "standoff": 15
           },
           "zerolinecolor": "white",
           "zerolinewidth": 2
          }
         }
        },
        "title": {
         "text": "Method=kmeans | Cluster=3 | Metric=cosine | Plot=timeline"
        },
        "width": 800,
        "xaxis": {
         "title": {
          "text": "cosine"
         }
        },
        "yaxis": {
         "title": {
          "text": "Window step"
         }
        }
       }
      }
     },
     "metadata": {},
     "output_type": "display_data"
    },
    {
     "data": {
      "application/vnd.plotly.v1+json": {
       "config": {
        "plotlyServerURL": "https://plot.ly"
       },
       "data": [
        {
         "hoverinfo": "x+y",
         "marker": {
          "color": "rgba(31,119,180,0.6)",
          "line": {
           "width": 0
          },
          "opacity": 0.35,
          "size": 6
         },
         "mode": "markers",
         "name": "window_0",
         "type": "scatter",
         "x": [
          0.9310753345489502,
          0.9310753345489502,
          0.9310750961303711
         ],
         "y": [
          0,
          0,
          0
         ]
        },
        {
         "hoverinfo": "x+y",
         "marker": {
          "color": "rgba(31,119,180,0.6)",
          "line": {
           "width": 0
          },
          "opacity": 0.35,
          "size": 6
         },
         "mode": "markers",
         "name": "window_4",
         "type": "scatter",
         "x": [
          0.9310750961303711,
          0.9310750961303711,
          0.4460992217063904,
          0.4460992217063904
         ],
         "y": [
          4,
          4,
          4,
          4
         ]
        },
        {
         "hoverinfo": "x+y",
         "marker": {
          "color": "rgba(31,119,180,0.6)",
          "line": {
           "width": 0
          },
          "opacity": 0.35,
          "size": 6
         },
         "mode": "markers",
         "name": "window_5",
         "type": "scatter",
         "x": [
          0.9310750961303711,
          0.9310750961303711,
          0.4460992217063904,
          0.4460992217063904,
          0.9310750961303711,
          0.9310750961303711,
          0.9310750961303711,
          0.9310750961303711,
          0.9310750961303711
         ],
         "y": [
          5,
          5,
          5,
          5,
          5,
          5,
          5,
          5,
          5
         ]
        },
        {
         "hoverinfo": "x+y",
         "marker": {
          "color": "rgba(31,119,180,0.6)",
          "line": {
           "width": 0
          },
          "opacity": 0.35,
          "size": 6
         },
         "mode": "markers",
         "name": "window_6",
         "type": "scatter",
         "x": [
          0.9310750961303711,
          0.9310750961303711,
          0.9310750961303711,
          0.9310750961303711,
          0.9310750961303711,
          0.9310750961303711,
          0.4460992217063904,
          0.4460992217063904
         ],
         "y": [
          6,
          6,
          6,
          6,
          6,
          6,
          6,
          6
         ]
        },
        {
         "hoverinfo": "x+y",
         "marker": {
          "color": "rgba(31,119,180,0.6)",
          "line": {
           "width": 0
          },
          "opacity": 0.35,
          "size": 6
         },
         "mode": "markers",
         "name": "window_7",
         "type": "scatter",
         "x": [
          0.9310750961303711,
          0.4460992217063904,
          0.4460992217063904,
          0.9310750961303711
         ],
         "y": [
          7,
          7,
          7,
          7
         ]
        },
        {
         "hoverinfo": "x+y",
         "marker": {
          "color": "rgba(31,119,180,0.6)",
          "line": {
           "width": 0
          },
          "opacity": 0.35,
          "size": 6
         },
         "mode": "markers",
         "name": "window_8",
         "type": "scatter",
         "x": [
          0.9310753345489502,
          0.9310753345489502,
          0.9310750961303711
         ],
         "y": [
          8,
          8,
          8
         ]
        },
        {
         "hoverinfo": "x+y",
         "marker": {
          "color": "rgba(31,119,180,0.6)",
          "line": {
           "width": 0
          },
          "opacity": 0.35,
          "size": 6
         },
         "mode": "markers",
         "name": "window_9",
         "type": "scatter",
         "x": [
          0.9310750961303711,
          0.9310750961303711,
          0.4460992217063904,
          0.4460992217063904,
          0.4460991621017456,
          0.4460991621017456
         ],
         "y": [
          9,
          9,
          9,
          9,
          9,
          9
         ]
        },
        {
         "hoverinfo": "x+y",
         "marker": {
          "color": "rgba(31,119,180,0.6)",
          "line": {
           "width": 0
          },
          "opacity": 0.35,
          "size": 6
         },
         "mode": "markers",
         "name": "window_10",
         "type": "scatter",
         "x": [
          0.4460992217063904,
          0.4460992217063904,
          0.4460992217063904,
          0.4460992217063904,
          0.4460992217063904
         ],
         "y": [
          10,
          10,
          10,
          10,
          10
         ]
        },
        {
         "hoverinfo": "x+y",
         "marker": {
          "color": "rgba(31,119,180,0.6)",
          "line": {
           "width": 0
          },
          "opacity": 0.35,
          "size": 6
         },
         "mode": "markers",
         "name": "window_11",
         "type": "scatter",
         "x": [
          0.4460992217063904,
          0.9310750961303711,
          0.4460992217063904,
          0.9310750961303711,
          0.9310750961303711
         ],
         "y": [
          11,
          11,
          11,
          11,
          11
         ]
        },
        {
         "hoverinfo": "x+y",
         "marker": {
          "color": "rgba(31,119,180,0.6)",
          "line": {
           "width": 0
          },
          "opacity": 0.35,
          "size": 6
         },
         "mode": "markers",
         "name": "window_12",
         "type": "scatter",
         "x": [
          0.9310750961303711,
          0.4460992217063904,
          0.9310750961303711,
          0.9310750961303711,
          0.9310753345489502,
          0.4460991621017456,
          0.4460992217063904
         ],
         "y": [
          12,
          12,
          12,
          12,
          12,
          12,
          12
         ]
        },
        {
         "hoverinfo": "x+y",
         "marker": {
          "color": "rgba(31,119,180,0.6)",
          "line": {
           "width": 0
          },
          "opacity": 0.35,
          "size": 6
         },
         "mode": "markers",
         "name": "window_13",
         "type": "scatter",
         "x": [
          0.9310753345489502,
          0.4460991621017456,
          0.4460992217063904
         ],
         "y": [
          13,
          13,
          13
         ]
        },
        {
         "hoverinfo": "x+y",
         "marker": {
          "color": "rgba(31,119,180,0.6)",
          "line": {
           "width": 0
          },
          "opacity": 0.35,
          "size": 6
         },
         "mode": "markers",
         "name": "window_19",
         "type": "scatter",
         "x": [
          0.4460991621017456,
          0.4460991621017456,
          0.9310750961303711
         ],
         "y": [
          19,
          19,
          19
         ]
        }
       ],
       "layout": {
        "height": 500,
        "showlegend": false,
        "template": {
         "data": {
          "bar": [
           {
            "error_x": {
             "color": "#2a3f5f"
            },
            "error_y": {
             "color": "#2a3f5f"
            },
            "marker": {
             "line": {
              "color": "#E5ECF6",
              "width": 0.5
             },
             "pattern": {
              "fillmode": "overlay",
              "size": 10,
              "solidity": 0.2
             }
            },
            "type": "bar"
           }
          ],
          "barpolar": [
           {
            "marker": {
             "line": {
              "color": "#E5ECF6",
              "width": 0.5
             },
             "pattern": {
              "fillmode": "overlay",
              "size": 10,
              "solidity": 0.2
             }
            },
            "type": "barpolar"
           }
          ],
          "carpet": [
           {
            "aaxis": {
             "endlinecolor": "#2a3f5f",
             "gridcolor": "white",
             "linecolor": "white",
             "minorgridcolor": "white",
             "startlinecolor": "#2a3f5f"
            },
            "baxis": {
             "endlinecolor": "#2a3f5f",
             "gridcolor": "white",
             "linecolor": "white",
             "minorgridcolor": "white",
             "startlinecolor": "#2a3f5f"
            },
            "type": "carpet"
           }
          ],
          "choropleth": [
           {
            "colorbar": {
             "outlinewidth": 0,
             "ticks": ""
            },
            "type": "choropleth"
           }
          ],
          "contour": [
           {
            "colorbar": {
             "outlinewidth": 0,
             "ticks": ""
            },
            "colorscale": [
             [
              0,
              "#0d0887"
             ],
             [
              0.1111111111111111,
              "#46039f"
             ],
             [
              0.2222222222222222,
              "#7201a8"
             ],
             [
              0.3333333333333333,
              "#9c179e"
             ],
             [
              0.4444444444444444,
              "#bd3786"
             ],
             [
              0.5555555555555556,
              "#d8576b"
             ],
             [
              0.6666666666666666,
              "#ed7953"
             ],
             [
              0.7777777777777778,
              "#fb9f3a"
             ],
             [
              0.8888888888888888,
              "#fdca26"
             ],
             [
              1,
              "#f0f921"
             ]
            ],
            "type": "contour"
           }
          ],
          "contourcarpet": [
           {
            "colorbar": {
             "outlinewidth": 0,
             "ticks": ""
            },
            "type": "contourcarpet"
           }
          ],
          "heatmap": [
           {
            "colorbar": {
             "outlinewidth": 0,
             "ticks": ""
            },
            "colorscale": [
             [
              0,
              "#0d0887"
             ],
             [
              0.1111111111111111,
              "#46039f"
             ],
             [
              0.2222222222222222,
              "#7201a8"
             ],
             [
              0.3333333333333333,
              "#9c179e"
             ],
             [
              0.4444444444444444,
              "#bd3786"
             ],
             [
              0.5555555555555556,
              "#d8576b"
             ],
             [
              0.6666666666666666,
              "#ed7953"
             ],
             [
              0.7777777777777778,
              "#fb9f3a"
             ],
             [
              0.8888888888888888,
              "#fdca26"
             ],
             [
              1,
              "#f0f921"
             ]
            ],
            "type": "heatmap"
           }
          ],
          "histogram": [
           {
            "marker": {
             "pattern": {
              "fillmode": "overlay",
              "size": 10,
              "solidity": 0.2
             }
            },
            "type": "histogram"
           }
          ],
          "histogram2d": [
           {
            "colorbar": {
             "outlinewidth": 0,
             "ticks": ""
            },
            "colorscale": [
             [
              0,
              "#0d0887"
             ],
             [
              0.1111111111111111,
              "#46039f"
             ],
             [
              0.2222222222222222,
              "#7201a8"
             ],
             [
              0.3333333333333333,
              "#9c179e"
             ],
             [
              0.4444444444444444,
              "#bd3786"
             ],
             [
              0.5555555555555556,
              "#d8576b"
             ],
             [
              0.6666666666666666,
              "#ed7953"
             ],
             [
              0.7777777777777778,
              "#fb9f3a"
             ],
             [
              0.8888888888888888,
              "#fdca26"
             ],
             [
              1,
              "#f0f921"
             ]
            ],
            "type": "histogram2d"
           }
          ],
          "histogram2dcontour": [
           {
            "colorbar": {
             "outlinewidth": 0,
             "ticks": ""
            },
            "colorscale": [
             [
              0,
              "#0d0887"
             ],
             [
              0.1111111111111111,
              "#46039f"
             ],
             [
              0.2222222222222222,
              "#7201a8"
             ],
             [
              0.3333333333333333,
              "#9c179e"
             ],
             [
              0.4444444444444444,
              "#bd3786"
             ],
             [
              0.5555555555555556,
              "#d8576b"
             ],
             [
              0.6666666666666666,
              "#ed7953"
             ],
             [
              0.7777777777777778,
              "#fb9f3a"
             ],
             [
              0.8888888888888888,
              "#fdca26"
             ],
             [
              1,
              "#f0f921"
             ]
            ],
            "type": "histogram2dcontour"
           }
          ],
          "mesh3d": [
           {
            "colorbar": {
             "outlinewidth": 0,
             "ticks": ""
            },
            "type": "mesh3d"
           }
          ],
          "parcoords": [
           {
            "line": {
             "colorbar": {
              "outlinewidth": 0,
              "ticks": ""
             }
            },
            "type": "parcoords"
           }
          ],
          "pie": [
           {
            "automargin": true,
            "type": "pie"
           }
          ],
          "scatter": [
           {
            "fillpattern": {
             "fillmode": "overlay",
             "size": 10,
             "solidity": 0.2
            },
            "type": "scatter"
           }
          ],
          "scatter3d": [
           {
            "line": {
             "colorbar": {
              "outlinewidth": 0,
              "ticks": ""
             }
            },
            "marker": {
             "colorbar": {
              "outlinewidth": 0,
              "ticks": ""
             }
            },
            "type": "scatter3d"
           }
          ],
          "scattercarpet": [
           {
            "marker": {
             "colorbar": {
              "outlinewidth": 0,
              "ticks": ""
             }
            },
            "type": "scattercarpet"
           }
          ],
          "scattergeo": [
           {
            "marker": {
             "colorbar": {
              "outlinewidth": 0,
              "ticks": ""
             }
            },
            "type": "scattergeo"
           }
          ],
          "scattergl": [
           {
            "marker": {
             "colorbar": {
              "outlinewidth": 0,
              "ticks": ""
             }
            },
            "type": "scattergl"
           }
          ],
          "scattermap": [
           {
            "marker": {
             "colorbar": {
              "outlinewidth": 0,
              "ticks": ""
             }
            },
            "type": "scattermap"
           }
          ],
          "scattermapbox": [
           {
            "marker": {
             "colorbar": {
              "outlinewidth": 0,
              "ticks": ""
             }
            },
            "type": "scattermapbox"
           }
          ],
          "scatterpolar": [
           {
            "marker": {
             "colorbar": {
              "outlinewidth": 0,
              "ticks": ""
             }
            },
            "type": "scatterpolar"
           }
          ],
          "scatterpolargl": [
           {
            "marker": {
             "colorbar": {
              "outlinewidth": 0,
              "ticks": ""
             }
            },
            "type": "scatterpolargl"
           }
          ],
          "scatterternary": [
           {
            "marker": {
             "colorbar": {
              "outlinewidth": 0,
              "ticks": ""
             }
            },
            "type": "scatterternary"
           }
          ],
          "surface": [
           {
            "colorbar": {
             "outlinewidth": 0,
             "ticks": ""
            },
            "colorscale": [
             [
              0,
              "#0d0887"
             ],
             [
              0.1111111111111111,
              "#46039f"
             ],
             [
              0.2222222222222222,
              "#7201a8"
             ],
             [
              0.3333333333333333,
              "#9c179e"
             ],
             [
              0.4444444444444444,
              "#bd3786"
             ],
             [
              0.5555555555555556,
              "#d8576b"
             ],
             [
              0.6666666666666666,
              "#ed7953"
             ],
             [
              0.7777777777777778,
              "#fb9f3a"
             ],
             [
              0.8888888888888888,
              "#fdca26"
             ],
             [
              1,
              "#f0f921"
             ]
            ],
            "type": "surface"
           }
          ],
          "table": [
           {
            "cells": {
             "fill": {
              "color": "#EBF0F8"
             },
             "line": {
              "color": "white"
             }
            },
            "header": {
             "fill": {
              "color": "#C8D4E3"
             },
             "line": {
              "color": "white"
             }
            },
            "type": "table"
           }
          ]
         },
         "layout": {
          "annotationdefaults": {
           "arrowcolor": "#2a3f5f",
           "arrowhead": 0,
           "arrowwidth": 1
          },
          "autotypenumbers": "strict",
          "coloraxis": {
           "colorbar": {
            "outlinewidth": 0,
            "ticks": ""
           }
          },
          "colorscale": {
           "diverging": [
            [
             0,
             "#8e0152"
            ],
            [
             0.1,
             "#c51b7d"
            ],
            [
             0.2,
             "#de77ae"
            ],
            [
             0.3,
             "#f1b6da"
            ],
            [
             0.4,
             "#fde0ef"
            ],
            [
             0.5,
             "#f7f7f7"
            ],
            [
             0.6,
             "#e6f5d0"
            ],
            [
             0.7,
             "#b8e186"
            ],
            [
             0.8,
             "#7fbc41"
            ],
            [
             0.9,
             "#4d9221"
            ],
            [
             1,
             "#276419"
            ]
           ],
           "sequential": [
            [
             0,
             "#0d0887"
            ],
            [
             0.1111111111111111,
             "#46039f"
            ],
            [
             0.2222222222222222,
             "#7201a8"
            ],
            [
             0.3333333333333333,
             "#9c179e"
            ],
            [
             0.4444444444444444,
             "#bd3786"
            ],
            [
             0.5555555555555556,
             "#d8576b"
            ],
            [
             0.6666666666666666,
             "#ed7953"
            ],
            [
             0.7777777777777778,
             "#fb9f3a"
            ],
            [
             0.8888888888888888,
             "#fdca26"
            ],
            [
             1,
             "#f0f921"
            ]
           ],
           "sequentialminus": [
            [
             0,
             "#0d0887"
            ],
            [
             0.1111111111111111,
             "#46039f"
            ],
            [
             0.2222222222222222,
             "#7201a8"
            ],
            [
             0.3333333333333333,
             "#9c179e"
            ],
            [
             0.4444444444444444,
             "#bd3786"
            ],
            [
             0.5555555555555556,
             "#d8576b"
            ],
            [
             0.6666666666666666,
             "#ed7953"
            ],
            [
             0.7777777777777778,
             "#fb9f3a"
            ],
            [
             0.8888888888888888,
             "#fdca26"
            ],
            [
             1,
             "#f0f921"
            ]
           ]
          },
          "colorway": [
           "#636efa",
           "#EF553B",
           "#00cc96",
           "#ab63fa",
           "#FFA15A",
           "#19d3f3",
           "#FF6692",
           "#B6E880",
           "#FF97FF",
           "#FECB52"
          ],
          "font": {
           "color": "#2a3f5f"
          },
          "geo": {
           "bgcolor": "white",
           "lakecolor": "white",
           "landcolor": "#E5ECF6",
           "showlakes": true,
           "showland": true,
           "subunitcolor": "white"
          },
          "hoverlabel": {
           "align": "left"
          },
          "hovermode": "closest",
          "mapbox": {
           "style": "light"
          },
          "paper_bgcolor": "white",
          "plot_bgcolor": "#E5ECF6",
          "polar": {
           "angularaxis": {
            "gridcolor": "white",
            "linecolor": "white",
            "ticks": ""
           },
           "bgcolor": "#E5ECF6",
           "radialaxis": {
            "gridcolor": "white",
            "linecolor": "white",
            "ticks": ""
           }
          },
          "scene": {
           "xaxis": {
            "backgroundcolor": "#E5ECF6",
            "gridcolor": "white",
            "gridwidth": 2,
            "linecolor": "white",
            "showbackground": true,
            "ticks": "",
            "zerolinecolor": "white"
           },
           "yaxis": {
            "backgroundcolor": "#E5ECF6",
            "gridcolor": "white",
            "gridwidth": 2,
            "linecolor": "white",
            "showbackground": true,
            "ticks": "",
            "zerolinecolor": "white"
           },
           "zaxis": {
            "backgroundcolor": "#E5ECF6",
            "gridcolor": "white",
            "gridwidth": 2,
            "linecolor": "white",
            "showbackground": true,
            "ticks": "",
            "zerolinecolor": "white"
           }
          },
          "shapedefaults": {
           "line": {
            "color": "#2a3f5f"
           }
          },
          "ternary": {
           "aaxis": {
            "gridcolor": "white",
            "linecolor": "white",
            "ticks": ""
           },
           "baxis": {
            "gridcolor": "white",
            "linecolor": "white",
            "ticks": ""
           },
           "bgcolor": "#E5ECF6",
           "caxis": {
            "gridcolor": "white",
            "linecolor": "white",
            "ticks": ""
           }
          },
          "title": {
           "x": 0.05
          },
          "xaxis": {
           "automargin": true,
           "gridcolor": "white",
           "linecolor": "white",
           "ticks": "",
           "title": {
            "standoff": 15
           },
           "zerolinecolor": "white",
           "zerolinewidth": 2
          },
          "yaxis": {
           "automargin": true,
           "gridcolor": "white",
           "linecolor": "white",
           "ticks": "",
           "title": {
            "standoff": 15
           },
           "zerolinecolor": "white",
           "zerolinewidth": 2
          }
         }
        },
        "title": {
         "text": "Method=kmeans | Cluster=4 | Metric=cosine | Plot=timeline"
        },
        "width": 800,
        "xaxis": {
         "title": {
          "text": "cosine"
         }
        },
        "yaxis": {
         "title": {
          "text": "Window step"
         }
        }
       }
      }
     },
     "metadata": {},
     "output_type": "display_data"
    },
    {
     "data": {
      "application/vnd.plotly.v1+json": {
       "config": {
        "plotlyServerURL": "https://plot.ly"
       },
       "data": [
        {
         "hoverinfo": "x+y",
         "marker": {
          "color": "rgba(31,119,180,0.6)",
          "line": {
           "width": 0
          },
          "opacity": 0.35,
          "size": 6
         },
         "mode": "markers",
         "name": "window_5",
         "type": "scatter",
         "x": [
          0.7583584785461426,
          0.800206184387207,
          0.7151355743408203,
          0.8036044239997864,
          0.8036044239997864,
          0.7583584189414978
         ],
         "y": [
          5,
          5,
          5,
          5,
          5,
          5
         ]
        },
        {
         "hoverinfo": "x+y",
         "marker": {
          "color": "rgba(31,119,180,0.6)",
          "line": {
           "width": 0
          },
          "opacity": 0.35,
          "size": 6
         },
         "mode": "markers",
         "name": "window_6",
         "type": "scatter",
         "x": [
          0.7151355743408203,
          0.8036044239997864,
          0.8036044239997864,
          0.7583584785461426,
          0.800206184387207
         ],
         "y": [
          6,
          6,
          6,
          6,
          6
         ]
        },
        {
         "hoverinfo": "x+y",
         "marker": {
          "color": "rgba(31,119,180,0.6)",
          "line": {
           "width": 0
          },
          "opacity": 0.35,
          "size": 6
         },
         "mode": "markers",
         "name": "window_8",
         "type": "scatter",
         "x": [
          0.8002064228057861,
          0.6043149828910828,
          0.7151355743408203
         ],
         "y": [
          8,
          8,
          8
         ]
        },
        {
         "hoverinfo": "x+y",
         "marker": {
          "color": "rgba(31,119,180,0.6)",
          "line": {
           "width": 0
          },
          "opacity": 0.35,
          "size": 6
         },
         "mode": "markers",
         "name": "window_12",
         "type": "scatter",
         "x": [
          0.6519417762756348,
          0.6519417762756348,
          0.800206184387207
         ],
         "y": [
          12,
          12,
          12
         ]
        },
        {
         "hoverinfo": "x+y",
         "marker": {
          "color": "rgba(31,119,180,0.6)",
          "line": {
           "width": 0
          },
          "opacity": 0.35,
          "size": 6
         },
         "mode": "markers",
         "name": "window_15",
         "type": "scatter",
         "x": [
          0.49202555418014526,
          0.7151358127593994,
          0.49202561378479004
         ],
         "y": [
          15,
          15,
          15
         ]
        },
        {
         "hoverinfo": "x+y",
         "marker": {
          "color": "rgba(31,119,180,0.6)",
          "line": {
           "width": 0
          },
          "opacity": 0.35,
          "size": 6
         },
         "mode": "markers",
         "name": "window_20",
         "type": "scatter",
         "x": [
          0.49202561378479004,
          0.800206184387207,
          0.6043147444725037,
          0.65194171667099,
          0.65194171667099
         ],
         "y": [
          20,
          20,
          20,
          20,
          20
         ]
        },
        {
         "hoverinfo": "x+y",
         "marker": {
          "color": "rgba(31,119,180,0.6)",
          "line": {
           "width": 0
          },
          "opacity": 0.35,
          "size": 6
         },
         "mode": "markers",
         "name": "window_21",
         "type": "scatter",
         "x": [
          0.6043147444725037,
          0.65194171667099,
          0.65194171667099,
          0.507859468460083
         ],
         "y": [
          21,
          21,
          21,
          21
         ]
        },
        {
         "hoverinfo": "x+y",
         "marker": {
          "color": "rgba(31,119,180,0.6)",
          "line": {
           "width": 0
          },
          "opacity": 0.35,
          "size": 6
         },
         "mode": "markers",
         "name": "window_24",
         "type": "scatter",
         "x": [
          0.49202555418014526,
          0.5698125958442688,
          0.49202561378479004
         ],
         "y": [
          24,
          24,
          24
         ]
        },
        {
         "hoverinfo": "x+y",
         "marker": {
          "color": "rgba(31,119,180,0.6)",
          "line": {
           "width": 0
          },
          "opacity": 0.35,
          "size": 6
         },
         "mode": "markers",
         "name": "window_25",
         "type": "scatter",
         "x": [
          0.569812536239624,
          0.49202561378479004,
          0.65194171667099,
          0.65194171667099
         ],
         "y": [
          25,
          25,
          25,
          25
         ]
        },
        {
         "hoverinfo": "x+y",
         "marker": {
          "color": "rgba(31,119,180,0.6)",
          "line": {
           "width": 0
          },
          "opacity": 0.35,
          "size": 6
         },
         "mode": "markers",
         "name": "window_26",
         "type": "scatter",
         "x": [
          0.6519417762756348,
          0.6519417762756348,
          0.7151355743408203
         ],
         "y": [
          26,
          26,
          26
         ]
        }
       ],
       "layout": {
        "height": 500,
        "showlegend": false,
        "template": {
         "data": {
          "bar": [
           {
            "error_x": {
             "color": "#2a3f5f"
            },
            "error_y": {
             "color": "#2a3f5f"
            },
            "marker": {
             "line": {
              "color": "#E5ECF6",
              "width": 0.5
             },
             "pattern": {
              "fillmode": "overlay",
              "size": 10,
              "solidity": 0.2
             }
            },
            "type": "bar"
           }
          ],
          "barpolar": [
           {
            "marker": {
             "line": {
              "color": "#E5ECF6",
              "width": 0.5
             },
             "pattern": {
              "fillmode": "overlay",
              "size": 10,
              "solidity": 0.2
             }
            },
            "type": "barpolar"
           }
          ],
          "carpet": [
           {
            "aaxis": {
             "endlinecolor": "#2a3f5f",
             "gridcolor": "white",
             "linecolor": "white",
             "minorgridcolor": "white",
             "startlinecolor": "#2a3f5f"
            },
            "baxis": {
             "endlinecolor": "#2a3f5f",
             "gridcolor": "white",
             "linecolor": "white",
             "minorgridcolor": "white",
             "startlinecolor": "#2a3f5f"
            },
            "type": "carpet"
           }
          ],
          "choropleth": [
           {
            "colorbar": {
             "outlinewidth": 0,
             "ticks": ""
            },
            "type": "choropleth"
           }
          ],
          "contour": [
           {
            "colorbar": {
             "outlinewidth": 0,
             "ticks": ""
            },
            "colorscale": [
             [
              0,
              "#0d0887"
             ],
             [
              0.1111111111111111,
              "#46039f"
             ],
             [
              0.2222222222222222,
              "#7201a8"
             ],
             [
              0.3333333333333333,
              "#9c179e"
             ],
             [
              0.4444444444444444,
              "#bd3786"
             ],
             [
              0.5555555555555556,
              "#d8576b"
             ],
             [
              0.6666666666666666,
              "#ed7953"
             ],
             [
              0.7777777777777778,
              "#fb9f3a"
             ],
             [
              0.8888888888888888,
              "#fdca26"
             ],
             [
              1,
              "#f0f921"
             ]
            ],
            "type": "contour"
           }
          ],
          "contourcarpet": [
           {
            "colorbar": {
             "outlinewidth": 0,
             "ticks": ""
            },
            "type": "contourcarpet"
           }
          ],
          "heatmap": [
           {
            "colorbar": {
             "outlinewidth": 0,
             "ticks": ""
            },
            "colorscale": [
             [
              0,
              "#0d0887"
             ],
             [
              0.1111111111111111,
              "#46039f"
             ],
             [
              0.2222222222222222,
              "#7201a8"
             ],
             [
              0.3333333333333333,
              "#9c179e"
             ],
             [
              0.4444444444444444,
              "#bd3786"
             ],
             [
              0.5555555555555556,
              "#d8576b"
             ],
             [
              0.6666666666666666,
              "#ed7953"
             ],
             [
              0.7777777777777778,
              "#fb9f3a"
             ],
             [
              0.8888888888888888,
              "#fdca26"
             ],
             [
              1,
              "#f0f921"
             ]
            ],
            "type": "heatmap"
           }
          ],
          "histogram": [
           {
            "marker": {
             "pattern": {
              "fillmode": "overlay",
              "size": 10,
              "solidity": 0.2
             }
            },
            "type": "histogram"
           }
          ],
          "histogram2d": [
           {
            "colorbar": {
             "outlinewidth": 0,
             "ticks": ""
            },
            "colorscale": [
             [
              0,
              "#0d0887"
             ],
             [
              0.1111111111111111,
              "#46039f"
             ],
             [
              0.2222222222222222,
              "#7201a8"
             ],
             [
              0.3333333333333333,
              "#9c179e"
             ],
             [
              0.4444444444444444,
              "#bd3786"
             ],
             [
              0.5555555555555556,
              "#d8576b"
             ],
             [
              0.6666666666666666,
              "#ed7953"
             ],
             [
              0.7777777777777778,
              "#fb9f3a"
             ],
             [
              0.8888888888888888,
              "#fdca26"
             ],
             [
              1,
              "#f0f921"
             ]
            ],
            "type": "histogram2d"
           }
          ],
          "histogram2dcontour": [
           {
            "colorbar": {
             "outlinewidth": 0,
             "ticks": ""
            },
            "colorscale": [
             [
              0,
              "#0d0887"
             ],
             [
              0.1111111111111111,
              "#46039f"
             ],
             [
              0.2222222222222222,
              "#7201a8"
             ],
             [
              0.3333333333333333,
              "#9c179e"
             ],
             [
              0.4444444444444444,
              "#bd3786"
             ],
             [
              0.5555555555555556,
              "#d8576b"
             ],
             [
              0.6666666666666666,
              "#ed7953"
             ],
             [
              0.7777777777777778,
              "#fb9f3a"
             ],
             [
              0.8888888888888888,
              "#fdca26"
             ],
             [
              1,
              "#f0f921"
             ]
            ],
            "type": "histogram2dcontour"
           }
          ],
          "mesh3d": [
           {
            "colorbar": {
             "outlinewidth": 0,
             "ticks": ""
            },
            "type": "mesh3d"
           }
          ],
          "parcoords": [
           {
            "line": {
             "colorbar": {
              "outlinewidth": 0,
              "ticks": ""
             }
            },
            "type": "parcoords"
           }
          ],
          "pie": [
           {
            "automargin": true,
            "type": "pie"
           }
          ],
          "scatter": [
           {
            "fillpattern": {
             "fillmode": "overlay",
             "size": 10,
             "solidity": 0.2
            },
            "type": "scatter"
           }
          ],
          "scatter3d": [
           {
            "line": {
             "colorbar": {
              "outlinewidth": 0,
              "ticks": ""
             }
            },
            "marker": {
             "colorbar": {
              "outlinewidth": 0,
              "ticks": ""
             }
            },
            "type": "scatter3d"
           }
          ],
          "scattercarpet": [
           {
            "marker": {
             "colorbar": {
              "outlinewidth": 0,
              "ticks": ""
             }
            },
            "type": "scattercarpet"
           }
          ],
          "scattergeo": [
           {
            "marker": {
             "colorbar": {
              "outlinewidth": 0,
              "ticks": ""
             }
            },
            "type": "scattergeo"
           }
          ],
          "scattergl": [
           {
            "marker": {
             "colorbar": {
              "outlinewidth": 0,
              "ticks": ""
             }
            },
            "type": "scattergl"
           }
          ],
          "scattermap": [
           {
            "marker": {
             "colorbar": {
              "outlinewidth": 0,
              "ticks": ""
             }
            },
            "type": "scattermap"
           }
          ],
          "scattermapbox": [
           {
            "marker": {
             "colorbar": {
              "outlinewidth": 0,
              "ticks": ""
             }
            },
            "type": "scattermapbox"
           }
          ],
          "scatterpolar": [
           {
            "marker": {
             "colorbar": {
              "outlinewidth": 0,
              "ticks": ""
             }
            },
            "type": "scatterpolar"
           }
          ],
          "scatterpolargl": [
           {
            "marker": {
             "colorbar": {
              "outlinewidth": 0,
              "ticks": ""
             }
            },
            "type": "scatterpolargl"
           }
          ],
          "scatterternary": [
           {
            "marker": {
             "colorbar": {
              "outlinewidth": 0,
              "ticks": ""
             }
            },
            "type": "scatterternary"
           }
          ],
          "surface": [
           {
            "colorbar": {
             "outlinewidth": 0,
             "ticks": ""
            },
            "colorscale": [
             [
              0,
              "#0d0887"
             ],
             [
              0.1111111111111111,
              "#46039f"
             ],
             [
              0.2222222222222222,
              "#7201a8"
             ],
             [
              0.3333333333333333,
              "#9c179e"
             ],
             [
              0.4444444444444444,
              "#bd3786"
             ],
             [
              0.5555555555555556,
              "#d8576b"
             ],
             [
              0.6666666666666666,
              "#ed7953"
             ],
             [
              0.7777777777777778,
              "#fb9f3a"
             ],
             [
              0.8888888888888888,
              "#fdca26"
             ],
             [
              1,
              "#f0f921"
             ]
            ],
            "type": "surface"
           }
          ],
          "table": [
           {
            "cells": {
             "fill": {
              "color": "#EBF0F8"
             },
             "line": {
              "color": "white"
             }
            },
            "header": {
             "fill": {
              "color": "#C8D4E3"
             },
             "line": {
              "color": "white"
             }
            },
            "type": "table"
           }
          ]
         },
         "layout": {
          "annotationdefaults": {
           "arrowcolor": "#2a3f5f",
           "arrowhead": 0,
           "arrowwidth": 1
          },
          "autotypenumbers": "strict",
          "coloraxis": {
           "colorbar": {
            "outlinewidth": 0,
            "ticks": ""
           }
          },
          "colorscale": {
           "diverging": [
            [
             0,
             "#8e0152"
            ],
            [
             0.1,
             "#c51b7d"
            ],
            [
             0.2,
             "#de77ae"
            ],
            [
             0.3,
             "#f1b6da"
            ],
            [
             0.4,
             "#fde0ef"
            ],
            [
             0.5,
             "#f7f7f7"
            ],
            [
             0.6,
             "#e6f5d0"
            ],
            [
             0.7,
             "#b8e186"
            ],
            [
             0.8,
             "#7fbc41"
            ],
            [
             0.9,
             "#4d9221"
            ],
            [
             1,
             "#276419"
            ]
           ],
           "sequential": [
            [
             0,
             "#0d0887"
            ],
            [
             0.1111111111111111,
             "#46039f"
            ],
            [
             0.2222222222222222,
             "#7201a8"
            ],
            [
             0.3333333333333333,
             "#9c179e"
            ],
            [
             0.4444444444444444,
             "#bd3786"
            ],
            [
             0.5555555555555556,
             "#d8576b"
            ],
            [
             0.6666666666666666,
             "#ed7953"
            ],
            [
             0.7777777777777778,
             "#fb9f3a"
            ],
            [
             0.8888888888888888,
             "#fdca26"
            ],
            [
             1,
             "#f0f921"
            ]
           ],
           "sequentialminus": [
            [
             0,
             "#0d0887"
            ],
            [
             0.1111111111111111,
             "#46039f"
            ],
            [
             0.2222222222222222,
             "#7201a8"
            ],
            [
             0.3333333333333333,
             "#9c179e"
            ],
            [
             0.4444444444444444,
             "#bd3786"
            ],
            [
             0.5555555555555556,
             "#d8576b"
            ],
            [
             0.6666666666666666,
             "#ed7953"
            ],
            [
             0.7777777777777778,
             "#fb9f3a"
            ],
            [
             0.8888888888888888,
             "#fdca26"
            ],
            [
             1,
             "#f0f921"
            ]
           ]
          },
          "colorway": [
           "#636efa",
           "#EF553B",
           "#00cc96",
           "#ab63fa",
           "#FFA15A",
           "#19d3f3",
           "#FF6692",
           "#B6E880",
           "#FF97FF",
           "#FECB52"
          ],
          "font": {
           "color": "#2a3f5f"
          },
          "geo": {
           "bgcolor": "white",
           "lakecolor": "white",
           "landcolor": "#E5ECF6",
           "showlakes": true,
           "showland": true,
           "subunitcolor": "white"
          },
          "hoverlabel": {
           "align": "left"
          },
          "hovermode": "closest",
          "mapbox": {
           "style": "light"
          },
          "paper_bgcolor": "white",
          "plot_bgcolor": "#E5ECF6",
          "polar": {
           "angularaxis": {
            "gridcolor": "white",
            "linecolor": "white",
            "ticks": ""
           },
           "bgcolor": "#E5ECF6",
           "radialaxis": {
            "gridcolor": "white",
            "linecolor": "white",
            "ticks": ""
           }
          },
          "scene": {
           "xaxis": {
            "backgroundcolor": "#E5ECF6",
            "gridcolor": "white",
            "gridwidth": 2,
            "linecolor": "white",
            "showbackground": true,
            "ticks": "",
            "zerolinecolor": "white"
           },
           "yaxis": {
            "backgroundcolor": "#E5ECF6",
            "gridcolor": "white",
            "gridwidth": 2,
            "linecolor": "white",
            "showbackground": true,
            "ticks": "",
            "zerolinecolor": "white"
           },
           "zaxis": {
            "backgroundcolor": "#E5ECF6",
            "gridcolor": "white",
            "gridwidth": 2,
            "linecolor": "white",
            "showbackground": true,
            "ticks": "",
            "zerolinecolor": "white"
           }
          },
          "shapedefaults": {
           "line": {
            "color": "#2a3f5f"
           }
          },
          "ternary": {
           "aaxis": {
            "gridcolor": "white",
            "linecolor": "white",
            "ticks": ""
           },
           "baxis": {
            "gridcolor": "white",
            "linecolor": "white",
            "ticks": ""
           },
           "bgcolor": "#E5ECF6",
           "caxis": {
            "gridcolor": "white",
            "linecolor": "white",
            "ticks": ""
           }
          },
          "title": {
           "x": 0.05
          },
          "xaxis": {
           "automargin": true,
           "gridcolor": "white",
           "linecolor": "white",
           "ticks": "",
           "title": {
            "standoff": 15
           },
           "zerolinecolor": "white",
           "zerolinewidth": 2
          },
          "yaxis": {
           "automargin": true,
           "gridcolor": "white",
           "linecolor": "white",
           "ticks": "",
           "title": {
            "standoff": 15
           },
           "zerolinecolor": "white",
           "zerolinewidth": 2
          }
         }
        },
        "title": {
         "text": "Method=kmeans | Cluster=5 | Metric=cosine | Plot=timeline"
        },
        "width": 800,
        "xaxis": {
         "title": {
          "text": "cosine"
         }
        },
        "yaxis": {
         "title": {
          "text": "Window step"
         }
        }
       }
      }
     },
     "metadata": {},
     "output_type": "display_data"
    },
    {
     "data": {
      "application/vnd.plotly.v1+json": {
       "config": {
        "plotlyServerURL": "https://plot.ly"
       },
       "data": [
        {
         "hoverinfo": "x+y",
         "marker": {
          "color": "rgba(31,119,180,0.6)",
          "line": {
           "width": 0
          },
          "opacity": 0.35,
          "size": 6
         },
         "mode": "markers",
         "name": "window_0",
         "type": "scatter",
         "x": [
          0.92594313621521,
          0.7285599708557129,
          0.92594313621521,
          0.7285599708557129,
          0.7285599708557129
         ],
         "y": [
          0,
          0,
          0,
          0,
          0
         ]
        },
        {
         "hoverinfo": "x+y",
         "marker": {
          "color": "rgba(31,119,180,0.6)",
          "line": {
           "width": 0
          },
          "opacity": 0.35,
          "size": 6
         },
         "mode": "markers",
         "name": "window_1",
         "type": "scatter",
         "x": [
          0.7285599708557129,
          0.92594313621521,
          0.7285599708557129,
          0.7285599708557129,
          0.7285599708557129,
          0.92594313621521,
          0.92594313621521,
          0.92594313621521
         ],
         "y": [
          1,
          1,
          1,
          1,
          1,
          1,
          1,
          1
         ]
        },
        {
         "hoverinfo": "x+y",
         "marker": {
          "color": "rgba(31,119,180,0.6)",
          "line": {
           "width": 0
          },
          "opacity": 0.35,
          "size": 6
         },
         "mode": "markers",
         "name": "window_2",
         "type": "scatter",
         "x": [
          0.7285599708557129,
          0.92594313621521,
          0.92594313621521,
          0.92594313621521,
          0.92594313621521,
          0.92594313621521
         ],
         "y": [
          2,
          2,
          2,
          2,
          2,
          2
         ]
        },
        {
         "hoverinfo": "x+y",
         "marker": {
          "color": "rgba(31,119,180,0.6)",
          "line": {
           "width": 0
          },
          "opacity": 0.35,
          "size": 6
         },
         "mode": "markers",
         "name": "window_3",
         "type": "scatter",
         "x": [
          0.92594313621521,
          0.92594313621521,
          0.92594313621521,
          0.92594313621521
         ],
         "y": [
          3,
          3,
          3,
          3
         ]
        },
        {
         "hoverinfo": "x+y",
         "marker": {
          "color": "rgba(31,119,180,0.6)",
          "line": {
           "width": 0
          },
          "opacity": 0.35,
          "size": 6
         },
         "mode": "markers",
         "name": "window_4",
         "type": "scatter",
         "x": [
          0.92594313621521,
          0.92594313621521,
          0.7518508434295654
         ],
         "y": [
          4,
          4,
          4
         ]
        },
        {
         "hoverinfo": "x+y",
         "marker": {
          "color": "rgba(31,119,180,0.6)",
          "line": {
           "width": 0
          },
          "opacity": 0.35,
          "size": 6
         },
         "mode": "markers",
         "name": "window_13",
         "type": "scatter",
         "x": [
          0.7285599708557129,
          0.92594313621521,
          0.92594313621521,
          0.92594313621521
         ],
         "y": [
          13,
          13,
          13,
          13
         ]
        },
        {
         "hoverinfo": "x+y",
         "marker": {
          "color": "rgba(31,119,180,0.6)",
          "line": {
           "width": 0
          },
          "opacity": 0.35,
          "size": 6
         },
         "mode": "markers",
         "name": "window_14",
         "type": "scatter",
         "x": [
          0.92594313621521,
          0.92594313621521,
          0.92594313621521
         ],
         "y": [
          14,
          14,
          14
         ]
        },
        {
         "hoverinfo": "x+y",
         "marker": {
          "color": "rgba(31,119,180,0.6)",
          "line": {
           "width": 0
          },
          "opacity": 0.35,
          "size": 6
         },
         "mode": "markers",
         "name": "window_20",
         "type": "scatter",
         "x": [
          0.7782350182533264,
          0.7285599708557129,
          0.7285599708557129
         ],
         "y": [
          20,
          20,
          20
         ]
        },
        {
         "hoverinfo": "x+y",
         "marker": {
          "color": "rgba(31,119,180,0.6)",
          "line": {
           "width": 0
          },
          "opacity": 0.35,
          "size": 6
         },
         "mode": "markers",
         "name": "window_21",
         "type": "scatter",
         "x": [
          0.7782350182533264,
          0.7285599708557129,
          0.7285599708557129
         ],
         "y": [
          21,
          21,
          21
         ]
        },
        {
         "hoverinfo": "x+y",
         "marker": {
          "color": "rgba(31,119,180,0.6)",
          "line": {
           "width": 0
          },
          "opacity": 0.35,
          "size": 6
         },
         "mode": "markers",
         "name": "window_25",
         "type": "scatter",
         "x": [
          0.7782353162765503,
          0.7285599708557129,
          0.7782353162765503,
          0.7285599708557129,
          0.7285599708557129
         ],
         "y": [
          25,
          25,
          25,
          25,
          25
         ]
        },
        {
         "hoverinfo": "x+y",
         "marker": {
          "color": "rgba(31,119,180,0.6)",
          "line": {
           "width": 0
          },
          "opacity": 0.35,
          "size": 6
         },
         "mode": "markers",
         "name": "window_26",
         "type": "scatter",
         "x": [
          0.7782350182533264,
          0.7285599708557129,
          0.7285599708557129
         ],
         "y": [
          26,
          26,
          26
         ]
        }
       ],
       "layout": {
        "height": 500,
        "showlegend": false,
        "template": {
         "data": {
          "bar": [
           {
            "error_x": {
             "color": "#2a3f5f"
            },
            "error_y": {
             "color": "#2a3f5f"
            },
            "marker": {
             "line": {
              "color": "#E5ECF6",
              "width": 0.5
             },
             "pattern": {
              "fillmode": "overlay",
              "size": 10,
              "solidity": 0.2
             }
            },
            "type": "bar"
           }
          ],
          "barpolar": [
           {
            "marker": {
             "line": {
              "color": "#E5ECF6",
              "width": 0.5
             },
             "pattern": {
              "fillmode": "overlay",
              "size": 10,
              "solidity": 0.2
             }
            },
            "type": "barpolar"
           }
          ],
          "carpet": [
           {
            "aaxis": {
             "endlinecolor": "#2a3f5f",
             "gridcolor": "white",
             "linecolor": "white",
             "minorgridcolor": "white",
             "startlinecolor": "#2a3f5f"
            },
            "baxis": {
             "endlinecolor": "#2a3f5f",
             "gridcolor": "white",
             "linecolor": "white",
             "minorgridcolor": "white",
             "startlinecolor": "#2a3f5f"
            },
            "type": "carpet"
           }
          ],
          "choropleth": [
           {
            "colorbar": {
             "outlinewidth": 0,
             "ticks": ""
            },
            "type": "choropleth"
           }
          ],
          "contour": [
           {
            "colorbar": {
             "outlinewidth": 0,
             "ticks": ""
            },
            "colorscale": [
             [
              0,
              "#0d0887"
             ],
             [
              0.1111111111111111,
              "#46039f"
             ],
             [
              0.2222222222222222,
              "#7201a8"
             ],
             [
              0.3333333333333333,
              "#9c179e"
             ],
             [
              0.4444444444444444,
              "#bd3786"
             ],
             [
              0.5555555555555556,
              "#d8576b"
             ],
             [
              0.6666666666666666,
              "#ed7953"
             ],
             [
              0.7777777777777778,
              "#fb9f3a"
             ],
             [
              0.8888888888888888,
              "#fdca26"
             ],
             [
              1,
              "#f0f921"
             ]
            ],
            "type": "contour"
           }
          ],
          "contourcarpet": [
           {
            "colorbar": {
             "outlinewidth": 0,
             "ticks": ""
            },
            "type": "contourcarpet"
           }
          ],
          "heatmap": [
           {
            "colorbar": {
             "outlinewidth": 0,
             "ticks": ""
            },
            "colorscale": [
             [
              0,
              "#0d0887"
             ],
             [
              0.1111111111111111,
              "#46039f"
             ],
             [
              0.2222222222222222,
              "#7201a8"
             ],
             [
              0.3333333333333333,
              "#9c179e"
             ],
             [
              0.4444444444444444,
              "#bd3786"
             ],
             [
              0.5555555555555556,
              "#d8576b"
             ],
             [
              0.6666666666666666,
              "#ed7953"
             ],
             [
              0.7777777777777778,
              "#fb9f3a"
             ],
             [
              0.8888888888888888,
              "#fdca26"
             ],
             [
              1,
              "#f0f921"
             ]
            ],
            "type": "heatmap"
           }
          ],
          "histogram": [
           {
            "marker": {
             "pattern": {
              "fillmode": "overlay",
              "size": 10,
              "solidity": 0.2
             }
            },
            "type": "histogram"
           }
          ],
          "histogram2d": [
           {
            "colorbar": {
             "outlinewidth": 0,
             "ticks": ""
            },
            "colorscale": [
             [
              0,
              "#0d0887"
             ],
             [
              0.1111111111111111,
              "#46039f"
             ],
             [
              0.2222222222222222,
              "#7201a8"
             ],
             [
              0.3333333333333333,
              "#9c179e"
             ],
             [
              0.4444444444444444,
              "#bd3786"
             ],
             [
              0.5555555555555556,
              "#d8576b"
             ],
             [
              0.6666666666666666,
              "#ed7953"
             ],
             [
              0.7777777777777778,
              "#fb9f3a"
             ],
             [
              0.8888888888888888,
              "#fdca26"
             ],
             [
              1,
              "#f0f921"
             ]
            ],
            "type": "histogram2d"
           }
          ],
          "histogram2dcontour": [
           {
            "colorbar": {
             "outlinewidth": 0,
             "ticks": ""
            },
            "colorscale": [
             [
              0,
              "#0d0887"
             ],
             [
              0.1111111111111111,
              "#46039f"
             ],
             [
              0.2222222222222222,
              "#7201a8"
             ],
             [
              0.3333333333333333,
              "#9c179e"
             ],
             [
              0.4444444444444444,
              "#bd3786"
             ],
             [
              0.5555555555555556,
              "#d8576b"
             ],
             [
              0.6666666666666666,
              "#ed7953"
             ],
             [
              0.7777777777777778,
              "#fb9f3a"
             ],
             [
              0.8888888888888888,
              "#fdca26"
             ],
             [
              1,
              "#f0f921"
             ]
            ],
            "type": "histogram2dcontour"
           }
          ],
          "mesh3d": [
           {
            "colorbar": {
             "outlinewidth": 0,
             "ticks": ""
            },
            "type": "mesh3d"
           }
          ],
          "parcoords": [
           {
            "line": {
             "colorbar": {
              "outlinewidth": 0,
              "ticks": ""
             }
            },
            "type": "parcoords"
           }
          ],
          "pie": [
           {
            "automargin": true,
            "type": "pie"
           }
          ],
          "scatter": [
           {
            "fillpattern": {
             "fillmode": "overlay",
             "size": 10,
             "solidity": 0.2
            },
            "type": "scatter"
           }
          ],
          "scatter3d": [
           {
            "line": {
             "colorbar": {
              "outlinewidth": 0,
              "ticks": ""
             }
            },
            "marker": {
             "colorbar": {
              "outlinewidth": 0,
              "ticks": ""
             }
            },
            "type": "scatter3d"
           }
          ],
          "scattercarpet": [
           {
            "marker": {
             "colorbar": {
              "outlinewidth": 0,
              "ticks": ""
             }
            },
            "type": "scattercarpet"
           }
          ],
          "scattergeo": [
           {
            "marker": {
             "colorbar": {
              "outlinewidth": 0,
              "ticks": ""
             }
            },
            "type": "scattergeo"
           }
          ],
          "scattergl": [
           {
            "marker": {
             "colorbar": {
              "outlinewidth": 0,
              "ticks": ""
             }
            },
            "type": "scattergl"
           }
          ],
          "scattermap": [
           {
            "marker": {
             "colorbar": {
              "outlinewidth": 0,
              "ticks": ""
             }
            },
            "type": "scattermap"
           }
          ],
          "scattermapbox": [
           {
            "marker": {
             "colorbar": {
              "outlinewidth": 0,
              "ticks": ""
             }
            },
            "type": "scattermapbox"
           }
          ],
          "scatterpolar": [
           {
            "marker": {
             "colorbar": {
              "outlinewidth": 0,
              "ticks": ""
             }
            },
            "type": "scatterpolar"
           }
          ],
          "scatterpolargl": [
           {
            "marker": {
             "colorbar": {
              "outlinewidth": 0,
              "ticks": ""
             }
            },
            "type": "scatterpolargl"
           }
          ],
          "scatterternary": [
           {
            "marker": {
             "colorbar": {
              "outlinewidth": 0,
              "ticks": ""
             }
            },
            "type": "scatterternary"
           }
          ],
          "surface": [
           {
            "colorbar": {
             "outlinewidth": 0,
             "ticks": ""
            },
            "colorscale": [
             [
              0,
              "#0d0887"
             ],
             [
              0.1111111111111111,
              "#46039f"
             ],
             [
              0.2222222222222222,
              "#7201a8"
             ],
             [
              0.3333333333333333,
              "#9c179e"
             ],
             [
              0.4444444444444444,
              "#bd3786"
             ],
             [
              0.5555555555555556,
              "#d8576b"
             ],
             [
              0.6666666666666666,
              "#ed7953"
             ],
             [
              0.7777777777777778,
              "#fb9f3a"
             ],
             [
              0.8888888888888888,
              "#fdca26"
             ],
             [
              1,
              "#f0f921"
             ]
            ],
            "type": "surface"
           }
          ],
          "table": [
           {
            "cells": {
             "fill": {
              "color": "#EBF0F8"
             },
             "line": {
              "color": "white"
             }
            },
            "header": {
             "fill": {
              "color": "#C8D4E3"
             },
             "line": {
              "color": "white"
             }
            },
            "type": "table"
           }
          ]
         },
         "layout": {
          "annotationdefaults": {
           "arrowcolor": "#2a3f5f",
           "arrowhead": 0,
           "arrowwidth": 1
          },
          "autotypenumbers": "strict",
          "coloraxis": {
           "colorbar": {
            "outlinewidth": 0,
            "ticks": ""
           }
          },
          "colorscale": {
           "diverging": [
            [
             0,
             "#8e0152"
            ],
            [
             0.1,
             "#c51b7d"
            ],
            [
             0.2,
             "#de77ae"
            ],
            [
             0.3,
             "#f1b6da"
            ],
            [
             0.4,
             "#fde0ef"
            ],
            [
             0.5,
             "#f7f7f7"
            ],
            [
             0.6,
             "#e6f5d0"
            ],
            [
             0.7,
             "#b8e186"
            ],
            [
             0.8,
             "#7fbc41"
            ],
            [
             0.9,
             "#4d9221"
            ],
            [
             1,
             "#276419"
            ]
           ],
           "sequential": [
            [
             0,
             "#0d0887"
            ],
            [
             0.1111111111111111,
             "#46039f"
            ],
            [
             0.2222222222222222,
             "#7201a8"
            ],
            [
             0.3333333333333333,
             "#9c179e"
            ],
            [
             0.4444444444444444,
             "#bd3786"
            ],
            [
             0.5555555555555556,
             "#d8576b"
            ],
            [
             0.6666666666666666,
             "#ed7953"
            ],
            [
             0.7777777777777778,
             "#fb9f3a"
            ],
            [
             0.8888888888888888,
             "#fdca26"
            ],
            [
             1,
             "#f0f921"
            ]
           ],
           "sequentialminus": [
            [
             0,
             "#0d0887"
            ],
            [
             0.1111111111111111,
             "#46039f"
            ],
            [
             0.2222222222222222,
             "#7201a8"
            ],
            [
             0.3333333333333333,
             "#9c179e"
            ],
            [
             0.4444444444444444,
             "#bd3786"
            ],
            [
             0.5555555555555556,
             "#d8576b"
            ],
            [
             0.6666666666666666,
             "#ed7953"
            ],
            [
             0.7777777777777778,
             "#fb9f3a"
            ],
            [
             0.8888888888888888,
             "#fdca26"
            ],
            [
             1,
             "#f0f921"
            ]
           ]
          },
          "colorway": [
           "#636efa",
           "#EF553B",
           "#00cc96",
           "#ab63fa",
           "#FFA15A",
           "#19d3f3",
           "#FF6692",
           "#B6E880",
           "#FF97FF",
           "#FECB52"
          ],
          "font": {
           "color": "#2a3f5f"
          },
          "geo": {
           "bgcolor": "white",
           "lakecolor": "white",
           "landcolor": "#E5ECF6",
           "showlakes": true,
           "showland": true,
           "subunitcolor": "white"
          },
          "hoverlabel": {
           "align": "left"
          },
          "hovermode": "closest",
          "mapbox": {
           "style": "light"
          },
          "paper_bgcolor": "white",
          "plot_bgcolor": "#E5ECF6",
          "polar": {
           "angularaxis": {
            "gridcolor": "white",
            "linecolor": "white",
            "ticks": ""
           },
           "bgcolor": "#E5ECF6",
           "radialaxis": {
            "gridcolor": "white",
            "linecolor": "white",
            "ticks": ""
           }
          },
          "scene": {
           "xaxis": {
            "backgroundcolor": "#E5ECF6",
            "gridcolor": "white",
            "gridwidth": 2,
            "linecolor": "white",
            "showbackground": true,
            "ticks": "",
            "zerolinecolor": "white"
           },
           "yaxis": {
            "backgroundcolor": "#E5ECF6",
            "gridcolor": "white",
            "gridwidth": 2,
            "linecolor": "white",
            "showbackground": true,
            "ticks": "",
            "zerolinecolor": "white"
           },
           "zaxis": {
            "backgroundcolor": "#E5ECF6",
            "gridcolor": "white",
            "gridwidth": 2,
            "linecolor": "white",
            "showbackground": true,
            "ticks": "",
            "zerolinecolor": "white"
           }
          },
          "shapedefaults": {
           "line": {
            "color": "#2a3f5f"
           }
          },
          "ternary": {
           "aaxis": {
            "gridcolor": "white",
            "linecolor": "white",
            "ticks": ""
           },
           "baxis": {
            "gridcolor": "white",
            "linecolor": "white",
            "ticks": ""
           },
           "bgcolor": "#E5ECF6",
           "caxis": {
            "gridcolor": "white",
            "linecolor": "white",
            "ticks": ""
           }
          },
          "title": {
           "x": 0.05
          },
          "xaxis": {
           "automargin": true,
           "gridcolor": "white",
           "linecolor": "white",
           "ticks": "",
           "title": {
            "standoff": 15
           },
           "zerolinecolor": "white",
           "zerolinewidth": 2
          },
          "yaxis": {
           "automargin": true,
           "gridcolor": "white",
           "linecolor": "white",
           "ticks": "",
           "title": {
            "standoff": 15
           },
           "zerolinecolor": "white",
           "zerolinewidth": 2
          }
         }
        },
        "title": {
         "text": "Method=kmeans | Cluster=6 | Metric=cosine | Plot=timeline"
        },
        "width": 800,
        "xaxis": {
         "title": {
          "text": "cosine"
         }
        },
        "yaxis": {
         "title": {
          "text": "Window step"
         }
        }
       }
      }
     },
     "metadata": {},
     "output_type": "display_data"
    },
    {
     "data": {
      "application/vnd.plotly.v1+json": {
       "config": {
        "plotlyServerURL": "https://plot.ly"
       },
       "data": [
        {
         "hoverinfo": "x+y",
         "marker": {
          "color": "rgba(31,119,180,0.6)",
          "line": {
           "width": 0
          },
          "opacity": 0.35,
          "size": 6
         },
         "mode": "markers",
         "name": "window_0",
         "type": "scatter",
         "x": [
          0.6786572933197021,
          0.09640027582645416,
          0.2946413457393646,
          0.29601359367370605,
          0.26268282532691956,
          0.11235576122999191,
          0.13508501648902893,
          0.31243327260017395,
          0.06167265400290489,
          0.004958076868206263,
          0.1435728371143341,
          0.1951119601726532,
          0.23436793684959412,
          0.3824231028556824,
          0.12313743680715561,
          0.1499408781528473,
          0.16075240075588226,
          0.24564699828624725,
          0.2760629653930664,
          0.10693714767694473,
          0.3274685740470886,
          0.03792867809534073,
          0.1154259592294693,
          0.03787146508693695,
          0.3661709725856781,
          0.17907506227493286,
          0.2793903052806854,
          0.1291814148426056,
          0.04743879288434982,
          0.09938699007034302,
          0.26268282532691956,
          0.1989775002002716,
          0.23245587944984436,
          0.18443584442138672,
          0.2589118480682373,
          0.11894416809082031,
          0.1543956696987152,
          0.07184841483831406,
          0.06979790329933167,
          0.054168663918972015,
          0.2909640073776245,
          0.15517282485961914,
          0.1824154108762741,
          0.32424283027648926,
          -0.014109228737652302,
          0.07282014936208725,
          0.29601359367370605,
          0.26268282532691956,
          0.13508501648902893,
          0.1435728371143341,
          0.1951119601726532,
          0.23436793684959412,
          0.3824231028556824,
          0.12313740700483322,
          0.14994089305400848,
          0.16075238585472107,
          0.3274685740470886,
          0.03792867809534073,
          0.1154259592294693,
          0.03787146508693695,
          0.3661709725856781,
          0.2760629653930664,
          0.10693714767694473,
          0.04743879288434982,
          0.26268282532691956,
          0.09938699007034302,
          0.26268282532691956,
          0.2909640073776245,
          0.15439572930335999,
          0.07184841483831406,
          0.054168663918972015,
          0.2909639775753021,
          0.05416865646839142
         ],
         "y": [
          0,
          0,
          0,
          0,
          0,
          0,
          0,
          0,
          0,
          0,
          0,
          0,
          0,
          0,
          0,
          0,
          0,
          0,
          0,
          0,
          0,
          0,
          0,
          0,
          0,
          0,
          0,
          0,
          0,
          0,
          0,
          0,
          0,
          0,
          0,
          0,
          0,
          0,
          0,
          0,
          0,
          0,
          0,
          0,
          0,
          0,
          0,
          0,
          0,
          0,
          0,
          0,
          0,
          0,
          0,
          0,
          0,
          0,
          0,
          0,
          0,
          0,
          0,
          0,
          0,
          0,
          0,
          0,
          0,
          0,
          0,
          0,
          0
         ]
        },
        {
         "hoverinfo": "x+y",
         "marker": {
          "color": "rgba(31,119,180,0.6)",
          "line": {
           "width": 0
          },
          "opacity": 0.35,
          "size": 6
         },
         "mode": "markers",
         "name": "window_1",
         "type": "scatter",
         "x": [
          0.07184841483831406,
          0.06979790329933167,
          0.054168663918972015,
          0.2909640073776245,
          0.15517282485961914,
          0.1824154108762741,
          0.32424283027648926,
          -0.014109228737652302,
          0.07282014936208725,
          0.29601359367370605,
          0.26268282532691956,
          0.13508501648902893,
          0.1435728371143341,
          0.1951119601726532,
          0.23436793684959412,
          0.3824231028556824,
          0.12313742190599442,
          0.1499408781528473,
          0.16075238585472107,
          0.3274685740470886,
          0.03792867809534073,
          0.1154259592294693,
          0.03787146508693695,
          0.3661709725856781,
          0.2760629653930664,
          0.10693714767694473,
          0.04743879288434982,
          0.26268282532691956,
          0.09938699007034302,
          0.26268282532691956,
          0.2909640073776245,
          0.15439572930335999,
          0.07184841483831406,
          0.054168663918972015,
          0.2909640073776245,
          0.054168663918972015,
          0.054168663918972015,
          0.23245587944984436,
          0.3274685740470886,
          -0.005672651343047619,
          0.36690661311149597,
          0.3274685740470886,
          0.29231664538383484,
          0.3274685740470886,
          0.327796071767807,
          0.3274685740470886,
          0.24192491173744202,
          0.045475855469703674,
          0.22806431353092194,
          0.19039088487625122,
          0.07498466968536377,
          0.1112019270658493,
          0.14196643233299255,
          0.23599961400032043,
          0.16466043889522552,
          0.0733649879693985,
          0.12494271993637085,
          0.20469611883163452,
          0.030121393501758575,
          0.07282014936208725,
          0.21229997277259827,
          0.09671136736869812,
          0.10693714767694473,
          0.17907506227493286,
          -0.04626164585351944,
          0.33662354946136475
         ],
         "y": [
          1,
          1,
          1,
          1,
          1,
          1,
          1,
          1,
          1,
          1,
          1,
          1,
          1,
          1,
          1,
          1,
          1,
          1,
          1,
          1,
          1,
          1,
          1,
          1,
          1,
          1,
          1,
          1,
          1,
          1,
          1,
          1,
          1,
          1,
          1,
          1,
          1,
          1,
          1,
          1,
          1,
          1,
          1,
          1,
          1,
          1,
          1,
          1,
          1,
          1,
          1,
          1,
          1,
          1,
          1,
          1,
          1,
          1,
          1,
          1,
          1,
          1,
          1,
          1,
          1,
          1
         ]
        },
        {
         "hoverinfo": "x+y",
         "marker": {
          "color": "rgba(31,119,180,0.6)",
          "line": {
           "width": 0
          },
          "opacity": 0.35,
          "size": 6
         },
         "mode": "markers",
         "name": "window_2",
         "type": "scatter",
         "x": [
          0.054168663918972015,
          0.23245587944984436,
          0.3274685740470886,
          -0.005672651343047619,
          0.36690661311149597,
          0.3274685740470886,
          0.29231664538383484,
          0.3274685740470886,
          0.327796071767807,
          0.3274685740470886,
          0.24192491173744202,
          0.045475855469703674,
          0.22806431353092194,
          0.19039088487625122,
          0.07498466968536377,
          0.1112019270658493,
          0.14196643233299255,
          0.23599961400032043,
          0.16466043889522552,
          0.0733649879693985,
          0.12494271993637085,
          0.20469611883163452,
          0.030121393501758575,
          0.07282014936208725,
          0.21229997277259827,
          0.09671136736869812,
          0.10693714767694473,
          0.17907506227493286,
          -0.04626164585351944,
          0.33662354946136475,
          -0.06984497606754303,
          0.16466043889522552,
          0.12771916389465332,
          0.2625623643398285,
          0.261092871427536,
          0.07282014936208725,
          0.12236829102039337,
          0.24653834104537964,
          0.18130797147750854,
          -0.20276272296905518,
          0.11543673276901245,
          0.10347502678632736,
          -0.13384884595870972,
          0.05909191817045212,
          0.1597023606300354,
          0.12236830592155457,
          0.18130797147750854,
          0.3412460684776306,
          0.2018047273159027,
          0.29601359367370605,
          0.26268282532691956,
          0.11235576122999191,
          0.13508501648902893,
          -0.20276272296905518,
          0.11800554394721985,
          0.0662233829498291,
          0.13545195758342743,
          0.21186241507530212,
          0.04416549578309059,
          0.07282017171382904,
          0.0054344674572348595,
          0.1291814148426056
         ],
         "y": [
          2,
          2,
          2,
          2,
          2,
          2,
          2,
          2,
          2,
          2,
          2,
          2,
          2,
          2,
          2,
          2,
          2,
          2,
          2,
          2,
          2,
          2,
          2,
          2,
          2,
          2,
          2,
          2,
          2,
          2,
          2,
          2,
          2,
          2,
          2,
          2,
          2,
          2,
          2,
          2,
          2,
          2,
          2,
          2,
          2,
          2,
          2,
          2,
          2,
          2,
          2,
          2,
          2,
          2,
          2,
          2,
          2,
          2,
          2,
          2,
          2,
          2
         ]
        },
        {
         "hoverinfo": "x+y",
         "marker": {
          "color": "rgba(31,119,180,0.6)",
          "line": {
           "width": 0
          },
          "opacity": 0.35,
          "size": 6
         },
         "mode": "markers",
         "name": "window_3",
         "type": "scatter",
         "x": [
          -0.06984497606754303,
          0.16466043889522552,
          0.12771916389465332,
          0.2625623643398285,
          0.261092871427536,
          0.07282014936208725,
          0.12236829102039337,
          0.24653834104537964,
          0.18130797147750854,
          -0.20276272296905518,
          0.11543673276901245,
          0.10347502678632736,
          -0.13384883105754852,
          0.05909193679690361,
          0.159702330827713,
          0.12236829102039337,
          0.18130797147750854,
          0.3412460684776306,
          0.2018047273159027,
          0.29601359367370605,
          0.26268282532691956,
          0.11235576122999191,
          0.13508501648902893,
          -0.20276272296905518,
          0.11800554394721985,
          0.0662233829498291,
          0.13545195758342743,
          0.21186235547065735,
          0.044165510684251785,
          0.07282014936208725,
          0.00543447770178318,
          0.1291814148426056,
          0.0019781114533543587,
          0.19039088487625122,
          0.0694764256477356,
          0.09671136736869812,
          0.06691034138202667,
          -0.011991054750978947,
          0.09088395535945892,
          0.028574706986546516,
          0.15460912883281708,
          0.27462711930274963,
          0.3220559358596802,
          0.26268285512924194,
          0.2610928416252136,
          0.11665001511573792,
          0.21186241507530212,
          0.18130797147750854,
          0.0662233829498291,
          0.21186241507530212,
          0.1435728371143341,
          0.1951119601726532,
          0.23436793684959412,
          0.3824231028556824,
          0.12313743680715561,
          0.1499408781528473,
          0.16075238585472107,
          0.12242160737514496,
          0.0772656798362732,
          0.24653834104537964
         ],
         "y": [
          3,
          3,
          3,
          3,
          3,
          3,
          3,
          3,
          3,
          3,
          3,
          3,
          3,
          3,
          3,
          3,
          3,
          3,
          3,
          3,
          3,
          3,
          3,
          3,
          3,
          3,
          3,
          3,
          3,
          3,
          3,
          3,
          3,
          3,
          3,
          3,
          3,
          3,
          3,
          3,
          3,
          3,
          3,
          3,
          3,
          3,
          3,
          3,
          3,
          3,
          3,
          3,
          3,
          3,
          3,
          3,
          3,
          3,
          3,
          3
         ]
        },
        {
         "hoverinfo": "x+y",
         "marker": {
          "color": "rgba(31,119,180,0.6)",
          "line": {
           "width": 0
          },
          "opacity": 0.35,
          "size": 6
         },
         "mode": "markers",
         "name": "window_4",
         "type": "scatter",
         "x": [
          0.0019781114533543587,
          0.19039088487625122,
          0.0694764256477356,
          0.09671136736869812,
          0.06691034138202667,
          -0.011991054750978947,
          0.09088395535945892,
          0.028574706986546516,
          0.15460912883281708,
          0.27462711930274963,
          0.3220559358596802,
          0.26268282532691956,
          0.261092871427536,
          0.11665000021457672,
          0.21186241507530212,
          0.18130797147750854,
          0.0662233829498291,
          0.21186241507530212,
          0.1435728371143341,
          0.1951119601726532,
          0.23436793684959412,
          0.3824231028556824,
          0.12313743680715561,
          0.1499408781528473,
          0.16075238585472107,
          0.12242162227630615,
          0.0772656798362732,
          0.24653829634189606,
          -0.07019011676311493,
          0.2589118480682373,
          0.07282014936208725,
          0.261092871427536,
          -0.0049868435598909855,
          0.1435728371143341,
          0.1951119601726532,
          0.14466165006160736,
          0.08673223108053207,
          0.1951119601726532,
          0.256933331489563,
          0.24633467197418213,
          0.135229229927063,
          0.37075161933898926,
          0.29231664538383484,
          0.1435728371143341,
          0.10808952152729034,
          0.16653019189834595,
          0.10556410253047943,
          0.1291814148426056,
          0.1835220605134964,
          0.023566044867038727,
          0.4041479229927063,
          0.13614171743392944,
          0.3164554834365845,
          0.18443584442138672,
          0.2223374843597412
         ],
         "y": [
          4,
          4,
          4,
          4,
          4,
          4,
          4,
          4,
          4,
          4,
          4,
          4,
          4,
          4,
          4,
          4,
          4,
          4,
          4,
          4,
          4,
          4,
          4,
          4,
          4,
          4,
          4,
          4,
          4,
          4,
          4,
          4,
          4,
          4,
          4,
          4,
          4,
          4,
          4,
          4,
          4,
          4,
          4,
          4,
          4,
          4,
          4,
          4,
          4,
          4,
          4,
          4,
          4,
          4,
          4
         ]
        },
        {
         "hoverinfo": "x+y",
         "marker": {
          "color": "rgba(31,119,180,0.6)",
          "line": {
           "width": 0
          },
          "opacity": 0.35,
          "size": 6
         },
         "mode": "markers",
         "name": "window_5",
         "type": "scatter",
         "x": [
          -0.07019011676311493,
          0.2589118480682373,
          0.07282014936208725,
          0.261092871427536,
          -0.0049868435598909855,
          0.1435728371143341,
          0.1951119601726532,
          0.14466165006160736,
          0.08673223108053207,
          0.1951119601726532,
          0.256933331489563,
          0.24633467197418213,
          0.13522924482822418,
          0.3707515299320221,
          0.29231664538383484,
          0.1435728371143341,
          0.10808952152729034,
          0.16653019189834595,
          0.10556410253047943,
          0.1291814148426056,
          0.1835220605134964,
          0.023566044867038727,
          0.4041479229927063,
          0.13614171743392944,
          0.3164554834365845,
          0.18443584442138672,
          0.2223374992609024,
          0.1951119601726532,
          0.2753725051879883,
          0.005899490788578987,
          0.15388865768909454,
          0.2816832661628723,
          0.23436793684959412,
          0.2589118480682373,
          0.34136050939559937,
          -0.20276272296905518,
          0.1951119601726532,
          0.10008634626865387,
          0.10455300658941269,
          0.15111523866653442,
          0.23954081535339355,
          -0.005672651343047619,
          0.36690661311149597,
          0.24633467197418213,
          0.118742935359478,
          0.1288280189037323,
          0.23436793684959412,
          0.15181028842926025,
          0.18443584442138672,
          0.18697074055671692,
          0.1945151686668396
         ],
         "y": [
          5,
          5,
          5,
          5,
          5,
          5,
          5,
          5,
          5,
          5,
          5,
          5,
          5,
          5,
          5,
          5,
          5,
          5,
          5,
          5,
          5,
          5,
          5,
          5,
          5,
          5,
          5,
          5,
          5,
          5,
          5,
          5,
          5,
          5,
          5,
          5,
          5,
          5,
          5,
          5,
          5,
          5,
          5,
          5,
          5,
          5,
          5,
          5,
          5,
          5,
          5
         ]
        },
        {
         "hoverinfo": "x+y",
         "marker": {
          "color": "rgba(31,119,180,0.6)",
          "line": {
           "width": 0
          },
          "opacity": 0.35,
          "size": 6
         },
         "mode": "markers",
         "name": "window_6",
         "type": "scatter",
         "x": [
          0.1951119601726532,
          0.2753725051879883,
          0.005899490788578987,
          0.15388865768909454,
          0.2816832661628723,
          0.23436793684959412,
          0.2589118480682373,
          0.34136050939559937,
          -0.20276272296905518,
          0.1951119601726532,
          0.10008634626865387,
          0.10455299913883209,
          0.15111520886421204,
          0.23954087495803833,
          -0.005672650411725044,
          0.36690661311149597,
          0.24633467197418213,
          0.118742935359478,
          0.1288280189037323,
          0.23436793684959412,
          0.15181028842926025,
          0.18443584442138672,
          0.18697074055671692,
          0.1945151686668396,
          -0.04576379060745239,
          0.15057401359081268,
          0.029363524168729782,
          0.1350850760936737,
          0.12847808003425598,
          0.037871479988098145,
          0.13454553484916687,
          0.13059782981872559,
          -0.0049868435598909855,
          0.3824231028556824,
          0.14466165006160736,
          0.15439572930335999,
          0.18013158440589905,
          0.11235576122999191,
          0.23205459117889404,
          0.3824231028556824,
          0.23446068167686462,
          -0.005672651343047619,
          0.3669067323207855,
          0.1543956696987152,
          0.15388865768909454,
          -0.07609889656305313,
          0.09938699007034302,
          0.26268282532691956,
          0.06979790329933167,
          0.22079917788505554,
          0.0825493112206459,
          -0.005672651343047619,
          0.36690661311149597,
          0.22176164388656616,
          0.10556410253047943,
          0.18457560241222382,
          0.2223936766386032,
          0.13614173233509064,
          0.06899947673082352,
          -0.010712023824453354
         ],
         "y": [
          6,
          6,
          6,
          6,
          6,
          6,
          6,
          6,
          6,
          6,
          6,
          6,
          6,
          6,
          6,
          6,
          6,
          6,
          6,
          6,
          6,
          6,
          6,
          6,
          6,
          6,
          6,
          6,
          6,
          6,
          6,
          6,
          6,
          6,
          6,
          6,
          6,
          6,
          6,
          6,
          6,
          6,
          6,
          6,
          6,
          6,
          6,
          6,
          6,
          6,
          6,
          6,
          6,
          6,
          6,
          6,
          6,
          6,
          6,
          6
         ]
        },
        {
         "hoverinfo": "x+y",
         "marker": {
          "color": "rgba(31,119,180,0.6)",
          "line": {
           "width": 0
          },
          "opacity": 0.35,
          "size": 6
         },
         "mode": "markers",
         "name": "window_7",
         "type": "scatter",
         "x": [
          -0.04576379060745239,
          0.15057401359081268,
          0.029363524168729782,
          0.13508501648902893,
          0.1284780502319336,
          0.03787146508693695,
          0.13454553484916687,
          0.13059782981872559,
          -0.0049868435598909855,
          0.3824231028556824,
          0.14466165006160736,
          0.15439572930335999,
          0.18013158440589905,
          0.11235576122999191,
          0.23205459117889404,
          0.3824231028556824,
          0.23446068167686462,
          -0.005672651343047619,
          0.36690661311149597,
          0.15439572930335999,
          0.15388865768909454,
          -0.07609889656305313,
          0.09938699007034302,
          0.26268282532691956,
          0.06979790329933167,
          0.22079917788505554,
          0.0825493112206459,
          -0.005672651343047619,
          0.36690661311149597,
          0.22176164388656616,
          0.10556410253047943,
          0.18457560241222382,
          0.2223936766386032,
          0.13614173233509064,
          0.06899948418140411,
          -0.010712029412388802,
          0.18535014986991882,
          0.3228151202201843,
          0.1499408781528473,
          0.16075238585472107,
          0.04110068455338478,
          0.12410570681095123,
          0.10556410253047943,
          0.13574931025505066,
          0.063719742000103,
          0.017289798706769943,
          0.10008634626865387,
          0.09997818619012833,
          0.1228659451007843,
          0.017289798706769943,
          0.11307021975517273,
          0.12242162227630615,
          0.11419354379177094,
          0.11235576122999191,
          -0.04576379060745239,
          0.08478224277496338,
          -0.05465337634086609,
          0.0733649879693985,
          0.12246496975421906,
          0.06979790329933167,
          -0.041233472526073456,
          0.1951119601726532,
          0.02880999445915222,
          0.269440621137619,
          0.1217430979013443,
          0.1228659451007843,
          0.09734359383583069,
          0.15111523866653442
         ],
         "y": [
          7,
          7,
          7,
          7,
          7,
          7,
          7,
          7,
          7,
          7,
          7,
          7,
          7,
          7,
          7,
          7,
          7,
          7,
          7,
          7,
          7,
          7,
          7,
          7,
          7,
          7,
          7,
          7,
          7,
          7,
          7,
          7,
          7,
          7,
          7,
          7,
          7,
          7,
          7,
          7,
          7,
          7,
          7,
          7,
          7,
          7,
          7,
          7,
          7,
          7,
          7,
          7,
          7,
          7,
          7,
          7,
          7,
          7,
          7,
          7,
          7,
          7,
          7,
          7,
          7,
          7,
          7,
          7
         ]
        },
        {
         "hoverinfo": "x+y",
         "marker": {
          "color": "rgba(31,119,180,0.6)",
          "line": {
           "width": 0
          },
          "opacity": 0.35,
          "size": 6
         },
         "mode": "markers",
         "name": "window_8",
         "type": "scatter",
         "x": [
          0.18535014986991882,
          0.3228151202201843,
          0.1499408781528473,
          0.16075238585472107,
          0.04110068455338478,
          0.12410570681095123,
          0.10556410253047943,
          0.13574931025505066,
          0.063719742000103,
          0.017289798706769943,
          0.10008634626865387,
          0.09997818619012833,
          0.1228659451007843,
          0.017289798706769943,
          0.11307021230459213,
          0.12242162227630615,
          0.11419354379177094,
          0.11235576122999191,
          -0.04576379060745239,
          0.08478224277496338,
          -0.05465337634086609,
          0.0733649879693985,
          0.12246496975421906,
          0.06979790329933167,
          -0.041233472526073456,
          0.1951119601726532,
          0.02880999445915222,
          0.269440621137619,
          0.1217430979013443,
          0.1228659451007843,
          0.09734359383583069,
          0.15111523866653442,
          0.11572371423244476,
          -0.005672651343047619,
          0.36690661311149597,
          0.1228659451007843,
          0.22248120605945587,
          0.09271466732025146,
          0.2760629653930664,
          0.10693714767694473,
          0.3274685740470886,
          0.03792867809534073,
          0.1154259592294693,
          0.03787146508693695,
          0.3661709725856781,
          0.09671136736869812,
          0.17907506227493286,
          -0.05465337634086609,
          0.3274685740470886,
          0.03792867809534073,
          0.06965754181146622,
          -0.03726077824831009,
          0.2004416435956955,
          0.11235576122999191,
          -0.03726077824831009,
          0.16653019189834595,
          -0.08952876925468445,
          -0.03726077824831009,
          0.08414041996002197,
          -0.05465337634086609,
          0.1154259592294693,
          0.03787147253751755,
          0.3661709725856781
         ],
         "y": [
          8,
          8,
          8,
          8,
          8,
          8,
          8,
          8,
          8,
          8,
          8,
          8,
          8,
          8,
          8,
          8,
          8,
          8,
          8,
          8,
          8,
          8,
          8,
          8,
          8,
          8,
          8,
          8,
          8,
          8,
          8,
          8,
          8,
          8,
          8,
          8,
          8,
          8,
          8,
          8,
          8,
          8,
          8,
          8,
          8,
          8,
          8,
          8,
          8,
          8,
          8,
          8,
          8,
          8,
          8,
          8,
          8,
          8,
          8,
          8,
          8,
          8,
          8
         ]
        },
        {
         "hoverinfo": "x+y",
         "marker": {
          "color": "rgba(31,119,180,0.6)",
          "line": {
           "width": 0
          },
          "opacity": 0.35,
          "size": 6
         },
         "mode": "markers",
         "name": "window_9",
         "type": "scatter",
         "x": [
          0.11572371423244476,
          -0.005672651343047619,
          0.36690661311149597,
          0.1228659451007843,
          0.22248120605945587,
          0.09271466732025146,
          0.2760629653930664,
          0.10693714767694473,
          0.3274685740470886,
          0.03792867809534073,
          0.1154259592294693,
          0.03787146508693695,
          0.3661709725856781,
          0.09671136736869812,
          0.17907506227493286,
          -0.05465337634086609,
          0.3274685740470886,
          0.03792867809534073,
          0.06965754181146622,
          -0.03726077824831009,
          0.2004416435956955,
          0.11235576122999191,
          -0.03726077824831009,
          0.16653019189834595,
          -0.08952876925468445,
          -0.03726077824831009,
          0.08414041996002197,
          -0.05465337634086609,
          0.1154259592294693,
          0.03787147253751755,
          0.3661709725856781,
          0.05009559541940689,
          -0.11279354244470596,
          -0.04608972370624542,
          0.1581183522939682,
          0.019551046192646027,
          -0.04608972370624542,
          0.15424580872058868,
          0.2004416435956955,
          0.09734359383583069,
          0.1291814148426056,
          -0.05465337634086609,
          0.3274685740470886,
          0.18697069585323334,
          0.18032437562942505,
          0.08295215666294098,
          0.17893600463867188,
          0.2004416435956955,
          0.13614171743392944,
          0.06899948418140411,
          -0.010712029412388802,
          -0.05465337634086609,
          0.1154259592294693,
          0.03787146508693695,
          0.3661709725856781,
          0.18032442033290863,
          0.11408417671918869,
          0.04417145997285843,
          0.16320303082466125,
          0.13614173233509064,
          0.15424582362174988
         ],
         "y": [
          9,
          9,
          9,
          9,
          9,
          9,
          9,
          9,
          9,
          9,
          9,
          9,
          9,
          9,
          9,
          9,
          9,
          9,
          9,
          9,
          9,
          9,
          9,
          9,
          9,
          9,
          9,
          9,
          9,
          9,
          9,
          9,
          9,
          9,
          9,
          9,
          9,
          9,
          9,
          9,
          9,
          9,
          9,
          9,
          9,
          9,
          9,
          9,
          9,
          9,
          9,
          9,
          9,
          9,
          9,
          9,
          9,
          9,
          9,
          9,
          9
         ]
        },
        {
         "hoverinfo": "x+y",
         "marker": {
          "color": "rgba(31,119,180,0.6)",
          "line": {
           "width": 0
          },
          "opacity": 0.35,
          "size": 6
         },
         "mode": "markers",
         "name": "window_10",
         "type": "scatter",
         "x": [
          0.05009559541940689,
          -0.11279354244470596,
          -0.04608972370624542,
          0.1581183522939682,
          0.019551046192646027,
          -0.04608972370624542,
          0.15424580872058868,
          0.2004416435956955,
          0.09734359383583069,
          0.1291814148426056,
          -0.05465337634086609,
          0.3274685740470886,
          0.18697074055671692,
          0.18032442033290863,
          0.08295214921236038,
          0.17893600463867188,
          0.2004416435956955,
          0.13614171743392944,
          0.06899948418140411,
          -0.010712029412388802,
          -0.05465337634086609,
          0.1154259592294693,
          0.03787146508693695,
          0.3661709725856781,
          0.18032442033290863,
          0.11408417671918869,
          0.04417145997285843,
          0.16320300102233887,
          0.13614171743392944,
          0.15424580872058868,
          0.1835220605134964,
          0.06899948418140411,
          -0.010712029412388802,
          0.23120500147342682,
          0.16320300102233887,
          0.29372918605804443,
          0.09938699007034302,
          0.26268282532691956,
          0.1989775002002716,
          -0.05465337634086609,
          0.0733649879693985,
          0.04743879288434982,
          0.29601359367370605,
          0.06979790329933167,
          -0.1414383202791214,
          0.19318798184394836,
          0.1989775002002716,
          -0.07609889656305313,
          0.09938699007034302,
          0.1573309600353241,
          0.06979790329933167,
          0.22079917788505554,
          0.05558537319302559,
          0.00543447770178318,
          0.1291814148426056,
          0.1835220605134964,
          0.11926967650651932,
          0.27686598896980286,
          0.04577130451798439,
          0.22079917788505554,
          0.1835220605134964,
          0.11926967650651932,
          0.2209874391555786,
          0.04577130451798439
         ],
         "y": [
          10,
          10,
          10,
          10,
          10,
          10,
          10,
          10,
          10,
          10,
          10,
          10,
          10,
          10,
          10,
          10,
          10,
          10,
          10,
          10,
          10,
          10,
          10,
          10,
          10,
          10,
          10,
          10,
          10,
          10,
          10,
          10,
          10,
          10,
          10,
          10,
          10,
          10,
          10,
          10,
          10,
          10,
          10,
          10,
          10,
          10,
          10,
          10,
          10,
          10,
          10,
          10,
          10,
          10,
          10,
          10,
          10,
          10,
          10,
          10,
          10,
          10,
          10,
          10
         ]
        },
        {
         "hoverinfo": "x+y",
         "marker": {
          "color": "rgba(31,119,180,0.6)",
          "line": {
           "width": 0
          },
          "opacity": 0.35,
          "size": 6
         },
         "mode": "markers",
         "name": "window_11",
         "type": "scatter",
         "x": [
          0.1835220605134964,
          0.06899948418140411,
          -0.010712029412388802,
          0.23120500147342682,
          0.16320300102233887,
          0.29372918605804443,
          0.09938699007034302,
          0.26268282532691956,
          0.1989775002002716,
          -0.05465337634086609,
          0.0733649879693985,
          0.04743879288434982,
          0.29601359367370605,
          0.06979790329933167,
          -0.1414383202791214,
          0.19318798184394836,
          0.198977530002594,
          -0.07609890401363373,
          0.09938699007034302,
          0.1573309600353241,
          0.06979790329933167,
          0.22079917788505554,
          0.05558537319302559,
          0.00543447770178318,
          0.1291814148426056,
          0.1835220605134964,
          0.11926967650651932,
          0.27686598896980286,
          0.04577130451798439,
          0.22079917788505554,
          0.1835220605134964,
          0.11926967650651932,
          0.2209874391555786,
          0.04577130451798439,
          0.0825493335723877,
          -0.0056726569309830666,
          0.36690661311149597,
          0.13428527116775513,
          -0.006706480868160725,
          0.2509046196937561,
          0.054168663918972015,
          0.09671136736869812,
          0.04743879288434982,
          0.26268282532691956,
          0.10464778542518616,
          -0.005672651343047619,
          0.36690661311149597,
          0.15439572930335999,
          0.15388865768909454,
          0.04577130451798439,
          0.2909640073776245,
          -0.05465337634086609,
          0.0733649730682373,
          0.18032437562942505,
          0.19871526956558228,
          -0.08307211101055145,
          0.29202836751937866,
          0.1435728371143341,
          0.1951119601726532,
          -0.1414383202791214,
          0.3285287022590637,
          -0.07715877890586853,
          0.24633467197418213,
          0.15439572930335999,
          0.07184841483831406,
          0.1588195264339447,
          0.11894416809082031,
          0.18046297132968903,
          0.02432563528418541,
          0.1113559901714325,
          -0.1122661828994751,
          0.26876574754714966
         ],
         "y": [
          11,
          11,
          11,
          11,
          11,
          11,
          11,
          11,
          11,
          11,
          11,
          11,
          11,
          11,
          11,
          11,
          11,
          11,
          11,
          11,
          11,
          11,
          11,
          11,
          11,
          11,
          11,
          11,
          11,
          11,
          11,
          11,
          11,
          11,
          11,
          11,
          11,
          11,
          11,
          11,
          11,
          11,
          11,
          11,
          11,
          11,
          11,
          11,
          11,
          11,
          11,
          11,
          11,
          11,
          11,
          11,
          11,
          11,
          11,
          11,
          11,
          11,
          11,
          11,
          11,
          11,
          11,
          11,
          11,
          11,
          11,
          11
         ]
        },
        {
         "hoverinfo": "x+y",
         "marker": {
          "color": "rgba(31,119,180,0.6)",
          "line": {
           "width": 0
          },
          "opacity": 0.35,
          "size": 6
         },
         "mode": "markers",
         "name": "window_12",
         "type": "scatter",
         "x": [
          0.0825493112206459,
          -0.005672651343047619,
          0.36690661311149597,
          0.13428527116775513,
          -0.006706480868160725,
          0.2509046196937561,
          0.054168663918972015,
          0.09671136736869812,
          0.04743879288434982,
          0.26268282532691956,
          0.10464778542518616,
          -0.005672651343047619,
          0.36690661311149597,
          0.15439572930335999,
          0.15388865768909454,
          0.04577130451798439,
          0.2909640073776245,
          -0.05465337634086609,
          0.0733649879693985,
          0.18032442033290863,
          0.19871526956558228,
          -0.08307211101055145,
          0.29202836751937866,
          0.1435728371143341,
          0.1951119601726532,
          -0.1414383202791214,
          0.3285287022590637,
          -0.07715877890586853,
          0.24633467197418213,
          0.15439572930335999,
          0.07184841483831406,
          0.1588195264339447,
          0.11894416809082031,
          0.18046297132968903,
          0.02432563528418541,
          0.1113559901714325,
          -0.1122661903500557,
          0.2687656879425049,
          0.03430342674255371,
          0.20703162252902985,
          0.23245587944984436,
          -0.06796963512897491,
          0.10556410253047943,
          0.29601359367370605,
          0.26268282532691956,
          0.11235576122999191,
          0.1266273707151413,
          0.005899490788578987,
          0.07987849414348602,
          0.08414041996002197,
          0.3337838649749756,
          -0.05465337634086609,
          0.0733649879693985,
          0.1835220605134964,
          0.005899490788578987,
          0.3088616132736206,
          0.18032442033290863,
          -0.07715877890586853,
          0.3943833112716675,
          0.18509995937347412,
          0.0019781114533543587,
          0.19039088487625122,
          0.07726569473743439,
          0.12236829102039337,
          0.20469611883163452,
          0.030121393501758575
         ],
         "y": [
          12,
          12,
          12,
          12,
          12,
          12,
          12,
          12,
          12,
          12,
          12,
          12,
          12,
          12,
          12,
          12,
          12,
          12,
          12,
          12,
          12,
          12,
          12,
          12,
          12,
          12,
          12,
          12,
          12,
          12,
          12,
          12,
          12,
          12,
          12,
          12,
          12,
          12,
          12,
          12,
          12,
          12,
          12,
          12,
          12,
          12,
          12,
          12,
          12,
          12,
          12,
          12,
          12,
          12,
          12,
          12,
          12,
          12,
          12,
          12,
          12,
          12,
          12,
          12,
          12,
          12
         ]
        },
        {
         "hoverinfo": "x+y",
         "marker": {
          "color": "rgba(31,119,180,0.6)",
          "line": {
           "width": 0
          },
          "opacity": 0.35,
          "size": 6
         },
         "mode": "markers",
         "name": "window_13",
         "type": "scatter",
         "x": [
          0.03430342674255371,
          0.20703162252902985,
          0.23245587944984436,
          -0.06796963512897491,
          0.10556410253047943,
          0.29601359367370605,
          0.26268282532691956,
          0.11235576122999191,
          0.1266273707151413,
          0.005899490788578987,
          0.07987849414348602,
          0.08414041996002197,
          0.3337838649749756,
          -0.05465337634086609,
          0.0733649879693985,
          0.1835220605134964,
          0.005899490788578987,
          0.3088616132736206,
          0.18032442033290863,
          -0.07715877890586853,
          0.3943833112716675,
          0.18509995937347412,
          0.0019781114533543587,
          0.19039088487625122,
          0.07726569473743439,
          0.12236829102039337,
          0.20469611883163452,
          0.030121393501758575,
          0.07282014936208725,
          0.18443584442138672,
          0.14196643233299255,
          0.23599961400032043,
          0.16466043889522552,
          0.0733649879693985,
          0.12494271993637085,
          0.22347940504550934,
          0.030121393501758575,
          0.07282014936208725,
          0.0662233829498291,
          0.06723038107156754,
          0.022740207612514496,
          0.028574706986546516,
          0.3035455346107483,
          0.07726569473743439,
          0.026434816420078278,
          0.19039088487625122,
          0.07282014936208725,
          0.261092871427536,
          0.03220898658037186,
          0.17928823828697205,
          0.030800363048911095,
          -0.1122661903500557,
          -0.046582214534282684,
          0.004069265443831682,
          0.004069265443831682,
          0.09688694030046463,
          0.09241390228271484,
          -0.016697918996214867,
          0.10759922862052917,
          0.11711567640304565,
          0.11497442424297333,
          0.6627569198608398
         ],
         "y": [
          13,
          13,
          13,
          13,
          13,
          13,
          13,
          13,
          13,
          13,
          13,
          13,
          13,
          13,
          13,
          13,
          13,
          13,
          13,
          13,
          13,
          13,
          13,
          13,
          13,
          13,
          13,
          13,
          13,
          13,
          13,
          13,
          13,
          13,
          13,
          13,
          13,
          13,
          13,
          13,
          13,
          13,
          13,
          13,
          13,
          13,
          13,
          13,
          13,
          13,
          13,
          13,
          13,
          13,
          13,
          13,
          13,
          13,
          13,
          13,
          13,
          13
         ]
        },
        {
         "hoverinfo": "x+y",
         "marker": {
          "color": "rgba(31,119,180,0.6)",
          "line": {
           "width": 0
          },
          "opacity": 0.35,
          "size": 6
         },
         "mode": "markers",
         "name": "window_14",
         "type": "scatter",
         "x": [
          0.07282014936208725,
          0.18443584442138672,
          0.14196643233299255,
          0.23599961400032043,
          0.16466043889522552,
          0.0733649879693985,
          0.12494271993637085,
          0.22347940504550934,
          0.030121393501758575,
          0.07282014936208725,
          0.0662233829498291,
          0.06723038107156754,
          0.022740207612514496,
          0.028574706986546516,
          0.3035455346107483,
          0.07726569473743439,
          0.026434816420078278,
          0.19039088487625122,
          0.07282014936208725,
          0.261092871427536,
          0.03220898658037186,
          0.17928823828697205,
          0.030800363048911095,
          -0.1122661903500557,
          -0.046582214534282684,
          0.004069265443831682,
          0.004069265443831682,
          0.09688694030046463,
          0.09241390228271484,
          -0.016697918996214867,
          0.10759922862052917,
          0.11711567640304565,
          0.11497444659471512,
          0.6627569198608398,
          -0.20416976511478424,
          0.32920295000076294,
          0.3220559358596802,
          0.05470498651266098,
          0.4047859311103821,
          0.27386268973350525,
          0.2532360553741455,
          0.1407608687877655,
          -0.20416975021362305,
          0.35789817571640015,
          0.32452696561813354,
          0.26426878571510315,
          0.2532360553741455,
          0.0667443796992302,
          -0.20276272296905518,
          0.1435728371143341,
          0.1951119601726532,
          0.1588195264339447,
          0.11711567640304565,
          0.11894416809082031,
          0.2557734251022339,
          0.18032442033290863,
          0.31647050380706787,
          0.005899490788578987,
          0.23245587944984436,
          0.18013158440589905,
          0.13538338243961334,
          0.18032442033290863,
          -0.005672651343047619,
          0.36690661311149597,
          0.16653019189834595,
          0.15439572930335999,
          0.15388865768909454,
          -0.10852161049842834,
          0.16929203271865845,
          0.05827096849679947,
          0.1835220605134964
         ],
         "y": [
          14,
          14,
          14,
          14,
          14,
          14,
          14,
          14,
          14,
          14,
          14,
          14,
          14,
          14,
          14,
          14,
          14,
          14,
          14,
          14,
          14,
          14,
          14,
          14,
          14,
          14,
          14,
          14,
          14,
          14,
          14,
          14,
          14,
          14,
          14,
          14,
          14,
          14,
          14,
          14,
          14,
          14,
          14,
          14,
          14,
          14,
          14,
          14,
          14,
          14,
          14,
          14,
          14,
          14,
          14,
          14,
          14,
          14,
          14,
          14,
          14,
          14,
          14,
          14,
          14,
          14,
          14,
          14,
          14,
          14,
          14
         ]
        },
        {
         "hoverinfo": "x+y",
         "marker": {
          "color": "rgba(31,119,180,0.6)",
          "line": {
           "width": 0
          },
          "opacity": 0.35,
          "size": 6
         },
         "mode": "markers",
         "name": "window_15",
         "type": "scatter",
         "x": [
          -0.20416975021362305,
          0.32920292019844055,
          0.3220559358596802,
          0.05470498651266098,
          0.4047859311103821,
          0.27386268973350525,
          0.2532360553741455,
          0.1407608687877655,
          -0.20416975021362305,
          0.35789817571640015,
          0.32452696561813354,
          0.26426878571510315,
          0.2532360553741455,
          0.0667443796992302,
          -0.20276272296905518,
          0.1435728371143341,
          0.1951119601726532,
          0.1588195264339447,
          0.11711567640304565,
          0.11894416809082031,
          0.2557734251022339,
          0.18032442033290863,
          0.31647050380706787,
          0.005899490788578987,
          0.23245587944984436,
          0.18013158440589905,
          0.13538338243961334,
          0.18032442033290863,
          -0.005672651343047619,
          0.36690661311149597,
          0.16653019189834595,
          0.15439572930335999,
          0.15388865768909454,
          -0.10852161049842834,
          0.16929203271865845,
          0.05827096849679947,
          0.1835220605134964,
          0.11903534829616547,
          0.4041479229927063,
          0.29202836751937866,
          0.2746206521987915,
          0.027837950736284256,
          0.04743879288434982,
          -0.005672651343047619,
          0.3205832540988922,
          -0.07609889656305313,
          0.3164554834365845,
          0.1835220605134964,
          0.06979790329933167,
          0.09938699007034302,
          -0.005672651343047619,
          0.36690661311149597,
          -0.10852161049842834,
          0.20379531383514404,
          0.05827096849679947,
          0.27078455686569214,
          0.32452690601348877,
          0.21815095841884613,
          0.1984267234802246,
          0.277493953704834,
          0.3274685740470886,
          -0.005672651343047619,
          0.36690661311149597,
          0.3274685740470886,
          0.14107578992843628,
          0.3274685740470886,
          0.327796071767807,
          0.3274685740470886,
          0.24192491173744202,
          0.045475855469703674,
          -0.20416975021362305,
          0.34741705656051636,
          0.26426878571510315,
          0.2532360553741455,
          0.0667443796992302,
          0.24625837802886963,
          0.021933753043413162,
          0.08361688256263733
         ],
         "y": [
          15,
          15,
          15,
          15,
          15,
          15,
          15,
          15,
          15,
          15,
          15,
          15,
          15,
          15,
          15,
          15,
          15,
          15,
          15,
          15,
          15,
          15,
          15,
          15,
          15,
          15,
          15,
          15,
          15,
          15,
          15,
          15,
          15,
          15,
          15,
          15,
          15,
          15,
          15,
          15,
          15,
          15,
          15,
          15,
          15,
          15,
          15,
          15,
          15,
          15,
          15,
          15,
          15,
          15,
          15,
          15,
          15,
          15,
          15,
          15,
          15,
          15,
          15,
          15,
          15,
          15,
          15,
          15,
          15,
          15,
          15,
          15,
          15,
          15,
          15,
          15,
          15,
          15
         ]
        },
        {
         "hoverinfo": "x+y",
         "marker": {
          "color": "rgba(31,119,180,0.6)",
          "line": {
           "width": 0
          },
          "opacity": 0.35,
          "size": 6
         },
         "mode": "markers",
         "name": "window_16",
         "type": "scatter",
         "x": [
          0.11903534829616547,
          0.4041479229927063,
          0.29202836751937866,
          0.2746206521987915,
          0.027837950736284256,
          0.04743879288434982,
          -0.005672651343047619,
          0.3205832540988922,
          -0.07609889656305313,
          0.3164554834365845,
          0.1835220605134964,
          0.06979790329933167,
          0.09938699007034302,
          -0.005672651343047619,
          0.36690661311149597,
          -0.10852161049842834,
          0.20379523932933807,
          0.05827096849679947,
          0.27078452706336975,
          0.32452696561813354,
          0.21815094351768494,
          0.1984267234802246,
          0.277493953704834,
          0.3274685740470886,
          -0.005672651343047619,
          0.36690661311149597,
          0.3274685740470886,
          0.14107578992843628,
          0.3274685740470886,
          0.327796071767807,
          0.3274685740470886,
          0.24192491173744202,
          0.045475855469703674,
          -0.20416975021362305,
          0.34741705656051636,
          0.26426878571510315,
          0.25323617458343506,
          0.0667443722486496,
          0.24625836312770844,
          0.021933745592832565,
          0.08361687511205673,
          0.002923525869846344,
          0.13508501648902893,
          -0.20276272296905518,
          0.1951119601726532,
          0.10008634626865387,
          0.004958076868206263,
          0.118742935359478,
          0.1288280189037323,
          0.23436793684959412,
          0.15057401359081268,
          0.029363524168729782,
          0.19469735026359558,
          0.18032442033290863,
          0.15181034803390503,
          0.15388865768909454,
          -0.10852161049842834,
          0.16929203271865845,
          0.05827096849679947,
          0.21703177690505981,
          0.012610464356839657,
          0.27484527230262756,
          0.23436793684959412,
          0.06979790329933167,
          0.12822860479354858,
          0.15181028842926025,
          0.15111523866653442,
          0.23954081535339355,
          0.04743879288434982,
          0.13508501648902893,
          -0.10852161049842834,
          0.20379531383514404,
          0.05827096849679947,
          0.24625837802886963
         ],
         "y": [
          16,
          16,
          16,
          16,
          16,
          16,
          16,
          16,
          16,
          16,
          16,
          16,
          16,
          16,
          16,
          16,
          16,
          16,
          16,
          16,
          16,
          16,
          16,
          16,
          16,
          16,
          16,
          16,
          16,
          16,
          16,
          16,
          16,
          16,
          16,
          16,
          16,
          16,
          16,
          16,
          16,
          16,
          16,
          16,
          16,
          16,
          16,
          16,
          16,
          16,
          16,
          16,
          16,
          16,
          16,
          16,
          16,
          16,
          16,
          16,
          16,
          16,
          16,
          16,
          16,
          16,
          16,
          16,
          16,
          16,
          16,
          16,
          16,
          16
         ]
        },
        {
         "hoverinfo": "x+y",
         "marker": {
          "color": "rgba(31,119,180,0.6)",
          "line": {
           "width": 0
          },
          "opacity": 0.35,
          "size": 6
         },
         "mode": "markers",
         "name": "window_17",
         "type": "scatter",
         "x": [
          0.002923525869846344,
          0.13508501648902893,
          -0.20276272296905518,
          0.1951119601726532,
          0.10008634626865387,
          0.004958076868206263,
          0.118742935359478,
          0.1288280189037323,
          0.23436793684959412,
          0.15057401359081268,
          0.029363524168729782,
          0.19469735026359558,
          0.18032442033290863,
          0.15181028842926025,
          0.15388865768909454,
          -0.10852161049842834,
          0.16929203271865845,
          0.05827096849679947,
          0.21703177690505981,
          0.012610464356839657,
          0.27484527230262756,
          0.23436793684959412,
          0.06979790329933167,
          0.12822860479354858,
          0.15181028842926025,
          0.15111523866653442,
          0.23954081535339355,
          0.04743879288434982,
          0.13508501648902893,
          -0.10852161049842834,
          0.20379531383514404,
          0.05827096849679947,
          0.24625836312770844,
          0.14910036325454712,
          0.32452690601348877,
          0.15181034803390503,
          -0.005672651343047619,
          0.36690661311149597,
          0.15057401359081268,
          0.029363524168729782,
          0.09697891771793365,
          0.14107578992843628,
          -0.20416975021362305,
          0.3611143231391907,
          0.3226395845413208,
          0.26426878571510315,
          0.2532360553741455,
          0.0667443796992302,
          0.2853515148162842,
          0.3226395845413208,
          0.1227971538901329,
          0.18032442033290863,
          0.1350850760936737,
          0.23205457627773285,
          0.3824231028556824,
          0.23446068167686462,
          -0.005672651343047619,
          0.36690661311149597,
          0.15439572930335999,
          0.15388865768909454,
          -0.07609889656305313,
          0.09938699007034302,
          0.26268282532691956,
          0.06979790329933167,
          0.22079917788505554,
          0.0825493112206459,
          -0.005672651343047619,
          0.36690661311149597,
          -0.10852161049842834,
          0.16929203271865845,
          0.05827096849679947,
          0.18457560241222382
         ],
         "y": [
          17,
          17,
          17,
          17,
          17,
          17,
          17,
          17,
          17,
          17,
          17,
          17,
          17,
          17,
          17,
          17,
          17,
          17,
          17,
          17,
          17,
          17,
          17,
          17,
          17,
          17,
          17,
          17,
          17,
          17,
          17,
          17,
          17,
          17,
          17,
          17,
          17,
          17,
          17,
          17,
          17,
          17,
          17,
          17,
          17,
          17,
          17,
          17,
          17,
          17,
          17,
          17,
          17,
          17,
          17,
          17,
          17,
          17,
          17,
          17,
          17,
          17,
          17,
          17,
          17,
          17,
          17,
          17,
          17,
          17,
          17,
          17
         ]
        },
        {
         "hoverinfo": "x+y",
         "marker": {
          "color": "rgba(31,119,180,0.6)",
          "line": {
           "width": 0
          },
          "opacity": 0.35,
          "size": 6
         },
         "mode": "markers",
         "name": "window_18",
         "type": "scatter",
         "x": [
          0.14910036325454712,
          0.32452696561813354,
          0.15181028842926025,
          -0.005672651343047619,
          0.36690661311149597,
          0.15057401359081268,
          0.029363524168729782,
          0.09697891771793365,
          0.14107578992843628,
          -0.20416975021362305,
          0.3611143231391907,
          0.3226395845413208,
          0.26426878571510315,
          0.2532360553741455,
          0.0667443796992302,
          0.2853515148162842,
          0.3226395845413208,
          0.1227971538901329,
          0.18032442033290863,
          0.13508501648902893,
          0.23205459117889404,
          0.3824231028556824,
          0.23446068167686462,
          -0.005672651343047619,
          0.36690661311149597,
          0.15439572930335999,
          0.15388865768909454,
          -0.07609889656305313,
          0.09938699007034302,
          0.26268282532691956,
          0.06979790329933167,
          0.22079917788505554,
          0.0825493112206459,
          -0.005672651343047619,
          0.36690661311149597,
          -0.10852161049842834,
          0.16929203271865845,
          0.05827096849679947,
          0.18457560241222382,
          0.2223936766386032,
          0.0019781114533543587,
          0.16532188653945923,
          -0.1414383202791214,
          0.19318798184394836,
          -0.07609889656305313,
          0.18457560241222382,
          0.06899948418140411,
          -0.010712029412388802,
          0.06979790329933167,
          0.2979288697242737,
          0.3452187776565552,
          0.03007095865905285,
          0.20842388272285461,
          -0.10852161049842834,
          0.20379531383514404,
          0.05827096849679947,
          0.3522278666496277,
          0.1543956696987152,
          0.18013156950473785,
          -0.005672651343047619,
          0.36690661311149597,
          0.22079917788505554,
          0.15439572930335999,
          0.07184841483831406,
          0.3274685740470886,
          0.27088257670402527,
          0.3274685740470886,
          0.29231664538383484,
          0.3274685740470886,
          0.327796071767807,
          0.3274685740470886,
          0.24192491173744202,
          0.045475855469703674,
          -0.20416975021362305,
          0.18535014986991882,
          0.3228151202201843,
          0.2251732051372528,
          0.29496920108795166
         ],
         "y": [
          18,
          18,
          18,
          18,
          18,
          18,
          18,
          18,
          18,
          18,
          18,
          18,
          18,
          18,
          18,
          18,
          18,
          18,
          18,
          18,
          18,
          18,
          18,
          18,
          18,
          18,
          18,
          18,
          18,
          18,
          18,
          18,
          18,
          18,
          18,
          18,
          18,
          18,
          18,
          18,
          18,
          18,
          18,
          18,
          18,
          18,
          18,
          18,
          18,
          18,
          18,
          18,
          18,
          18,
          18,
          18,
          18,
          18,
          18,
          18,
          18,
          18,
          18,
          18,
          18,
          18,
          18,
          18,
          18,
          18,
          18,
          18,
          18,
          18,
          18,
          18,
          18,
          18
         ]
        },
        {
         "hoverinfo": "x+y",
         "marker": {
          "color": "rgba(31,119,180,0.6)",
          "line": {
           "width": 0
          },
          "opacity": 0.35,
          "size": 6
         },
         "mode": "markers",
         "name": "window_19",
         "type": "scatter",
         "x": [
          0.2223936766386032,
          0.0019781114533543587,
          0.16532188653945923,
          -0.1414383202791214,
          0.19318798184394836,
          -0.07609889656305313,
          0.18457560241222382,
          0.06899948418140411,
          -0.010712029412388802,
          0.06979790329933167,
          0.2979288697242737,
          0.3452187776565552,
          0.03007095865905285,
          0.20842388272285461,
          -0.10852161049842834,
          0.20379531383514404,
          0.05827096849679947,
          0.3522278666496277,
          0.15439572930335999,
          0.18013158440589905,
          -0.005672651343047619,
          0.36690661311149597,
          0.22079917788505554,
          0.15439572930335999,
          0.07184841483831406,
          0.3274685740470886,
          0.27088257670402527,
          0.3274685740470886,
          0.29231664538383484,
          0.3274685740470886,
          0.327796071767807,
          0.3274685740470886,
          0.24192491173744202,
          0.045475855469703674,
          -0.20416975021362305,
          0.18535014986991882,
          0.3228151202201843,
          0.2251732498407364,
          0.29496920108795166,
          0.26426878571510315,
          0.2532360553741455,
          0.0667443796992302,
          0.3035103976726532,
          0.1499408781528473,
          0.16075238585472107,
          -0.139958918094635,
          0.063719742000103,
          0.017289798706769943,
          0.10008634626865387,
          0.09997818619012833,
          0.1228659451007843,
          0.017289796844124794,
          0.11307021230459213,
          0.11235576122999191,
          0.18032442033290863,
          0.06167265400290489,
          0.08478224277496338,
          -0.10852161049842834,
          0.16929203271865845,
          0.05827096849679947,
          0.12246496975421906,
          0.06979790329933167,
          -0.041233472526073456,
          0.1951119601726532,
          0.18032442033290863,
          0.269440621137619,
          0.1217430979013443,
          0.1228659451007843,
          0.09734359383583069
         ],
         "y": [
          19,
          19,
          19,
          19,
          19,
          19,
          19,
          19,
          19,
          19,
          19,
          19,
          19,
          19,
          19,
          19,
          19,
          19,
          19,
          19,
          19,
          19,
          19,
          19,
          19,
          19,
          19,
          19,
          19,
          19,
          19,
          19,
          19,
          19,
          19,
          19,
          19,
          19,
          19,
          19,
          19,
          19,
          19,
          19,
          19,
          19,
          19,
          19,
          19,
          19,
          19,
          19,
          19,
          19,
          19,
          19,
          19,
          19,
          19,
          19,
          19,
          19,
          19,
          19,
          19,
          19,
          19,
          19,
          19
         ]
        },
        {
         "hoverinfo": "x+y",
         "marker": {
          "color": "rgba(31,119,180,0.6)",
          "line": {
           "width": 0
          },
          "opacity": 0.35,
          "size": 6
         },
         "mode": "markers",
         "name": "window_20",
         "type": "scatter",
         "x": [
          0.26426878571510315,
          0.2532360553741455,
          0.0667443796992302,
          0.3035103976726532,
          0.1499408781528473,
          0.16075238585472107,
          -0.139958918094635,
          0.063719742000103,
          0.017289798706769943,
          0.10008634626865387,
          0.09997818619012833,
          0.1228659451007843,
          0.017289798706769943,
          0.11307021230459213,
          0.11235576122999191,
          0.18032442033290863,
          0.06167265400290489,
          0.08478224277496338,
          -0.10852161049842834,
          0.16929203271865845,
          0.05827096849679947,
          0.12246496975421906,
          0.06979790329933167,
          -0.041233472526073456,
          0.1951119601726532,
          0.18032442033290863,
          0.269440621137619,
          0.1217430979013443,
          0.1228659451007843,
          0.09734359383583069,
          0.15111523866653442,
          0.11572371423244476,
          -0.005672651343047619,
          0.36690661311149597,
          0.1228659451007843,
          0.22248120605945587,
          -0.10852161049842834,
          0.20379531383514404,
          0.05827096849679947,
          0.2251732498407364,
          0.29496920108795166,
          0.20682233572006226,
          0.14910036325454712,
          0.24032726883888245,
          0.28102266788482666,
          0.11572371423244476,
          -0.005672651343047619,
          0.36690661311149597,
          0.2228299379348755,
          0.2909640073776245,
          0.054168663918972015,
          0.054168663918972015,
          0.23245587944984436,
          -0.20416975021362305,
          0.28941166400909424,
          0.15903502702713013,
          0.2782559394836426,
          0.4262848496437073,
          0.14528095722198486,
          0.17529138922691345,
          0.03787146508693695,
          0.29418444633483887,
          0.36954647302627563,
          0.0667443796992302
         ],
         "y": [
          20,
          20,
          20,
          20,
          20,
          20,
          20,
          20,
          20,
          20,
          20,
          20,
          20,
          20,
          20,
          20,
          20,
          20,
          20,
          20,
          20,
          20,
          20,
          20,
          20,
          20,
          20,
          20,
          20,
          20,
          20,
          20,
          20,
          20,
          20,
          20,
          20,
          20,
          20,
          20,
          20,
          20,
          20,
          20,
          20,
          20,
          20,
          20,
          20,
          20,
          20,
          20,
          20,
          20,
          20,
          20,
          20,
          20,
          20,
          20,
          20,
          20,
          20,
          20
         ]
        },
        {
         "hoverinfo": "x+y",
         "marker": {
          "color": "rgba(31,119,180,0.6)",
          "line": {
           "width": 0
          },
          "opacity": 0.35,
          "size": 6
         },
         "mode": "markers",
         "name": "window_21",
         "type": "scatter",
         "x": [
          0.15111523866653442,
          0.11572371423244476,
          -0.005672651343047619,
          0.36690661311149597,
          0.1228659451007843,
          0.22248120605945587,
          -0.10852161049842834,
          0.20379531383514404,
          0.05827096849679947,
          0.2251732498407364,
          0.29496920108795166,
          0.20682233572006226,
          0.14910036325454712,
          0.24032726883888245,
          0.28102266788482666,
          0.11572371423244476,
          -0.0056726569309830666,
          0.3669067323207855,
          0.22282996773719788,
          0.2909640073776245,
          0.054168663918972015,
          0.054168663918972015,
          0.23245587944984436,
          -0.20416975021362305,
          0.28941166400909424,
          0.15903502702713013,
          0.2782559394836426,
          0.4262848496437073,
          0.14528095722198486,
          0.17529138922691345,
          0.03787146508693695,
          0.29418444633483887,
          0.36954647302627563,
          0.0667443796992302,
          -0.10852161049842834,
          0.38039207458496094,
          0.14528101682662964,
          0.05827096849679947,
          -0.06796963512897491,
          0.03792867809534073,
          0.13373896479606628,
          -0.03726077824831009,
          0.2004416435956955,
          0.11235576122999191,
          -0.03726077824831009,
          0.16653019189834595,
          0.08414041996002197,
          0.28909817337989807,
          0.3274685740470886,
          0.29231664538383484,
          -0.03726077824831009,
          0.2004416435956955,
          0.23245587944984436,
          0.005899490788578987,
          -0.10852160304784775,
          0.16929203271865845,
          0.05827096849679947,
          0.18032442033290863,
          0.08295214921236038,
          0.17893600463867188,
          0.2004416435956955,
          -0.13384884595870972,
          -0.1414383202791214,
          0.3943833112716675,
          0.18509995937347412,
          0.17653439939022064,
          -0.10852161049842834,
          0.2633875608444214,
          0.03787146508693695,
          0.29418444633483887,
          0.36954647302627563,
          0.05827096849679947,
          -0.06796963512897491,
          0.06691035628318787
         ],
         "y": [
          21,
          21,
          21,
          21,
          21,
          21,
          21,
          21,
          21,
          21,
          21,
          21,
          21,
          21,
          21,
          21,
          21,
          21,
          21,
          21,
          21,
          21,
          21,
          21,
          21,
          21,
          21,
          21,
          21,
          21,
          21,
          21,
          21,
          21,
          21,
          21,
          21,
          21,
          21,
          21,
          21,
          21,
          21,
          21,
          21,
          21,
          21,
          21,
          21,
          21,
          21,
          21,
          21,
          21,
          21,
          21,
          21,
          21,
          21,
          21,
          21,
          21,
          21,
          21,
          21,
          21,
          21,
          21,
          21,
          21,
          21,
          21,
          21,
          21
         ]
        },
        {
         "hoverinfo": "x+y",
         "marker": {
          "color": "rgba(31,119,180,0.6)",
          "line": {
           "width": 0
          },
          "opacity": 0.35,
          "size": 6
         },
         "mode": "markers",
         "name": "window_22",
         "type": "scatter",
         "x": [
          -0.10852161049842834,
          0.3803919553756714,
          0.14528095722198486,
          0.05827096849679947,
          -0.06796963512897491,
          0.03792867809534073,
          0.13373896479606628,
          -0.03726077824831009,
          0.2004416435956955,
          0.11235576122999191,
          -0.03726077824831009,
          0.16653019189834595,
          0.08414041996002197,
          0.28909817337989807,
          0.3274685740470886,
          0.29231664538383484,
          -0.03726077824831009,
          0.2004416435956955,
          0.23245587944984436,
          0.005899490788578987,
          -0.10852161049842834,
          0.16929203271865845,
          0.05827096849679947,
          0.18032442033290863,
          0.08295214921236038,
          0.17893600463867188,
          0.2004416435956955,
          -0.13384884595870972,
          -0.1414383202791214,
          0.3943833112716675,
          0.18509995937347412,
          0.17653439939022064,
          -0.10852161049842834,
          0.2633875608444214,
          0.03787146508693695,
          0.29418444633483887,
          0.36954647302627563,
          0.05827096849679947,
          -0.06796963512897491,
          0.06691034138202667,
          0.2288665771484375,
          0.05009559541940689,
          -0.11279354244470596,
          -0.04608972370624542,
          0.1581183522939682,
          0.019551046192646027,
          -0.04608972370624542,
          0.15424580872058868,
          0.2004416435956955,
          0.14977332949638367,
          0.1416088193655014,
          0.1581183522939682,
          0.019551046192646027,
          0.1217430979013443,
          0.18848872184753418,
          0.1951119601726532,
          -0.10852160304784775,
          0.16929203271865845,
          0.05827096849679947,
          0.18032442033290863,
          0.1581183522939682,
          0.012610464356839657,
          -0.005672651343047619,
          0.36690661311149597,
          0.1271752119064331,
          0.012610464356839657,
          -0.005672651343047619,
          0.36690661311149597,
          -0.07609889656305313,
          0.18032442033290863,
          0.15424580872058868,
          0.1835220605134964,
          0.27027255296707153,
          -0.005672651343047619,
          0.36690661311149597,
          0.1271752417087555,
          0.0825493335723877,
          -0.005672650411725044
         ],
         "y": [
          22,
          22,
          22,
          22,
          22,
          22,
          22,
          22,
          22,
          22,
          22,
          22,
          22,
          22,
          22,
          22,
          22,
          22,
          22,
          22,
          22,
          22,
          22,
          22,
          22,
          22,
          22,
          22,
          22,
          22,
          22,
          22,
          22,
          22,
          22,
          22,
          22,
          22,
          22,
          22,
          22,
          22,
          22,
          22,
          22,
          22,
          22,
          22,
          22,
          22,
          22,
          22,
          22,
          22,
          22,
          22,
          22,
          22,
          22,
          22,
          22,
          22,
          22,
          22,
          22,
          22,
          22,
          22,
          22,
          22,
          22,
          22,
          22,
          22,
          22,
          22,
          22,
          22
         ]
        },
        {
         "hoverinfo": "x+y",
         "marker": {
          "color": "rgba(31,119,180,0.6)",
          "line": {
           "width": 0
          },
          "opacity": 0.35,
          "size": 6
         },
         "mode": "markers",
         "name": "window_23",
         "type": "scatter",
         "x": [
          0.2288665771484375,
          0.05009559541940689,
          -0.11279354244470596,
          -0.04608972370624542,
          0.1581183522939682,
          0.019551046192646027,
          -0.04608972370624542,
          0.15424580872058868,
          0.2004416435956955,
          0.14977332949638367,
          0.1416088193655014,
          0.1581183522939682,
          0.019551046192646027,
          0.1217430979013443,
          0.18848872184753418,
          0.1951119601726532,
          -0.10852160304784775,
          0.16929203271865845,
          0.05827096849679947,
          0.18032442033290863,
          0.1581183522939682,
          0.012610464356839657,
          -0.005672651343047619,
          0.36690661311149597,
          0.1271752119064331,
          0.012610464356839657,
          -0.005672651343047619,
          0.36690661311149597,
          -0.07609889656305313,
          0.18032442033290863,
          0.15424580872058868,
          0.1835220605134964,
          0.27027255296707153,
          -0.005672651343047619,
          0.36690661311149597,
          0.1271752417087555,
          0.0825493335723877,
          -0.005672650411725044,
          0.36690661311149597,
          -0.20416975021362305,
          0.29372918605804443,
          0.2483157515525818,
          0.05470498651266098,
          0.4047859311103821,
          0.26426878571510315,
          0.2532360553741455,
          0.0667443796992302,
          0.23205459117889404,
          0.26268282532691956,
          0.06979790329933167,
          0.04743879288434982,
          -0.07609889656305313,
          0.09938699007034302,
          0.26268282532691956,
          0.06979790329933167,
          0.09938700497150421,
          -0.10852161794900894,
          0.16929203271865845,
          0.05827096849679947,
          0.1835220605134964,
          0.11926967650651932,
          0.27686598896980286,
          0.06979790329933167,
          0.22079917788505554,
          0.0825493112206459,
          -0.005672651343047619,
          0.36690661311149597,
          -0.07609889656305313,
          0.1835220605134964,
          0.11926967650651932,
          0.2209874391555786,
          0.06979790329933167,
          0.0825493112206459,
          -0.0056726569309830666,
          0.3669067323207855,
          0.0825493112206459
         ],
         "y": [
          23,
          23,
          23,
          23,
          23,
          23,
          23,
          23,
          23,
          23,
          23,
          23,
          23,
          23,
          23,
          23,
          23,
          23,
          23,
          23,
          23,
          23,
          23,
          23,
          23,
          23,
          23,
          23,
          23,
          23,
          23,
          23,
          23,
          23,
          23,
          23,
          23,
          23,
          23,
          23,
          23,
          23,
          23,
          23,
          23,
          23,
          23,
          23,
          23,
          23,
          23,
          23,
          23,
          23,
          23,
          23,
          23,
          23,
          23,
          23,
          23,
          23,
          23,
          23,
          23,
          23,
          23,
          23,
          23,
          23,
          23,
          23,
          23,
          23,
          23,
          23
         ]
        },
        {
         "hoverinfo": "x+y",
         "marker": {
          "color": "rgba(31,119,180,0.6)",
          "line": {
           "width": 0
          },
          "opacity": 0.35,
          "size": 6
         },
         "mode": "markers",
         "name": "window_24",
         "type": "scatter",
         "x": [
          0.36690661311149597,
          -0.20416975021362305,
          0.29372918605804443,
          0.2483157515525818,
          0.05470498651266098,
          0.4047859311103821,
          0.26426878571510315,
          0.2532360553741455,
          0.0667443796992302,
          0.23205459117889404,
          0.26268282532691956,
          0.06979790329933167,
          0.04743879288434982,
          -0.07609889656305313,
          0.09938699007034302,
          0.26268282532691956,
          0.06979790329933167,
          0.09938699007034302,
          -0.10852161049842834,
          0.16929203271865845,
          0.05827096849679947,
          0.1835220605134964,
          0.11926967650651932,
          0.27686598896980286,
          0.06979790329933167,
          0.22079917788505554,
          0.0825493112206459,
          -0.005672651343047619,
          0.36690661311149597,
          -0.07609889656305313,
          0.1835220605134964,
          0.11926967650651932,
          0.2209874391555786,
          0.06979790329933167,
          0.0825493112206459,
          -0.005672651343047619,
          0.3669067323207855,
          0.0825493335723877,
          0.15181028842926025,
          0.3337838649749756,
          -0.10852161049842834,
          0.20379531383514404,
          0.05827096849679947,
          0.23205459117889404,
          0.29575198888778687,
          0.2483157515525818,
          0.29575198888778687,
          0.22079917788505554,
          0.0825493112206459,
          -0.005672651343047619,
          0.36690661311149597,
          0.15181028842926025,
          0.22593481838703156,
          0.22282929718494415,
          -0.20416975021362305,
          0.13428525626659393,
          -0.0067064883187413216,
          0.2509046196937561,
          0.15407530963420868,
          0.26426878571510315,
          0.2532360553741455,
          0.0667443796992302,
          0.1297232061624527,
          -0.006706480868160725,
          0.2509046196937561,
          0.16058960556983948,
          0.2551769018173218,
          0.030121393501758575,
          0.3268064558506012,
          0.23205459117889404,
          0.26268282532691956,
          0.10464778542518616,
          -0.005672651343047619,
          0.36690661311149597,
          0.1543956696987152,
          0.15388865768909454,
          0.04577130451798439
         ],
         "y": [
          24,
          24,
          24,
          24,
          24,
          24,
          24,
          24,
          24,
          24,
          24,
          24,
          24,
          24,
          24,
          24,
          24,
          24,
          24,
          24,
          24,
          24,
          24,
          24,
          24,
          24,
          24,
          24,
          24,
          24,
          24,
          24,
          24,
          24,
          24,
          24,
          24,
          24,
          24,
          24,
          24,
          24,
          24,
          24,
          24,
          24,
          24,
          24,
          24,
          24,
          24,
          24,
          24,
          24,
          24,
          24,
          24,
          24,
          24,
          24,
          24,
          24,
          24,
          24,
          24,
          24,
          24,
          24,
          24,
          24,
          24,
          24,
          24,
          24,
          24,
          24,
          24
         ]
        },
        {
         "hoverinfo": "x+y",
         "marker": {
          "color": "rgba(31,119,180,0.6)",
          "line": {
           "width": 0
          },
          "opacity": 0.35,
          "size": 6
         },
         "mode": "markers",
         "name": "window_25",
         "type": "scatter",
         "x": [
          0.15181028842926025,
          0.3337838649749756,
          -0.10852161049842834,
          0.20379531383514404,
          0.05827096849679947,
          0.23205459117889404,
          0.29575198888778687,
          0.2483157515525818,
          0.29575198888778687,
          0.22079917788505554,
          0.0825493112206459,
          -0.005672651343047619,
          0.36690661311149597,
          0.15181028842926025,
          0.22593481838703156,
          0.22282929718494415,
          -0.20416976511478424,
          0.13428525626659393,
          -0.006706479005515575,
          0.2509046196937561,
          0.15407530963420868,
          0.26426878571510315,
          0.2532360553741455,
          0.0667443796992302,
          0.1297232061624527,
          -0.006706480868160725,
          0.2509046196937561,
          0.16058960556983948,
          0.2551769018173218,
          0.030121393501758575,
          0.3268064558506012,
          0.23205459117889404,
          0.26268282532691956,
          0.10464778542518616,
          -0.005672651343047619,
          0.3669067323207855,
          0.1543956696987152,
          0.15388865768909454,
          0.04577130451798439,
          0.2909640073776245,
          -0.10852161049842834,
          0.16929203271865845,
          0.05827096849679947,
          0.18032442033290863,
          0.19871526956558228,
          -0.08307211101055145,
          0.29202836751937866,
          0.1435728371143341,
          0.1951119601726532,
          -0.1414383202791214,
          0.3285287022590637,
          0.3337838649749756,
          -0.10852161049842834,
          0.20379531383514404,
          0.05827096849679947,
          0.1297232210636139,
          -0.006706479005515575,
          0.2509046196937561,
          0.13508501648902893,
          0.22282929718494415,
          0.15439572930335999,
          0.07184841483831406,
          0.054168663918972015,
          0.054168663918972015,
          0.23245587944984436,
          -0.20416975021362305,
          0.19521060585975647,
          0.0667443796992302,
          0.32920292019844055,
          0.3220559358596802,
          0.26268282532691956,
          0.11235576122999191,
          0.13508501648902893,
          -0.1122661828994751,
          0.1435728371143341,
          0.1951119601726532
         ],
         "y": [
          25,
          25,
          25,
          25,
          25,
          25,
          25,
          25,
          25,
          25,
          25,
          25,
          25,
          25,
          25,
          25,
          25,
          25,
          25,
          25,
          25,
          25,
          25,
          25,
          25,
          25,
          25,
          25,
          25,
          25,
          25,
          25,
          25,
          25,
          25,
          25,
          25,
          25,
          25,
          25,
          25,
          25,
          25,
          25,
          25,
          25,
          25,
          25,
          25,
          25,
          25,
          25,
          25,
          25,
          25,
          25,
          25,
          25,
          25,
          25,
          25,
          25,
          25,
          25,
          25,
          25,
          25,
          25,
          25,
          25,
          25,
          25,
          25,
          25,
          25,
          25
         ]
        },
        {
         "hoverinfo": "x+y",
         "marker": {
          "color": "rgba(31,119,180,0.6)",
          "line": {
           "width": 0
          },
          "opacity": 0.35,
          "size": 6
         },
         "mode": "markers",
         "name": "window_26",
         "type": "scatter",
         "x": [
          0.2909640073776245,
          -0.10852161049842834,
          0.16929203271865845,
          0.05827096849679947,
          0.18032442033290863,
          0.19871526956558228,
          -0.08307211101055145,
          0.29202836751937866,
          0.1435728371143341,
          0.1951119601726532,
          -0.1414383202791214,
          0.3285287022590637,
          0.3337838649749756,
          -0.10852161049842834,
          0.20379531383514404,
          0.05827096849679947,
          0.1297232061624527,
          -0.006706480868160725,
          0.2509046196937561,
          0.13508501648902893,
          0.22282929718494415,
          0.15439572930335999,
          0.07184841483831406,
          0.054168663918972015,
          0.054168663918972015,
          0.23245587944984436,
          -0.20416975021362305,
          0.19521060585975647,
          0.0667443796992302,
          0.32920292019844055,
          0.3220559358596802,
          0.26268282532691956,
          0.11235576122999191,
          0.13508501648902893,
          -0.1122661903500557,
          0.1435728371143341,
          0.1951119303703308,
          0.23436787724494934,
          0.3824231028556824,
          0.12313743680715561,
          0.1499408781528473,
          0.16075238585472107,
          0.30797097086906433,
          0.10693714767694473,
          0.3274685740470886,
          0.03792867809534073,
          0.1154259592294693,
          0.03787146508693695,
          0.3661709725856781,
          0.09734359383583069,
          0.13441014289855957,
          0.050136543810367584,
          0.26268282532691956,
          0.23205459117889404,
          0.26268282532691956,
          0.2583744525909424,
          -0.0056726569309830666,
          0.36690661311149597,
          0.15439572930335999,
          0.15388865768909454,
          -0.07609889656305313,
          0.09938699007034302,
          0.26268282532691956,
          0.06979790329933167,
          0.22079917788505554,
          0.0825493112206459,
          -0.005672651343047619,
          0.36690661311149597,
          0.1297232061624527,
          -0.006706480868160725,
          0.2509046196937561,
          0.15439572930335999,
          0.07184841483831406,
          0.08847105503082275,
          0.11711567640304565,
          0.11894416809082031,
          0.054168663918972015
         ],
         "y": [
          26,
          26,
          26,
          26,
          26,
          26,
          26,
          26,
          26,
          26,
          26,
          26,
          26,
          26,
          26,
          26,
          26,
          26,
          26,
          26,
          26,
          26,
          26,
          26,
          26,
          26,
          26,
          26,
          26,
          26,
          26,
          26,
          26,
          26,
          26,
          26,
          26,
          26,
          26,
          26,
          26,
          26,
          26,
          26,
          26,
          26,
          26,
          26,
          26,
          26,
          26,
          26,
          26,
          26,
          26,
          26,
          26,
          26,
          26,
          26,
          26,
          26,
          26,
          26,
          26,
          26,
          26,
          26,
          26,
          26,
          26,
          26,
          26,
          26,
          26,
          26,
          26
         ]
        }
       ],
       "layout": {
        "height": 500,
        "showlegend": false,
        "template": {
         "data": {
          "bar": [
           {
            "error_x": {
             "color": "#2a3f5f"
            },
            "error_y": {
             "color": "#2a3f5f"
            },
            "marker": {
             "line": {
              "color": "#E5ECF6",
              "width": 0.5
             },
             "pattern": {
              "fillmode": "overlay",
              "size": 10,
              "solidity": 0.2
             }
            },
            "type": "bar"
           }
          ],
          "barpolar": [
           {
            "marker": {
             "line": {
              "color": "#E5ECF6",
              "width": 0.5
             },
             "pattern": {
              "fillmode": "overlay",
              "size": 10,
              "solidity": 0.2
             }
            },
            "type": "barpolar"
           }
          ],
          "carpet": [
           {
            "aaxis": {
             "endlinecolor": "#2a3f5f",
             "gridcolor": "white",
             "linecolor": "white",
             "minorgridcolor": "white",
             "startlinecolor": "#2a3f5f"
            },
            "baxis": {
             "endlinecolor": "#2a3f5f",
             "gridcolor": "white",
             "linecolor": "white",
             "minorgridcolor": "white",
             "startlinecolor": "#2a3f5f"
            },
            "type": "carpet"
           }
          ],
          "choropleth": [
           {
            "colorbar": {
             "outlinewidth": 0,
             "ticks": ""
            },
            "type": "choropleth"
           }
          ],
          "contour": [
           {
            "colorbar": {
             "outlinewidth": 0,
             "ticks": ""
            },
            "colorscale": [
             [
              0,
              "#0d0887"
             ],
             [
              0.1111111111111111,
              "#46039f"
             ],
             [
              0.2222222222222222,
              "#7201a8"
             ],
             [
              0.3333333333333333,
              "#9c179e"
             ],
             [
              0.4444444444444444,
              "#bd3786"
             ],
             [
              0.5555555555555556,
              "#d8576b"
             ],
             [
              0.6666666666666666,
              "#ed7953"
             ],
             [
              0.7777777777777778,
              "#fb9f3a"
             ],
             [
              0.8888888888888888,
              "#fdca26"
             ],
             [
              1,
              "#f0f921"
             ]
            ],
            "type": "contour"
           }
          ],
          "contourcarpet": [
           {
            "colorbar": {
             "outlinewidth": 0,
             "ticks": ""
            },
            "type": "contourcarpet"
           }
          ],
          "heatmap": [
           {
            "colorbar": {
             "outlinewidth": 0,
             "ticks": ""
            },
            "colorscale": [
             [
              0,
              "#0d0887"
             ],
             [
              0.1111111111111111,
              "#46039f"
             ],
             [
              0.2222222222222222,
              "#7201a8"
             ],
             [
              0.3333333333333333,
              "#9c179e"
             ],
             [
              0.4444444444444444,
              "#bd3786"
             ],
             [
              0.5555555555555556,
              "#d8576b"
             ],
             [
              0.6666666666666666,
              "#ed7953"
             ],
             [
              0.7777777777777778,
              "#fb9f3a"
             ],
             [
              0.8888888888888888,
              "#fdca26"
             ],
             [
              1,
              "#f0f921"
             ]
            ],
            "type": "heatmap"
           }
          ],
          "histogram": [
           {
            "marker": {
             "pattern": {
              "fillmode": "overlay",
              "size": 10,
              "solidity": 0.2
             }
            },
            "type": "histogram"
           }
          ],
          "histogram2d": [
           {
            "colorbar": {
             "outlinewidth": 0,
             "ticks": ""
            },
            "colorscale": [
             [
              0,
              "#0d0887"
             ],
             [
              0.1111111111111111,
              "#46039f"
             ],
             [
              0.2222222222222222,
              "#7201a8"
             ],
             [
              0.3333333333333333,
              "#9c179e"
             ],
             [
              0.4444444444444444,
              "#bd3786"
             ],
             [
              0.5555555555555556,
              "#d8576b"
             ],
             [
              0.6666666666666666,
              "#ed7953"
             ],
             [
              0.7777777777777778,
              "#fb9f3a"
             ],
             [
              0.8888888888888888,
              "#fdca26"
             ],
             [
              1,
              "#f0f921"
             ]
            ],
            "type": "histogram2d"
           }
          ],
          "histogram2dcontour": [
           {
            "colorbar": {
             "outlinewidth": 0,
             "ticks": ""
            },
            "colorscale": [
             [
              0,
              "#0d0887"
             ],
             [
              0.1111111111111111,
              "#46039f"
             ],
             [
              0.2222222222222222,
              "#7201a8"
             ],
             [
              0.3333333333333333,
              "#9c179e"
             ],
             [
              0.4444444444444444,
              "#bd3786"
             ],
             [
              0.5555555555555556,
              "#d8576b"
             ],
             [
              0.6666666666666666,
              "#ed7953"
             ],
             [
              0.7777777777777778,
              "#fb9f3a"
             ],
             [
              0.8888888888888888,
              "#fdca26"
             ],
             [
              1,
              "#f0f921"
             ]
            ],
            "type": "histogram2dcontour"
           }
          ],
          "mesh3d": [
           {
            "colorbar": {
             "outlinewidth": 0,
             "ticks": ""
            },
            "type": "mesh3d"
           }
          ],
          "parcoords": [
           {
            "line": {
             "colorbar": {
              "outlinewidth": 0,
              "ticks": ""
             }
            },
            "type": "parcoords"
           }
          ],
          "pie": [
           {
            "automargin": true,
            "type": "pie"
           }
          ],
          "scatter": [
           {
            "fillpattern": {
             "fillmode": "overlay",
             "size": 10,
             "solidity": 0.2
            },
            "type": "scatter"
           }
          ],
          "scatter3d": [
           {
            "line": {
             "colorbar": {
              "outlinewidth": 0,
              "ticks": ""
             }
            },
            "marker": {
             "colorbar": {
              "outlinewidth": 0,
              "ticks": ""
             }
            },
            "type": "scatter3d"
           }
          ],
          "scattercarpet": [
           {
            "marker": {
             "colorbar": {
              "outlinewidth": 0,
              "ticks": ""
             }
            },
            "type": "scattercarpet"
           }
          ],
          "scattergeo": [
           {
            "marker": {
             "colorbar": {
              "outlinewidth": 0,
              "ticks": ""
             }
            },
            "type": "scattergeo"
           }
          ],
          "scattergl": [
           {
            "marker": {
             "colorbar": {
              "outlinewidth": 0,
              "ticks": ""
             }
            },
            "type": "scattergl"
           }
          ],
          "scattermap": [
           {
            "marker": {
             "colorbar": {
              "outlinewidth": 0,
              "ticks": ""
             }
            },
            "type": "scattermap"
           }
          ],
          "scattermapbox": [
           {
            "marker": {
             "colorbar": {
              "outlinewidth": 0,
              "ticks": ""
             }
            },
            "type": "scattermapbox"
           }
          ],
          "scatterpolar": [
           {
            "marker": {
             "colorbar": {
              "outlinewidth": 0,
              "ticks": ""
             }
            },
            "type": "scatterpolar"
           }
          ],
          "scatterpolargl": [
           {
            "marker": {
             "colorbar": {
              "outlinewidth": 0,
              "ticks": ""
             }
            },
            "type": "scatterpolargl"
           }
          ],
          "scatterternary": [
           {
            "marker": {
             "colorbar": {
              "outlinewidth": 0,
              "ticks": ""
             }
            },
            "type": "scatterternary"
           }
          ],
          "surface": [
           {
            "colorbar": {
             "outlinewidth": 0,
             "ticks": ""
            },
            "colorscale": [
             [
              0,
              "#0d0887"
             ],
             [
              0.1111111111111111,
              "#46039f"
             ],
             [
              0.2222222222222222,
              "#7201a8"
             ],
             [
              0.3333333333333333,
              "#9c179e"
             ],
             [
              0.4444444444444444,
              "#bd3786"
             ],
             [
              0.5555555555555556,
              "#d8576b"
             ],
             [
              0.6666666666666666,
              "#ed7953"
             ],
             [
              0.7777777777777778,
              "#fb9f3a"
             ],
             [
              0.8888888888888888,
              "#fdca26"
             ],
             [
              1,
              "#f0f921"
             ]
            ],
            "type": "surface"
           }
          ],
          "table": [
           {
            "cells": {
             "fill": {
              "color": "#EBF0F8"
             },
             "line": {
              "color": "white"
             }
            },
            "header": {
             "fill": {
              "color": "#C8D4E3"
             },
             "line": {
              "color": "white"
             }
            },
            "type": "table"
           }
          ]
         },
         "layout": {
          "annotationdefaults": {
           "arrowcolor": "#2a3f5f",
           "arrowhead": 0,
           "arrowwidth": 1
          },
          "autotypenumbers": "strict",
          "coloraxis": {
           "colorbar": {
            "outlinewidth": 0,
            "ticks": ""
           }
          },
          "colorscale": {
           "diverging": [
            [
             0,
             "#8e0152"
            ],
            [
             0.1,
             "#c51b7d"
            ],
            [
             0.2,
             "#de77ae"
            ],
            [
             0.3,
             "#f1b6da"
            ],
            [
             0.4,
             "#fde0ef"
            ],
            [
             0.5,
             "#f7f7f7"
            ],
            [
             0.6,
             "#e6f5d0"
            ],
            [
             0.7,
             "#b8e186"
            ],
            [
             0.8,
             "#7fbc41"
            ],
            [
             0.9,
             "#4d9221"
            ],
            [
             1,
             "#276419"
            ]
           ],
           "sequential": [
            [
             0,
             "#0d0887"
            ],
            [
             0.1111111111111111,
             "#46039f"
            ],
            [
             0.2222222222222222,
             "#7201a8"
            ],
            [
             0.3333333333333333,
             "#9c179e"
            ],
            [
             0.4444444444444444,
             "#bd3786"
            ],
            [
             0.5555555555555556,
             "#d8576b"
            ],
            [
             0.6666666666666666,
             "#ed7953"
            ],
            [
             0.7777777777777778,
             "#fb9f3a"
            ],
            [
             0.8888888888888888,
             "#fdca26"
            ],
            [
             1,
             "#f0f921"
            ]
           ],
           "sequentialminus": [
            [
             0,
             "#0d0887"
            ],
            [
             0.1111111111111111,
             "#46039f"
            ],
            [
             0.2222222222222222,
             "#7201a8"
            ],
            [
             0.3333333333333333,
             "#9c179e"
            ],
            [
             0.4444444444444444,
             "#bd3786"
            ],
            [
             0.5555555555555556,
             "#d8576b"
            ],
            [
             0.6666666666666666,
             "#ed7953"
            ],
            [
             0.7777777777777778,
             "#fb9f3a"
            ],
            [
             0.8888888888888888,
             "#fdca26"
            ],
            [
             1,
             "#f0f921"
            ]
           ]
          },
          "colorway": [
           "#636efa",
           "#EF553B",
           "#00cc96",
           "#ab63fa",
           "#FFA15A",
           "#19d3f3",
           "#FF6692",
           "#B6E880",
           "#FF97FF",
           "#FECB52"
          ],
          "font": {
           "color": "#2a3f5f"
          },
          "geo": {
           "bgcolor": "white",
           "lakecolor": "white",
           "landcolor": "#E5ECF6",
           "showlakes": true,
           "showland": true,
           "subunitcolor": "white"
          },
          "hoverlabel": {
           "align": "left"
          },
          "hovermode": "closest",
          "mapbox": {
           "style": "light"
          },
          "paper_bgcolor": "white",
          "plot_bgcolor": "#E5ECF6",
          "polar": {
           "angularaxis": {
            "gridcolor": "white",
            "linecolor": "white",
            "ticks": ""
           },
           "bgcolor": "#E5ECF6",
           "radialaxis": {
            "gridcolor": "white",
            "linecolor": "white",
            "ticks": ""
           }
          },
          "scene": {
           "xaxis": {
            "backgroundcolor": "#E5ECF6",
            "gridcolor": "white",
            "gridwidth": 2,
            "linecolor": "white",
            "showbackground": true,
            "ticks": "",
            "zerolinecolor": "white"
           },
           "yaxis": {
            "backgroundcolor": "#E5ECF6",
            "gridcolor": "white",
            "gridwidth": 2,
            "linecolor": "white",
            "showbackground": true,
            "ticks": "",
            "zerolinecolor": "white"
           },
           "zaxis": {
            "backgroundcolor": "#E5ECF6",
            "gridcolor": "white",
            "gridwidth": 2,
            "linecolor": "white",
            "showbackground": true,
            "ticks": "",
            "zerolinecolor": "white"
           }
          },
          "shapedefaults": {
           "line": {
            "color": "#2a3f5f"
           }
          },
          "ternary": {
           "aaxis": {
            "gridcolor": "white",
            "linecolor": "white",
            "ticks": ""
           },
           "baxis": {
            "gridcolor": "white",
            "linecolor": "white",
            "ticks": ""
           },
           "bgcolor": "#E5ECF6",
           "caxis": {
            "gridcolor": "white",
            "linecolor": "white",
            "ticks": ""
           }
          },
          "title": {
           "x": 0.05
          },
          "xaxis": {
           "automargin": true,
           "gridcolor": "white",
           "linecolor": "white",
           "ticks": "",
           "title": {
            "standoff": 15
           },
           "zerolinecolor": "white",
           "zerolinewidth": 2
          },
          "yaxis": {
           "automargin": true,
           "gridcolor": "white",
           "linecolor": "white",
           "ticks": "",
           "title": {
            "standoff": 15
           },
           "zerolinecolor": "white",
           "zerolinewidth": 2
          }
         }
        },
        "title": {
         "text": "Method=kmeans | Cluster=7 | Metric=cosine | Plot=timeline"
        },
        "width": 800,
        "xaxis": {
         "title": {
          "text": "cosine"
         }
        },
        "yaxis": {
         "title": {
          "text": "Window step"
         }
        }
       }
      }
     },
     "metadata": {},
     "output_type": "display_data"
    },
    {
     "data": {
      "application/vnd.plotly.v1+json": {
       "config": {
        "plotlyServerURL": "https://plot.ly"
       },
       "data": [
        {
         "hoverinfo": "x+y",
         "marker": {
          "color": "rgba(31,119,180,0.6)",
          "line": {
           "width": 0
          },
          "opacity": 0.35,
          "size": 6
         },
         "mode": "markers",
         "name": "window_0",
         "type": "scatter",
         "x": [
          0.7472299337387085,
          0.2383965402841568,
          0.7472299337387085,
          0.6529239416122437,
          0.5462391376495361,
          0.7472299337387085,
          0.7472299337387085,
          0.5462391376495361,
          0.7472299933433533,
          0.6007101535797119,
          0.3649037480354309
         ],
         "y": [
          0,
          0,
          0,
          0,
          0,
          0,
          0,
          0,
          0,
          0,
          0
         ]
        },
        {
         "hoverinfo": "x+y",
         "marker": {
          "color": "rgba(31,119,180,0.6)",
          "line": {
           "width": 0
          },
          "opacity": 0.35,
          "size": 6
         },
         "mode": "markers",
         "name": "window_1",
         "type": "scatter",
         "x": [
          0.7472299337387085,
          0.6007101535797119,
          0.3649037480354309,
          0.48450472950935364,
          0.7472299337387085,
          0.6007101535797119,
          0.6529239416122437,
          0.7472299337387085,
          0.6007101535797119,
          0.6529239416122437,
          0.2175862193107605,
          0.29834842681884766
         ],
         "y": [
          1,
          1,
          1,
          1,
          1,
          1,
          1,
          1,
          1,
          1,
          1,
          1
         ]
        },
        {
         "hoverinfo": "x+y",
         "marker": {
          "color": "rgba(31,119,180,0.6)",
          "line": {
           "width": 0
          },
          "opacity": 0.35,
          "size": 6
         },
         "mode": "markers",
         "name": "window_2",
         "type": "scatter",
         "x": [
          0.48450472950935364,
          0.7472299337387085,
          0.6007101535797119,
          0.6529239416122437,
          0.7472299933433533,
          0.6007101535797119,
          0.6529239416122437,
          0.2175862193107605,
          0.29834842681884766,
          0.5305413007736206,
          0.7472299337387085,
          0.5305413007736206,
          0.6529239416122437,
          0.7472299337387085,
          0.4836198687553406,
          0.186117485165596,
          0.5270308256149292,
          0.6007101535797119,
          0.4836198687553406,
          0.7472299337387085,
          0.5270308256149292
         ],
         "y": [
          2,
          2,
          2,
          2,
          2,
          2,
          2,
          2,
          2,
          2,
          2,
          2,
          2,
          2,
          2,
          2,
          2,
          2,
          2,
          2,
          2
         ]
        },
        {
         "hoverinfo": "x+y",
         "marker": {
          "color": "rgba(31,119,180,0.6)",
          "line": {
           "width": 0
          },
          "opacity": 0.35,
          "size": 6
         },
         "mode": "markers",
         "name": "window_3",
         "type": "scatter",
         "x": [
          0.5305413007736206,
          0.7472299337387085,
          0.5305413007736206,
          0.6529239416122437,
          0.7472299933433533,
          0.4836198389530182,
          0.186117485165596,
          0.5270308256149292,
          0.6007101535797119,
          0.4836198687553406,
          0.7472299337387085,
          0.527030885219574,
          0.6007101535797119,
          0.7472299337387085,
          0.6529239416122437,
          0.5270308256149292,
          0.3877621293067932,
          0.3054083585739136,
          0.23730328679084778,
          0.6529240012168884,
          0.5270308256149292,
          0.22093573212623596,
          0.48450472950935364,
          0.3649037480354309,
          0.7472299933433533,
          0.7472299933433533
         ],
         "y": [
          3,
          3,
          3,
          3,
          3,
          3,
          3,
          3,
          3,
          3,
          3,
          3,
          3,
          3,
          3,
          3,
          3,
          3,
          3,
          3,
          3,
          3,
          3,
          3,
          3,
          3
         ]
        },
        {
         "hoverinfo": "x+y",
         "marker": {
          "color": "rgba(31,119,180,0.6)",
          "line": {
           "width": 0
          },
          "opacity": 0.35,
          "size": 6
         },
         "mode": "markers",
         "name": "window_4",
         "type": "scatter",
         "x": [
          0.6007101535797119,
          0.7472299337387085,
          0.6529239416122437,
          0.5270308256149292,
          0.3877620995044708,
          0.3054083287715912,
          0.2373032420873642,
          0.6529239416122437,
          0.5270308256149292,
          0.22093573212623596,
          0.48450472950935364,
          0.3649037480354309,
          0.7472299933433533,
          0.7472299337387085,
          0.5270308256149292,
          0.6529239416122437,
          0.5270308256149292,
          0.20713554322719574,
          0.5462392568588257,
          0.7472299933433533,
          0.5270308256149292,
          0.2383965402841568,
          0.2653818130493164,
          0.2653818130493164,
          0.527030885219574,
          0.20713554322719574
         ],
         "y": [
          4,
          4,
          4,
          4,
          4,
          4,
          4,
          4,
          4,
          4,
          4,
          4,
          4,
          4,
          4,
          4,
          4,
          4,
          4,
          4,
          4,
          4,
          4,
          4,
          4,
          4
         ]
        },
        {
         "hoverinfo": "x+y",
         "marker": {
          "color": "rgba(31,119,180,0.6)",
          "line": {
           "width": 0
          },
          "opacity": 0.35,
          "size": 6
         },
         "mode": "markers",
         "name": "window_5",
         "type": "scatter",
         "x": [
          0.5270308256149292,
          0.6529239416122437,
          0.5270308256149292,
          0.20713554322719574,
          0.5462392568588257,
          0.7472299933433533,
          0.5270308256149292,
          0.2383965402841568,
          0.2653818130493164,
          0.2653818130493164,
          0.527030885219574,
          0.20713554322719574,
          0.7472299337387085,
          0.7472299337387085,
          0.48450472950935364,
          0.6007101535797119,
          0.527030885219574,
          0.5462392568588257,
          0.5462391376495361,
          0.27358612418174744,
          0.5270308256149292,
          0.6007101535797119,
          0.2383965402841568,
          0.4845047891139984
         ],
         "y": [
          5,
          5,
          5,
          5,
          5,
          5,
          5,
          5,
          5,
          5,
          5,
          5,
          5,
          5,
          5,
          5,
          5,
          5,
          5,
          5,
          5,
          5,
          5,
          5
         ]
        },
        {
         "hoverinfo": "x+y",
         "marker": {
          "color": "rgba(31,119,180,0.6)",
          "line": {
           "width": 0
          },
          "opacity": 0.35,
          "size": 6
         },
         "mode": "markers",
         "name": "window_6",
         "type": "scatter",
         "x": [
          0.7472299337387085,
          0.7472299337387085,
          0.48450472950935364,
          0.6007101535797119,
          0.5270308256149292,
          0.5462391376495361,
          0.5462391376495361,
          0.27358612418174744,
          0.5270308256149292,
          0.6007101535797119,
          0.2383965402841568,
          0.48450472950935364,
          0.2383965402841568,
          0.5270308256149292,
          0.20713554322719574,
          0.7472299337387085,
          0.6007101535797119,
          0.46428054571151733
         ],
         "y": [
          6,
          6,
          6,
          6,
          6,
          6,
          6,
          6,
          6,
          6,
          6,
          6,
          6,
          6,
          6,
          6,
          6,
          6
         ]
        },
        {
         "hoverinfo": "x+y",
         "marker": {
          "color": "rgba(31,119,180,0.6)",
          "line": {
           "width": 0
          },
          "opacity": 0.35,
          "size": 6
         },
         "mode": "markers",
         "name": "window_7",
         "type": "scatter",
         "x": [
          0.2383965402841568,
          0.5270308256149292,
          0.20713554322719574,
          0.7472299337387085,
          0.6007101535797119,
          0.46428054571151733,
          0.2383965402841568,
          0.46428054571151733,
          0.6529239416122437,
          0.6007101535797119,
          0.27358612418174744,
          0.4836198687553406,
          0.3014753758907318,
          0.5462392568588257
         ],
         "y": [
          7,
          7,
          7,
          7,
          7,
          7,
          7,
          7,
          7,
          7,
          7,
          7,
          7,
          7
         ]
        },
        {
         "hoverinfo": "x+y",
         "marker": {
          "color": "rgba(31,119,180,0.6)",
          "line": {
           "width": 0
          },
          "opacity": 0.35,
          "size": 6
         },
         "mode": "markers",
         "name": "window_8",
         "type": "scatter",
         "x": [
          0.2383965402841568,
          0.46428054571151733,
          0.6529239416122437,
          0.6007101535797119,
          0.27358612418174744,
          0.4836198687553406,
          0.3014754056930542,
          0.5462391376495361,
          0.7472299337387085,
          0.3649037480354309,
          0.7472299337387085,
          0.5270308256149292,
          0.6007101535797119,
          0.6529239416122437,
          0.5270308256149292,
          0.2653818130493164,
          0.20713554322719574,
          0.7472299337387085,
          0.2653818130493164,
          0.20713552832603455
         ],
         "y": [
          8,
          8,
          8,
          8,
          8,
          8,
          8,
          8,
          8,
          8,
          8,
          8,
          8,
          8,
          8,
          8,
          8,
          8,
          8,
          8
         ]
        },
        {
         "hoverinfo": "x+y",
         "marker": {
          "color": "rgba(31,119,180,0.6)",
          "line": {
           "width": 0
          },
          "opacity": 0.35,
          "size": 6
         },
         "mode": "markers",
         "name": "window_9",
         "type": "scatter",
         "x": [
          0.7472299337387085,
          0.3649037480354309,
          0.7472299337387085,
          0.5270308256149292,
          0.6007101535797119,
          0.6529240012168884,
          0.5270308256149292,
          0.2653818130493164,
          0.20713554322719574,
          0.7472299337387085,
          0.2653818726539612,
          0.20713554322719574,
          0.4836198687553406,
          0.7472299337387085,
          0.3877621293067932,
          0.32867419719696045,
          0.6007101535797119,
          0.5305413007736206,
          0.5462391376495361,
          0.4836198687553406,
          0.39345782995224,
          0.36095163226127625,
          0.2653818726539612,
          0.3877620995044708
         ],
         "y": [
          9,
          9,
          9,
          9,
          9,
          9,
          9,
          9,
          9,
          9,
          9,
          9,
          9,
          9,
          9,
          9,
          9,
          9,
          9,
          9,
          9,
          9,
          9,
          9
         ]
        },
        {
         "hoverinfo": "x+y",
         "marker": {
          "color": "rgba(31,119,180,0.6)",
          "line": {
           "width": 0
          },
          "opacity": 0.35,
          "size": 6
         },
         "mode": "markers",
         "name": "window_10",
         "type": "scatter",
         "x": [
          0.4836198687553406,
          0.7472299337387085,
          0.3877621293067932,
          0.32867419719696045,
          0.6007101535797119,
          0.5305413007736206,
          0.5462391376495361,
          0.4836198687553406,
          0.39345782995224,
          0.36095163226127625,
          0.2653818726539612,
          0.3877620995044708,
          0.7472299337387085,
          0.6007101535797119,
          0.6007101535797119,
          0.5270308256149292,
          0.2383965402841568,
          0.2653818130493164,
          0.6007101535797119,
          0.46428054571151733,
          0.2653818130493164,
          0.6007101535797119
         ],
         "y": [
          10,
          10,
          10,
          10,
          10,
          10,
          10,
          10,
          10,
          10,
          10,
          10,
          10,
          10,
          10,
          10,
          10,
          10,
          10,
          10,
          10,
          10
         ]
        },
        {
         "hoverinfo": "x+y",
         "marker": {
          "color": "rgba(31,119,180,0.6)",
          "line": {
           "width": 0
          },
          "opacity": 0.35,
          "size": 6
         },
         "mode": "markers",
         "name": "window_11",
         "type": "scatter",
         "x": [
          0.7472299337387085,
          0.6007101535797119,
          0.6007101535797119,
          0.5270308256149292,
          0.2383965402841568,
          0.2653818130493164,
          0.6007101535797119,
          0.46428054571151733,
          0.2653818130493164,
          0.6007101535797119,
          0.7472299337387085,
          0.5270308256149292,
          0.7472299337387085,
          0.6007101535797119,
          0.4836198687553406,
          0.39345782995224,
          0.5270308256149292,
          0.2383965402841568
         ],
         "y": [
          11,
          11,
          11,
          11,
          11,
          11,
          11,
          11,
          11,
          11,
          11,
          11,
          11,
          11,
          11,
          11,
          11,
          11
         ]
        },
        {
         "hoverinfo": "x+y",
         "marker": {
          "color": "rgba(31,119,180,0.6)",
          "line": {
           "width": 0
          },
          "opacity": 0.35,
          "size": 6
         },
         "mode": "markers",
         "name": "window_12",
         "type": "scatter",
         "x": [
          0.7472299337387085,
          0.5270308256149292,
          0.7472299337387085,
          0.6007101535797119,
          0.48361992835998535,
          0.39345782995224,
          0.5270308256149292,
          0.2383965402841568,
          0.48450472950935364,
          0.7472299337387085,
          0.2653818130493164,
          0.27358612418174744,
          0.6529239416122437,
          0.6529239416122437,
          0.39345782995224,
          0.32867419719696045,
          0.6007101535797119,
          0.39345782995224,
          0.7472299337387085,
          0.6007101535797119
         ],
         "y": [
          12,
          12,
          12,
          12,
          12,
          12,
          12,
          12,
          12,
          12,
          12,
          12,
          12,
          12,
          12,
          12,
          12,
          12,
          12,
          12
         ]
        },
        {
         "hoverinfo": "x+y",
         "marker": {
          "color": "rgba(31,119,180,0.6)",
          "line": {
           "width": 0
          },
          "opacity": 0.35,
          "size": 6
         },
         "mode": "markers",
         "name": "window_13",
         "type": "scatter",
         "x": [
          0.48450472950935364,
          0.7472299337387085,
          0.2653818130493164,
          0.27358612418174744,
          0.6529240012168884,
          0.6529240012168884,
          0.39345782995224,
          0.32867419719696045,
          0.6007101535797119,
          0.39345782995224,
          0.7472299337387085,
          0.6007101535797119,
          0.7472299337387085,
          0.6007101535797119,
          0.6007101535797119,
          0.6529239416122437,
          0.7472299337387085,
          0.5270308256149292,
          0.3877621293067932,
          0.5270308256149292,
          0.2175862193107605
         ],
         "y": [
          13,
          13,
          13,
          13,
          13,
          13,
          13,
          13,
          13,
          13,
          13,
          13,
          13,
          13,
          13,
          13,
          13,
          13,
          13,
          13,
          13
         ]
        },
        {
         "hoverinfo": "x+y",
         "marker": {
          "color": "rgba(31,119,180,0.6)",
          "line": {
           "width": 0
          },
          "opacity": 0.35,
          "size": 6
         },
         "mode": "markers",
         "name": "window_14",
         "type": "scatter",
         "x": [
          0.7472299337387085,
          0.6007101535797119,
          0.6007101535797119,
          0.6529239416122437,
          0.7472299933433533,
          0.527030885219574,
          0.3877621293067932,
          0.5270308256149292,
          0.2175862193107605,
          0.2342747002840042,
          0.3649037480354309,
          0.3649037480354309,
          0.32221317291259766,
          0.6529239416122437,
          0.2653818130493164,
          0.22687271237373352,
          0.7472299337387085,
          0.2653818130493164,
          0.7472299337387085,
          0.32221317291259766,
          0.3014754056930542
         ],
         "y": [
          14,
          14,
          14,
          14,
          14,
          14,
          14,
          14,
          14,
          14,
          14,
          14,
          14,
          14,
          14,
          14,
          14,
          14,
          14,
          14,
          14
         ]
        },
        {
         "hoverinfo": "x+y",
         "marker": {
          "color": "rgba(31,119,180,0.6)",
          "line": {
           "width": 0
          },
          "opacity": 0.35,
          "size": 6
         },
         "mode": "markers",
         "name": "window_15",
         "type": "scatter",
         "x": [
          0.2342747002840042,
          0.3649037480354309,
          0.3649037480354309,
          0.32221317291259766,
          0.6529239416122437,
          0.2653818130493164,
          0.22687271237373352,
          0.7472299337387085,
          0.2653818130493164,
          0.7472299337387085,
          0.32221317291259766,
          0.3014754056930542,
          0.39345782995224,
          0.7472299337387085,
          0.6007101535797119,
          0.32221317291259766,
          0.229867085814476,
          0.3649037480354309,
          0.32221317291259766,
          0.39345782995224
         ],
         "y": [
          15,
          15,
          15,
          15,
          15,
          15,
          15,
          15,
          15,
          15,
          15,
          15,
          15,
          15,
          15,
          15,
          15,
          15,
          15,
          15
         ]
        },
        {
         "hoverinfo": "x+y",
         "marker": {
          "color": "rgba(31,119,180,0.6)",
          "line": {
           "width": 0
          },
          "opacity": 0.35,
          "size": 6
         },
         "mode": "markers",
         "name": "window_16",
         "type": "scatter",
         "x": [
          0.39345782995224,
          0.7472299337387085,
          0.6007101535797119,
          0.32221317291259766,
          0.2298671007156372,
          0.3649037480354309,
          0.32221317291259766,
          0.39345782995224,
          0.6529239416122437,
          0.5462391376495361,
          0.6007101535797119,
          0.7472299933433533,
          0.2653818130493164,
          0.7472299337387085,
          0.32221317291259766,
          0.6007101535797119,
          0.6007101535797119,
          0.7472299337387085,
          0.5462391376495361,
          0.27358612418174744,
          0.5305413007736206,
          0.32221317291259766
         ],
         "y": [
          16,
          16,
          16,
          16,
          16,
          16,
          16,
          16,
          16,
          16,
          16,
          16,
          16,
          16,
          16,
          16,
          16,
          16,
          16,
          16,
          16,
          16
         ]
        },
        {
         "hoverinfo": "x+y",
         "marker": {
          "color": "rgba(31,119,180,0.6)",
          "line": {
           "width": 0
          },
          "opacity": 0.35,
          "size": 6
         },
         "mode": "markers",
         "name": "window_17",
         "type": "scatter",
         "x": [
          0.6529239416122437,
          0.5462391376495361,
          0.6007101535797119,
          0.7472299337387085,
          0.2653818726539612,
          0.7472299933433533,
          0.32221317291259766,
          0.6007101535797119,
          0.6007101535797119,
          0.7472299337387085,
          0.5462392568588257,
          0.2735861539840698,
          0.5305413007736206,
          0.32221317291259766,
          0.3649037480354309,
          0.32221317291259766,
          0.5305413007736206,
          0.2653818726539612,
          0.7472299337387085,
          0.6007101535797119,
          0.46428054571151733,
          0.32221317291259766,
          0.3014754056930542
         ],
         "y": [
          17,
          17,
          17,
          17,
          17,
          17,
          17,
          17,
          17,
          17,
          17,
          17,
          17,
          17,
          17,
          17,
          17,
          17,
          17,
          17,
          17,
          17,
          17
         ]
        },
        {
         "hoverinfo": "x+y",
         "marker": {
          "color": "rgba(31,119,180,0.6)",
          "line": {
           "width": 0
          },
          "opacity": 0.35,
          "size": 6
         },
         "mode": "markers",
         "name": "window_18",
         "type": "scatter",
         "x": [
          0.3649037480354309,
          0.32221317291259766,
          0.5305413007736206,
          0.2653818130493164,
          0.7472299337387085,
          0.6007101535797119,
          0.46428054571151733,
          0.32221317291259766,
          0.3014754056930542,
          0.21748560667037964,
          0.6007101535797119,
          0.5462391376495361,
          0.32221317291259766
         ],
         "y": [
          18,
          18,
          18,
          18,
          18,
          18,
          18,
          18,
          18,
          18,
          18,
          18,
          18
         ]
        },
        {
         "hoverinfo": "x+y",
         "marker": {
          "color": "rgba(31,119,180,0.6)",
          "line": {
           "width": 0
          },
          "opacity": 0.35,
          "size": 6
         },
         "mode": "markers",
         "name": "window_19",
         "type": "scatter",
         "x": [
          0.21748560667037964,
          0.6007101535797119,
          0.5462391376495361,
          0.32221317291259766,
          0.3649037480354309,
          0.32221317291259766,
          0.4263134300708771,
          0.46428054571151733,
          0.2653818130493164,
          0.6529239416122437,
          0.32221317291259766,
          0.3014754056930542,
          0.6007101535797119,
          0.27358612418174744,
          0.4836198687553406,
          0.3014754056930542
         ],
         "y": [
          19,
          19,
          19,
          19,
          19,
          19,
          19,
          19,
          19,
          19,
          19,
          19,
          19,
          19,
          19,
          19
         ]
        },
        {
         "hoverinfo": "x+y",
         "marker": {
          "color": "rgba(31,119,180,0.6)",
          "line": {
           "width": 0
          },
          "opacity": 0.35,
          "size": 6
         },
         "mode": "markers",
         "name": "window_20",
         "type": "scatter",
         "x": [
          0.3649037480354309,
          0.32221317291259766,
          0.4263134300708771,
          0.46428054571151733,
          0.2653818130493164,
          0.6529239416122437,
          0.32221317291259766,
          0.3014754056930542,
          0.6007101535797119,
          0.27358612418174744,
          0.4836198687553406,
          0.3014754056930542,
          0.5462391376495361,
          0.7472299337387085,
          0.32221317291259766,
          0.48450472950935364,
          0.7472299337387085,
          0.3649037480354309,
          0.7472299337387085
         ],
         "y": [
          20,
          20,
          20,
          20,
          20,
          20,
          20,
          20,
          20,
          20,
          20,
          20,
          20,
          20,
          20,
          20,
          20,
          20,
          20
         ]
        },
        {
         "hoverinfo": "x+y",
         "marker": {
          "color": "rgba(31,119,180,0.6)",
          "line": {
           "width": 0
          },
          "opacity": 0.35,
          "size": 6
         },
         "mode": "markers",
         "name": "window_21",
         "type": "scatter",
         "x": [
          0.5462391376495361,
          0.7472299337387085,
          0.32221317291259766,
          0.48450472950935364,
          0.7472299337387085,
          0.3649037480354309,
          0.7472299337387085,
          0.32221317291259766,
          0.3653275966644287,
          0.7472299337387085,
          0.7472299337387085,
          0.3877621293067932,
          0.22687271237373352,
          0.7472299337387085,
          0.32221317291259766,
          0.3014754056930542,
          0.5462391376495361,
          0.4836198687553406,
          0.7472299337387085,
          0.32221317291259766
         ],
         "y": [
          21,
          21,
          21,
          21,
          21,
          21,
          21,
          21,
          21,
          21,
          21,
          21,
          21,
          21,
          21,
          21,
          21,
          21,
          21,
          21
         ]
        },
        {
         "hoverinfo": "x+y",
         "marker": {
          "color": "rgba(31,119,180,0.6)",
          "line": {
           "width": 0
          },
          "opacity": 0.35,
          "size": 6
         },
         "mode": "markers",
         "name": "window_22",
         "type": "scatter",
         "x": [
          0.32221317291259766,
          0.3653275966644287,
          0.7472299337387085,
          0.7472299337387085,
          0.3877620995044708,
          0.22687268257141113,
          0.7472299337387085,
          0.32221317291259766,
          0.3014754056930542,
          0.5462391376495361,
          0.4836198389530182,
          0.7472299933433533,
          0.32221317291259766,
          0.4836198687553406,
          0.7472299337387085,
          0.3877621293067932,
          0.48361992835998535,
          0.3877621293067932,
          0.32221317291259766,
          0.3014754056930542,
          0.4836198687553406,
          0.3877621293067932
         ],
         "y": [
          22,
          22,
          22,
          22,
          22,
          22,
          22,
          22,
          22,
          22,
          22,
          22,
          22,
          22,
          22,
          22,
          22,
          22,
          22,
          22,
          22,
          22
         ]
        },
        {
         "hoverinfo": "x+y",
         "marker": {
          "color": "rgba(31,119,180,0.6)",
          "line": {
           "width": 0
          },
          "opacity": 0.35,
          "size": 6
         },
         "mode": "markers",
         "name": "window_23",
         "type": "scatter",
         "x": [
          0.4836198687553406,
          0.7472299337387085,
          0.3877621293067932,
          0.4836198687553406,
          0.3877620995044708,
          0.32221317291259766,
          0.3014754056930542,
          0.4836198687553406,
          0.3877621293067932,
          0.7472299337387085,
          0.3649037480354309,
          0.32221317291259766,
          0.6007101535797119,
          0.6007101535797119,
          0.32221317291259766,
          0.3014754056930542,
          0.2653818130493164,
          0.6007101535797119,
          0.7472299337387085,
          0.2653818130493164,
          0.6007101535797119,
          0.7472299337387085
         ],
         "y": [
          23,
          23,
          23,
          23,
          23,
          23,
          23,
          23,
          23,
          23,
          23,
          23,
          23,
          23,
          23,
          23,
          23,
          23,
          23,
          23,
          23,
          23
         ]
        },
        {
         "hoverinfo": "x+y",
         "marker": {
          "color": "rgba(31,119,180,0.6)",
          "line": {
           "width": 0
          },
          "opacity": 0.35,
          "size": 6
         },
         "mode": "markers",
         "name": "window_24",
         "type": "scatter",
         "x": [
          0.7472299337387085,
          0.3649037480354309,
          0.32221317291259766,
          0.6007101535797119,
          0.6007101535797119,
          0.32221317291259766,
          0.3014754056930542,
          0.2653818130493164,
          0.6007101535797119,
          0.7472299337387085,
          0.2653818726539612,
          0.6007101535797119,
          0.7472299337387085,
          0.6529239416122437,
          0.32221317291259766,
          0.7472299337387085,
          0.3649037480354309,
          0.32221317291259766,
          0.39345782995224,
          0.6007101535797119,
          0.38570553064346313,
          0.7472299337387085
         ],
         "y": [
          24,
          24,
          24,
          24,
          24,
          24,
          24,
          24,
          24,
          24,
          24,
          24,
          24,
          24,
          24,
          24,
          24,
          24,
          24,
          24,
          24,
          24
         ]
        },
        {
         "hoverinfo": "x+y",
         "marker": {
          "color": "rgba(31,119,180,0.6)",
          "line": {
           "width": 0
          },
          "opacity": 0.35,
          "size": 6
         },
         "mode": "markers",
         "name": "window_25",
         "type": "scatter",
         "x": [
          0.6529239416122437,
          0.32221317291259766,
          0.7472299337387085,
          0.3649037480354309,
          0.32221317291259766,
          0.39345782995224,
          0.6007101535797119,
          0.38570553064346313,
          0.7472299337387085,
          0.6007101535797119,
          0.32221317291259766,
          0.3014754056930542,
          0.4836198687553406,
          0.39345782995224,
          0.6529239416122437,
          0.32221317291259766,
          0.48450472950935364,
          0.7472299337387085,
          0.3649037480354309
         ],
         "y": [
          25,
          25,
          25,
          25,
          25,
          25,
          25,
          25,
          25,
          25,
          25,
          25,
          25,
          25,
          25,
          25,
          25,
          25,
          25
         ]
        },
        {
         "hoverinfo": "x+y",
         "marker": {
          "color": "rgba(31,119,180,0.6)",
          "line": {
           "width": 0
          },
          "opacity": 0.35,
          "size": 6
         },
         "mode": "markers",
         "name": "window_26",
         "type": "scatter",
         "x": [
          0.6007101535797119,
          0.32221317291259766,
          0.3014754056930542,
          0.4836198687553406,
          0.39345782995224,
          0.6529239416122437,
          0.32221317291259766,
          0.48450472950935364,
          0.7472299337387085,
          0.3649037480354309,
          0.7472299337387085,
          0.2383965402841568,
          0.7472299337387085,
          0.5305413007736206,
          0.7472299337387085,
          0.6007101535797119,
          0.7472299337387085,
          0.7472299337387085,
          0.6529239416122437
         ],
         "y": [
          26,
          26,
          26,
          26,
          26,
          26,
          26,
          26,
          26,
          26,
          26,
          26,
          26,
          26,
          26,
          26,
          26,
          26,
          26
         ]
        }
       ],
       "layout": {
        "height": 500,
        "showlegend": false,
        "template": {
         "data": {
          "bar": [
           {
            "error_x": {
             "color": "#2a3f5f"
            },
            "error_y": {
             "color": "#2a3f5f"
            },
            "marker": {
             "line": {
              "color": "#E5ECF6",
              "width": 0.5
             },
             "pattern": {
              "fillmode": "overlay",
              "size": 10,
              "solidity": 0.2
             }
            },
            "type": "bar"
           }
          ],
          "barpolar": [
           {
            "marker": {
             "line": {
              "color": "#E5ECF6",
              "width": 0.5
             },
             "pattern": {
              "fillmode": "overlay",
              "size": 10,
              "solidity": 0.2
             }
            },
            "type": "barpolar"
           }
          ],
          "carpet": [
           {
            "aaxis": {
             "endlinecolor": "#2a3f5f",
             "gridcolor": "white",
             "linecolor": "white",
             "minorgridcolor": "white",
             "startlinecolor": "#2a3f5f"
            },
            "baxis": {
             "endlinecolor": "#2a3f5f",
             "gridcolor": "white",
             "linecolor": "white",
             "minorgridcolor": "white",
             "startlinecolor": "#2a3f5f"
            },
            "type": "carpet"
           }
          ],
          "choropleth": [
           {
            "colorbar": {
             "outlinewidth": 0,
             "ticks": ""
            },
            "type": "choropleth"
           }
          ],
          "contour": [
           {
            "colorbar": {
             "outlinewidth": 0,
             "ticks": ""
            },
            "colorscale": [
             [
              0,
              "#0d0887"
             ],
             [
              0.1111111111111111,
              "#46039f"
             ],
             [
              0.2222222222222222,
              "#7201a8"
             ],
             [
              0.3333333333333333,
              "#9c179e"
             ],
             [
              0.4444444444444444,
              "#bd3786"
             ],
             [
              0.5555555555555556,
              "#d8576b"
             ],
             [
              0.6666666666666666,
              "#ed7953"
             ],
             [
              0.7777777777777778,
              "#fb9f3a"
             ],
             [
              0.8888888888888888,
              "#fdca26"
             ],
             [
              1,
              "#f0f921"
             ]
            ],
            "type": "contour"
           }
          ],
          "contourcarpet": [
           {
            "colorbar": {
             "outlinewidth": 0,
             "ticks": ""
            },
            "type": "contourcarpet"
           }
          ],
          "heatmap": [
           {
            "colorbar": {
             "outlinewidth": 0,
             "ticks": ""
            },
            "colorscale": [
             [
              0,
              "#0d0887"
             ],
             [
              0.1111111111111111,
              "#46039f"
             ],
             [
              0.2222222222222222,
              "#7201a8"
             ],
             [
              0.3333333333333333,
              "#9c179e"
             ],
             [
              0.4444444444444444,
              "#bd3786"
             ],
             [
              0.5555555555555556,
              "#d8576b"
             ],
             [
              0.6666666666666666,
              "#ed7953"
             ],
             [
              0.7777777777777778,
              "#fb9f3a"
             ],
             [
              0.8888888888888888,
              "#fdca26"
             ],
             [
              1,
              "#f0f921"
             ]
            ],
            "type": "heatmap"
           }
          ],
          "histogram": [
           {
            "marker": {
             "pattern": {
              "fillmode": "overlay",
              "size": 10,
              "solidity": 0.2
             }
            },
            "type": "histogram"
           }
          ],
          "histogram2d": [
           {
            "colorbar": {
             "outlinewidth": 0,
             "ticks": ""
            },
            "colorscale": [
             [
              0,
              "#0d0887"
             ],
             [
              0.1111111111111111,
              "#46039f"
             ],
             [
              0.2222222222222222,
              "#7201a8"
             ],
             [
              0.3333333333333333,
              "#9c179e"
             ],
             [
              0.4444444444444444,
              "#bd3786"
             ],
             [
              0.5555555555555556,
              "#d8576b"
             ],
             [
              0.6666666666666666,
              "#ed7953"
             ],
             [
              0.7777777777777778,
              "#fb9f3a"
             ],
             [
              0.8888888888888888,
              "#fdca26"
             ],
             [
              1,
              "#f0f921"
             ]
            ],
            "type": "histogram2d"
           }
          ],
          "histogram2dcontour": [
           {
            "colorbar": {
             "outlinewidth": 0,
             "ticks": ""
            },
            "colorscale": [
             [
              0,
              "#0d0887"
             ],
             [
              0.1111111111111111,
              "#46039f"
             ],
             [
              0.2222222222222222,
              "#7201a8"
             ],
             [
              0.3333333333333333,
              "#9c179e"
             ],
             [
              0.4444444444444444,
              "#bd3786"
             ],
             [
              0.5555555555555556,
              "#d8576b"
             ],
             [
              0.6666666666666666,
              "#ed7953"
             ],
             [
              0.7777777777777778,
              "#fb9f3a"
             ],
             [
              0.8888888888888888,
              "#fdca26"
             ],
             [
              1,
              "#f0f921"
             ]
            ],
            "type": "histogram2dcontour"
           }
          ],
          "mesh3d": [
           {
            "colorbar": {
             "outlinewidth": 0,
             "ticks": ""
            },
            "type": "mesh3d"
           }
          ],
          "parcoords": [
           {
            "line": {
             "colorbar": {
              "outlinewidth": 0,
              "ticks": ""
             }
            },
            "type": "parcoords"
           }
          ],
          "pie": [
           {
            "automargin": true,
            "type": "pie"
           }
          ],
          "scatter": [
           {
            "fillpattern": {
             "fillmode": "overlay",
             "size": 10,
             "solidity": 0.2
            },
            "type": "scatter"
           }
          ],
          "scatter3d": [
           {
            "line": {
             "colorbar": {
              "outlinewidth": 0,
              "ticks": ""
             }
            },
            "marker": {
             "colorbar": {
              "outlinewidth": 0,
              "ticks": ""
             }
            },
            "type": "scatter3d"
           }
          ],
          "scattercarpet": [
           {
            "marker": {
             "colorbar": {
              "outlinewidth": 0,
              "ticks": ""
             }
            },
            "type": "scattercarpet"
           }
          ],
          "scattergeo": [
           {
            "marker": {
             "colorbar": {
              "outlinewidth": 0,
              "ticks": ""
             }
            },
            "type": "scattergeo"
           }
          ],
          "scattergl": [
           {
            "marker": {
             "colorbar": {
              "outlinewidth": 0,
              "ticks": ""
             }
            },
            "type": "scattergl"
           }
          ],
          "scattermap": [
           {
            "marker": {
             "colorbar": {
              "outlinewidth": 0,
              "ticks": ""
             }
            },
            "type": "scattermap"
           }
          ],
          "scattermapbox": [
           {
            "marker": {
             "colorbar": {
              "outlinewidth": 0,
              "ticks": ""
             }
            },
            "type": "scattermapbox"
           }
          ],
          "scatterpolar": [
           {
            "marker": {
             "colorbar": {
              "outlinewidth": 0,
              "ticks": ""
             }
            },
            "type": "scatterpolar"
           }
          ],
          "scatterpolargl": [
           {
            "marker": {
             "colorbar": {
              "outlinewidth": 0,
              "ticks": ""
             }
            },
            "type": "scatterpolargl"
           }
          ],
          "scatterternary": [
           {
            "marker": {
             "colorbar": {
              "outlinewidth": 0,
              "ticks": ""
             }
            },
            "type": "scatterternary"
           }
          ],
          "surface": [
           {
            "colorbar": {
             "outlinewidth": 0,
             "ticks": ""
            },
            "colorscale": [
             [
              0,
              "#0d0887"
             ],
             [
              0.1111111111111111,
              "#46039f"
             ],
             [
              0.2222222222222222,
              "#7201a8"
             ],
             [
              0.3333333333333333,
              "#9c179e"
             ],
             [
              0.4444444444444444,
              "#bd3786"
             ],
             [
              0.5555555555555556,
              "#d8576b"
             ],
             [
              0.6666666666666666,
              "#ed7953"
             ],
             [
              0.7777777777777778,
              "#fb9f3a"
             ],
             [
              0.8888888888888888,
              "#fdca26"
             ],
             [
              1,
              "#f0f921"
             ]
            ],
            "type": "surface"
           }
          ],
          "table": [
           {
            "cells": {
             "fill": {
              "color": "#EBF0F8"
             },
             "line": {
              "color": "white"
             }
            },
            "header": {
             "fill": {
              "color": "#C8D4E3"
             },
             "line": {
              "color": "white"
             }
            },
            "type": "table"
           }
          ]
         },
         "layout": {
          "annotationdefaults": {
           "arrowcolor": "#2a3f5f",
           "arrowhead": 0,
           "arrowwidth": 1
          },
          "autotypenumbers": "strict",
          "coloraxis": {
           "colorbar": {
            "outlinewidth": 0,
            "ticks": ""
           }
          },
          "colorscale": {
           "diverging": [
            [
             0,
             "#8e0152"
            ],
            [
             0.1,
             "#c51b7d"
            ],
            [
             0.2,
             "#de77ae"
            ],
            [
             0.3,
             "#f1b6da"
            ],
            [
             0.4,
             "#fde0ef"
            ],
            [
             0.5,
             "#f7f7f7"
            ],
            [
             0.6,
             "#e6f5d0"
            ],
            [
             0.7,
             "#b8e186"
            ],
            [
             0.8,
             "#7fbc41"
            ],
            [
             0.9,
             "#4d9221"
            ],
            [
             1,
             "#276419"
            ]
           ],
           "sequential": [
            [
             0,
             "#0d0887"
            ],
            [
             0.1111111111111111,
             "#46039f"
            ],
            [
             0.2222222222222222,
             "#7201a8"
            ],
            [
             0.3333333333333333,
             "#9c179e"
            ],
            [
             0.4444444444444444,
             "#bd3786"
            ],
            [
             0.5555555555555556,
             "#d8576b"
            ],
            [
             0.6666666666666666,
             "#ed7953"
            ],
            [
             0.7777777777777778,
             "#fb9f3a"
            ],
            [
             0.8888888888888888,
             "#fdca26"
            ],
            [
             1,
             "#f0f921"
            ]
           ],
           "sequentialminus": [
            [
             0,
             "#0d0887"
            ],
            [
             0.1111111111111111,
             "#46039f"
            ],
            [
             0.2222222222222222,
             "#7201a8"
            ],
            [
             0.3333333333333333,
             "#9c179e"
            ],
            [
             0.4444444444444444,
             "#bd3786"
            ],
            [
             0.5555555555555556,
             "#d8576b"
            ],
            [
             0.6666666666666666,
             "#ed7953"
            ],
            [
             0.7777777777777778,
             "#fb9f3a"
            ],
            [
             0.8888888888888888,
             "#fdca26"
            ],
            [
             1,
             "#f0f921"
            ]
           ]
          },
          "colorway": [
           "#636efa",
           "#EF553B",
           "#00cc96",
           "#ab63fa",
           "#FFA15A",
           "#19d3f3",
           "#FF6692",
           "#B6E880",
           "#FF97FF",
           "#FECB52"
          ],
          "font": {
           "color": "#2a3f5f"
          },
          "geo": {
           "bgcolor": "white",
           "lakecolor": "white",
           "landcolor": "#E5ECF6",
           "showlakes": true,
           "showland": true,
           "subunitcolor": "white"
          },
          "hoverlabel": {
           "align": "left"
          },
          "hovermode": "closest",
          "mapbox": {
           "style": "light"
          },
          "paper_bgcolor": "white",
          "plot_bgcolor": "#E5ECF6",
          "polar": {
           "angularaxis": {
            "gridcolor": "white",
            "linecolor": "white",
            "ticks": ""
           },
           "bgcolor": "#E5ECF6",
           "radialaxis": {
            "gridcolor": "white",
            "linecolor": "white",
            "ticks": ""
           }
          },
          "scene": {
           "xaxis": {
            "backgroundcolor": "#E5ECF6",
            "gridcolor": "white",
            "gridwidth": 2,
            "linecolor": "white",
            "showbackground": true,
            "ticks": "",
            "zerolinecolor": "white"
           },
           "yaxis": {
            "backgroundcolor": "#E5ECF6",
            "gridcolor": "white",
            "gridwidth": 2,
            "linecolor": "white",
            "showbackground": true,
            "ticks": "",
            "zerolinecolor": "white"
           },
           "zaxis": {
            "backgroundcolor": "#E5ECF6",
            "gridcolor": "white",
            "gridwidth": 2,
            "linecolor": "white",
            "showbackground": true,
            "ticks": "",
            "zerolinecolor": "white"
           }
          },
          "shapedefaults": {
           "line": {
            "color": "#2a3f5f"
           }
          },
          "ternary": {
           "aaxis": {
            "gridcolor": "white",
            "linecolor": "white",
            "ticks": ""
           },
           "baxis": {
            "gridcolor": "white",
            "linecolor": "white",
            "ticks": ""
           },
           "bgcolor": "#E5ECF6",
           "caxis": {
            "gridcolor": "white",
            "linecolor": "white",
            "ticks": ""
           }
          },
          "title": {
           "x": 0.05
          },
          "xaxis": {
           "automargin": true,
           "gridcolor": "white",
           "linecolor": "white",
           "ticks": "",
           "title": {
            "standoff": 15
           },
           "zerolinecolor": "white",
           "zerolinewidth": 2
          },
          "yaxis": {
           "automargin": true,
           "gridcolor": "white",
           "linecolor": "white",
           "ticks": "",
           "title": {
            "standoff": 15
           },
           "zerolinecolor": "white",
           "zerolinewidth": 2
          }
         }
        },
        "title": {
         "text": "Method=kmeans | Cluster=8 | Metric=cosine | Plot=timeline"
        },
        "width": 800,
        "xaxis": {
         "title": {
          "text": "cosine"
         }
        },
        "yaxis": {
         "title": {
          "text": "Window step"
         }
        }
       }
      }
     },
     "metadata": {},
     "output_type": "display_data"
    },
    {
     "data": {
      "application/vnd.plotly.v1+json": {
       "config": {
        "plotlyServerURL": "https://plot.ly"
       },
       "data": [],
       "layout": {
        "height": 500,
        "showlegend": false,
        "template": {
         "data": {
          "bar": [
           {
            "error_x": {
             "color": "#2a3f5f"
            },
            "error_y": {
             "color": "#2a3f5f"
            },
            "marker": {
             "line": {
              "color": "#E5ECF6",
              "width": 0.5
             },
             "pattern": {
              "fillmode": "overlay",
              "size": 10,
              "solidity": 0.2
             }
            },
            "type": "bar"
           }
          ],
          "barpolar": [
           {
            "marker": {
             "line": {
              "color": "#E5ECF6",
              "width": 0.5
             },
             "pattern": {
              "fillmode": "overlay",
              "size": 10,
              "solidity": 0.2
             }
            },
            "type": "barpolar"
           }
          ],
          "carpet": [
           {
            "aaxis": {
             "endlinecolor": "#2a3f5f",
             "gridcolor": "white",
             "linecolor": "white",
             "minorgridcolor": "white",
             "startlinecolor": "#2a3f5f"
            },
            "baxis": {
             "endlinecolor": "#2a3f5f",
             "gridcolor": "white",
             "linecolor": "white",
             "minorgridcolor": "white",
             "startlinecolor": "#2a3f5f"
            },
            "type": "carpet"
           }
          ],
          "choropleth": [
           {
            "colorbar": {
             "outlinewidth": 0,
             "ticks": ""
            },
            "type": "choropleth"
           }
          ],
          "contour": [
           {
            "colorbar": {
             "outlinewidth": 0,
             "ticks": ""
            },
            "colorscale": [
             [
              0,
              "#0d0887"
             ],
             [
              0.1111111111111111,
              "#46039f"
             ],
             [
              0.2222222222222222,
              "#7201a8"
             ],
             [
              0.3333333333333333,
              "#9c179e"
             ],
             [
              0.4444444444444444,
              "#bd3786"
             ],
             [
              0.5555555555555556,
              "#d8576b"
             ],
             [
              0.6666666666666666,
              "#ed7953"
             ],
             [
              0.7777777777777778,
              "#fb9f3a"
             ],
             [
              0.8888888888888888,
              "#fdca26"
             ],
             [
              1,
              "#f0f921"
             ]
            ],
            "type": "contour"
           }
          ],
          "contourcarpet": [
           {
            "colorbar": {
             "outlinewidth": 0,
             "ticks": ""
            },
            "type": "contourcarpet"
           }
          ],
          "heatmap": [
           {
            "colorbar": {
             "outlinewidth": 0,
             "ticks": ""
            },
            "colorscale": [
             [
              0,
              "#0d0887"
             ],
             [
              0.1111111111111111,
              "#46039f"
             ],
             [
              0.2222222222222222,
              "#7201a8"
             ],
             [
              0.3333333333333333,
              "#9c179e"
             ],
             [
              0.4444444444444444,
              "#bd3786"
             ],
             [
              0.5555555555555556,
              "#d8576b"
             ],
             [
              0.6666666666666666,
              "#ed7953"
             ],
             [
              0.7777777777777778,
              "#fb9f3a"
             ],
             [
              0.8888888888888888,
              "#fdca26"
             ],
             [
              1,
              "#f0f921"
             ]
            ],
            "type": "heatmap"
           }
          ],
          "histogram": [
           {
            "marker": {
             "pattern": {
              "fillmode": "overlay",
              "size": 10,
              "solidity": 0.2
             }
            },
            "type": "histogram"
           }
          ],
          "histogram2d": [
           {
            "colorbar": {
             "outlinewidth": 0,
             "ticks": ""
            },
            "colorscale": [
             [
              0,
              "#0d0887"
             ],
             [
              0.1111111111111111,
              "#46039f"
             ],
             [
              0.2222222222222222,
              "#7201a8"
             ],
             [
              0.3333333333333333,
              "#9c179e"
             ],
             [
              0.4444444444444444,
              "#bd3786"
             ],
             [
              0.5555555555555556,
              "#d8576b"
             ],
             [
              0.6666666666666666,
              "#ed7953"
             ],
             [
              0.7777777777777778,
              "#fb9f3a"
             ],
             [
              0.8888888888888888,
              "#fdca26"
             ],
             [
              1,
              "#f0f921"
             ]
            ],
            "type": "histogram2d"
           }
          ],
          "histogram2dcontour": [
           {
            "colorbar": {
             "outlinewidth": 0,
             "ticks": ""
            },
            "colorscale": [
             [
              0,
              "#0d0887"
             ],
             [
              0.1111111111111111,
              "#46039f"
             ],
             [
              0.2222222222222222,
              "#7201a8"
             ],
             [
              0.3333333333333333,
              "#9c179e"
             ],
             [
              0.4444444444444444,
              "#bd3786"
             ],
             [
              0.5555555555555556,
              "#d8576b"
             ],
             [
              0.6666666666666666,
              "#ed7953"
             ],
             [
              0.7777777777777778,
              "#fb9f3a"
             ],
             [
              0.8888888888888888,
              "#fdca26"
             ],
             [
              1,
              "#f0f921"
             ]
            ],
            "type": "histogram2dcontour"
           }
          ],
          "mesh3d": [
           {
            "colorbar": {
             "outlinewidth": 0,
             "ticks": ""
            },
            "type": "mesh3d"
           }
          ],
          "parcoords": [
           {
            "line": {
             "colorbar": {
              "outlinewidth": 0,
              "ticks": ""
             }
            },
            "type": "parcoords"
           }
          ],
          "pie": [
           {
            "automargin": true,
            "type": "pie"
           }
          ],
          "scatter": [
           {
            "fillpattern": {
             "fillmode": "overlay",
             "size": 10,
             "solidity": 0.2
            },
            "type": "scatter"
           }
          ],
          "scatter3d": [
           {
            "line": {
             "colorbar": {
              "outlinewidth": 0,
              "ticks": ""
             }
            },
            "marker": {
             "colorbar": {
              "outlinewidth": 0,
              "ticks": ""
             }
            },
            "type": "scatter3d"
           }
          ],
          "scattercarpet": [
           {
            "marker": {
             "colorbar": {
              "outlinewidth": 0,
              "ticks": ""
             }
            },
            "type": "scattercarpet"
           }
          ],
          "scattergeo": [
           {
            "marker": {
             "colorbar": {
              "outlinewidth": 0,
              "ticks": ""
             }
            },
            "type": "scattergeo"
           }
          ],
          "scattergl": [
           {
            "marker": {
             "colorbar": {
              "outlinewidth": 0,
              "ticks": ""
             }
            },
            "type": "scattergl"
           }
          ],
          "scattermap": [
           {
            "marker": {
             "colorbar": {
              "outlinewidth": 0,
              "ticks": ""
             }
            },
            "type": "scattermap"
           }
          ],
          "scattermapbox": [
           {
            "marker": {
             "colorbar": {
              "outlinewidth": 0,
              "ticks": ""
             }
            },
            "type": "scattermapbox"
           }
          ],
          "scatterpolar": [
           {
            "marker": {
             "colorbar": {
              "outlinewidth": 0,
              "ticks": ""
             }
            },
            "type": "scatterpolar"
           }
          ],
          "scatterpolargl": [
           {
            "marker": {
             "colorbar": {
              "outlinewidth": 0,
              "ticks": ""
             }
            },
            "type": "scatterpolargl"
           }
          ],
          "scatterternary": [
           {
            "marker": {
             "colorbar": {
              "outlinewidth": 0,
              "ticks": ""
             }
            },
            "type": "scatterternary"
           }
          ],
          "surface": [
           {
            "colorbar": {
             "outlinewidth": 0,
             "ticks": ""
            },
            "colorscale": [
             [
              0,
              "#0d0887"
             ],
             [
              0.1111111111111111,
              "#46039f"
             ],
             [
              0.2222222222222222,
              "#7201a8"
             ],
             [
              0.3333333333333333,
              "#9c179e"
             ],
             [
              0.4444444444444444,
              "#bd3786"
             ],
             [
              0.5555555555555556,
              "#d8576b"
             ],
             [
              0.6666666666666666,
              "#ed7953"
             ],
             [
              0.7777777777777778,
              "#fb9f3a"
             ],
             [
              0.8888888888888888,
              "#fdca26"
             ],
             [
              1,
              "#f0f921"
             ]
            ],
            "type": "surface"
           }
          ],
          "table": [
           {
            "cells": {
             "fill": {
              "color": "#EBF0F8"
             },
             "line": {
              "color": "white"
             }
            },
            "header": {
             "fill": {
              "color": "#C8D4E3"
             },
             "line": {
              "color": "white"
             }
            },
            "type": "table"
           }
          ]
         },
         "layout": {
          "annotationdefaults": {
           "arrowcolor": "#2a3f5f",
           "arrowhead": 0,
           "arrowwidth": 1
          },
          "autotypenumbers": "strict",
          "coloraxis": {
           "colorbar": {
            "outlinewidth": 0,
            "ticks": ""
           }
          },
          "colorscale": {
           "diverging": [
            [
             0,
             "#8e0152"
            ],
            [
             0.1,
             "#c51b7d"
            ],
            [
             0.2,
             "#de77ae"
            ],
            [
             0.3,
             "#f1b6da"
            ],
            [
             0.4,
             "#fde0ef"
            ],
            [
             0.5,
             "#f7f7f7"
            ],
            [
             0.6,
             "#e6f5d0"
            ],
            [
             0.7,
             "#b8e186"
            ],
            [
             0.8,
             "#7fbc41"
            ],
            [
             0.9,
             "#4d9221"
            ],
            [
             1,
             "#276419"
            ]
           ],
           "sequential": [
            [
             0,
             "#0d0887"
            ],
            [
             0.1111111111111111,
             "#46039f"
            ],
            [
             0.2222222222222222,
             "#7201a8"
            ],
            [
             0.3333333333333333,
             "#9c179e"
            ],
            [
             0.4444444444444444,
             "#bd3786"
            ],
            [
             0.5555555555555556,
             "#d8576b"
            ],
            [
             0.6666666666666666,
             "#ed7953"
            ],
            [
             0.7777777777777778,
             "#fb9f3a"
            ],
            [
             0.8888888888888888,
             "#fdca26"
            ],
            [
             1,
             "#f0f921"
            ]
           ],
           "sequentialminus": [
            [
             0,
             "#0d0887"
            ],
            [
             0.1111111111111111,
             "#46039f"
            ],
            [
             0.2222222222222222,
             "#7201a8"
            ],
            [
             0.3333333333333333,
             "#9c179e"
            ],
            [
             0.4444444444444444,
             "#bd3786"
            ],
            [
             0.5555555555555556,
             "#d8576b"
            ],
            [
             0.6666666666666666,
             "#ed7953"
            ],
            [
             0.7777777777777778,
             "#fb9f3a"
            ],
            [
             0.8888888888888888,
             "#fdca26"
            ],
            [
             1,
             "#f0f921"
            ]
           ]
          },
          "colorway": [
           "#636efa",
           "#EF553B",
           "#00cc96",
           "#ab63fa",
           "#FFA15A",
           "#19d3f3",
           "#FF6692",
           "#B6E880",
           "#FF97FF",
           "#FECB52"
          ],
          "font": {
           "color": "#2a3f5f"
          },
          "geo": {
           "bgcolor": "white",
           "lakecolor": "white",
           "landcolor": "#E5ECF6",
           "showlakes": true,
           "showland": true,
           "subunitcolor": "white"
          },
          "hoverlabel": {
           "align": "left"
          },
          "hovermode": "closest",
          "mapbox": {
           "style": "light"
          },
          "paper_bgcolor": "white",
          "plot_bgcolor": "#E5ECF6",
          "polar": {
           "angularaxis": {
            "gridcolor": "white",
            "linecolor": "white",
            "ticks": ""
           },
           "bgcolor": "#E5ECF6",
           "radialaxis": {
            "gridcolor": "white",
            "linecolor": "white",
            "ticks": ""
           }
          },
          "scene": {
           "xaxis": {
            "backgroundcolor": "#E5ECF6",
            "gridcolor": "white",
            "gridwidth": 2,
            "linecolor": "white",
            "showbackground": true,
            "ticks": "",
            "zerolinecolor": "white"
           },
           "yaxis": {
            "backgroundcolor": "#E5ECF6",
            "gridcolor": "white",
            "gridwidth": 2,
            "linecolor": "white",
            "showbackground": true,
            "ticks": "",
            "zerolinecolor": "white"
           },
           "zaxis": {
            "backgroundcolor": "#E5ECF6",
            "gridcolor": "white",
            "gridwidth": 2,
            "linecolor": "white",
            "showbackground": true,
            "ticks": "",
            "zerolinecolor": "white"
           }
          },
          "shapedefaults": {
           "line": {
            "color": "#2a3f5f"
           }
          },
          "ternary": {
           "aaxis": {
            "gridcolor": "white",
            "linecolor": "white",
            "ticks": ""
           },
           "baxis": {
            "gridcolor": "white",
            "linecolor": "white",
            "ticks": ""
           },
           "bgcolor": "#E5ECF6",
           "caxis": {
            "gridcolor": "white",
            "linecolor": "white",
            "ticks": ""
           }
          },
          "title": {
           "x": 0.05
          },
          "xaxis": {
           "automargin": true,
           "gridcolor": "white",
           "linecolor": "white",
           "ticks": "",
           "title": {
            "standoff": 15
           },
           "zerolinecolor": "white",
           "zerolinewidth": 2
          },
          "yaxis": {
           "automargin": true,
           "gridcolor": "white",
           "linecolor": "white",
           "ticks": "",
           "title": {
            "standoff": 15
           },
           "zerolinecolor": "white",
           "zerolinewidth": 2
          }
         }
        },
        "title": {
         "text": "Method=kmeans | Cluster=9 | Metric=cosine | Plot=timeline"
        },
        "width": 800,
        "xaxis": {
         "title": {
          "text": "cosine"
         }
        },
        "yaxis": {
         "title": {
          "text": "Window step"
         }
        }
       }
      }
     },
     "metadata": {},
     "output_type": "display_data"
    },
    {
     "name": "stdout",
     "output_type": "stream",
     "text": [
      "\n",
      "Running hierarchical/dendrogram example...\n"
     ]
    },
    {
     "data": {
      "application/vnd.plotly.v1+json": {
       "config": {
        "plotlyServerURL": "https://plot.ly"
       },
       "data": [
        {
         "hoverinfo": "skip",
         "line": {
          "color": "#2E86AB",
          "width": 1.5
         },
         "mode": "lines",
         "showlegend": false,
         "type": "scatter",
         "x": [
          5,
          5,
          15,
          15
         ],
         "y": [
          0,
          1.8926329080604591,
          1.8926329080604591,
          0
         ]
        },
        {
         "hoverinfo": "skip",
         "line": {
          "color": "#2E86AB",
          "width": 1.5
         },
         "mode": "lines",
         "showlegend": false,
         "type": "scatter",
         "x": [
          55,
          55,
          65,
          65
         ],
         "y": [
          0,
          1.6357255257592487,
          1.6357255257592487,
          0
         ]
        },
        {
         "hoverinfo": "skip",
         "line": {
          "color": "#2E86AB",
          "width": 1.5
         },
         "mode": "lines",
         "showlegend": false,
         "type": "scatter",
         "x": [
          45,
          45,
          60,
          60
         ],
         "y": [
          0,
          1.6856265127224257,
          1.6856265127224257,
          1.6357255257592487
         ]
        },
        {
         "hoverinfo": "skip",
         "line": {
          "color": "#2E86AB",
          "width": 1.5
         },
         "mode": "lines",
         "showlegend": false,
         "type": "scatter",
         "x": [
          35,
          35,
          52.5,
          52.5
         ],
         "y": [
          0,
          1.8484361621903451,
          1.8484361621903451,
          1.6856265127224257
         ]
        },
        {
         "hoverinfo": "skip",
         "line": {
          "color": "#2E86AB",
          "width": 1.5
         },
         "mode": "lines",
         "showlegend": false,
         "type": "scatter",
         "x": [
          25,
          25,
          43.75,
          43.75
         ],
         "y": [
          0,
          2.2449295904816333,
          2.2449295904816333,
          1.8484361621903451
         ]
        },
        {
         "hoverinfo": "skip",
         "line": {
          "color": "#2E86AB",
          "width": 1.5
         },
         "mode": "lines",
         "showlegend": false,
         "type": "scatter",
         "x": [
          10,
          10,
          34.375,
          34.375
         ],
         "y": [
          1.8926329080604591,
          2.589342837446732,
          2.589342837446732,
          2.2449295904816333
         ]
        },
        {
         "hoverinfo": "skip",
         "line": {
          "color": "#2E86AB",
          "width": 1.5
         },
         "mode": "lines",
         "showlegend": false,
         "type": "scatter",
         "x": [
          115,
          115,
          125,
          125
         ],
         "y": [
          0,
          1.616903552209433,
          1.616903552209433,
          0
         ]
        },
        {
         "hoverinfo": "skip",
         "line": {
          "color": "#2E86AB",
          "width": 1.5
         },
         "mode": "lines",
         "showlegend": false,
         "type": "scatter",
         "x": [
          105,
          105,
          120,
          120
         ],
         "y": [
          0,
          1.663447582031157,
          1.663447582031157,
          1.616903552209433
         ]
        },
        {
         "hoverinfo": "skip",
         "line": {
          "color": "#2E86AB",
          "width": 1.5
         },
         "mode": "lines",
         "showlegend": false,
         "type": "scatter",
         "x": [
          145,
          145,
          155,
          155
         ],
         "y": [
          0,
          1.666127417407115,
          1.666127417407115,
          0
         ]
        },
        {
         "hoverinfo": "skip",
         "line": {
          "color": "#2E86AB",
          "width": 1.5
         },
         "mode": "lines",
         "showlegend": false,
         "type": "scatter",
         "x": [
          135,
          135,
          150,
          150
         ],
         "y": [
          0,
          1.6870072405785543,
          1.6870072405785543,
          1.666127417407115
         ]
        },
        {
         "hoverinfo": "skip",
         "line": {
          "color": "#2E86AB",
          "width": 1.5
         },
         "mode": "lines",
         "showlegend": false,
         "type": "scatter",
         "x": [
          112.5,
          112.5,
          142.5,
          142.5
         ],
         "y": [
          1.663447582031157,
          1.721377975794938,
          1.721377975794938,
          1.6870072405785543
         ]
        },
        {
         "hoverinfo": "skip",
         "line": {
          "color": "#2E86AB",
          "width": 1.5
         },
         "mode": "lines",
         "showlegend": false,
         "type": "scatter",
         "x": [
          195,
          195,
          205,
          205
         ],
         "y": [
          0,
          1.6332865996325694,
          1.6332865996325694,
          0
         ]
        },
        {
         "hoverinfo": "skip",
         "line": {
          "color": "#2E86AB",
          "width": 1.5
         },
         "mode": "lines",
         "showlegend": false,
         "type": "scatter",
         "x": [
          185,
          185,
          200,
          200
         ],
         "y": [
          0,
          1.6552530988981045,
          1.6552530988981045,
          1.6332865996325694
         ]
        },
        {
         "hoverinfo": "skip",
         "line": {
          "color": "#2E86AB",
          "width": 1.5
         },
         "mode": "lines",
         "showlegend": false,
         "type": "scatter",
         "x": [
          175,
          175,
          192.5,
          192.5
         ],
         "y": [
          0,
          1.7641528554089032,
          1.7641528554089032,
          1.6552530988981045
         ]
        },
        {
         "hoverinfo": "skip",
         "line": {
          "color": "#2E86AB",
          "width": 1.5
         },
         "mode": "lines",
         "showlegend": false,
         "type": "scatter",
         "x": [
          165,
          165,
          183.75,
          183.75
         ],
         "y": [
          0,
          1.7981502039728003,
          1.7981502039728003,
          1.7641528554089032
         ]
        },
        {
         "hoverinfo": "skip",
         "line": {
          "color": "#2E86AB",
          "width": 1.5
         },
         "mode": "lines",
         "showlegend": false,
         "type": "scatter",
         "x": [
          127.5,
          127.5,
          174.375,
          174.375
         ],
         "y": [
          1.721377975794938,
          1.8087037712944183,
          1.8087037712944183,
          1.7981502039728003
         ]
        },
        {
         "hoverinfo": "skip",
         "line": {
          "color": "#2E86AB",
          "width": 1.5
         },
         "mode": "lines",
         "showlegend": false,
         "type": "scatter",
         "x": [
          215,
          215,
          225,
          225
         ],
         "y": [
          0,
          1.626657332250347,
          1.626657332250347,
          0
         ]
        },
        {
         "hoverinfo": "skip",
         "line": {
          "color": "#2E86AB",
          "width": 1.5
         },
         "mode": "lines",
         "showlegend": false,
         "type": "scatter",
         "x": [
          265,
          265,
          275,
          275
         ],
         "y": [
          0,
          1.7702368719288126,
          1.7702368719288126,
          0
         ]
        },
        {
         "hoverinfo": "skip",
         "line": {
          "color": "#2E86AB",
          "width": 1.5
         },
         "mode": "lines",
         "showlegend": false,
         "type": "scatter",
         "x": [
          255,
          255,
          270,
          270
         ],
         "y": [
          0,
          1.7893245731877196,
          1.7893245731877196,
          1.7702368719288126
         ]
        },
        {
         "hoverinfo": "skip",
         "line": {
          "color": "#2E86AB",
          "width": 1.5
         },
         "mode": "lines",
         "showlegend": false,
         "type": "scatter",
         "x": [
          285,
          285,
          295,
          295
         ],
         "y": [
          0,
          1.8433105591812724,
          1.8433105591812724,
          0
         ]
        },
        {
         "hoverinfo": "skip",
         "line": {
          "color": "#2E86AB",
          "width": 1.5
         },
         "mode": "lines",
         "showlegend": false,
         "type": "scatter",
         "x": [
          262.5,
          262.5,
          290,
          290
         ],
         "y": [
          1.7893245731877196,
          1.8660125064009276,
          1.8660125064009276,
          1.8433105591812724
         ]
        },
        {
         "hoverinfo": "skip",
         "line": {
          "color": "#2E86AB",
          "width": 1.5
         },
         "mode": "lines",
         "showlegend": false,
         "type": "scatter",
         "x": [
          245,
          245,
          276.25,
          276.25
         ],
         "y": [
          0,
          1.905564733529222,
          1.905564733529222,
          1.8660125064009276
         ]
        },
        {
         "hoverinfo": "skip",
         "line": {
          "color": "#2E86AB",
          "width": 1.5
         },
         "mode": "lines",
         "showlegend": false,
         "type": "scatter",
         "x": [
          235,
          235,
          260.625,
          260.625
         ],
         "y": [
          0,
          1.9263877313004394,
          1.9263877313004394,
          1.905564733529222
         ]
        },
        {
         "hoverinfo": "skip",
         "line": {
          "color": "#2E86AB",
          "width": 1.5
         },
         "mode": "lines",
         "showlegend": false,
         "type": "scatter",
         "x": [
          220,
          220,
          247.8125,
          247.8125
         ],
         "y": [
          1.626657332250347,
          1.9626504229390014,
          1.9626504229390014,
          1.9263877313004394
         ]
        },
        {
         "hoverinfo": "skip",
         "line": {
          "color": "#2E86AB",
          "width": 1.5
         },
         "mode": "lines",
         "showlegend": false,
         "type": "scatter",
         "x": [
          150.9375,
          150.9375,
          233.90625,
          233.90625
         ],
         "y": [
          1.8087037712944183,
          2.193498036427977,
          2.193498036427977,
          1.9626504229390014
         ]
        },
        {
         "hoverinfo": "skip",
         "line": {
          "color": "#2E86AB",
          "width": 1.5
         },
         "mode": "lines",
         "showlegend": false,
         "type": "scatter",
         "x": [
          95,
          95,
          192.421875,
          192.421875
         ],
         "y": [
          0,
          2.2309940174278067,
          2.2309940174278067,
          2.193498036427977
         ]
        },
        {
         "hoverinfo": "skip",
         "line": {
          "color": "#2E86AB",
          "width": 1.5
         },
         "mode": "lines",
         "showlegend": false,
         "type": "scatter",
         "x": [
          85,
          85,
          143.7109375,
          143.7109375
         ],
         "y": [
          0,
          2.57662186952039,
          2.57662186952039,
          2.2309940174278067
         ]
        },
        {
         "hoverinfo": "skip",
         "line": {
          "color": "#2E86AB",
          "width": 1.5
         },
         "mode": "lines",
         "showlegend": false,
         "type": "scatter",
         "x": [
          75,
          75,
          114.35546875,
          114.35546875
         ],
         "y": [
          0,
          2.89041223919946,
          2.89041223919946,
          2.57662186952039
         ]
        },
        {
         "hoverinfo": "skip",
         "line": {
          "color": "#2E86AB",
          "width": 1.5
         },
         "mode": "lines",
         "showlegend": false,
         "type": "scatter",
         "x": [
          22.1875,
          22.1875,
          94.677734375,
          94.677734375
         ],
         "y": [
          2.589342837446732,
          3.9939923356808946,
          3.9939923356808946,
          2.89041223919946
         ]
        },
        {
         "hovertemplate": "<b>%{text}</b><extra></extra>",
         "mode": "text",
         "showlegend": false,
         "text": [
          "(3)",
          "(3)",
          "(2)",
          "(2)",
          " also",
          " how",
          "(5)",
          "(3)",
          "(2)",
          "(2)",
          "'ll",
          " child",
          "(2)",
          " relationships",
          " Concepts",
          " experiences",
          " attachment",
          " job",
          " resilient",
          " harsh",
          "(4)",
          " shape",
          " structure",
          " **",
          "(3)",
          " certain",
          " self",
          " long",
          " step",
          " terms"
         ],
         "textfont": {
          "size": 9
         },
         "textposition": "bottom center",
         "type": "scatter",
         "x": [
          10,
          60,
          52.5,
          43.75,
          34.375,
          22.1875,
          120,
          112.5,
          150,
          142.5,
          127.5,
          200,
          192.5,
          183.75,
          174.375,
          150.9375,
          220,
          270,
          262.5,
          290,
          276.25,
          260.625,
          247.8125,
          233.90625,
          192.421875,
          143.7109375,
          114.35546875,
          94.677734375,
          58.4326171875
         ],
         "y": [
          0,
          0,
          0,
          0,
          0,
          0,
          0,
          0,
          0,
          0,
          0,
          0,
          0,
          0,
          0,
          0,
          0,
          0,
          0,
          0,
          0,
          0,
          0,
          0,
          0,
          0,
          0,
          0,
          0,
          0
         ]
        }
       ],
       "layout": {
        "font": {
         "size": 11
        },
        "height": 700,
        "margin": {
         "b": 120,
         "t": 80
        },
        "plot_bgcolor": "white",
        "template": {
         "data": {
          "bar": [
           {
            "error_x": {
             "color": "#2a3f5f"
            },
            "error_y": {
             "color": "#2a3f5f"
            },
            "marker": {
             "line": {
              "color": "#E5ECF6",
              "width": 0.5
             },
             "pattern": {
              "fillmode": "overlay",
              "size": 10,
              "solidity": 0.2
             }
            },
            "type": "bar"
           }
          ],
          "barpolar": [
           {
            "marker": {
             "line": {
              "color": "#E5ECF6",
              "width": 0.5
             },
             "pattern": {
              "fillmode": "overlay",
              "size": 10,
              "solidity": 0.2
             }
            },
            "type": "barpolar"
           }
          ],
          "carpet": [
           {
            "aaxis": {
             "endlinecolor": "#2a3f5f",
             "gridcolor": "white",
             "linecolor": "white",
             "minorgridcolor": "white",
             "startlinecolor": "#2a3f5f"
            },
            "baxis": {
             "endlinecolor": "#2a3f5f",
             "gridcolor": "white",
             "linecolor": "white",
             "minorgridcolor": "white",
             "startlinecolor": "#2a3f5f"
            },
            "type": "carpet"
           }
          ],
          "choropleth": [
           {
            "colorbar": {
             "outlinewidth": 0,
             "ticks": ""
            },
            "type": "choropleth"
           }
          ],
          "contour": [
           {
            "colorbar": {
             "outlinewidth": 0,
             "ticks": ""
            },
            "colorscale": [
             [
              0,
              "#0d0887"
             ],
             [
              0.1111111111111111,
              "#46039f"
             ],
             [
              0.2222222222222222,
              "#7201a8"
             ],
             [
              0.3333333333333333,
              "#9c179e"
             ],
             [
              0.4444444444444444,
              "#bd3786"
             ],
             [
              0.5555555555555556,
              "#d8576b"
             ],
             [
              0.6666666666666666,
              "#ed7953"
             ],
             [
              0.7777777777777778,
              "#fb9f3a"
             ],
             [
              0.8888888888888888,
              "#fdca26"
             ],
             [
              1,
              "#f0f921"
             ]
            ],
            "type": "contour"
           }
          ],
          "contourcarpet": [
           {
            "colorbar": {
             "outlinewidth": 0,
             "ticks": ""
            },
            "type": "contourcarpet"
           }
          ],
          "heatmap": [
           {
            "colorbar": {
             "outlinewidth": 0,
             "ticks": ""
            },
            "colorscale": [
             [
              0,
              "#0d0887"
             ],
             [
              0.1111111111111111,
              "#46039f"
             ],
             [
              0.2222222222222222,
              "#7201a8"
             ],
             [
              0.3333333333333333,
              "#9c179e"
             ],
             [
              0.4444444444444444,
              "#bd3786"
             ],
             [
              0.5555555555555556,
              "#d8576b"
             ],
             [
              0.6666666666666666,
              "#ed7953"
             ],
             [
              0.7777777777777778,
              "#fb9f3a"
             ],
             [
              0.8888888888888888,
              "#fdca26"
             ],
             [
              1,
              "#f0f921"
             ]
            ],
            "type": "heatmap"
           }
          ],
          "histogram": [
           {
            "marker": {
             "pattern": {
              "fillmode": "overlay",
              "size": 10,
              "solidity": 0.2
             }
            },
            "type": "histogram"
           }
          ],
          "histogram2d": [
           {
            "colorbar": {
             "outlinewidth": 0,
             "ticks": ""
            },
            "colorscale": [
             [
              0,
              "#0d0887"
             ],
             [
              0.1111111111111111,
              "#46039f"
             ],
             [
              0.2222222222222222,
              "#7201a8"
             ],
             [
              0.3333333333333333,
              "#9c179e"
             ],
             [
              0.4444444444444444,
              "#bd3786"
             ],
             [
              0.5555555555555556,
              "#d8576b"
             ],
             [
              0.6666666666666666,
              "#ed7953"
             ],
             [
              0.7777777777777778,
              "#fb9f3a"
             ],
             [
              0.8888888888888888,
              "#fdca26"
             ],
             [
              1,
              "#f0f921"
             ]
            ],
            "type": "histogram2d"
           }
          ],
          "histogram2dcontour": [
           {
            "colorbar": {
             "outlinewidth": 0,
             "ticks": ""
            },
            "colorscale": [
             [
              0,
              "#0d0887"
             ],
             [
              0.1111111111111111,
              "#46039f"
             ],
             [
              0.2222222222222222,
              "#7201a8"
             ],
             [
              0.3333333333333333,
              "#9c179e"
             ],
             [
              0.4444444444444444,
              "#bd3786"
             ],
             [
              0.5555555555555556,
              "#d8576b"
             ],
             [
              0.6666666666666666,
              "#ed7953"
             ],
             [
              0.7777777777777778,
              "#fb9f3a"
             ],
             [
              0.8888888888888888,
              "#fdca26"
             ],
             [
              1,
              "#f0f921"
             ]
            ],
            "type": "histogram2dcontour"
           }
          ],
          "mesh3d": [
           {
            "colorbar": {
             "outlinewidth": 0,
             "ticks": ""
            },
            "type": "mesh3d"
           }
          ],
          "parcoords": [
           {
            "line": {
             "colorbar": {
              "outlinewidth": 0,
              "ticks": ""
             }
            },
            "type": "parcoords"
           }
          ],
          "pie": [
           {
            "automargin": true,
            "type": "pie"
           }
          ],
          "scatter": [
           {
            "fillpattern": {
             "fillmode": "overlay",
             "size": 10,
             "solidity": 0.2
            },
            "type": "scatter"
           }
          ],
          "scatter3d": [
           {
            "line": {
             "colorbar": {
              "outlinewidth": 0,
              "ticks": ""
             }
            },
            "marker": {
             "colorbar": {
              "outlinewidth": 0,
              "ticks": ""
             }
            },
            "type": "scatter3d"
           }
          ],
          "scattercarpet": [
           {
            "marker": {
             "colorbar": {
              "outlinewidth": 0,
              "ticks": ""
             }
            },
            "type": "scattercarpet"
           }
          ],
          "scattergeo": [
           {
            "marker": {
             "colorbar": {
              "outlinewidth": 0,
              "ticks": ""
             }
            },
            "type": "scattergeo"
           }
          ],
          "scattergl": [
           {
            "marker": {
             "colorbar": {
              "outlinewidth": 0,
              "ticks": ""
             }
            },
            "type": "scattergl"
           }
          ],
          "scattermap": [
           {
            "marker": {
             "colorbar": {
              "outlinewidth": 0,
              "ticks": ""
             }
            },
            "type": "scattermap"
           }
          ],
          "scattermapbox": [
           {
            "marker": {
             "colorbar": {
              "outlinewidth": 0,
              "ticks": ""
             }
            },
            "type": "scattermapbox"
           }
          ],
          "scatterpolar": [
           {
            "marker": {
             "colorbar": {
              "outlinewidth": 0,
              "ticks": ""
             }
            },
            "type": "scatterpolar"
           }
          ],
          "scatterpolargl": [
           {
            "marker": {
             "colorbar": {
              "outlinewidth": 0,
              "ticks": ""
             }
            },
            "type": "scatterpolargl"
           }
          ],
          "scatterternary": [
           {
            "marker": {
             "colorbar": {
              "outlinewidth": 0,
              "ticks": ""
             }
            },
            "type": "scatterternary"
           }
          ],
          "surface": [
           {
            "colorbar": {
             "outlinewidth": 0,
             "ticks": ""
            },
            "colorscale": [
             [
              0,
              "#0d0887"
             ],
             [
              0.1111111111111111,
              "#46039f"
             ],
             [
              0.2222222222222222,
              "#7201a8"
             ],
             [
              0.3333333333333333,
              "#9c179e"
             ],
             [
              0.4444444444444444,
              "#bd3786"
             ],
             [
              0.5555555555555556,
              "#d8576b"
             ],
             [
              0.6666666666666666,
              "#ed7953"
             ],
             [
              0.7777777777777778,
              "#fb9f3a"
             ],
             [
              0.8888888888888888,
              "#fdca26"
             ],
             [
              1,
              "#f0f921"
             ]
            ],
            "type": "surface"
           }
          ],
          "table": [
           {
            "cells": {
             "fill": {
              "color": "#EBF0F8"
             },
             "line": {
              "color": "white"
             }
            },
            "header": {
             "fill": {
              "color": "#C8D4E3"
             },
             "line": {
              "color": "white"
             }
            },
            "type": "table"
           }
          ]
         },
         "layout": {
          "annotationdefaults": {
           "arrowcolor": "#2a3f5f",
           "arrowhead": 0,
           "arrowwidth": 1
          },
          "autotypenumbers": "strict",
          "coloraxis": {
           "colorbar": {
            "outlinewidth": 0,
            "ticks": ""
           }
          },
          "colorscale": {
           "diverging": [
            [
             0,
             "#8e0152"
            ],
            [
             0.1,
             "#c51b7d"
            ],
            [
             0.2,
             "#de77ae"
            ],
            [
             0.3,
             "#f1b6da"
            ],
            [
             0.4,
             "#fde0ef"
            ],
            [
             0.5,
             "#f7f7f7"
            ],
            [
             0.6,
             "#e6f5d0"
            ],
            [
             0.7,
             "#b8e186"
            ],
            [
             0.8,
             "#7fbc41"
            ],
            [
             0.9,
             "#4d9221"
            ],
            [
             1,
             "#276419"
            ]
           ],
           "sequential": [
            [
             0,
             "#0d0887"
            ],
            [
             0.1111111111111111,
             "#46039f"
            ],
            [
             0.2222222222222222,
             "#7201a8"
            ],
            [
             0.3333333333333333,
             "#9c179e"
            ],
            [
             0.4444444444444444,
             "#bd3786"
            ],
            [
             0.5555555555555556,
             "#d8576b"
            ],
            [
             0.6666666666666666,
             "#ed7953"
            ],
            [
             0.7777777777777778,
             "#fb9f3a"
            ],
            [
             0.8888888888888888,
             "#fdca26"
            ],
            [
             1,
             "#f0f921"
            ]
           ],
           "sequentialminus": [
            [
             0,
             "#0d0887"
            ],
            [
             0.1111111111111111,
             "#46039f"
            ],
            [
             0.2222222222222222,
             "#7201a8"
            ],
            [
             0.3333333333333333,
             "#9c179e"
            ],
            [
             0.4444444444444444,
             "#bd3786"
            ],
            [
             0.5555555555555556,
             "#d8576b"
            ],
            [
             0.6666666666666666,
             "#ed7953"
            ],
            [
             0.7777777777777778,
             "#fb9f3a"
            ],
            [
             0.8888888888888888,
             "#fdca26"
            ],
            [
             1,
             "#f0f921"
            ]
           ]
          },
          "colorway": [
           "#636efa",
           "#EF553B",
           "#00cc96",
           "#ab63fa",
           "#FFA15A",
           "#19d3f3",
           "#FF6692",
           "#B6E880",
           "#FF97FF",
           "#FECB52"
          ],
          "font": {
           "color": "#2a3f5f"
          },
          "geo": {
           "bgcolor": "white",
           "lakecolor": "white",
           "landcolor": "#E5ECF6",
           "showlakes": true,
           "showland": true,
           "subunitcolor": "white"
          },
          "hoverlabel": {
           "align": "left"
          },
          "hovermode": "closest",
          "mapbox": {
           "style": "light"
          },
          "paper_bgcolor": "white",
          "plot_bgcolor": "#E5ECF6",
          "polar": {
           "angularaxis": {
            "gridcolor": "white",
            "linecolor": "white",
            "ticks": ""
           },
           "bgcolor": "#E5ECF6",
           "radialaxis": {
            "gridcolor": "white",
            "linecolor": "white",
            "ticks": ""
           }
          },
          "scene": {
           "xaxis": {
            "backgroundcolor": "#E5ECF6",
            "gridcolor": "white",
            "gridwidth": 2,
            "linecolor": "white",
            "showbackground": true,
            "ticks": "",
            "zerolinecolor": "white"
           },
           "yaxis": {
            "backgroundcolor": "#E5ECF6",
            "gridcolor": "white",
            "gridwidth": 2,
            "linecolor": "white",
            "showbackground": true,
            "ticks": "",
            "zerolinecolor": "white"
           },
           "zaxis": {
            "backgroundcolor": "#E5ECF6",
            "gridcolor": "white",
            "gridwidth": 2,
            "linecolor": "white",
            "showbackground": true,
            "ticks": "",
            "zerolinecolor": "white"
           }
          },
          "shapedefaults": {
           "line": {
            "color": "#2a3f5f"
           }
          },
          "ternary": {
           "aaxis": {
            "gridcolor": "white",
            "linecolor": "white",
            "ticks": ""
           },
           "baxis": {
            "gridcolor": "white",
            "linecolor": "white",
            "ticks": ""
           },
           "bgcolor": "#E5ECF6",
           "caxis": {
            "gridcolor": "white",
            "linecolor": "white",
            "ticks": ""
           }
          },
          "title": {
           "x": 0.05
          },
          "xaxis": {
           "automargin": true,
           "gridcolor": "white",
           "linecolor": "white",
           "ticks": "",
           "title": {
            "standoff": 15
           },
           "zerolinecolor": "white",
           "zerolinewidth": 2
          },
          "yaxis": {
           "automargin": true,
           "gridcolor": "white",
           "linecolor": "white",
           "ticks": "",
           "title": {
            "standoff": 15
           },
           "zerolinecolor": "white",
           "zerolinewidth": 2
          }
         }
        },
        "title": {
         "text": "Hierarchical Clustering Dendrogram<br><sub>Ward linkage, euclidean distance</sub>"
        },
        "xaxis": {
         "showgrid": false,
         "showticklabels": false,
         "zeroline": false
        },
        "yaxis": {
         "gridcolor": "lightgray",
         "gridwidth": 0.5,
         "showgrid": true,
         "title": {
          "text": "Distance"
         }
        }
       }
      }
     },
     "metadata": {},
     "output_type": "display_data"
    },
    {
     "data": {
      "application/vnd.plotly.v1+json": {
       "config": {
        "plotlyServerURL": "https://plot.ly"
       },
       "data": [
        {
         "hoverinfo": "skip",
         "line": {
          "color": "rgb(102,194,165)",
          "width": 1.2
         },
         "mode": "lines",
         "showlegend": false,
         "type": "scatter",
         "x": [
          45,
          45,
          55,
          55
         ],
         "xaxis": "x",
         "y": [
          0,
          0,
          0,
          0
         ],
         "yaxis": "y"
        },
        {
         "hoverinfo": "skip",
         "line": {
          "color": "rgb(102,194,165)",
          "width": 1.2
         },
         "mode": "lines",
         "showlegend": false,
         "type": "scatter",
         "x": [
          35,
          35,
          50,
          50
         ],
         "xaxis": "x",
         "y": [
          0,
          0,
          0,
          0
         ],
         "yaxis": "y"
        },
        {
         "hoverinfo": "skip",
         "line": {
          "color": "rgb(102,194,165)",
          "width": 1.2
         },
         "mode": "lines",
         "showlegend": false,
         "type": "scatter",
         "x": [
          25,
          25,
          42.5,
          42.5
         ],
         "xaxis": "x",
         "y": [
          0,
          0,
          0,
          0
         ],
         "yaxis": "y"
        },
        {
         "hoverinfo": "skip",
         "line": {
          "color": "rgb(102,194,165)",
          "width": 1.2
         },
         "mode": "lines",
         "showlegend": false,
         "type": "scatter",
         "x": [
          15,
          15,
          33.75,
          33.75
         ],
         "xaxis": "x",
         "y": [
          0,
          0,
          0,
          0
         ],
         "yaxis": "y"
        },
        {
         "hoverinfo": "skip",
         "line": {
          "color": "rgb(102,194,165)",
          "width": 1.2
         },
         "mode": "lines",
         "showlegend": false,
         "type": "scatter",
         "x": [
          5,
          5,
          24.375,
          24.375
         ],
         "xaxis": "x",
         "y": [
          0,
          0,
          0,
          0
         ],
         "yaxis": "y"
        },
        {
         "hoverinfo": "skip",
         "line": {
          "color": "rgb(102,194,165)",
          "width": 1.2
         },
         "mode": "lines",
         "showlegend": false,
         "type": "scatter",
         "x": [
          65,
          65,
          75,
          75
         ],
         "xaxis": "x",
         "y": [
          0,
          0,
          0,
          0
         ],
         "yaxis": "y"
        },
        {
         "hoverinfo": "skip",
         "line": {
          "color": "rgb(102,194,165)",
          "width": 1.2
         },
         "mode": "lines",
         "showlegend": false,
         "type": "scatter",
         "x": [
          95,
          95,
          105,
          105
         ],
         "xaxis": "x",
         "y": [
          0,
          1.1926915438440377,
          1.1926915438440377,
          0
         ],
         "yaxis": "y"
        },
        {
         "hoverinfo": "skip",
         "line": {
          "color": "rgb(102,194,165)",
          "width": 1.2
         },
         "mode": "lines",
         "showlegend": false,
         "type": "scatter",
         "x": [
          85,
          85,
          100,
          100
         ],
         "xaxis": "x",
         "y": [
          0,
          1.2576653937072775,
          1.2576653937072775,
          1.1926915438440377
         ],
         "yaxis": "y"
        },
        {
         "hoverinfo": "skip",
         "line": {
          "color": "rgb(102,194,165)",
          "width": 1.2
         },
         "mode": "lines",
         "showlegend": false,
         "type": "scatter",
         "x": [
          70,
          70,
          92.5,
          92.5
         ],
         "xaxis": "x",
         "y": [
          0,
          1.5289540122557363,
          1.5289540122557363,
          1.2576653937072775
         ],
         "yaxis": "y"
        },
        {
         "hoverinfo": "skip",
         "line": {
          "color": "rgb(102,194,165)",
          "width": 1.2
         },
         "mode": "lines",
         "showlegend": false,
         "type": "scatter",
         "x": [
          125,
          125,
          135,
          135
         ],
         "xaxis": "x",
         "y": [
          0,
          0,
          0,
          0
         ],
         "yaxis": "y"
        },
        {
         "hoverinfo": "skip",
         "line": {
          "color": "rgb(102,194,165)",
          "width": 1.2
         },
         "mode": "lines",
         "showlegend": false,
         "type": "scatter",
         "x": [
          115,
          115,
          130,
          130
         ],
         "xaxis": "x",
         "y": [
          0,
          1.1974522413763156,
          1.1974522413763156,
          0
         ],
         "yaxis": "y"
        },
        {
         "hoverinfo": "skip",
         "line": {
          "color": "rgb(102,194,165)",
          "width": 1.2
         },
         "mode": "lines",
         "showlegend": false,
         "type": "scatter",
         "x": [
          155,
          155,
          165,
          165
         ],
         "xaxis": "x",
         "y": [
          0,
          0,
          0,
          0
         ],
         "yaxis": "y"
        },
        {
         "hoverinfo": "skip",
         "line": {
          "color": "rgb(102,194,165)",
          "width": 1.2
         },
         "mode": "lines",
         "showlegend": false,
         "type": "scatter",
         "x": [
          145,
          145,
          160,
          160
         ],
         "xaxis": "x",
         "y": [
          0,
          1.6237089886382416,
          1.6237089886382416,
          0
         ],
         "yaxis": "y"
        },
        {
         "hoverinfo": "skip",
         "line": {
          "color": "rgb(102,194,165)",
          "width": 1.2
         },
         "mode": "lines",
         "showlegend": false,
         "type": "scatter",
         "x": [
          122.5,
          122.5,
          152.5,
          152.5
         ],
         "xaxis": "x",
         "y": [
          1.1974522413763156,
          1.8363703358246217,
          1.8363703358246217,
          1.6237089886382416
         ],
         "yaxis": "y"
        },
        {
         "hoverinfo": "skip",
         "line": {
          "color": "rgb(102,194,165)",
          "width": 1.2
         },
         "mode": "lines",
         "showlegend": false,
         "type": "scatter",
         "x": [
          81.25,
          81.25,
          137.5,
          137.5
         ],
         "xaxis": "x",
         "y": [
          1.5289540122557363,
          2.099804636199707,
          2.099804636199707,
          1.8363703358246217
         ],
         "yaxis": "y"
        },
        {
         "hoverinfo": "skip",
         "line": {
          "color": "rgb(102,194,165)",
          "width": 1.2
         },
         "mode": "lines",
         "showlegend": false,
         "type": "scatter",
         "x": [
          14.6875,
          14.6875,
          109.375,
          109.375
         ],
         "xaxis": "x",
         "y": [
          0,
          2.797820094567625,
          2.797820094567625,
          2.099804636199707
         ],
         "yaxis": "y"
        },
        {
         "hoverinfo": "skip",
         "line": {
          "color": "rgb(102,194,165)",
          "width": 1.2
         },
         "mode": "lines",
         "showlegend": false,
         "type": "scatter",
         "x": [
          185,
          185,
          195,
          195
         ],
         "xaxis": "x",
         "y": [
          0,
          0,
          0,
          0
         ],
         "yaxis": "y"
        },
        {
         "hoverinfo": "skip",
         "line": {
          "color": "rgb(102,194,165)",
          "width": 1.2
         },
         "mode": "lines",
         "showlegend": false,
         "type": "scatter",
         "x": [
          175,
          175,
          190,
          190
         ],
         "xaxis": "x",
         "y": [
          0,
          1.3343486081528164,
          1.3343486081528164,
          0
         ],
         "yaxis": "y"
        },
        {
         "hoverinfo": "skip",
         "line": {
          "color": "rgb(102,194,165)",
          "width": 1.2
         },
         "mode": "lines",
         "showlegend": false,
         "type": "scatter",
         "x": [
          215,
          215,
          225,
          225
         ],
         "xaxis": "x",
         "y": [
          0,
          0,
          0,
          0
         ],
         "yaxis": "y"
        },
        {
         "hoverinfo": "skip",
         "line": {
          "color": "rgb(102,194,165)",
          "width": 1.2
         },
         "mode": "lines",
         "showlegend": false,
         "type": "scatter",
         "x": [
          205,
          205,
          220,
          220
         ],
         "xaxis": "x",
         "y": [
          0,
          1.3046214492711217,
          1.3046214492711217,
          0
         ],
         "yaxis": "y"
        },
        {
         "hoverinfo": "skip",
         "line": {
          "color": "rgb(102,194,165)",
          "width": 1.2
         },
         "mode": "lines",
         "showlegend": false,
         "type": "scatter",
         "x": [
          265,
          265,
          275,
          275
         ],
         "xaxis": "x",
         "y": [
          0,
          1.5517661233957403,
          1.5517661233957403,
          0
         ],
         "yaxis": "y"
        },
        {
         "hoverinfo": "skip",
         "line": {
          "color": "rgb(102,194,165)",
          "width": 1.2
         },
         "mode": "lines",
         "showlegend": false,
         "type": "scatter",
         "x": [
          255,
          255,
          270,
          270
         ],
         "xaxis": "x",
         "y": [
          0,
          1.6288446736546727,
          1.6288446736546727,
          1.5517661233957403
         ],
         "yaxis": "y"
        },
        {
         "hoverinfo": "skip",
         "line": {
          "color": "rgb(102,194,165)",
          "width": 1.2
         },
         "mode": "lines",
         "showlegend": false,
         "type": "scatter",
         "x": [
          245,
          245,
          262.5,
          262.5
         ],
         "xaxis": "x",
         "y": [
          0,
          1.6566707342571698,
          1.6566707342571698,
          1.6288446736546727
         ],
         "yaxis": "y"
        },
        {
         "hoverinfo": "skip",
         "line": {
          "color": "rgb(102,194,165)",
          "width": 1.2
         },
         "mode": "lines",
         "showlegend": false,
         "type": "scatter",
         "x": [
          235,
          235,
          253.75,
          253.75
         ],
         "xaxis": "x",
         "y": [
          0,
          1.679693013611122,
          1.679693013611122,
          1.6566707342571698
         ],
         "yaxis": "y"
        },
        {
         "hoverinfo": "skip",
         "line": {
          "color": "rgb(102,194,165)",
          "width": 1.2
         },
         "mode": "lines",
         "showlegend": false,
         "type": "scatter",
         "x": [
          295,
          295,
          305,
          305
         ],
         "xaxis": "x",
         "y": [
          0,
          1.6210172199083748,
          1.6210172199083748,
          0
         ],
         "yaxis": "y"
        },
        {
         "hoverinfo": "skip",
         "line": {
          "color": "rgb(102,194,165)",
          "width": 1.2
         },
         "mode": "lines",
         "showlegend": false,
         "type": "scatter",
         "x": [
          285,
          285,
          300,
          300
         ],
         "xaxis": "x",
         "y": [
          0,
          1.7184466750844452,
          1.7184466750844452,
          1.6210172199083748
         ],
         "yaxis": "y"
        },
        {
         "hoverinfo": "skip",
         "line": {
          "color": "rgb(102,194,165)",
          "width": 1.2
         },
         "mode": "lines",
         "showlegend": false,
         "type": "scatter",
         "x": [
          244.375,
          244.375,
          292.5,
          292.5
         ],
         "xaxis": "x",
         "y": [
          1.679693013611122,
          1.7606568368425346,
          1.7606568368425346,
          1.7184466750844452
         ],
         "yaxis": "y"
        },
        {
         "hoverinfo": "skip",
         "line": {
          "color": "rgb(102,194,165)",
          "width": 1.2
         },
         "mode": "lines",
         "showlegend": false,
         "type": "scatter",
         "x": [
          345,
          345,
          355,
          355
         ],
         "xaxis": "x",
         "y": [
          0,
          1.4318042364080419,
          1.4318042364080419,
          0
         ],
         "yaxis": "y"
        },
        {
         "hoverinfo": "skip",
         "line": {
          "color": "rgb(102,194,165)",
          "width": 1.2
         },
         "mode": "lines",
         "showlegend": false,
         "type": "scatter",
         "x": [
          335,
          335,
          350,
          350
         ],
         "xaxis": "x",
         "y": [
          0,
          1.7515961903762027,
          1.7515961903762027,
          1.4318042364080419
         ],
         "yaxis": "y"
        },
        {
         "hoverinfo": "skip",
         "line": {
          "color": "rgb(102,194,165)",
          "width": 1.2
         },
         "mode": "lines",
         "showlegend": false,
         "type": "scatter",
         "x": [
          325,
          325,
          342.5,
          342.5
         ],
         "xaxis": "x",
         "y": [
          0,
          1.817291140177878,
          1.817291140177878,
          1.7515961903762027
         ],
         "yaxis": "y"
        },
        {
         "hoverinfo": "skip",
         "line": {
          "color": "rgb(102,194,165)",
          "width": 1.2
         },
         "mode": "lines",
         "showlegend": false,
         "type": "scatter",
         "x": [
          315,
          315,
          333.75,
          333.75
         ],
         "xaxis": "x",
         "y": [
          0,
          1.8291487444543761,
          1.8291487444543761,
          1.817291140177878
         ],
         "yaxis": "y"
        },
        {
         "hoverinfo": "skip",
         "line": {
          "color": "rgb(102,194,165)",
          "width": 1.2
         },
         "mode": "lines",
         "showlegend": false,
         "type": "scatter",
         "x": [
          365,
          365,
          375,
          375
         ],
         "xaxis": "x",
         "y": [
          0,
          1.8424648606758551,
          1.8424648606758551,
          0
         ],
         "yaxis": "y"
        },
        {
         "hoverinfo": "skip",
         "line": {
          "color": "rgb(102,194,165)",
          "width": 1.2
         },
         "mode": "lines",
         "showlegend": false,
         "type": "scatter",
         "x": [
          324.375,
          324.375,
          370,
          370
         ],
         "xaxis": "x",
         "y": [
          1.8291487444543761,
          1.8992061254808241,
          1.8992061254808241,
          1.8424648606758551
         ],
         "yaxis": "y"
        },
        {
         "hoverinfo": "skip",
         "line": {
          "color": "rgb(102,194,165)",
          "width": 1.2
         },
         "mode": "lines",
         "showlegend": false,
         "type": "scatter",
         "x": [
          268.4375,
          268.4375,
          347.1875,
          347.1875
         ],
         "xaxis": "x",
         "y": [
          1.7606568368425346,
          1.9368509751282539,
          1.9368509751282539,
          1.8992061254808241
         ],
         "yaxis": "y"
        },
        {
         "hoverinfo": "skip",
         "line": {
          "color": "rgb(102,194,165)",
          "width": 1.2
         },
         "mode": "lines",
         "showlegend": false,
         "type": "scatter",
         "x": [
          385,
          385,
          395,
          395
         ],
         "xaxis": "x",
         "y": [
          0,
          0,
          0,
          0
         ],
         "yaxis": "y"
        },
        {
         "hoverinfo": "skip",
         "line": {
          "color": "rgb(102,194,165)",
          "width": 1.2
         },
         "mode": "lines",
         "showlegend": false,
         "type": "scatter",
         "x": [
          485,
          485,
          495,
          495
         ],
         "xaxis": "x",
         "y": [
          0,
          1.4253137486789704,
          1.4253137486789704,
          0
         ],
         "yaxis": "y"
        },
        {
         "hoverinfo": "skip",
         "line": {
          "color": "rgb(102,194,165)",
          "width": 1.2
         },
         "mode": "lines",
         "showlegend": false,
         "type": "scatter",
         "x": [
          475,
          475,
          490,
          490
         ],
         "xaxis": "x",
         "y": [
          0,
          1.5483614507574601,
          1.5483614507574601,
          1.4253137486789704
         ],
         "yaxis": "y"
        },
        {
         "hoverinfo": "skip",
         "line": {
          "color": "rgb(102,194,165)",
          "width": 1.2
         },
         "mode": "lines",
         "showlegend": false,
         "type": "scatter",
         "x": [
          465,
          465,
          482.5,
          482.5
         ],
         "xaxis": "x",
         "y": [
          0,
          1.5698453724031156,
          1.5698453724031156,
          1.5483614507574601
         ],
         "yaxis": "y"
        },
        {
         "hoverinfo": "skip",
         "line": {
          "color": "rgb(102,194,165)",
          "width": 1.2
         },
         "mode": "lines",
         "showlegend": false,
         "type": "scatter",
         "x": [
          455,
          455,
          473.75,
          473.75
         ],
         "xaxis": "x",
         "y": [
          0,
          1.636468684385773,
          1.636468684385773,
          1.5698453724031156
         ],
         "yaxis": "y"
        },
        {
         "hoverinfo": "skip",
         "line": {
          "color": "rgb(102,194,165)",
          "width": 1.2
         },
         "mode": "lines",
         "showlegend": false,
         "type": "scatter",
         "x": [
          445,
          445,
          464.375,
          464.375
         ],
         "xaxis": "x",
         "y": [
          0,
          1.658069450523975,
          1.658069450523975,
          1.636468684385773
         ],
         "yaxis": "y"
        },
        {
         "hoverinfo": "skip",
         "line": {
          "color": "rgb(102,194,165)",
          "width": 1.2
         },
         "mode": "lines",
         "showlegend": false,
         "type": "scatter",
         "x": [
          435,
          435,
          454.6875,
          454.6875
         ],
         "xaxis": "x",
         "y": [
          0,
          1.670655914038451,
          1.670655914038451,
          1.658069450523975
         ],
         "yaxis": "y"
        },
        {
         "hoverinfo": "skip",
         "line": {
          "color": "rgb(102,194,165)",
          "width": 1.2
         },
         "mode": "lines",
         "showlegend": false,
         "type": "scatter",
         "x": [
          425,
          425,
          444.84375,
          444.84375
         ],
         "xaxis": "x",
         "y": [
          0,
          1.6920510034597764,
          1.6920510034597764,
          1.670655914038451
         ],
         "yaxis": "y"
        },
        {
         "hoverinfo": "skip",
         "line": {
          "color": "rgb(102,194,165)",
          "width": 1.2
         },
         "mode": "lines",
         "showlegend": false,
         "type": "scatter",
         "x": [
          415,
          415,
          434.921875,
          434.921875
         ],
         "xaxis": "x",
         "y": [
          0,
          1.7393107562501007,
          1.7393107562501007,
          1.6920510034597764
         ],
         "yaxis": "y"
        },
        {
         "hoverinfo": "skip",
         "line": {
          "color": "rgb(102,194,165)",
          "width": 1.2
         },
         "mode": "lines",
         "showlegend": false,
         "type": "scatter",
         "x": [
          405,
          405,
          424.9609375,
          424.9609375
         ],
         "xaxis": "x",
         "y": [
          0,
          1.765730242381783,
          1.765730242381783,
          1.7393107562501007
         ],
         "yaxis": "y"
        },
        {
         "hoverinfo": "skip",
         "line": {
          "color": "rgb(102,194,165)",
          "width": 1.2
         },
         "mode": "lines",
         "showlegend": false,
         "type": "scatter",
         "x": [
          390,
          390,
          414.98046875,
          414.98046875
         ],
         "xaxis": "x",
         "y": [
          0,
          2.1614901152323625,
          2.1614901152323625,
          1.765730242381783
         ],
         "yaxis": "y"
        },
        {
         "hoverinfo": "skip",
         "line": {
          "color": "rgb(102,194,165)",
          "width": 1.2
         },
         "mode": "lines",
         "showlegend": false,
         "type": "scatter",
         "x": [
          307.8125,
          307.8125,
          402.490234375,
          402.490234375
         ],
         "xaxis": "x",
         "y": [
          1.9368509751282539,
          2.2236183017429543,
          2.2236183017429543,
          2.1614901152323625
         ],
         "yaxis": "y"
        },
        {
         "hoverinfo": "skip",
         "line": {
          "color": "rgb(102,194,165)",
          "width": 1.2
         },
         "mode": "lines",
         "showlegend": false,
         "type": "scatter",
         "x": [
          212.5,
          212.5,
          355.1513671875,
          355.1513671875
         ],
         "xaxis": "x",
         "y": [
          1.3046214492711217,
          2.5841581633550272,
          2.5841581633550272,
          2.2236183017429543
         ],
         "yaxis": "y"
        },
        {
         "hoverinfo": "skip",
         "line": {
          "color": "rgb(102,194,165)",
          "width": 1.2
         },
         "mode": "lines",
         "showlegend": false,
         "type": "scatter",
         "x": [
          182.5,
          182.5,
          283.82568359375,
          283.82568359375
         ],
         "xaxis": "x",
         "y": [
          1.3343486081528164,
          2.8111761691974775,
          2.8111761691974775,
          2.5841581633550272
         ],
         "yaxis": "y"
        },
        {
         "hoverinfo": "skip",
         "line": {
          "color": "rgb(102,194,165)",
          "width": 1.2
         },
         "mode": "lines",
         "showlegend": false,
         "type": "scatter",
         "x": [
          62.03125,
          62.03125,
          233.162841796875,
          233.162841796875
         ],
         "xaxis": "x",
         "y": [
          2.797820094567625,
          5.014640514646976,
          5.014640514646976,
          2.8111761691974775
         ],
         "yaxis": "y"
        },
        {
         "hoverinfo": "skip",
         "line": {
          "color": "rgb(252,141,98)",
          "width": 1.2
         },
         "mode": "lines",
         "showlegend": false,
         "type": "scatter",
         "x": [
          15,
          15,
          25,
          25
         ],
         "xaxis": "x2",
         "y": [
          0,
          0,
          0,
          0
         ],
         "yaxis": "y2"
        },
        {
         "hoverinfo": "skip",
         "line": {
          "color": "rgb(252,141,98)",
          "width": 1.2
         },
         "mode": "lines",
         "showlegend": false,
         "type": "scatter",
         "x": [
          75,
          75,
          85,
          85
         ],
         "xaxis": "x2",
         "y": [
          0,
          0,
          0,
          0
         ],
         "yaxis": "y2"
        },
        {
         "hoverinfo": "skip",
         "line": {
          "color": "rgb(252,141,98)",
          "width": 1.2
         },
         "mode": "lines",
         "showlegend": false,
         "type": "scatter",
         "x": [
          65,
          65,
          80,
          80
         ],
         "xaxis": "x2",
         "y": [
          0,
          0,
          0,
          0
         ],
         "yaxis": "y2"
        },
        {
         "hoverinfo": "skip",
         "line": {
          "color": "rgb(252,141,98)",
          "width": 1.2
         },
         "mode": "lines",
         "showlegend": false,
         "type": "scatter",
         "x": [
          55,
          55,
          72.5,
          72.5
         ],
         "xaxis": "x2",
         "y": [
          0,
          0,
          0,
          0
         ],
         "yaxis": "y2"
        },
        {
         "hoverinfo": "skip",
         "line": {
          "color": "rgb(252,141,98)",
          "width": 1.2
         },
         "mode": "lines",
         "showlegend": false,
         "type": "scatter",
         "x": [
          45,
          45,
          63.75,
          63.75
         ],
         "xaxis": "x2",
         "y": [
          0,
          0,
          0,
          0
         ],
         "yaxis": "y2"
        },
        {
         "hoverinfo": "skip",
         "line": {
          "color": "rgb(252,141,98)",
          "width": 1.2
         },
         "mode": "lines",
         "showlegend": false,
         "type": "scatter",
         "x": [
          35,
          35,
          54.375,
          54.375
         ],
         "xaxis": "x2",
         "y": [
          0,
          0,
          0,
          0
         ],
         "yaxis": "y2"
        },
        {
         "hoverinfo": "skip",
         "line": {
          "color": "rgb(252,141,98)",
          "width": 1.2
         },
         "mode": "lines",
         "showlegend": false,
         "type": "scatter",
         "x": [
          20,
          20,
          44.6875,
          44.6875
         ],
         "xaxis": "x2",
         "y": [
          0,
          1.1022055813122098,
          1.1022055813122098,
          0
         ],
         "yaxis": "y2"
        },
        {
         "hoverinfo": "skip",
         "line": {
          "color": "rgb(252,141,98)",
          "width": 1.2
         },
         "mode": "lines",
         "showlegend": false,
         "type": "scatter",
         "x": [
          5,
          5,
          32.34375,
          32.34375
         ],
         "xaxis": "x2",
         "y": [
          0,
          1.4456571143030121,
          1.4456571143030121,
          1.1022055813122098
         ],
         "yaxis": "y2"
        },
        {
         "hoverinfo": "skip",
         "line": {
          "color": "rgb(252,141,98)",
          "width": 1.2
         },
         "mode": "lines",
         "showlegend": false,
         "type": "scatter",
         "x": [
          155,
          155,
          165,
          165
         ],
         "xaxis": "x2",
         "y": [
          0,
          0,
          0,
          0
         ],
         "yaxis": "y2"
        },
        {
         "hoverinfo": "skip",
         "line": {
          "color": "rgb(252,141,98)",
          "width": 1.2
         },
         "mode": "lines",
         "showlegend": false,
         "type": "scatter",
         "x": [
          145,
          145,
          160,
          160
         ],
         "xaxis": "x2",
         "y": [
          0,
          1.0370240608505048,
          1.0370240608505048,
          0
         ],
         "yaxis": "y2"
        },
        {
         "hoverinfo": "skip",
         "line": {
          "color": "rgb(252,141,98)",
          "width": 1.2
         },
         "mode": "lines",
         "showlegend": false,
         "type": "scatter",
         "x": [
          225,
          225,
          235,
          235
         ],
         "xaxis": "x2",
         "y": [
          0,
          0,
          0,
          0
         ],
         "yaxis": "y2"
        },
        {
         "hoverinfo": "skip",
         "line": {
          "color": "rgb(252,141,98)",
          "width": 1.2
         },
         "mode": "lines",
         "showlegend": false,
         "type": "scatter",
         "x": [
          215,
          215,
          230,
          230
         ],
         "xaxis": "x2",
         "y": [
          0,
          1.1700454884655995,
          1.1700454884655995,
          0
         ],
         "yaxis": "y2"
        },
        {
         "hoverinfo": "skip",
         "line": {
          "color": "rgb(252,141,98)",
          "width": 1.2
         },
         "mode": "lines",
         "showlegend": false,
         "type": "scatter",
         "x": [
          205,
          205,
          222.5,
          222.5
         ],
         "xaxis": "x2",
         "y": [
          0,
          1.234897165084512,
          1.234897165084512,
          1.1700454884655995
         ],
         "yaxis": "y2"
        },
        {
         "hoverinfo": "skip",
         "line": {
          "color": "rgb(252,141,98)",
          "width": 1.2
         },
         "mode": "lines",
         "showlegend": false,
         "type": "scatter",
         "x": [
          195,
          195,
          213.75,
          213.75
         ],
         "xaxis": "x2",
         "y": [
          0,
          1.2735867342018083,
          1.2735867342018083,
          1.234897165084512
         ],
         "yaxis": "y2"
        },
        {
         "hoverinfo": "skip",
         "line": {
          "color": "rgb(252,141,98)",
          "width": 1.2
         },
         "mode": "lines",
         "showlegend": false,
         "type": "scatter",
         "x": [
          185,
          185,
          204.375,
          204.375
         ],
         "xaxis": "x2",
         "y": [
          0,
          1.3997947890946247,
          1.3997947890946247,
          1.2735867342018083
         ],
         "yaxis": "y2"
        },
        {
         "hoverinfo": "skip",
         "line": {
          "color": "rgb(252,141,98)",
          "width": 1.2
         },
         "mode": "lines",
         "showlegend": false,
         "type": "scatter",
         "x": [
          175,
          175,
          194.6875,
          194.6875
         ],
         "xaxis": "x2",
         "y": [
          0,
          1.4745504602075723,
          1.4745504602075723,
          1.3997947890946247
         ],
         "yaxis": "y2"
        },
        {
         "hoverinfo": "skip",
         "line": {
          "color": "rgb(252,141,98)",
          "width": 1.2
         },
         "mode": "lines",
         "showlegend": false,
         "type": "scatter",
         "x": [
          152.5,
          152.5,
          184.84375,
          184.84375
         ],
         "xaxis": "x2",
         "y": [
          1.0370240608505048,
          1.5198945127139318,
          1.5198945127139318,
          1.4745504602075723
         ],
         "yaxis": "y2"
        },
        {
         "hoverinfo": "skip",
         "line": {
          "color": "rgb(252,141,98)",
          "width": 1.2
         },
         "mode": "lines",
         "showlegend": false,
         "type": "scatter",
         "x": [
          245,
          245,
          255,
          255
         ],
         "xaxis": "x2",
         "y": [
          0,
          1.5698721279804897,
          1.5698721279804897,
          0
         ],
         "yaxis": "y2"
        },
        {
         "hoverinfo": "skip",
         "line": {
          "color": "rgb(252,141,98)",
          "width": 1.2
         },
         "mode": "lines",
         "showlegend": false,
         "type": "scatter",
         "x": [
          168.671875,
          168.671875,
          250,
          250
         ],
         "xaxis": "x2",
         "y": [
          1.5198945127139318,
          1.6262210333794176,
          1.6262210333794176,
          1.5698721279804897
         ],
         "yaxis": "y2"
        },
        {
         "hoverinfo": "skip",
         "line": {
          "color": "rgb(252,141,98)",
          "width": 1.2
         },
         "mode": "lines",
         "showlegend": false,
         "type": "scatter",
         "x": [
          135,
          135,
          209.3359375,
          209.3359375
         ],
         "xaxis": "x2",
         "y": [
          0,
          1.6424212132201501,
          1.6424212132201501,
          1.6262210333794176
         ],
         "yaxis": "y2"
        },
        {
         "hoverinfo": "skip",
         "line": {
          "color": "rgb(252,141,98)",
          "width": 1.2
         },
         "mode": "lines",
         "showlegend": false,
         "type": "scatter",
         "x": [
          125,
          125,
          172.16796875,
          172.16796875
         ],
         "xaxis": "x2",
         "y": [
          0,
          1.6536963530767708,
          1.6536963530767708,
          1.6424212132201501
         ],
         "yaxis": "y2"
        },
        {
         "hoverinfo": "skip",
         "line": {
          "color": "rgb(252,141,98)",
          "width": 1.2
         },
         "mode": "lines",
         "showlegend": false,
         "type": "scatter",
         "x": [
          115,
          115,
          148.583984375,
          148.583984375
         ],
         "xaxis": "x2",
         "y": [
          0,
          1.6780307303064002,
          1.6780307303064002,
          1.6536963530767708
         ],
         "yaxis": "y2"
        },
        {
         "hoverinfo": "skip",
         "line": {
          "color": "rgb(252,141,98)",
          "width": 1.2
         },
         "mode": "lines",
         "showlegend": false,
         "type": "scatter",
         "x": [
          265,
          265,
          275,
          275
         ],
         "xaxis": "x2",
         "y": [
          0,
          1.6943547303880844,
          1.6943547303880844,
          0
         ],
         "yaxis": "y2"
        },
        {
         "hoverinfo": "skip",
         "line": {
          "color": "rgb(252,141,98)",
          "width": 1.2
         },
         "mode": "lines",
         "showlegend": false,
         "type": "scatter",
         "x": [
          131.7919921875,
          131.7919921875,
          270,
          270
         ],
         "xaxis": "x2",
         "y": [
          1.6780307303064002,
          1.7418585347977915,
          1.7418585347977915,
          1.6943547303880844
         ],
         "yaxis": "y2"
        },
        {
         "hoverinfo": "skip",
         "line": {
          "color": "rgb(252,141,98)",
          "width": 1.2
         },
         "mode": "lines",
         "showlegend": false,
         "type": "scatter",
         "x": [
          105,
          105,
          200.89599609375,
          200.89599609375
         ],
         "xaxis": "x2",
         "y": [
          0,
          1.7732703268599566,
          1.7732703268599566,
          1.7418585347977915
         ],
         "yaxis": "y2"
        },
        {
         "hoverinfo": "skip",
         "line": {
          "color": "rgb(252,141,98)",
          "width": 1.2
         },
         "mode": "lines",
         "showlegend": false,
         "type": "scatter",
         "x": [
          95,
          95,
          152.947998046875,
          152.947998046875
         ],
         "xaxis": "x2",
         "y": [
          0,
          1.8202433859394718,
          1.8202433859394718,
          1.7732703268599566
         ],
         "yaxis": "y2"
        },
        {
         "hoverinfo": "skip",
         "line": {
          "color": "rgb(252,141,98)",
          "width": 1.2
         },
         "mode": "lines",
         "showlegend": false,
         "type": "scatter",
         "x": [
          305,
          305,
          315,
          315
         ],
         "xaxis": "x2",
         "y": [
          0,
          0,
          0,
          0
         ],
         "yaxis": "y2"
        },
        {
         "hoverinfo": "skip",
         "line": {
          "color": "rgb(252,141,98)",
          "width": 1.2
         },
         "mode": "lines",
         "showlegend": false,
         "type": "scatter",
         "x": [
          295,
          295,
          310,
          310
         ],
         "xaxis": "x2",
         "y": [
          0,
          1.1555797921647466,
          1.1555797921647466,
          0
         ],
         "yaxis": "y2"
        },
        {
         "hoverinfo": "skip",
         "line": {
          "color": "rgb(252,141,98)",
          "width": 1.2
         },
         "mode": "lines",
         "showlegend": false,
         "type": "scatter",
         "x": [
          285,
          285,
          302.5,
          302.5
         ],
         "xaxis": "x2",
         "y": [
          0,
          1.8255238125720388,
          1.8255238125720388,
          1.1555797921647466
         ],
         "yaxis": "y2"
        },
        {
         "hoverinfo": "skip",
         "line": {
          "color": "rgb(252,141,98)",
          "width": 1.2
         },
         "mode": "lines",
         "showlegend": false,
         "type": "scatter",
         "x": [
          123.9739990234375,
          123.9739990234375,
          293.75,
          293.75
         ],
         "xaxis": "x2",
         "y": [
          1.8202433859394718,
          1.8528310305987723,
          1.8528310305987723,
          1.8255238125720388
         ],
         "yaxis": "y2"
        },
        {
         "hoverinfo": "skip",
         "line": {
          "color": "rgb(252,141,98)",
          "width": 1.2
         },
         "mode": "lines",
         "showlegend": false,
         "type": "scatter",
         "x": [
          375,
          375,
          385,
          385
         ],
         "xaxis": "x2",
         "y": [
          0,
          0,
          0,
          0
         ],
         "yaxis": "y2"
        },
        {
         "hoverinfo": "skip",
         "line": {
          "color": "rgb(252,141,98)",
          "width": 1.2
         },
         "mode": "lines",
         "showlegend": false,
         "type": "scatter",
         "x": [
          365,
          365,
          380,
          380
         ],
         "xaxis": "x2",
         "y": [
          0,
          1.1298353173908626,
          1.1298353173908626,
          0
         ],
         "yaxis": "y2"
        },
        {
         "hoverinfo": "skip",
         "line": {
          "color": "rgb(252,141,98)",
          "width": 1.2
         },
         "mode": "lines",
         "showlegend": false,
         "type": "scatter",
         "x": [
          355,
          355,
          372.5,
          372.5
         ],
         "xaxis": "x2",
         "y": [
          0,
          1.5214838711100942,
          1.5214838711100942,
          1.1298353173908626
         ],
         "yaxis": "y2"
        },
        {
         "hoverinfo": "skip",
         "line": {
          "color": "rgb(252,141,98)",
          "width": 1.2
         },
         "mode": "lines",
         "showlegend": false,
         "type": "scatter",
         "x": [
          395,
          395,
          405,
          405
         ],
         "xaxis": "x2",
         "y": [
          0,
          1.6639028373911604,
          1.6639028373911604,
          0
         ],
         "yaxis": "y2"
        },
        {
         "hoverinfo": "skip",
         "line": {
          "color": "rgb(252,141,98)",
          "width": 1.2
         },
         "mode": "lines",
         "showlegend": false,
         "type": "scatter",
         "x": [
          363.75,
          363.75,
          400,
          400
         ],
         "xaxis": "x2",
         "y": [
          1.5214838711100942,
          1.6899805736713063,
          1.6899805736713063,
          1.6639028373911604
         ],
         "yaxis": "y2"
        },
        {
         "hoverinfo": "skip",
         "line": {
          "color": "rgb(252,141,98)",
          "width": 1.2
         },
         "mode": "lines",
         "showlegend": false,
         "type": "scatter",
         "x": [
          415,
          415,
          425,
          425
         ],
         "xaxis": "x2",
         "y": [
          0,
          1.6210172199083748,
          1.6210172199083748,
          0
         ],
         "yaxis": "y2"
        },
        {
         "hoverinfo": "skip",
         "line": {
          "color": "rgb(252,141,98)",
          "width": 1.2
         },
         "mode": "lines",
         "showlegend": false,
         "type": "scatter",
         "x": [
          435,
          435,
          445,
          445
         ],
         "xaxis": "x2",
         "y": [
          0,
          1.4318042364080419,
          1.4318042364080419,
          0
         ],
         "yaxis": "y2"
        },
        {
         "hoverinfo": "skip",
         "line": {
          "color": "rgb(252,141,98)",
          "width": 1.2
         },
         "mode": "lines",
         "showlegend": false,
         "type": "scatter",
         "x": [
          465,
          465,
          475,
          475
         ],
         "xaxis": "x2",
         "y": [
          0,
          0,
          0,
          0
         ],
         "yaxis": "y2"
        },
        {
         "hoverinfo": "skip",
         "line": {
          "color": "rgb(252,141,98)",
          "width": 1.2
         },
         "mode": "lines",
         "showlegend": false,
         "type": "scatter",
         "x": [
          455,
          455,
          470,
          470
         ],
         "xaxis": "x2",
         "y": [
          0,
          1.5791685771798545,
          1.5791685771798545,
          0
         ],
         "yaxis": "y2"
        },
        {
         "hoverinfo": "skip",
         "line": {
          "color": "rgb(252,141,98)",
          "width": 1.2
         },
         "mode": "lines",
         "showlegend": false,
         "type": "scatter",
         "x": [
          440,
          440,
          462.5,
          462.5
         ],
         "xaxis": "x2",
         "y": [
          1.4318042364080419,
          1.6458747837502967,
          1.6458747837502967,
          1.5791685771798545
         ],
         "yaxis": "y2"
        },
        {
         "hoverinfo": "skip",
         "line": {
          "color": "rgb(252,141,98)",
          "width": 1.2
         },
         "mode": "lines",
         "showlegend": false,
         "type": "scatter",
         "x": [
          485,
          485,
          495,
          495
         ],
         "xaxis": "x2",
         "y": [
          0,
          1.6708532853989562,
          1.6708532853989562,
          0
         ],
         "yaxis": "y2"
        },
        {
         "hoverinfo": "skip",
         "line": {
          "color": "rgb(252,141,98)",
          "width": 1.2
         },
         "mode": "lines",
         "showlegend": false,
         "type": "scatter",
         "x": [
          451.25,
          451.25,
          490,
          490
         ],
         "xaxis": "x2",
         "y": [
          1.6458747837502967,
          1.6938095882680404,
          1.6938095882680404,
          1.6708532853989562
         ],
         "yaxis": "y2"
        },
        {
         "hoverinfo": "skip",
         "line": {
          "color": "rgb(252,141,98)",
          "width": 1.2
         },
         "mode": "lines",
         "showlegend": false,
         "type": "scatter",
         "x": [
          420,
          420,
          470.625,
          470.625
         ],
         "xaxis": "x2",
         "y": [
          1.6210172199083748,
          1.7217842561670433,
          1.7217842561670433,
          1.6938095882680404
         ],
         "yaxis": "y2"
        },
        {
         "hoverinfo": "skip",
         "line": {
          "color": "rgb(252,141,98)",
          "width": 1.2
         },
         "mode": "lines",
         "showlegend": false,
         "type": "scatter",
         "x": [
          381.875,
          381.875,
          445.3125,
          445.3125
         ],
         "xaxis": "x2",
         "y": [
          1.6899805736713063,
          1.7612834335207912,
          1.7612834335207912,
          1.7217842561670433
         ],
         "yaxis": "y2"
        },
        {
         "hoverinfo": "skip",
         "line": {
          "color": "rgb(252,141,98)",
          "width": 1.2
         },
         "mode": "lines",
         "showlegend": false,
         "type": "scatter",
         "x": [
          345,
          345,
          413.59375,
          413.59375
         ],
         "xaxis": "x2",
         "y": [
          0,
          1.7955588124159363,
          1.7955588124159363,
          1.7612834335207912
         ],
         "yaxis": "y2"
        },
        {
         "hoverinfo": "skip",
         "line": {
          "color": "rgb(252,141,98)",
          "width": 1.2
         },
         "mode": "lines",
         "showlegend": false,
         "type": "scatter",
         "x": [
          335,
          335,
          379.296875,
          379.296875
         ],
         "xaxis": "x2",
         "y": [
          0,
          1.8433039380678915,
          1.8433039380678915,
          1.7955588124159363
         ],
         "yaxis": "y2"
        },
        {
         "hoverinfo": "skip",
         "line": {
          "color": "rgb(252,141,98)",
          "width": 1.2
         },
         "mode": "lines",
         "showlegend": false,
         "type": "scatter",
         "x": [
          325,
          325,
          357.1484375,
          357.1484375
         ],
         "xaxis": "x2",
         "y": [
          0,
          1.8769857069632954,
          1.8769857069632954,
          1.8433039380678915
         ],
         "yaxis": "y2"
        },
        {
         "hoverinfo": "skip",
         "line": {
          "color": "rgb(252,141,98)",
          "width": 1.2
         },
         "mode": "lines",
         "showlegend": false,
         "type": "scatter",
         "x": [
          208.86199951171875,
          208.86199951171875,
          341.07421875,
          341.07421875
         ],
         "xaxis": "x2",
         "y": [
          1.8528310305987723,
          1.9709598020451566,
          1.9709598020451566,
          1.8769857069632954
         ],
         "yaxis": "y2"
        },
        {
         "hoverinfo": "skip",
         "line": {
          "color": "rgb(252,141,98)",
          "width": 1.2
         },
         "mode": "lines",
         "showlegend": false,
         "type": "scatter",
         "x": [
          18.671875,
          18.671875,
          274.9681091308594,
          274.9681091308594
         ],
         "xaxis": "x2",
         "y": [
          1.4456571143030121,
          2.2171303048633018,
          2.2171303048633018,
          1.9709598020451566
         ],
         "yaxis": "y2"
        },
        {
         "hoverinfo": "skip",
         "line": {
          "color": "rgb(141,160,203)",
          "width": 1.2
         },
         "mode": "lines",
         "showlegend": false,
         "type": "scatter",
         "x": [
          65,
          65,
          75,
          75
         ],
         "xaxis": "x3",
         "y": [
          0,
          1.5698721279804897,
          1.5698721279804897,
          0
         ],
         "yaxis": "y3"
        },
        {
         "hoverinfo": "skip",
         "line": {
          "color": "rgb(141,160,203)",
          "width": 1.2
         },
         "mode": "lines",
         "showlegend": false,
         "type": "scatter",
         "x": [
          55,
          55,
          70,
          70
         ],
         "xaxis": "x3",
         "y": [
          0,
          1.6318135208726763,
          1.6318135208726763,
          1.5698721279804897
         ],
         "yaxis": "y3"
        },
        {
         "hoverinfo": "skip",
         "line": {
          "color": "rgb(141,160,203)",
          "width": 1.2
         },
         "mode": "lines",
         "showlegend": false,
         "type": "scatter",
         "x": [
          45,
          45,
          62.5,
          62.5
         ],
         "xaxis": "x3",
         "y": [
          0,
          1.6415615851373853,
          1.6415615851373853,
          1.6318135208726763
         ],
         "yaxis": "y3"
        },
        {
         "hoverinfo": "skip",
         "line": {
          "color": "rgb(141,160,203)",
          "width": 1.2
         },
         "mode": "lines",
         "showlegend": false,
         "type": "scatter",
         "x": [
          95,
          95,
          105,
          105
         ],
         "xaxis": "x3",
         "y": [
          0,
          1.4253137486789704,
          1.4253137486789704,
          0
         ],
         "yaxis": "y3"
        },
        {
         "hoverinfo": "skip",
         "line": {
          "color": "rgb(141,160,203)",
          "width": 1.2
         },
         "mode": "lines",
         "showlegend": false,
         "type": "scatter",
         "x": [
          135,
          135,
          145,
          145
         ],
         "xaxis": "x3",
         "y": [
          0,
          0,
          0,
          0
         ],
         "yaxis": "y3"
        },
        {
         "hoverinfo": "skip",
         "line": {
          "color": "rgb(141,160,203)",
          "width": 1.2
         },
         "mode": "lines",
         "showlegend": false,
         "type": "scatter",
         "x": [
          125,
          125,
          140,
          140
         ],
         "xaxis": "x3",
         "y": [
          0,
          1.0370240608505048,
          1.0370240608505048,
          0
         ],
         "yaxis": "y3"
        },
        {
         "hoverinfo": "skip",
         "line": {
          "color": "rgb(141,160,203)",
          "width": 1.2
         },
         "mode": "lines",
         "showlegend": false,
         "type": "scatter",
         "x": [
          155,
          155,
          165,
          165
         ],
         "xaxis": "x3",
         "y": [
          0,
          0,
          0,
          0
         ],
         "yaxis": "y3"
        },
        {
         "hoverinfo": "skip",
         "line": {
          "color": "rgb(141,160,203)",
          "width": 1.2
         },
         "mode": "lines",
         "showlegend": false,
         "type": "scatter",
         "x": [
          215,
          215,
          225,
          225
         ],
         "xaxis": "x3",
         "y": [
          0,
          0,
          0,
          0
         ],
         "yaxis": "y3"
        },
        {
         "hoverinfo": "skip",
         "line": {
          "color": "rgb(141,160,203)",
          "width": 1.2
         },
         "mode": "lines",
         "showlegend": false,
         "type": "scatter",
         "x": [
          205,
          205,
          220,
          220
         ],
         "xaxis": "x3",
         "y": [
          0,
          0,
          0,
          0
         ],
         "yaxis": "y3"
        },
        {
         "hoverinfo": "skip",
         "line": {
          "color": "rgb(141,160,203)",
          "width": 1.2
         },
         "mode": "lines",
         "showlegend": false,
         "type": "scatter",
         "x": [
          195,
          195,
          212.5,
          212.5
         ],
         "xaxis": "x3",
         "y": [
          0,
          0,
          0,
          0
         ],
         "yaxis": "y3"
        },
        {
         "hoverinfo": "skip",
         "line": {
          "color": "rgb(141,160,203)",
          "width": 1.2
         },
         "mode": "lines",
         "showlegend": false,
         "type": "scatter",
         "x": [
          185,
          185,
          203.75,
          203.75
         ],
         "xaxis": "x3",
         "y": [
          0,
          0,
          0,
          0
         ],
         "yaxis": "y3"
        },
        {
         "hoverinfo": "skip",
         "line": {
          "color": "rgb(141,160,203)",
          "width": 1.2
         },
         "mode": "lines",
         "showlegend": false,
         "type": "scatter",
         "x": [
          175,
          175,
          194.375,
          194.375
         ],
         "xaxis": "x3",
         "y": [
          0,
          0,
          0,
          0
         ],
         "yaxis": "y3"
        },
        {
         "hoverinfo": "skip",
         "line": {
          "color": "rgb(141,160,203)",
          "width": 1.2
         },
         "mode": "lines",
         "showlegend": false,
         "type": "scatter",
         "x": [
          160,
          160,
          184.6875,
          184.6875
         ],
         "xaxis": "x3",
         "y": [
          0,
          1.1022055813122098,
          1.1022055813122098,
          0
         ],
         "yaxis": "y3"
        },
        {
         "hoverinfo": "skip",
         "line": {
          "color": "rgb(141,160,203)",
          "width": 1.2
         },
         "mode": "lines",
         "showlegend": false,
         "type": "scatter",
         "x": [
          265,
          265,
          275,
          275
         ],
         "xaxis": "x3",
         "y": [
          0,
          0,
          0,
          0
         ],
         "yaxis": "y3"
        },
        {
         "hoverinfo": "skip",
         "line": {
          "color": "rgb(141,160,203)",
          "width": 1.2
         },
         "mode": "lines",
         "showlegend": false,
         "type": "scatter",
         "x": [
          255,
          255,
          270,
          270
         ],
         "xaxis": "x3",
         "y": [
          0,
          1.1700454884655995,
          1.1700454884655995,
          0
         ],
         "yaxis": "y3"
        },
        {
         "hoverinfo": "skip",
         "line": {
          "color": "rgb(141,160,203)",
          "width": 1.2
         },
         "mode": "lines",
         "showlegend": false,
         "type": "scatter",
         "x": [
          245,
          245,
          262.5,
          262.5
         ],
         "xaxis": "x3",
         "y": [
          0,
          1.2208286246710205,
          1.2208286246710205,
          1.1700454884655995
         ],
         "yaxis": "y3"
        },
        {
         "hoverinfo": "skip",
         "line": {
          "color": "rgb(141,160,203)",
          "width": 1.2
         },
         "mode": "lines",
         "showlegend": false,
         "type": "scatter",
         "x": [
          235,
          235,
          253.75,
          253.75
         ],
         "xaxis": "x3",
         "y": [
          0,
          1.2391802602284427,
          1.2391802602284427,
          1.2208286246710205
         ],
         "yaxis": "y3"
        },
        {
         "hoverinfo": "skip",
         "line": {
          "color": "rgb(141,160,203)",
          "width": 1.2
         },
         "mode": "lines",
         "showlegend": false,
         "type": "scatter",
         "x": [
          172.34375,
          172.34375,
          244.375,
          244.375
         ],
         "xaxis": "x3",
         "y": [
          1.1022055813122098,
          1.3261381780670476,
          1.3261381780670476,
          1.2391802602284427
         ],
         "yaxis": "y3"
        },
        {
         "hoverinfo": "skip",
         "line": {
          "color": "rgb(141,160,203)",
          "width": 1.2
         },
         "mode": "lines",
         "showlegend": false,
         "type": "scatter",
         "x": [
          132.5,
          132.5,
          208.359375,
          208.359375
         ],
         "xaxis": "x3",
         "y": [
          1.0370240608505048,
          1.393124184282825,
          1.393124184282825,
          1.3261381780670476
         ],
         "yaxis": "y3"
        },
        {
         "hoverinfo": "skip",
         "line": {
          "color": "rgb(141,160,203)",
          "width": 1.2
         },
         "mode": "lines",
         "showlegend": false,
         "type": "scatter",
         "x": [
          115,
          115,
          170.4296875,
          170.4296875
         ],
         "xaxis": "x3",
         "y": [
          0,
          1.4992902544634625,
          1.4992902544634625,
          1.393124184282825
         ],
         "yaxis": "y3"
        },
        {
         "hoverinfo": "skip",
         "line": {
          "color": "rgb(141,160,203)",
          "width": 1.2
         },
         "mode": "lines",
         "showlegend": false,
         "type": "scatter",
         "x": [
          100,
          100,
          142.71484375,
          142.71484375
         ],
         "xaxis": "x3",
         "y": [
          1.4253137486789704,
          1.5149395483074009,
          1.5149395483074009,
          1.4992902544634625
         ],
         "yaxis": "y3"
        },
        {
         "hoverinfo": "skip",
         "line": {
          "color": "rgb(141,160,203)",
          "width": 1.2
         },
         "mode": "lines",
         "showlegend": false,
         "type": "scatter",
         "x": [
          85,
          85,
          121.357421875,
          121.357421875
         ],
         "xaxis": "x3",
         "y": [
          0,
          1.6482811386925353,
          1.6482811386925353,
          1.5149395483074009
         ],
         "yaxis": "y3"
        },
        {
         "hoverinfo": "skip",
         "line": {
          "color": "rgb(141,160,203)",
          "width": 1.2
         },
         "mode": "lines",
         "showlegend": false,
         "type": "scatter",
         "x": [
          53.75,
          53.75,
          103.1787109375,
          103.1787109375
         ],
         "xaxis": "x3",
         "y": [
          1.6415615851373853,
          1.6577216913235617,
          1.6577216913235617,
          1.6482811386925353
         ],
         "yaxis": "y3"
        },
        {
         "hoverinfo": "skip",
         "line": {
          "color": "rgb(141,160,203)",
          "width": 1.2
         },
         "mode": "lines",
         "showlegend": false,
         "type": "scatter",
         "x": [
          35,
          35,
          78.46435546875,
          78.46435546875
         ],
         "xaxis": "x3",
         "y": [
          0,
          1.679649135588109,
          1.679649135588109,
          1.6577216913235617
         ],
         "yaxis": "y3"
        },
        {
         "hoverinfo": "skip",
         "line": {
          "color": "rgb(141,160,203)",
          "width": 1.2
         },
         "mode": "lines",
         "showlegend": false,
         "type": "scatter",
         "x": [
          25,
          25,
          56.732177734375,
          56.732177734375
         ],
         "xaxis": "x3",
         "y": [
          0,
          1.7186755861952907,
          1.7186755861952907,
          1.679649135588109
         ],
         "yaxis": "y3"
        },
        {
         "hoverinfo": "skip",
         "line": {
          "color": "rgb(141,160,203)",
          "width": 1.2
         },
         "mode": "lines",
         "showlegend": false,
         "type": "scatter",
         "x": [
          15,
          15,
          40.8660888671875,
          40.8660888671875
         ],
         "xaxis": "x3",
         "y": [
          0,
          1.7358644325436332,
          1.7358644325436332,
          1.7186755861952907
         ],
         "yaxis": "y3"
        },
        {
         "hoverinfo": "skip",
         "line": {
          "color": "rgb(141,160,203)",
          "width": 1.2
         },
         "mode": "lines",
         "showlegend": false,
         "type": "scatter",
         "x": [
          315,
          315,
          325,
          325
         ],
         "xaxis": "x3",
         "y": [
          0,
          0,
          0,
          0
         ],
         "yaxis": "y3"
        },
        {
         "hoverinfo": "skip",
         "line": {
          "color": "rgb(141,160,203)",
          "width": 1.2
         },
         "mode": "lines",
         "showlegend": false,
         "type": "scatter",
         "x": [
          305,
          305,
          320,
          320
         ],
         "xaxis": "x3",
         "y": [
          0,
          1.1555797921647466,
          1.1555797921647466,
          0
         ],
         "yaxis": "y3"
        },
        {
         "hoverinfo": "skip",
         "line": {
          "color": "rgb(141,160,203)",
          "width": 1.2
         },
         "mode": "lines",
         "showlegend": false,
         "type": "scatter",
         "x": [
          385,
          385,
          395,
          395
         ],
         "xaxis": "x3",
         "y": [
          0,
          1.6210172199083748,
          1.6210172199083748,
          0
         ],
         "yaxis": "y3"
        },
        {
         "hoverinfo": "skip",
         "line": {
          "color": "rgb(141,160,203)",
          "width": 1.2
         },
         "mode": "lines",
         "showlegend": false,
         "type": "scatter",
         "x": [
          405,
          405,
          415,
          415
         ],
         "xaxis": "x3",
         "y": [
          0,
          1.4318042364080419,
          1.4318042364080419,
          0
         ],
         "yaxis": "y3"
        },
        {
         "hoverinfo": "skip",
         "line": {
          "color": "rgb(141,160,203)",
          "width": 1.2
         },
         "mode": "lines",
         "showlegend": false,
         "type": "scatter",
         "x": [
          435,
          435,
          445,
          445
         ],
         "xaxis": "x3",
         "y": [
          0,
          0,
          0,
          0
         ],
         "yaxis": "y3"
        },
        {
         "hoverinfo": "skip",
         "line": {
          "color": "rgb(141,160,203)",
          "width": 1.2
         },
         "mode": "lines",
         "showlegend": false,
         "type": "scatter",
         "x": [
          425,
          425,
          440,
          440
         ],
         "xaxis": "x3",
         "y": [
          0,
          1.5791685771798545,
          1.5791685771798545,
          0
         ],
         "yaxis": "y3"
        },
        {
         "hoverinfo": "skip",
         "line": {
          "color": "rgb(141,160,203)",
          "width": 1.2
         },
         "mode": "lines",
         "showlegend": false,
         "type": "scatter",
         "x": [
          410,
          410,
          432.5,
          432.5
         ],
         "xaxis": "x3",
         "y": [
          1.4318042364080419,
          1.5964961469647208,
          1.5964961469647208,
          1.5791685771798545
         ],
         "yaxis": "y3"
        },
        {
         "hoverinfo": "skip",
         "line": {
          "color": "rgb(141,160,203)",
          "width": 1.2
         },
         "mode": "lines",
         "showlegend": false,
         "type": "scatter",
         "x": [
          485,
          485,
          495,
          495
         ],
         "xaxis": "x3",
         "y": [
          0,
          0,
          0,
          0
         ],
         "yaxis": "y3"
        },
        {
         "hoverinfo": "skip",
         "line": {
          "color": "rgb(141,160,203)",
          "width": 1.2
         },
         "mode": "lines",
         "showlegend": false,
         "type": "scatter",
         "x": [
          475,
          475,
          490,
          490
         ],
         "xaxis": "x3",
         "y": [
          0,
          1.1298353173908626,
          1.1298353173908626,
          0
         ],
         "yaxis": "y3"
        },
        {
         "hoverinfo": "skip",
         "line": {
          "color": "rgb(141,160,203)",
          "width": 1.2
         },
         "mode": "lines",
         "showlegend": false,
         "type": "scatter",
         "x": [
          465,
          465,
          482.5,
          482.5
         ],
         "xaxis": "x3",
         "y": [
          0,
          1.5211811722618958,
          1.5211811722618958,
          1.1298353173908626
         ],
         "yaxis": "y3"
        },
        {
         "hoverinfo": "skip",
         "line": {
          "color": "rgb(141,160,203)",
          "width": 1.2
         },
         "mode": "lines",
         "showlegend": false,
         "type": "scatter",
         "x": [
          455,
          455,
          473.75,
          473.75
         ],
         "xaxis": "x3",
         "y": [
          0,
          1.6264005732870896,
          1.6264005732870896,
          1.5211811722618958
         ],
         "yaxis": "y3"
        },
        {
         "hoverinfo": "skip",
         "line": {
          "color": "rgb(141,160,203)",
          "width": 1.2
         },
         "mode": "lines",
         "showlegend": false,
         "type": "scatter",
         "x": [
          421.25,
          421.25,
          464.375,
          464.375
         ],
         "xaxis": "x3",
         "y": [
          1.5964961469647208,
          1.630163299455002,
          1.630163299455002,
          1.6264005732870896
         ],
         "yaxis": "y3"
        },
        {
         "hoverinfo": "skip",
         "line": {
          "color": "rgb(141,160,203)",
          "width": 1.2
         },
         "mode": "lines",
         "showlegend": false,
         "type": "scatter",
         "x": [
          390,
          390,
          442.8125,
          442.8125
         ],
         "xaxis": "x3",
         "y": [
          1.6210172199083748,
          1.6597628928297858,
          1.6597628928297858,
          1.630163299455002
         ],
         "yaxis": "y3"
        },
        {
         "hoverinfo": "skip",
         "line": {
          "color": "rgb(141,160,203)",
          "width": 1.2
         },
         "mode": "lines",
         "showlegend": false,
         "type": "scatter",
         "x": [
          375,
          375,
          416.40625,
          416.40625
         ],
         "xaxis": "x3",
         "y": [
          0,
          1.6651458461560968,
          1.6651458461560968,
          1.6597628928297858
         ],
         "yaxis": "y3"
        },
        {
         "hoverinfo": "skip",
         "line": {
          "color": "rgb(141,160,203)",
          "width": 1.2
         },
         "mode": "lines",
         "showlegend": false,
         "type": "scatter",
         "x": [
          365,
          365,
          395.703125,
          395.703125
         ],
         "xaxis": "x3",
         "y": [
          0,
          1.666212500249138,
          1.666212500249138,
          1.6651458461560968
         ],
         "yaxis": "y3"
        },
        {
         "hoverinfo": "skip",
         "line": {
          "color": "rgb(141,160,203)",
          "width": 1.2
         },
         "mode": "lines",
         "showlegend": false,
         "type": "scatter",
         "x": [
          355,
          355,
          380.3515625,
          380.3515625
         ],
         "xaxis": "x3",
         "y": [
          0,
          1.6863829450083105,
          1.6863829450083105,
          1.666212500249138
         ],
         "yaxis": "y3"
        },
        {
         "hoverinfo": "skip",
         "line": {
          "color": "rgb(141,160,203)",
          "width": 1.2
         },
         "mode": "lines",
         "showlegend": false,
         "type": "scatter",
         "x": [
          345,
          345,
          367.67578125,
          367.67578125
         ],
         "xaxis": "x3",
         "y": [
          0,
          1.743084060472112,
          1.743084060472112,
          1.6863829450083105
         ],
         "yaxis": "y3"
        },
        {
         "hoverinfo": "skip",
         "line": {
          "color": "rgb(141,160,203)",
          "width": 1.2
         },
         "mode": "lines",
         "showlegend": false,
         "type": "scatter",
         "x": [
          335,
          335,
          356.337890625,
          356.337890625
         ],
         "xaxis": "x3",
         "y": [
          0,
          1.7520106030084335,
          1.7520106030084335,
          1.743084060472112
         ],
         "yaxis": "y3"
        },
        {
         "hoverinfo": "skip",
         "line": {
          "color": "rgb(141,160,203)",
          "width": 1.2
         },
         "mode": "lines",
         "showlegend": false,
         "type": "scatter",
         "x": [
          312.5,
          312.5,
          345.6689453125,
          345.6689453125
         ],
         "xaxis": "x3",
         "y": [
          1.1555797921647466,
          1.7708287119594688,
          1.7708287119594688,
          1.7520106030084335
         ],
         "yaxis": "y3"
        },
        {
         "hoverinfo": "skip",
         "line": {
          "color": "rgb(141,160,203)",
          "width": 1.2
         },
         "mode": "lines",
         "showlegend": false,
         "type": "scatter",
         "x": [
          295,
          295,
          329.08447265625,
          329.08447265625
         ],
         "xaxis": "x3",
         "y": [
          0,
          1.7802524531233839,
          1.7802524531233839,
          1.7708287119594688
         ],
         "yaxis": "y3"
        },
        {
         "hoverinfo": "skip",
         "line": {
          "color": "rgb(141,160,203)",
          "width": 1.2
         },
         "mode": "lines",
         "showlegend": false,
         "type": "scatter",
         "x": [
          285,
          285,
          312.042236328125,
          312.042236328125
         ],
         "xaxis": "x3",
         "y": [
          0,
          1.791137367896922,
          1.791137367896922,
          1.7802524531233839
         ],
         "yaxis": "y3"
        },
        {
         "hoverinfo": "skip",
         "line": {
          "color": "rgb(141,160,203)",
          "width": 1.2
         },
         "mode": "lines",
         "showlegend": false,
         "type": "scatter",
         "x": [
          27.93304443359375,
          27.93304443359375,
          298.5211181640625,
          298.5211181640625
         ],
         "xaxis": "x3",
         "y": [
          1.7358644325436332,
          1.8138581083865204,
          1.8138581083865204,
          1.791137367896922
         ],
         "yaxis": "y3"
        },
        {
         "hoverinfo": "skip",
         "line": {
          "color": "rgb(141,160,203)",
          "width": 1.2
         },
         "mode": "lines",
         "showlegend": false,
         "type": "scatter",
         "x": [
          5,
          5,
          163.22708129882812,
          163.22708129882812
         ],
         "xaxis": "x3",
         "y": [
          0,
          1.8228760076463812,
          1.8228760076463812,
          1.8138581083865204
         ],
         "yaxis": "y3"
        }
       ],
       "layout": {
        "annotations": [
         {
          "font": {
           "size": 16
          },
          "showarrow": false,
          "text": "Ward Linkage",
          "x": 0.5,
          "xanchor": "center",
          "xref": "paper",
          "y": 1,
          "yanchor": "bottom",
          "yref": "paper"
         },
         {
          "font": {
           "size": 16
          },
          "showarrow": false,
          "text": "Complete Linkage",
          "x": 0.5,
          "xanchor": "center",
          "xref": "paper",
          "y": 0.6399999999999999,
          "yanchor": "bottom",
          "yref": "paper"
         },
         {
          "font": {
           "size": 16
          },
          "showarrow": false,
          "text": "Average Linkage",
          "x": 0.5,
          "xanchor": "center",
          "xref": "paper",
          "y": 0.27999999999999997,
          "yanchor": "bottom",
          "yref": "paper"
         }
        ],
        "height": 900,
        "showlegend": false,
        "template": {
         "data": {
          "bar": [
           {
            "error_x": {
             "color": "#2a3f5f"
            },
            "error_y": {
             "color": "#2a3f5f"
            },
            "marker": {
             "line": {
              "color": "#E5ECF6",
              "width": 0.5
             },
             "pattern": {
              "fillmode": "overlay",
              "size": 10,
              "solidity": 0.2
             }
            },
            "type": "bar"
           }
          ],
          "barpolar": [
           {
            "marker": {
             "line": {
              "color": "#E5ECF6",
              "width": 0.5
             },
             "pattern": {
              "fillmode": "overlay",
              "size": 10,
              "solidity": 0.2
             }
            },
            "type": "barpolar"
           }
          ],
          "carpet": [
           {
            "aaxis": {
             "endlinecolor": "#2a3f5f",
             "gridcolor": "white",
             "linecolor": "white",
             "minorgridcolor": "white",
             "startlinecolor": "#2a3f5f"
            },
            "baxis": {
             "endlinecolor": "#2a3f5f",
             "gridcolor": "white",
             "linecolor": "white",
             "minorgridcolor": "white",
             "startlinecolor": "#2a3f5f"
            },
            "type": "carpet"
           }
          ],
          "choropleth": [
           {
            "colorbar": {
             "outlinewidth": 0,
             "ticks": ""
            },
            "type": "choropleth"
           }
          ],
          "contour": [
           {
            "colorbar": {
             "outlinewidth": 0,
             "ticks": ""
            },
            "colorscale": [
             [
              0,
              "#0d0887"
             ],
             [
              0.1111111111111111,
              "#46039f"
             ],
             [
              0.2222222222222222,
              "#7201a8"
             ],
             [
              0.3333333333333333,
              "#9c179e"
             ],
             [
              0.4444444444444444,
              "#bd3786"
             ],
             [
              0.5555555555555556,
              "#d8576b"
             ],
             [
              0.6666666666666666,
              "#ed7953"
             ],
             [
              0.7777777777777778,
              "#fb9f3a"
             ],
             [
              0.8888888888888888,
              "#fdca26"
             ],
             [
              1,
              "#f0f921"
             ]
            ],
            "type": "contour"
           }
          ],
          "contourcarpet": [
           {
            "colorbar": {
             "outlinewidth": 0,
             "ticks": ""
            },
            "type": "contourcarpet"
           }
          ],
          "heatmap": [
           {
            "colorbar": {
             "outlinewidth": 0,
             "ticks": ""
            },
            "colorscale": [
             [
              0,
              "#0d0887"
             ],
             [
              0.1111111111111111,
              "#46039f"
             ],
             [
              0.2222222222222222,
              "#7201a8"
             ],
             [
              0.3333333333333333,
              "#9c179e"
             ],
             [
              0.4444444444444444,
              "#bd3786"
             ],
             [
              0.5555555555555556,
              "#d8576b"
             ],
             [
              0.6666666666666666,
              "#ed7953"
             ],
             [
              0.7777777777777778,
              "#fb9f3a"
             ],
             [
              0.8888888888888888,
              "#fdca26"
             ],
             [
              1,
              "#f0f921"
             ]
            ],
            "type": "heatmap"
           }
          ],
          "histogram": [
           {
            "marker": {
             "pattern": {
              "fillmode": "overlay",
              "size": 10,
              "solidity": 0.2
             }
            },
            "type": "histogram"
           }
          ],
          "histogram2d": [
           {
            "colorbar": {
             "outlinewidth": 0,
             "ticks": ""
            },
            "colorscale": [
             [
              0,
              "#0d0887"
             ],
             [
              0.1111111111111111,
              "#46039f"
             ],
             [
              0.2222222222222222,
              "#7201a8"
             ],
             [
              0.3333333333333333,
              "#9c179e"
             ],
             [
              0.4444444444444444,
              "#bd3786"
             ],
             [
              0.5555555555555556,
              "#d8576b"
             ],
             [
              0.6666666666666666,
              "#ed7953"
             ],
             [
              0.7777777777777778,
              "#fb9f3a"
             ],
             [
              0.8888888888888888,
              "#fdca26"
             ],
             [
              1,
              "#f0f921"
             ]
            ],
            "type": "histogram2d"
           }
          ],
          "histogram2dcontour": [
           {
            "colorbar": {
             "outlinewidth": 0,
             "ticks": ""
            },
            "colorscale": [
             [
              0,
              "#0d0887"
             ],
             [
              0.1111111111111111,
              "#46039f"
             ],
             [
              0.2222222222222222,
              "#7201a8"
             ],
             [
              0.3333333333333333,
              "#9c179e"
             ],
             [
              0.4444444444444444,
              "#bd3786"
             ],
             [
              0.5555555555555556,
              "#d8576b"
             ],
             [
              0.6666666666666666,
              "#ed7953"
             ],
             [
              0.7777777777777778,
              "#fb9f3a"
             ],
             [
              0.8888888888888888,
              "#fdca26"
             ],
             [
              1,
              "#f0f921"
             ]
            ],
            "type": "histogram2dcontour"
           }
          ],
          "mesh3d": [
           {
            "colorbar": {
             "outlinewidth": 0,
             "ticks": ""
            },
            "type": "mesh3d"
           }
          ],
          "parcoords": [
           {
            "line": {
             "colorbar": {
              "outlinewidth": 0,
              "ticks": ""
             }
            },
            "type": "parcoords"
           }
          ],
          "pie": [
           {
            "automargin": true,
            "type": "pie"
           }
          ],
          "scatter": [
           {
            "fillpattern": {
             "fillmode": "overlay",
             "size": 10,
             "solidity": 0.2
            },
            "type": "scatter"
           }
          ],
          "scatter3d": [
           {
            "line": {
             "colorbar": {
              "outlinewidth": 0,
              "ticks": ""
             }
            },
            "marker": {
             "colorbar": {
              "outlinewidth": 0,
              "ticks": ""
             }
            },
            "type": "scatter3d"
           }
          ],
          "scattercarpet": [
           {
            "marker": {
             "colorbar": {
              "outlinewidth": 0,
              "ticks": ""
             }
            },
            "type": "scattercarpet"
           }
          ],
          "scattergeo": [
           {
            "marker": {
             "colorbar": {
              "outlinewidth": 0,
              "ticks": ""
             }
            },
            "type": "scattergeo"
           }
          ],
          "scattergl": [
           {
            "marker": {
             "colorbar": {
              "outlinewidth": 0,
              "ticks": ""
             }
            },
            "type": "scattergl"
           }
          ],
          "scattermap": [
           {
            "marker": {
             "colorbar": {
              "outlinewidth": 0,
              "ticks": ""
             }
            },
            "type": "scattermap"
           }
          ],
          "scattermapbox": [
           {
            "marker": {
             "colorbar": {
              "outlinewidth": 0,
              "ticks": ""
             }
            },
            "type": "scattermapbox"
           }
          ],
          "scatterpolar": [
           {
            "marker": {
             "colorbar": {
              "outlinewidth": 0,
              "ticks": ""
             }
            },
            "type": "scatterpolar"
           }
          ],
          "scatterpolargl": [
           {
            "marker": {
             "colorbar": {
              "outlinewidth": 0,
              "ticks": ""
             }
            },
            "type": "scatterpolargl"
           }
          ],
          "scatterternary": [
           {
            "marker": {
             "colorbar": {
              "outlinewidth": 0,
              "ticks": ""
             }
            },
            "type": "scatterternary"
           }
          ],
          "surface": [
           {
            "colorbar": {
             "outlinewidth": 0,
             "ticks": ""
            },
            "colorscale": [
             [
              0,
              "#0d0887"
             ],
             [
              0.1111111111111111,
              "#46039f"
             ],
             [
              0.2222222222222222,
              "#7201a8"
             ],
             [
              0.3333333333333333,
              "#9c179e"
             ],
             [
              0.4444444444444444,
              "#bd3786"
             ],
             [
              0.5555555555555556,
              "#d8576b"
             ],
             [
              0.6666666666666666,
              "#ed7953"
             ],
             [
              0.7777777777777778,
              "#fb9f3a"
             ],
             [
              0.8888888888888888,
              "#fdca26"
             ],
             [
              1,
              "#f0f921"
             ]
            ],
            "type": "surface"
           }
          ],
          "table": [
           {
            "cells": {
             "fill": {
              "color": "#EBF0F8"
             },
             "line": {
              "color": "white"
             }
            },
            "header": {
             "fill": {
              "color": "#C8D4E3"
             },
             "line": {
              "color": "white"
             }
            },
            "type": "table"
           }
          ]
         },
         "layout": {
          "annotationdefaults": {
           "arrowcolor": "#2a3f5f",
           "arrowhead": 0,
           "arrowwidth": 1
          },
          "autotypenumbers": "strict",
          "coloraxis": {
           "colorbar": {
            "outlinewidth": 0,
            "ticks": ""
           }
          },
          "colorscale": {
           "diverging": [
            [
             0,
             "#8e0152"
            ],
            [
             0.1,
             "#c51b7d"
            ],
            [
             0.2,
             "#de77ae"
            ],
            [
             0.3,
             "#f1b6da"
            ],
            [
             0.4,
             "#fde0ef"
            ],
            [
             0.5,
             "#f7f7f7"
            ],
            [
             0.6,
             "#e6f5d0"
            ],
            [
             0.7,
             "#b8e186"
            ],
            [
             0.8,
             "#7fbc41"
            ],
            [
             0.9,
             "#4d9221"
            ],
            [
             1,
             "#276419"
            ]
           ],
           "sequential": [
            [
             0,
             "#0d0887"
            ],
            [
             0.1111111111111111,
             "#46039f"
            ],
            [
             0.2222222222222222,
             "#7201a8"
            ],
            [
             0.3333333333333333,
             "#9c179e"
            ],
            [
             0.4444444444444444,
             "#bd3786"
            ],
            [
             0.5555555555555556,
             "#d8576b"
            ],
            [
             0.6666666666666666,
             "#ed7953"
            ],
            [
             0.7777777777777778,
             "#fb9f3a"
            ],
            [
             0.8888888888888888,
             "#fdca26"
            ],
            [
             1,
             "#f0f921"
            ]
           ],
           "sequentialminus": [
            [
             0,
             "#0d0887"
            ],
            [
             0.1111111111111111,
             "#46039f"
            ],
            [
             0.2222222222222222,
             "#7201a8"
            ],
            [
             0.3333333333333333,
             "#9c179e"
            ],
            [
             0.4444444444444444,
             "#bd3786"
            ],
            [
             0.5555555555555556,
             "#d8576b"
            ],
            [
             0.6666666666666666,
             "#ed7953"
            ],
            [
             0.7777777777777778,
             "#fb9f3a"
            ],
            [
             0.8888888888888888,
             "#fdca26"
            ],
            [
             1,
             "#f0f921"
            ]
           ]
          },
          "colorway": [
           "#636efa",
           "#EF553B",
           "#00cc96",
           "#ab63fa",
           "#FFA15A",
           "#19d3f3",
           "#FF6692",
           "#B6E880",
           "#FF97FF",
           "#FECB52"
          ],
          "font": {
           "color": "#2a3f5f"
          },
          "geo": {
           "bgcolor": "white",
           "lakecolor": "white",
           "landcolor": "#E5ECF6",
           "showlakes": true,
           "showland": true,
           "subunitcolor": "white"
          },
          "hoverlabel": {
           "align": "left"
          },
          "hovermode": "closest",
          "mapbox": {
           "style": "light"
          },
          "paper_bgcolor": "white",
          "plot_bgcolor": "#E5ECF6",
          "polar": {
           "angularaxis": {
            "gridcolor": "white",
            "linecolor": "white",
            "ticks": ""
           },
           "bgcolor": "#E5ECF6",
           "radialaxis": {
            "gridcolor": "white",
            "linecolor": "white",
            "ticks": ""
           }
          },
          "scene": {
           "xaxis": {
            "backgroundcolor": "#E5ECF6",
            "gridcolor": "white",
            "gridwidth": 2,
            "linecolor": "white",
            "showbackground": true,
            "ticks": "",
            "zerolinecolor": "white"
           },
           "yaxis": {
            "backgroundcolor": "#E5ECF6",
            "gridcolor": "white",
            "gridwidth": 2,
            "linecolor": "white",
            "showbackground": true,
            "ticks": "",
            "zerolinecolor": "white"
           },
           "zaxis": {
            "backgroundcolor": "#E5ECF6",
            "gridcolor": "white",
            "gridwidth": 2,
            "linecolor": "white",
            "showbackground": true,
            "ticks": "",
            "zerolinecolor": "white"
           }
          },
          "shapedefaults": {
           "line": {
            "color": "#2a3f5f"
           }
          },
          "ternary": {
           "aaxis": {
            "gridcolor": "white",
            "linecolor": "white",
            "ticks": ""
           },
           "baxis": {
            "gridcolor": "white",
            "linecolor": "white",
            "ticks": ""
           },
           "bgcolor": "#E5ECF6",
           "caxis": {
            "gridcolor": "white",
            "linecolor": "white",
            "ticks": ""
           }
          },
          "title": {
           "x": 0.05
          },
          "xaxis": {
           "automargin": true,
           "gridcolor": "white",
           "linecolor": "white",
           "ticks": "",
           "title": {
            "standoff": 15
           },
           "zerolinecolor": "white",
           "zerolinewidth": 2
          },
          "yaxis": {
           "automargin": true,
           "gridcolor": "white",
           "linecolor": "white",
           "ticks": "",
           "title": {
            "standoff": 15
           },
           "zerolinecolor": "white",
           "zerolinewidth": 2
          }
         }
        },
        "title": {
         "text": "Hierarchical Clustering Method Comparison"
        },
        "xaxis": {
         "anchor": "y",
         "domain": [
          0,
          1
         ],
         "showticklabels": false
        },
        "xaxis2": {
         "anchor": "y2",
         "domain": [
          0,
          1
         ],
         "showticklabels": false
        },
        "xaxis3": {
         "anchor": "y3",
         "domain": [
          0,
          1
         ],
         "showticklabels": false
        },
        "yaxis": {
         "anchor": "x",
         "domain": [
          0.72,
          1
         ],
         "title": {
          "text": "Distance"
         }
        },
        "yaxis2": {
         "anchor": "x2",
         "domain": [
          0.36,
          0.6399999999999999
         ],
         "title": {
          "text": "Distance"
         }
        },
        "yaxis3": {
         "anchor": "x3",
         "domain": [
          0,
          0.27999999999999997
         ],
         "title": {
          "text": "Distance"
         }
        }
       }
      }
     },
     "metadata": {},
     "output_type": "display_data"
    },
    {
     "name": "stdout",
     "output_type": "stream",
     "text": [
      "\n",
      "Parameters used (edit DEFAULTS at top of file to change):\n",
      "  n_initial_hidden_states: 512\n",
      "  initial_clustering_method: ['kmeans']\n",
      "  n_clusters: 10\n",
      "  window_type: moving\n",
      "  window_size: 128\n",
      "  stride: 64\n",
      "  visualization_method: tsne\n",
      "  perplexity: 30.0\n",
      "  sample_top: 12\n"
     ]
    }
   ],
   "source": [
    "### Section: Usage Example\n",
    "# DEFAULTS for interactive use / notebook. Move or edit these values when running experiments.\n",
    "\n",
    "\n",
    "if __name__ == '__main__':\n",
    "    # Minimal script-mode demo: load tokens & embeddings and run the usage_example once.\n",
    "    with open(DEFAULTS.get('tokens_path'), 'r') as f:\n",
    "        all_tokens = json.load(f)\n",
    "\n",
    "    embeddings_tensor = torch.load(DEFAULTS.get('embeddings_path'), map_location='cpu')\n",
    "\n",
    "    # Handle different tensor shapes\n",
    "    if embeddings_tensor.dim() == 3:\n",
    "        all_embeddings = embeddings_tensor.view(-1, embeddings_tensor.size(-1)).numpy()\n",
    "    elif embeddings_tensor.dim() == 2:\n",
    "        all_embeddings = embeddings_tensor.T.numpy()\n",
    "    else:\n",
    "        raise ValueError(f\"Unexpected embedding tensor shape: {embeddings_tensor.shape}\")\n",
    "\n",
    "    # Trim to matching lengths if necessary\n",
    "    if len(all_tokens) != all_embeddings.shape[0]:\n",
    "        min_len = min(len(all_tokens), all_embeddings.shape[0])\n",
    "        all_tokens = all_tokens[:min_len]\n",
    "        all_embeddings = all_embeddings[:min_len]\n",
    "\n",
    "    # Run the unified usage example (it will show TSNE and pdf/timeline plots once per method)\n",
    "    usage_example(all_tokens, all_embeddings, params=DEFAULTS)\n"
   ]
  }
 ],
 "metadata": {
  "kernelspec": {
   "display_name": "ml_env",
   "language": "python",
   "name": "python3"
  },
  "language_info": {
   "codemirror_mode": {
    "name": "ipython",
    "version": 3
   },
   "file_extension": ".py",
   "mimetype": "text/x-python",
   "name": "python",
   "nbconvert_exporter": "python",
   "pygments_lexer": "ipython3",
   "version": "3.9.21"
  }
 },
 "nbformat": 4,
 "nbformat_minor": 5
}
